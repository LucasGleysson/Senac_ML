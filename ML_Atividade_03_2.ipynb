{
  "nbformat": 4,
  "nbformat_minor": 0,
  "metadata": {
    "colab": {
      "provenance": [],
      "authorship_tag": "ABX9TyMeLp8aIxZwwjp+NcyBJu2Z",
      "include_colab_link": true
    },
    "kernelspec": {
      "name": "python3",
      "display_name": "Python 3"
    },
    "language_info": {
      "name": "python"
    }
  },
  "cells": [
    {
      "cell_type": "markdown",
      "metadata": {
        "id": "view-in-github",
        "colab_type": "text"
      },
      "source": [
        "<a href=\"https://colab.research.google.com/github/LucasGleysson/Senac_ML/blob/master/ML_Atividade_03_2.ipynb\" target=\"_parent\"><img src=\"https://colab.research.google.com/assets/colab-badge.svg\" alt=\"Open In Colab\"/></a>"
      ]
    },
    {
      "cell_type": "markdown",
      "source": [
        "#Exercícios - Aula 03\n",
        "#Strings em Python"
      ],
      "metadata": {
        "id": "dia_djkTKZXH"
      }
    },
    {
      "cell_type": "markdown",
      "source": [
        "##01."
      ],
      "metadata": {
        "id": "sUtH2YYNK4kD"
      }
    },
    {
      "cell_type": "code",
      "execution_count": 1,
      "metadata": {
        "colab": {
          "base_uri": "https://localhost:8080/"
        },
        "id": "MTaHPdxMJLez",
        "outputId": "b3627771-2c03-4409-a720-76f3c28a8474"
      },
      "outputs": [
        {
          "name": "stdout",
          "output_type": "stream",
          "text": [
            "Nome: Lucas\n"
          ]
        }
      ],
      "source": [
        "nome = str(input('Nome: '))"
      ]
    },
    {
      "cell_type": "code",
      "source": [
        "print(nome[-1:-(len(nome)+1):-1].upper())"
      ],
      "metadata": {
        "colab": {
          "base_uri": "https://localhost:8080/"
        },
        "id": "JE5KOJoTLCG5",
        "outputId": "b1460678-ade6-470a-9b99-53dbc56bbc78"
      },
      "execution_count": 2,
      "outputs": [
        {
          "output_type": "stream",
          "name": "stdout",
          "text": [
            "SACUL\n"
          ]
        }
      ]
    },
    {
      "cell_type": "code",
      "source": [
        "print(nome[-1:-6:-1])"
      ],
      "metadata": {
        "colab": {
          "base_uri": "https://localhost:8080/"
        },
        "id": "oLiQ3zgrLWzj",
        "outputId": "7172b779-a9f1-44f2-8aac-1cd6d4e84664"
      },
      "execution_count": 4,
      "outputs": [
        {
          "output_type": "stream",
          "name": "stdout",
          "text": [
            "sacuL\n"
          ]
        }
      ]
    },
    {
      "cell_type": "markdown",
      "source": [
        "##02."
      ],
      "metadata": {
        "id": "B_OH7Zu1L4Ad"
      }
    },
    {
      "cell_type": "code",
      "source": [
        "nome = str(input('Nome: '))"
      ],
      "metadata": {
        "colab": {
          "base_uri": "https://localhost:8080/"
        },
        "id": "Ljnza5_xLjUQ",
        "outputId": "44c168d0-7d77-45c3-a5a1-d1b897d2df2b"
      },
      "execution_count": 5,
      "outputs": [
        {
          "name": "stdout",
          "output_type": "stream",
          "text": [
            "Nome: lucas\n"
          ]
        }
      ]
    },
    {
      "cell_type": "code",
      "source": [
        "print(nome[::-1].upper())"
      ],
      "metadata": {
        "colab": {
          "base_uri": "https://localhost:8080/"
        },
        "id": "J2Lu2H6BMAtO",
        "outputId": "571f857f-f000-45ff-8077-a7a178ec5c5d"
      },
      "execution_count": 6,
      "outputs": [
        {
          "output_type": "stream",
          "name": "stdout",
          "text": [
            "SACUL\n"
          ]
        }
      ]
    },
    {
      "cell_type": "markdown",
      "source": [
        "##03."
      ],
      "metadata": {
        "id": "LUNXI8thMIUS"
      }
    },
    {
      "cell_type": "code",
      "source": [
        "print(list(range(1000)))"
      ],
      "metadata": {
        "colab": {
          "base_uri": "https://localhost:8080/"
        },
        "id": "xI0lpMJbMGDX",
        "outputId": "54c04990-e85a-4365-8422-4ffef81e102a"
      },
      "execution_count": 7,
      "outputs": [
        {
          "output_type": "stream",
          "name": "stdout",
          "text": [
            "[0, 1, 2, 3, 4, 5, 6, 7, 8, 9, 10, 11, 12, 13, 14, 15, 16, 17, 18, 19, 20, 21, 22, 23, 24, 25, 26, 27, 28, 29, 30, 31, 32, 33, 34, 35, 36, 37, 38, 39, 40, 41, 42, 43, 44, 45, 46, 47, 48, 49, 50, 51, 52, 53, 54, 55, 56, 57, 58, 59, 60, 61, 62, 63, 64, 65, 66, 67, 68, 69, 70, 71, 72, 73, 74, 75, 76, 77, 78, 79, 80, 81, 82, 83, 84, 85, 86, 87, 88, 89, 90, 91, 92, 93, 94, 95, 96, 97, 98, 99, 100, 101, 102, 103, 104, 105, 106, 107, 108, 109, 110, 111, 112, 113, 114, 115, 116, 117, 118, 119, 120, 121, 122, 123, 124, 125, 126, 127, 128, 129, 130, 131, 132, 133, 134, 135, 136, 137, 138, 139, 140, 141, 142, 143, 144, 145, 146, 147, 148, 149, 150, 151, 152, 153, 154, 155, 156, 157, 158, 159, 160, 161, 162, 163, 164, 165, 166, 167, 168, 169, 170, 171, 172, 173, 174, 175, 176, 177, 178, 179, 180, 181, 182, 183, 184, 185, 186, 187, 188, 189, 190, 191, 192, 193, 194, 195, 196, 197, 198, 199, 200, 201, 202, 203, 204, 205, 206, 207, 208, 209, 210, 211, 212, 213, 214, 215, 216, 217, 218, 219, 220, 221, 222, 223, 224, 225, 226, 227, 228, 229, 230, 231, 232, 233, 234, 235, 236, 237, 238, 239, 240, 241, 242, 243, 244, 245, 246, 247, 248, 249, 250, 251, 252, 253, 254, 255, 256, 257, 258, 259, 260, 261, 262, 263, 264, 265, 266, 267, 268, 269, 270, 271, 272, 273, 274, 275, 276, 277, 278, 279, 280, 281, 282, 283, 284, 285, 286, 287, 288, 289, 290, 291, 292, 293, 294, 295, 296, 297, 298, 299, 300, 301, 302, 303, 304, 305, 306, 307, 308, 309, 310, 311, 312, 313, 314, 315, 316, 317, 318, 319, 320, 321, 322, 323, 324, 325, 326, 327, 328, 329, 330, 331, 332, 333, 334, 335, 336, 337, 338, 339, 340, 341, 342, 343, 344, 345, 346, 347, 348, 349, 350, 351, 352, 353, 354, 355, 356, 357, 358, 359, 360, 361, 362, 363, 364, 365, 366, 367, 368, 369, 370, 371, 372, 373, 374, 375, 376, 377, 378, 379, 380, 381, 382, 383, 384, 385, 386, 387, 388, 389, 390, 391, 392, 393, 394, 395, 396, 397, 398, 399, 400, 401, 402, 403, 404, 405, 406, 407, 408, 409, 410, 411, 412, 413, 414, 415, 416, 417, 418, 419, 420, 421, 422, 423, 424, 425, 426, 427, 428, 429, 430, 431, 432, 433, 434, 435, 436, 437, 438, 439, 440, 441, 442, 443, 444, 445, 446, 447, 448, 449, 450, 451, 452, 453, 454, 455, 456, 457, 458, 459, 460, 461, 462, 463, 464, 465, 466, 467, 468, 469, 470, 471, 472, 473, 474, 475, 476, 477, 478, 479, 480, 481, 482, 483, 484, 485, 486, 487, 488, 489, 490, 491, 492, 493, 494, 495, 496, 497, 498, 499, 500, 501, 502, 503, 504, 505, 506, 507, 508, 509, 510, 511, 512, 513, 514, 515, 516, 517, 518, 519, 520, 521, 522, 523, 524, 525, 526, 527, 528, 529, 530, 531, 532, 533, 534, 535, 536, 537, 538, 539, 540, 541, 542, 543, 544, 545, 546, 547, 548, 549, 550, 551, 552, 553, 554, 555, 556, 557, 558, 559, 560, 561, 562, 563, 564, 565, 566, 567, 568, 569, 570, 571, 572, 573, 574, 575, 576, 577, 578, 579, 580, 581, 582, 583, 584, 585, 586, 587, 588, 589, 590, 591, 592, 593, 594, 595, 596, 597, 598, 599, 600, 601, 602, 603, 604, 605, 606, 607, 608, 609, 610, 611, 612, 613, 614, 615, 616, 617, 618, 619, 620, 621, 622, 623, 624, 625, 626, 627, 628, 629, 630, 631, 632, 633, 634, 635, 636, 637, 638, 639, 640, 641, 642, 643, 644, 645, 646, 647, 648, 649, 650, 651, 652, 653, 654, 655, 656, 657, 658, 659, 660, 661, 662, 663, 664, 665, 666, 667, 668, 669, 670, 671, 672, 673, 674, 675, 676, 677, 678, 679, 680, 681, 682, 683, 684, 685, 686, 687, 688, 689, 690, 691, 692, 693, 694, 695, 696, 697, 698, 699, 700, 701, 702, 703, 704, 705, 706, 707, 708, 709, 710, 711, 712, 713, 714, 715, 716, 717, 718, 719, 720, 721, 722, 723, 724, 725, 726, 727, 728, 729, 730, 731, 732, 733, 734, 735, 736, 737, 738, 739, 740, 741, 742, 743, 744, 745, 746, 747, 748, 749, 750, 751, 752, 753, 754, 755, 756, 757, 758, 759, 760, 761, 762, 763, 764, 765, 766, 767, 768, 769, 770, 771, 772, 773, 774, 775, 776, 777, 778, 779, 780, 781, 782, 783, 784, 785, 786, 787, 788, 789, 790, 791, 792, 793, 794, 795, 796, 797, 798, 799, 800, 801, 802, 803, 804, 805, 806, 807, 808, 809, 810, 811, 812, 813, 814, 815, 816, 817, 818, 819, 820, 821, 822, 823, 824, 825, 826, 827, 828, 829, 830, 831, 832, 833, 834, 835, 836, 837, 838, 839, 840, 841, 842, 843, 844, 845, 846, 847, 848, 849, 850, 851, 852, 853, 854, 855, 856, 857, 858, 859, 860, 861, 862, 863, 864, 865, 866, 867, 868, 869, 870, 871, 872, 873, 874, 875, 876, 877, 878, 879, 880, 881, 882, 883, 884, 885, 886, 887, 888, 889, 890, 891, 892, 893, 894, 895, 896, 897, 898, 899, 900, 901, 902, 903, 904, 905, 906, 907, 908, 909, 910, 911, 912, 913, 914, 915, 916, 917, 918, 919, 920, 921, 922, 923, 924, 925, 926, 927, 928, 929, 930, 931, 932, 933, 934, 935, 936, 937, 938, 939, 940, 941, 942, 943, 944, 945, 946, 947, 948, 949, 950, 951, 952, 953, 954, 955, 956, 957, 958, 959, 960, 961, 962, 963, 964, 965, 966, 967, 968, 969, 970, 971, 972, 973, 974, 975, 976, 977, 978, 979, 980, 981, 982, 983, 984, 985, 986, 987, 988, 989, 990, 991, 992, 993, 994, 995, 996, 997, 998, 999]\n"
          ]
        }
      ]
    },
    {
      "cell_type": "code",
      "source": [
        "print(list(range(0,300,5)))"
      ],
      "metadata": {
        "colab": {
          "base_uri": "https://localhost:8080/"
        },
        "id": "EtPOPH4NMSCj",
        "outputId": "28cc2624-864b-4752-e70c-3744c8d2cbbe"
      },
      "execution_count": 8,
      "outputs": [
        {
          "output_type": "stream",
          "name": "stdout",
          "text": [
            "[0, 5, 10, 15, 20, 25, 30, 35, 40, 45, 50, 55, 60, 65, 70, 75, 80, 85, 90, 95, 100, 105, 110, 115, 120, 125, 130, 135, 140, 145, 150, 155, 160, 165, 170, 175, 180, 185, 190, 195, 200, 205, 210, 215, 220, 225, 230, 235, 240, 245, 250, 255, 260, 265, 270, 275, 280, 285, 290, 295]\n"
          ]
        }
      ]
    },
    {
      "cell_type": "markdown",
      "source": [
        "##04."
      ],
      "metadata": {
        "id": "00xZSJxSMdpo"
      }
    },
    {
      "cell_type": "code",
      "source": [
        "dict1 = {'a':1, 'b':2}"
      ],
      "metadata": {
        "id": "jxElrpTxMV_5"
      },
      "execution_count": 13,
      "outputs": []
    },
    {
      "cell_type": "code",
      "source": [
        "dict2 = {'c':4, 'd':5}"
      ],
      "metadata": {
        "id": "_NrMIxsUMmPP"
      },
      "execution_count": 14,
      "outputs": []
    },
    {
      "cell_type": "code",
      "source": [
        "listaDict = [(list(dict1)), list(dict1.values()), list(dict2), list(dict2.values())]"
      ],
      "metadata": {
        "id": "xy7zyBRzM3IP"
      },
      "execution_count": 15,
      "outputs": []
    },
    {
      "cell_type": "code",
      "source": [
        "dict3 = {}"
      ],
      "metadata": {
        "id": "M_V20jNQNO74"
      },
      "execution_count": 16,
      "outputs": []
    },
    {
      "cell_type": "code",
      "source": [
        "print(listaDict)"
      ],
      "metadata": {
        "colab": {
          "base_uri": "https://localhost:8080/"
        },
        "id": "96lFxj_RNVOV",
        "outputId": "653a2c36-1fd4-45ac-f9e8-9e88906b0180"
      },
      "execution_count": 17,
      "outputs": [
        {
          "output_type": "stream",
          "name": "stdout",
          "text": [
            "[['a', 'b'], [1, 2], ['c', 'd'], [4, 5]]\n"
          ]
        }
      ]
    },
    {
      "cell_type": "markdown",
      "source": [
        "##05."
      ],
      "metadata": {
        "id": "-2tDc9jDNb0d"
      }
    },
    {
      "cell_type": "code",
      "source": [
        "s = 'Hello, World'"
      ],
      "metadata": {
        "id": "MrJTRPsqNXeA"
      },
      "execution_count": 18,
      "outputs": []
    },
    {
      "cell_type": "code",
      "source": [
        "print(s.upper())"
      ],
      "metadata": {
        "colab": {
          "base_uri": "https://localhost:8080/"
        },
        "id": "owznJcfENihf",
        "outputId": "647e198b-c761-418e-dc1a-7b8a5d5fc13b"
      },
      "execution_count": 19,
      "outputs": [
        {
          "output_type": "stream",
          "name": "stdout",
          "text": [
            "HELLO, WORLD\n"
          ]
        }
      ]
    },
    {
      "cell_type": "code",
      "source": [
        "t = s.lower()"
      ],
      "metadata": {
        "id": "z4Toh1FDNllV"
      },
      "execution_count": 20,
      "outputs": []
    },
    {
      "cell_type": "code",
      "source": [
        "print(t)"
      ],
      "metadata": {
        "colab": {
          "base_uri": "https://localhost:8080/"
        },
        "id": "0uXrtBdQNoA0",
        "outputId": "5e36ff50-89b7-4c45-e5a5-69fa4a8fca62"
      },
      "execution_count": 21,
      "outputs": [
        {
          "output_type": "stream",
          "name": "stdout",
          "text": [
            "hello, world\n"
          ]
        }
      ]
    },
    {
      "cell_type": "markdown",
      "source": [
        "##06."
      ],
      "metadata": {
        "id": "6Xg03nw6NvEc"
      }
    },
    {
      "cell_type": "code",
      "source": [
        "s = 'python'"
      ],
      "metadata": {
        "id": "yiDWKvluNo_u"
      },
      "execution_count": 22,
      "outputs": []
    },
    {
      "cell_type": "code",
      "source": [
        "e = '!'\n",
        "print(s+e*3)"
      ],
      "metadata": {
        "colab": {
          "base_uri": "https://localhost:8080/"
        },
        "id": "7GYRcC-lN52B",
        "outputId": "9d6739e9-9d85-4e27-b148-2b5ab5f84ec5"
      },
      "execution_count": 24,
      "outputs": [
        {
          "output_type": "stream",
          "name": "stdout",
          "text": [
            "python!!!\n"
          ]
        }
      ]
    },
    {
      "cell_type": "markdown",
      "source": [
        "##07."
      ],
      "metadata": {
        "id": "biTw3bh5QGXW"
      }
    },
    {
      "cell_type": "code",
      "source": [
        "ss = '    Hello, World   '"
      ],
      "metadata": {
        "id": "bhbE9-uZN_3b"
      },
      "execution_count": 25,
      "outputs": []
    },
    {
      "cell_type": "code",
      "source": [
        "xx = ss.count('l')"
      ],
      "metadata": {
        "id": "bO6aYcchQPd8"
      },
      "execution_count": 26,
      "outputs": []
    },
    {
      "cell_type": "code",
      "source": [
        "print(xx)"
      ],
      "metadata": {
        "colab": {
          "base_uri": "https://localhost:8080/"
        },
        "id": "CBr4Xn2BQTtP",
        "outputId": "bbf66d00-5674-4426-d98e-bb640b360926"
      },
      "execution_count": 27,
      "outputs": [
        {
          "output_type": "stream",
          "name": "stdout",
          "text": [
            "3\n"
          ]
        }
      ]
    },
    {
      "cell_type": "code",
      "source": [
        "print('***'+ss.strip()+'***')"
      ],
      "metadata": {
        "colab": {
          "base_uri": "https://localhost:8080/"
        },
        "id": "Vtw0GuRPQUcd",
        "outputId": "c325638f-2365-40f8-e8f8-938574996015"
      },
      "execution_count": 28,
      "outputs": [
        {
          "output_type": "stream",
          "name": "stdout",
          "text": [
            "***Hello, World***\n"
          ]
        }
      ]
    },
    {
      "cell_type": "code",
      "source": [
        "print('***'+ss.lstrip()+'***')"
      ],
      "metadata": {
        "colab": {
          "base_uri": "https://localhost:8080/"
        },
        "id": "D3r06ng2QazT",
        "outputId": "cdc96176-568a-41b4-b7c7-c22eb0d36c73"
      },
      "execution_count": 29,
      "outputs": [
        {
          "output_type": "stream",
          "name": "stdout",
          "text": [
            "***Hello, World   ***\n"
          ]
        }
      ]
    },
    {
      "cell_type": "code",
      "source": [
        "print('***'+ss.rstrip()+'***')"
      ],
      "metadata": {
        "colab": {
          "base_uri": "https://localhost:8080/"
        },
        "id": "ONWtHqnWQicP",
        "outputId": "c2d3d44f-8c20-47ef-8070-da3c01d4c43b"
      },
      "execution_count": 30,
      "outputs": [
        {
          "output_type": "stream",
          "name": "stdout",
          "text": [
            "***    Hello, World***\n"
          ]
        }
      ]
    },
    {
      "cell_type": "code",
      "source": [
        "news = ss.replace('o', '***')"
      ],
      "metadata": {
        "id": "4ayuX85LQksY"
      },
      "execution_count": 31,
      "outputs": []
    },
    {
      "cell_type": "code",
      "source": [
        "print(news)"
      ],
      "metadata": {
        "colab": {
          "base_uri": "https://localhost:8080/"
        },
        "id": "K7KaCK2YQtSU",
        "outputId": "2210b120-2c46-4016-af37-7f58712796bc"
      },
      "execution_count": 32,
      "outputs": [
        {
          "output_type": "stream",
          "name": "stdout",
          "text": [
            "    Hell***, W***rld   \n"
          ]
        }
      ]
    },
    {
      "cell_type": "markdown",
      "source": [
        "##08."
      ],
      "metadata": {
        "id": "TwC2zM1qQw_u"
      }
    },
    {
      "cell_type": "code",
      "source": [
        "# Estrelas foram incluidas para mostrar limites\n",
        "food = \"banana bread\""
      ],
      "metadata": {
        "id": "87NC2SMoQuCz"
      },
      "execution_count": 33,
      "outputs": []
    },
    {
      "cell_type": "code",
      "source": [
        "print(food.capitalize())"
      ],
      "metadata": {
        "colab": {
          "base_uri": "https://localhost:8080/"
        },
        "id": "vCn29BxOQ9Jb",
        "outputId": "7af02f38-e7f1-4dee-d40c-19382005c1aa"
      },
      "execution_count": 34,
      "outputs": [
        {
          "output_type": "stream",
          "name": "stdout",
          "text": [
            "Banana bread\n"
          ]
        }
      ]
    },
    {
      "cell_type": "code",
      "source": [
        "print('*'+food.center(25)+\"*\")"
      ],
      "metadata": {
        "colab": {
          "base_uri": "https://localhost:8080/"
        },
        "id": "G087746BRAYs",
        "outputId": "16ded939-1922-4e19-dd96-0d51b26cc52a"
      },
      "execution_count": 35,
      "outputs": [
        {
          "output_type": "stream",
          "name": "stdout",
          "text": [
            "*       banana bread      *\n"
          ]
        }
      ]
    },
    {
      "cell_type": "code",
      "source": [
        "print('*'+food.ljust(25)+'*')"
      ],
      "metadata": {
        "colab": {
          "base_uri": "https://localhost:8080/"
        },
        "id": "Lwj0mPxkRLLk",
        "outputId": "4eea793f-a502-4bd2-e703-436606aab4e3"
      },
      "execution_count": 36,
      "outputs": [
        {
          "output_type": "stream",
          "name": "stdout",
          "text": [
            "*banana bread             *\n"
          ]
        }
      ]
    },
    {
      "cell_type": "code",
      "source": [
        "print('*'+food.rjust(25)+'*')"
      ],
      "metadata": {
        "colab": {
          "base_uri": "https://localhost:8080/"
        },
        "id": "oAHXYgWwRU6q",
        "outputId": "b62195c8-73e7-4e8b-f78b-068184d1d61d"
      },
      "execution_count": 37,
      "outputs": [
        {
          "output_type": "stream",
          "name": "stdout",
          "text": [
            "*             banana bread*\n"
          ]
        }
      ]
    },
    {
      "cell_type": "markdown",
      "source": [
        "##09.\n",
        "Qual a diferença entre os comandos a seguir?"
      ],
      "metadata": {
        "id": "XxgfDHCRRwAM"
      }
    },
    {
      "cell_type": "code",
      "source": [
        "print(food.find('e'))"
      ],
      "metadata": {
        "colab": {
          "base_uri": "https://localhost:8080/"
        },
        "id": "Tqo9pN3lRXHI",
        "outputId": "c0a57ae6-2b73-4ab1-c1c5-2491fc4e0c6e"
      },
      "execution_count": 38,
      "outputs": [
        {
          "output_type": "stream",
          "name": "stdout",
          "text": [
            "9\n"
          ]
        }
      ]
    },
    {
      "cell_type": "code",
      "source": [
        "print(food.find('na'))"
      ],
      "metadata": {
        "colab": {
          "base_uri": "https://localhost:8080/"
        },
        "id": "NF1pxErjSGpk",
        "outputId": "3eb88b62-a841-43ea-857e-3d485ac21a45"
      },
      "execution_count": 39,
      "outputs": [
        {
          "output_type": "stream",
          "name": "stdout",
          "text": [
            "2\n"
          ]
        }
      ]
    },
    {
      "cell_type": "code",
      "source": [
        "print(food.find('b'))"
      ],
      "metadata": {
        "colab": {
          "base_uri": "https://localhost:8080/"
        },
        "id": "3IydGBsdSJPE",
        "outputId": "c89321a3-b8d8-4c52-bc93-57744e306987"
      },
      "execution_count": 40,
      "outputs": [
        {
          "output_type": "stream",
          "name": "stdout",
          "text": [
            "0\n"
          ]
        }
      ]
    },
    {
      "cell_type": "markdown",
      "source": [
        "R - A função \"find()\" retorna o indice da primeira ocorrência do caracter passado."
      ],
      "metadata": {
        "id": "C3o14J-xS3Fn"
      }
    },
    {
      "cell_type": "code",
      "source": [
        "print(food.rfind('e'))"
      ],
      "metadata": {
        "colab": {
          "base_uri": "https://localhost:8080/"
        },
        "id": "MO5ZvqYUSKax",
        "outputId": "de8936d0-be38-45a0-a262-3f28d75d909d"
      },
      "execution_count": 41,
      "outputs": [
        {
          "output_type": "stream",
          "name": "stdout",
          "text": [
            "9\n"
          ]
        }
      ]
    },
    {
      "cell_type": "code",
      "source": [
        "print(food.rfind('na'))"
      ],
      "metadata": {
        "colab": {
          "base_uri": "https://localhost:8080/"
        },
        "id": "gU5tPT96SPjM",
        "outputId": "be963eb2-213c-45bb-b656-808bc2bc1dc6"
      },
      "execution_count": 42,
      "outputs": [
        {
          "output_type": "stream",
          "name": "stdout",
          "text": [
            "4\n"
          ]
        }
      ]
    },
    {
      "cell_type": "code",
      "source": [
        "print(food.rfind('b'))"
      ],
      "metadata": {
        "colab": {
          "base_uri": "https://localhost:8080/"
        },
        "id": "yZ4jhszlSQ2d",
        "outputId": "f9a4c0a7-46fe-4a44-a09f-9de10b5d8530"
      },
      "execution_count": 43,
      "outputs": [
        {
          "output_type": "stream",
          "name": "stdout",
          "text": [
            "7\n"
          ]
        }
      ]
    },
    {
      "cell_type": "markdown",
      "source": [
        "R - A função \"rfind()\" retonar o indice da ultima ocorrencia do caracter passado."
      ],
      "metadata": {
        "id": "SgNrEUuxTCQe"
      }
    },
    {
      "cell_type": "markdown",
      "source": [
        "##10."
      ],
      "metadata": {
        "id": "C7NGpJzBTQ0B"
      }
    },
    {
      "cell_type": "markdown",
      "source": [
        "Qual a diferença entre os comando a seguir?"
      ],
      "metadata": {
        "id": "W-Xz1RDzTTzD"
      }
    },
    {
      "cell_type": "code",
      "source": [
        "s = 'python rocks'"
      ],
      "metadata": {
        "id": "_3SoTaQrSSjV"
      },
      "execution_count": 44,
      "outputs": []
    },
    {
      "cell_type": "code",
      "source": [
        "print(s[1]*s.index('n'))"
      ],
      "metadata": {
        "colab": {
          "base_uri": "https://localhost:8080/"
        },
        "id": "yrfZ-MnvTavw",
        "outputId": "f77fc65c-bf98-46b0-d9cf-5d0c69314417"
      },
      "execution_count": 45,
      "outputs": [
        {
          "output_type": "stream",
          "name": "stdout",
          "text": [
            "yyyyy\n"
          ]
        }
      ]
    },
    {
      "cell_type": "markdown",
      "source": [
        "R - Imprime na tela o caracter no indice um a quantidade de vezes correspondente ao indice de \"n\""
      ],
      "metadata": {
        "id": "FxEvtYB9Tjxa"
      }
    },
    {
      "cell_type": "markdown",
      "source": [
        "##11."
      ],
      "metadata": {
        "id": "cw_0ooQaUML0"
      }
    },
    {
      "cell_type": "code",
      "source": [
        "pets = 'Marlene', 'Cibele', 'Suely'"
      ],
      "metadata": {
        "id": "WdjKkLiJTfxo"
      },
      "execution_count": 46,
      "outputs": []
    },
    {
      "cell_type": "code",
      "source": [
        "print(pets[0:5])"
      ],
      "metadata": {
        "colab": {
          "base_uri": "https://localhost:8080/"
        },
        "id": "qgnX7i5DT6EK",
        "outputId": "b2e84309-47f1-432b-f539-f87f96549ea4"
      },
      "execution_count": 49,
      "outputs": [
        {
          "output_type": "stream",
          "name": "stdout",
          "text": [
            "('Marlene', 'Cibele', 'Suely')\n"
          ]
        }
      ]
    },
    {
      "cell_type": "code",
      "source": [
        "print(pets[7:11])"
      ],
      "metadata": {
        "colab": {
          "base_uri": "https://localhost:8080/"
        },
        "id": "Fnvl0BsNT9BH",
        "outputId": "b6829916-df38-4cff-cda4-ddb71fe05bc6"
      },
      "execution_count": 50,
      "outputs": [
        {
          "output_type": "stream",
          "name": "stdout",
          "text": [
            "()\n"
          ]
        }
      ]
    },
    {
      "cell_type": "code",
      "source": [
        "print(pets[17:21])"
      ],
      "metadata": {
        "colab": {
          "base_uri": "https://localhost:8080/"
        },
        "id": "YSN4z621UF2E",
        "outputId": "e957986d-0a76-4e88-be1d-abf96292b735"
      },
      "execution_count": 51,
      "outputs": [
        {
          "output_type": "stream",
          "name": "stdout",
          "text": [
            "()\n"
          ]
        }
      ]
    },
    {
      "cell_type": "markdown",
      "source": [
        "##12."
      ],
      "metadata": {
        "id": "K5wpSAljUQM8"
      }
    },
    {
      "cell_type": "code",
      "source": [
        "print('a' in 'a')"
      ],
      "metadata": {
        "colab": {
          "base_uri": "https://localhost:8080/"
        },
        "id": "nzBLe_04UJCh",
        "outputId": "00722afd-aa40-47bf-d70f-7099a2ac8b4f"
      },
      "execution_count": 52,
      "outputs": [
        {
          "output_type": "stream",
          "name": "stdout",
          "text": [
            "True\n"
          ]
        }
      ]
    },
    {
      "cell_type": "code",
      "source": [
        "print('apple' in 'apple')"
      ],
      "metadata": {
        "colab": {
          "base_uri": "https://localhost:8080/"
        },
        "id": "vq1YlxhOUUQE",
        "outputId": "5f3707e7-d091-463e-ba10-81538ba07279"
      },
      "execution_count": 53,
      "outputs": [
        {
          "output_type": "stream",
          "name": "stdout",
          "text": [
            "True\n"
          ]
        }
      ]
    },
    {
      "cell_type": "code",
      "source": [
        "print('' in 'a')"
      ],
      "metadata": {
        "colab": {
          "base_uri": "https://localhost:8080/"
        },
        "id": "46RANgl2UYOM",
        "outputId": "7bb3cbb4-a250-45c4-e55e-c9e30cebf879"
      },
      "execution_count": 54,
      "outputs": [
        {
          "output_type": "stream",
          "name": "stdout",
          "text": [
            "True\n"
          ]
        }
      ]
    },
    {
      "cell_type": "code",
      "source": [
        "print(' ' in 'apple')"
      ],
      "metadata": {
        "colab": {
          "base_uri": "https://localhost:8080/"
        },
        "id": "E3WAqUUYUawJ",
        "outputId": "11e89083-4331-49ea-ea45-eea9784371b5"
      },
      "execution_count": 55,
      "outputs": [
        {
          "output_type": "stream",
          "name": "stdout",
          "text": [
            "False\n"
          ]
        }
      ]
    },
    {
      "cell_type": "markdown",
      "source": [
        "##13."
      ],
      "metadata": {
        "id": "nt6GS1EgUhJm"
      }
    },
    {
      "cell_type": "code",
      "source": [
        "print('x' not in 'apple')"
      ],
      "metadata": {
        "colab": {
          "base_uri": "https://localhost:8080/"
        },
        "id": "_l1SstONUfLc",
        "outputId": "52e4082c-d24c-4e34-cf7f-b96abec4ff70"
      },
      "execution_count": 57,
      "outputs": [
        {
          "output_type": "stream",
          "name": "stdout",
          "text": [
            "True\n"
          ]
        }
      ]
    },
    {
      "cell_type": "code",
      "source": [],
      "metadata": {
        "id": "HBqotAOAUole"
      },
      "execution_count": null,
      "outputs": []
    }
  ]
}