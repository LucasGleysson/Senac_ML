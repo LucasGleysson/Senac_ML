{
  "nbformat": 4,
  "nbformat_minor": 0,
  "metadata": {
    "colab": {
      "provenance": [],
      "authorship_tag": "ABX9TyN9oFnbQbw7EtI5tP8xWDzD",
      "include_colab_link": true
    },
    "kernelspec": {
      "name": "python3",
      "display_name": "Python 3"
    },
    "language_info": {
      "name": "python"
    }
  },
  "cells": [
    {
      "cell_type": "markdown",
      "metadata": {
        "id": "view-in-github",
        "colab_type": "text"
      },
      "source": [
        "<a href=\"https://colab.research.google.com/github/LucasGleysson/Senac_ML/blob/master/ML_Atividade_03.ipynb\" target=\"_parent\"><img src=\"https://colab.research.google.com/assets/colab-badge.svg\" alt=\"Open In Colab\"/></a>"
      ]
    },
    {
      "cell_type": "markdown",
      "source": [
        "#Exercícios - Aula 03\n",
        "#Listas, Tuplas, Dicionários e Funções"
      ],
      "metadata": {
        "id": "RdAPmGi6qjVI"
      }
    },
    {
      "cell_type": "markdown",
      "source": [
        "##Digite os comandos na sequência:"
      ],
      "metadata": {
        "id": "PZwYoKiyzNEm"
      }
    },
    {
      "cell_type": "markdown",
      "source": [
        "###01."
      ],
      "metadata": {
        "id": "U-w1-sCXrNWC"
      }
    },
    {
      "cell_type": "code",
      "execution_count": 129,
      "metadata": {
        "id": "OpR1sze_pJlF"
      },
      "outputs": [],
      "source": [
        "palavras = ['codigo','linguagem','web']"
      ]
    },
    {
      "cell_type": "code",
      "source": [
        "numeros = [18,123]"
      ],
      "metadata": {
        "id": "0ILZ369osH3N"
      },
      "execution_count": 130,
      "outputs": []
    },
    {
      "cell_type": "code",
      "source": [
        "vazia = []"
      ],
      "metadata": {
        "id": "e2Dm0_BesKMn"
      },
      "execution_count": 131,
      "outputs": []
    },
    {
      "cell_type": "code",
      "source": [
        "lista_mista = ['oi', 2.0, 5*2,[10,20]]"
      ],
      "metadata": {
        "id": "2RfCnYd8sMGV"
      },
      "execution_count": 132,
      "outputs": []
    },
    {
      "cell_type": "code",
      "source": [
        "print(numeros)"
      ],
      "metadata": {
        "colab": {
          "base_uri": "https://localhost:8080/"
        },
        "id": "_qtOp3masMwY",
        "outputId": "1e4e6391-746e-4bed-cbb7-ad291783dc1b"
      },
      "execution_count": 133,
      "outputs": [
        {
          "output_type": "stream",
          "name": "stdout",
          "text": [
            "[18, 123]\n"
          ]
        }
      ]
    },
    {
      "cell_type": "code",
      "source": [
        "print(lista_mista)"
      ],
      "metadata": {
        "colab": {
          "base_uri": "https://localhost:8080/"
        },
        "id": "Vc4jIhkhsSo2",
        "outputId": "e6a4978c-e495-4ae3-958a-5cc8db2f7d86"
      },
      "execution_count": 134,
      "outputs": [
        {
          "output_type": "stream",
          "name": "stdout",
          "text": [
            "['oi', 2.0, 10, [10, 20]]\n"
          ]
        }
      ]
    },
    {
      "cell_type": "code",
      "source": [
        "nova_lista = [numeros, palavras]"
      ],
      "metadata": {
        "id": "gI9_TwcbsUa7"
      },
      "execution_count": 135,
      "outputs": []
    },
    {
      "cell_type": "code",
      "source": [
        "print(nova_lista)"
      ],
      "metadata": {
        "colab": {
          "base_uri": "https://localhost:8080/"
        },
        "id": "R6l1Uz2WsauA",
        "outputId": "cbd2bf8d-fc4c-44d7-f2e6-98ae2768ead2"
      },
      "execution_count": 136,
      "outputs": [
        {
          "output_type": "stream",
          "name": "stdout",
          "text": [
            "[[18, 123], ['codigo', 'linguagem', 'web']]\n"
          ]
        }
      ]
    },
    {
      "cell_type": "markdown",
      "source": [
        "###02."
      ],
      "metadata": {
        "id": "igPH5bw6shzW"
      }
    },
    {
      "cell_type": "code",
      "source": [
        "uma_lista = ['oi', 2.0,5,[10,20]]"
      ],
      "metadata": {
        "id": "fR550grBseSf"
      },
      "execution_count": 137,
      "outputs": []
    },
    {
      "cell_type": "code",
      "source": [
        "print(len(uma_lista))"
      ],
      "metadata": {
        "colab": {
          "base_uri": "https://localhost:8080/"
        },
        "id": "Rq381AK4swTr",
        "outputId": "ad8a365c-5620-4f52-87af-bd7804073e38"
      },
      "execution_count": 12,
      "outputs": [
        {
          "output_type": "stream",
          "name": "stdout",
          "text": [
            "4\n"
          ]
        }
      ]
    },
    {
      "cell_type": "code",
      "source": [
        "print(len(['spam',1,['bolo','bolacha','biscoito'],[1,2,3]]))"
      ],
      "metadata": {
        "colab": {
          "base_uri": "https://localhost:8080/"
        },
        "id": "uUDYyFJls7Mu",
        "outputId": "1766362d-c202-4060-bf4f-9db1a1cb4bfb"
      },
      "execution_count": 13,
      "outputs": [
        {
          "output_type": "stream",
          "name": "stdout",
          "text": [
            "4\n"
          ]
        }
      ]
    },
    {
      "cell_type": "markdown",
      "source": [
        "##O que é impresso pelo trecho de código a seguir?"
      ],
      "metadata": {
        "id": "B9SyaWMBzare"
      }
    },
    {
      "cell_type": "markdown",
      "source": [
        "###03."
      ],
      "metadata": {
        "id": "LBhnDRQCtJkM"
      }
    },
    {
      "cell_type": "code",
      "source": [
        "# Cria uma lista de inteiros.\n",
        "numeros = [18,424,86,13,66,8338,74]"
      ],
      "metadata": {
        "id": "LubfN_gTtH9N"
      },
      "execution_count": 26,
      "outputs": []
    },
    {
      "cell_type": "code",
      "source": [
        "# Exibe na tela o terceiro elemento (índice -> 2)\n",
        "print(numeros[2])"
      ],
      "metadata": {
        "colab": {
          "base_uri": "https://localhost:8080/"
        },
        "id": "JdJZbc71tY6k",
        "outputId": "276d4a7e-8e03-428f-bb45-a70a0d28da0b"
      },
      "execution_count": 27,
      "outputs": [
        {
          "output_type": "stream",
          "name": "stdout",
          "text": [
            "86\n"
          ]
        }
      ]
    },
    {
      "cell_type": "code",
      "source": [
        "# Excuta a operação e usa o resultado para definir o valor\n",
        "# do índice que será impresso.\n",
        "print(numeros[9-8])"
      ],
      "metadata": {
        "colab": {
          "base_uri": "https://localhost:8080/"
        },
        "id": "68LEphs_td7c",
        "outputId": "07de97ed-93ec-47f2-8a45-778f8d2f0364"
      },
      "execution_count": 28,
      "outputs": [
        {
          "output_type": "stream",
          "name": "stdout",
          "text": [
            "424\n"
          ]
        }
      ]
    },
    {
      "cell_type": "code",
      "source": [
        "# Exibe o penultimo número\n",
        "print(numeros[-2])"
      ],
      "metadata": {
        "colab": {
          "base_uri": "https://localhost:8080/"
        },
        "id": "WHladgy_tgRk",
        "outputId": "3bdf16f6-c395-437d-9d38-ae03494eefac"
      },
      "execution_count": 29,
      "outputs": [
        {
          "output_type": "stream",
          "name": "stdout",
          "text": [
            "8338\n"
          ]
        }
      ]
    },
    {
      "cell_type": "code",
      "source": [
        "# Usa o \"len\" para pegar o tamanho da lista, subtrai 1 e então usa o resultado\n",
        "# como valor do índice\n",
        "print(numeros[len(numeros)-1])"
      ],
      "metadata": {
        "colab": {
          "base_uri": "https://localhost:8080/"
        },
        "id": "FNpMJzz0tlF2",
        "outputId": "26de4b26-2eae-479b-9403-e4cc4be122b8"
      },
      "execution_count": 30,
      "outputs": [
        {
          "output_type": "stream",
          "name": "stdout",
          "text": [
            "74\n"
          ]
        }
      ]
    },
    {
      "cell_type": "markdown",
      "source": [
        "###04."
      ],
      "metadata": {
        "id": "_Oq0JP-zty_g"
      }
    },
    {
      "cell_type": "code",
      "source": [
        "# Cria uma lista com valores de tipos variádos\n",
        "uma_lista = [3,5,'Cibele', 3.14,False]"
      ],
      "metadata": {
        "id": "hlhBRNQLtvdf"
      },
      "execution_count": 31,
      "outputs": []
    },
    {
      "cell_type": "code",
      "source": [
        "# Imprime o tamanho da lista\n",
        "print(len(uma_lista))"
      ],
      "metadata": {
        "colab": {
          "base_uri": "https://localhost:8080/"
        },
        "id": "ePx1CcrsuAU-",
        "outputId": "9757f6f4-9e0b-40fb-ae10-4a6f86698a41"
      },
      "execution_count": 32,
      "outputs": [
        {
          "output_type": "stream",
          "name": "stdout",
          "text": [
            "5\n"
          ]
        }
      ]
    },
    {
      "cell_type": "markdown",
      "source": [
        "###05."
      ],
      "metadata": {
        "id": "m9wQSOGVxowG"
      }
    },
    {
      "cell_type": "code",
      "source": [
        "uma_lista = [3,5,'Cibele',[88,99,'Suely'],[],3.14,False]"
      ],
      "metadata": {
        "id": "bMK5FBFHuEtf"
      },
      "execution_count": 33,
      "outputs": []
    },
    {
      "cell_type": "code",
      "source": [
        "# Imprime o tamanho da lista\n",
        "print(len(uma_lista))"
      ],
      "metadata": {
        "colab": {
          "base_uri": "https://localhost:8080/"
        },
        "id": "eBNlBoOrx96o",
        "outputId": "a84fe314-167a-4310-db2c-cb961ba45350"
      },
      "execution_count": 46,
      "outputs": [
        {
          "output_type": "stream",
          "name": "stdout",
          "text": [
            "7\n"
          ]
        }
      ]
    },
    {
      "cell_type": "markdown",
      "source": [
        "###06."
      ],
      "metadata": {
        "id": "70NejsaIyKtN"
      }
    },
    {
      "cell_type": "code",
      "source": [
        "uma_lista = [3,5,'Cibele',[88,99,'Suely'],[],3.14,False]"
      ],
      "metadata": {
        "id": "YgHDH8fMyAck"
      },
      "execution_count": 138,
      "outputs": []
    },
    {
      "cell_type": "code",
      "source": [
        "# Imprime o sexto elemento da lista (índice -> 5)\n",
        "print(uma_lista[5])"
      ],
      "metadata": {
        "colab": {
          "base_uri": "https://localhost:8080/"
        },
        "id": "4NlXDLnOyRds",
        "outputId": "11f3ccf3-cfd3-4874-d9d8-3e5c96342a44"
      },
      "execution_count": 139,
      "outputs": [
        {
          "output_type": "stream",
          "name": "stdout",
          "text": [
            "3.14\n"
          ]
        }
      ]
    },
    {
      "cell_type": "markdown",
      "source": [
        "###07.\n",
        "\n"
      ],
      "metadata": {
        "id": "JivWxHq6ytCr"
      }
    },
    {
      "cell_type": "code",
      "source": [
        "uma_lista = [3,5,'Cibele',[88,99,'Suely'],[],3.14,False]"
      ],
      "metadata": {
        "id": "MfNXXET-yWYA"
      },
      "execution_count": 140,
      "outputs": []
    },
    {
      "cell_type": "code",
      "source": [
        "# Imprime o elemento de indice 2 em caixa alta\n",
        "print(uma_lista[2].upper())"
      ],
      "metadata": {
        "colab": {
          "base_uri": "https://localhost:8080/"
        },
        "id": "L3GruFs_y4ZE",
        "outputId": "81d2e25a-f45b-4394-f217-fc62983840fe"
      },
      "execution_count": 141,
      "outputs": [
        {
          "output_type": "stream",
          "name": "stdout",
          "text": [
            "CIBELE\n"
          ]
        }
      ]
    },
    {
      "cell_type": "markdown",
      "source": [
        "###08."
      ],
      "metadata": {
        "id": "IjSiQ7n3y9N_"
      }
    },
    {
      "cell_type": "code",
      "source": [
        "uma_lista = [3,5,'Cibele',[88,99,'Suely'],[],3.14,False]"
      ],
      "metadata": {
        "id": "OOtMMxgxy8KS"
      },
      "execution_count": 142,
      "outputs": []
    },
    {
      "cell_type": "code",
      "source": [
        "# Imprime o a primeira letra da string que esta no elemento de indice 2\n",
        "print(uma_lista[2][0])"
      ],
      "metadata": {
        "colab": {
          "base_uri": "https://localhost:8080/"
        },
        "id": "mfzsMI54z3NM",
        "outputId": "b74d584c-5a9c-41c7-e91f-75bd264b5ad3"
      },
      "execution_count": 143,
      "outputs": [
        {
          "output_type": "stream",
          "name": "stdout",
          "text": [
            "C\n"
          ]
        }
      ]
    },
    {
      "cell_type": "markdown",
      "source": [
        "###09."
      ],
      "metadata": {
        "id": "mmHKNZ39z903"
      }
    },
    {
      "cell_type": "code",
      "source": [
        "uma_lista = [3,5,'Cibele',[88,99,'Suely'],[],3.14,False]"
      ],
      "metadata": {
        "id": "HIb1KvSrz75O"
      },
      "execution_count": 144,
      "outputs": []
    },
    {
      "cell_type": "code",
      "source": [
        "# Verifica se \"3.14\" existe dentro da lista.\n",
        "print(3.14 in uma_lista)"
      ],
      "metadata": {
        "colab": {
          "base_uri": "https://localhost:8080/"
        },
        "id": "T32Bbc4p0DNE",
        "outputId": "f4d83f59-d734-4055-dff9-25096345da40"
      },
      "execution_count": 145,
      "outputs": [
        {
          "output_type": "stream",
          "name": "stdout",
          "text": [
            "True\n"
          ]
        }
      ]
    },
    {
      "cell_type": "markdown",
      "source": [
        "###10."
      ],
      "metadata": {
        "id": "TE9--qWA0GWk"
      }
    },
    {
      "cell_type": "code",
      "source": [
        "uma_lista = [3,5,'Cibele',[88,99,'Suely'],[],3.14,False]"
      ],
      "metadata": {
        "id": "n9ITZZFa0Fmg"
      },
      "execution_count": 146,
      "outputs": []
    },
    {
      "cell_type": "code",
      "source": [
        "# Verifica se \"88\" esta dentro da lista.\n",
        "# Nesse caso, 88 esta dentro de um dos ELEMENTOS da lista, que é outra lista\n",
        "print(88 in uma_lista)"
      ],
      "metadata": {
        "colab": {
          "base_uri": "https://localhost:8080/"
        },
        "id": "YTbR0FiD0JaD",
        "outputId": "0496b097-06bb-4120-8951-b2ac08a0acef"
      },
      "execution_count": 147,
      "outputs": [
        {
          "output_type": "stream",
          "name": "stdout",
          "text": [
            "False\n"
          ]
        }
      ]
    },
    {
      "cell_type": "markdown",
      "source": [
        "###11."
      ],
      "metadata": {
        "id": "AfLzoVcm1TiO"
      }
    },
    {
      "cell_type": "code",
      "source": [
        "uma_lista = [1,3,5]"
      ],
      "metadata": {
        "id": "_ugIb71r0OGi"
      },
      "execution_count": 53,
      "outputs": []
    },
    {
      "cell_type": "code",
      "source": [
        "outra_lista = [2,4,6]"
      ],
      "metadata": {
        "id": "nqLcjHF84KwP"
      },
      "execution_count": 54,
      "outputs": []
    },
    {
      "cell_type": "code",
      "source": [
        "# Junta as duas listas em uma, concatena\n",
        "print(uma_lista + outra_lista)"
      ],
      "metadata": {
        "colab": {
          "base_uri": "https://localhost:8080/"
        },
        "id": "6qamxW7-4YbV",
        "outputId": "e4555286-5de2-4979-ce1d-31a20424bb18"
      },
      "execution_count": 56,
      "outputs": [
        {
          "output_type": "stream",
          "name": "stdout",
          "text": [
            "[1, 3, 5, 2, 4, 6]\n"
          ]
        }
      ]
    },
    {
      "cell_type": "markdown",
      "source": [
        "###12."
      ],
      "metadata": {
        "id": "C3eBfmEW4skI"
      }
    },
    {
      "cell_type": "code",
      "source": [
        "uma_lista = [1,3,5]"
      ],
      "metadata": {
        "id": "kSDM-ymk4cu6"
      },
      "execution_count": 57,
      "outputs": []
    },
    {
      "cell_type": "code",
      "source": [
        "# Imprime a lista 3 vezes\n",
        "print(uma_lista*3)"
      ],
      "metadata": {
        "colab": {
          "base_uri": "https://localhost:8080/"
        },
        "id": "030Lt-YY4054",
        "outputId": "473dde6d-dbd7-4067-c61e-3ea19a0e9854"
      },
      "execution_count": 59,
      "outputs": [
        {
          "output_type": "stream",
          "name": "stdout",
          "text": [
            "[1, 3, 5, 1, 3, 5, 1, 3, 5]\n"
          ]
        }
      ]
    },
    {
      "cell_type": "markdown",
      "source": [
        "###13."
      ],
      "metadata": {
        "id": "IMKFtvpX4-H5"
      }
    },
    {
      "cell_type": "code",
      "source": [
        "uma_lista = [3,5,'Cibele',[88,99,'Suely'],[],3.14,False]"
      ],
      "metadata": {
        "id": "pZFzei3b5J7L"
      },
      "execution_count": 60,
      "outputs": []
    },
    {
      "cell_type": "code",
      "source": [
        "# Printa os elementos da lista a partir do 4º indice\n",
        "print(uma_lista[4:])"
      ],
      "metadata": {
        "colab": {
          "base_uri": "https://localhost:8080/"
        },
        "id": "hM2Ze9gZ5RWV",
        "outputId": "a7b6f863-d507-4eb9-a7b4-8fb27826e0b9"
      },
      "execution_count": 62,
      "outputs": [
        {
          "output_type": "stream",
          "name": "stdout",
          "text": [
            "[[], 3.14, False]\n"
          ]
        }
      ]
    },
    {
      "cell_type": "markdown",
      "source": [
        "###15."
      ],
      "metadata": {
        "id": "YAorjkqo6mYR"
      }
    },
    {
      "cell_type": "code",
      "source": [
        "uma_lista = ['a','b','c','d','e','f']"
      ],
      "metadata": {
        "id": "Dm8bM7tC44QI"
      },
      "execution_count": 63,
      "outputs": []
    },
    {
      "cell_type": "code",
      "source": [
        "# Substitue os elementos de uma lista pelos elementos de outra.\n",
        "uma_lista[1:3] = ['x','y']"
      ],
      "metadata": {
        "id": "suBVzX_O6vaP"
      },
      "execution_count": 66,
      "outputs": []
    },
    {
      "cell_type": "code",
      "source": [
        "print(uma_lista)"
      ],
      "metadata": {
        "colab": {
          "base_uri": "https://localhost:8080/"
        },
        "id": "etgB7H6966eQ",
        "outputId": "e4064e1f-4d18-4b4d-ace1-13b1cc0557a1"
      },
      "execution_count": 65,
      "outputs": [
        {
          "output_type": "stream",
          "name": "stdout",
          "text": [
            "['a', 'x', 'y', 'd', 'e', 'f']\n"
          ]
        }
      ]
    },
    {
      "cell_type": "code",
      "source": [
        "uma_lista = ['a','b','c','d','e','f']\n",
        "n = [1,2,3]\n",
        "uma_lista[1:4] = n\n",
        "print(uma_lista)"
      ],
      "metadata": {
        "colab": {
          "base_uri": "https://localhost:8080/"
        },
        "id": "rrVqnrBf69tq",
        "outputId": "82aef2eb-3433-4d1f-dc5e-005a37144901"
      },
      "execution_count": 68,
      "outputs": [
        {
          "output_type": "stream",
          "name": "stdout",
          "text": [
            "['a', 1, 2, 3, 'e', 'f']\n"
          ]
        }
      ]
    },
    {
      "cell_type": "markdown",
      "source": [
        "###16."
      ],
      "metadata": {
        "id": "xlgdnttp7vaH"
      }
    },
    {
      "cell_type": "code",
      "source": [
        "uma_lista = ['a','b','c']"
      ],
      "metadata": {
        "id": "hFZFodgL7oeK"
      },
      "execution_count": 148,
      "outputs": []
    },
    {
      "cell_type": "code",
      "source": [
        "# Adiciona o os elementos da lista passada no índice 1\n",
        "uma_lista[1:1] = ['b','c']"
      ],
      "metadata": {
        "id": "jJDYAi1P7-dI"
      },
      "execution_count": 149,
      "outputs": []
    },
    {
      "cell_type": "code",
      "source": [
        "print(uma_lista)"
      ],
      "metadata": {
        "colab": {
          "base_uri": "https://localhost:8080/"
        },
        "id": "sXxiF4V88FDH",
        "outputId": "e419c8ff-f7da-4a2d-94b0-bc3232394b8d"
      },
      "execution_count": 150,
      "outputs": [
        {
          "output_type": "stream",
          "name": "stdout",
          "text": [
            "['a', 'b', 'c', 'b', 'c']\n"
          ]
        }
      ]
    },
    {
      "cell_type": "code",
      "source": [
        "# Adiciona o elemento da lista passada no indice 4\n",
        "uma_lista[4:4] = ['e']"
      ],
      "metadata": {
        "id": "bx-zJH5Z8JR1"
      },
      "execution_count": 151,
      "outputs": []
    },
    {
      "cell_type": "code",
      "source": [
        "print(uma_lista)"
      ],
      "metadata": {
        "colab": {
          "base_uri": "https://localhost:8080/"
        },
        "id": "HUxiWtAb8RJc",
        "outputId": "ce3b2a0a-1e5c-4495-ba34-a9a879cf855d"
      },
      "execution_count": 152,
      "outputs": [
        {
          "output_type": "stream",
          "name": "stdout",
          "text": [
            "['a', 'b', 'c', 'b', 'e', 'c']\n"
          ]
        }
      ]
    },
    {
      "cell_type": "markdown",
      "source": [
        "###17."
      ],
      "metadata": {
        "id": "LMcIc_YGfKq0"
      }
    },
    {
      "cell_type": "code",
      "source": [
        "uma_lista = [4,1,8,6,3]"
      ],
      "metadata": {
        "id": "C2udIJ6g8nMV"
      },
      "execution_count": 155,
      "outputs": []
    },
    {
      "cell_type": "code",
      "source": [
        "# Altera o valor do índice 2 pelo valor passado\n",
        "uma_lista[2] = True"
      ],
      "metadata": {
        "id": "ncCwyJC2fYoJ"
      },
      "execution_count": 156,
      "outputs": []
    },
    {
      "cell_type": "code",
      "source": [
        "print(uma_lista)"
      ],
      "metadata": {
        "colab": {
          "base_uri": "https://localhost:8080/"
        },
        "id": "1Uw9Gch9fcyQ",
        "outputId": "f10b1d1d-5679-44d0-9b6c-72629929e95b"
      },
      "execution_count": 157,
      "outputs": [
        {
          "output_type": "stream",
          "name": "stdout",
          "text": [
            "[4, 1, True, 6, 3]\n"
          ]
        }
      ]
    },
    {
      "cell_type": "markdown",
      "source": [
        "###18."
      ],
      "metadata": {
        "id": "_XLKivILfsCs"
      }
    },
    {
      "cell_type": "code",
      "source": [
        "a = ['um','dois','tres']"
      ],
      "metadata": {
        "id": "wn9Y3YYfffoM"
      },
      "execution_count": 158,
      "outputs": []
    },
    {
      "cell_type": "code",
      "source": [
        "# Deleta o elemento da lista de indice 1\n",
        "del a[1]"
      ],
      "metadata": {
        "id": "BDxv4i1qgF6F"
      },
      "execution_count": 159,
      "outputs": []
    },
    {
      "cell_type": "code",
      "source": [
        "print(a)"
      ],
      "metadata": {
        "colab": {
          "base_uri": "https://localhost:8080/"
        },
        "id": "X3DOdHoNgHhY",
        "outputId": "f6930697-ed2a-401b-f969-613377e698b3"
      },
      "execution_count": 160,
      "outputs": [
        {
          "output_type": "stream",
          "name": "stdout",
          "text": [
            "['um', 'tres']\n"
          ]
        }
      ]
    },
    {
      "cell_type": "code",
      "source": [
        "lista = ['a','b','c','d','e','f']"
      ],
      "metadata": {
        "id": "wuUxynjngI0y"
      },
      "execution_count": 161,
      "outputs": []
    },
    {
      "cell_type": "code",
      "source": [
        "# Deleta todos os elementos da lista espeicificados no fatiamento\n",
        "del lista[1:5]"
      ],
      "metadata": {
        "id": "Thl7Z-l0gQ1S"
      },
      "execution_count": 162,
      "outputs": []
    },
    {
      "cell_type": "code",
      "source": [
        "print(lista)"
      ],
      "metadata": {
        "colab": {
          "base_uri": "https://localhost:8080/"
        },
        "id": "8M93WXLpgUVp",
        "outputId": "30274c15-e0e0-49df-ab74-e7d30e78647e"
      },
      "execution_count": 163,
      "outputs": [
        {
          "output_type": "stream",
          "name": "stdout",
          "text": [
            "['a', 'f']\n"
          ]
        }
      ]
    },
    {
      "cell_type": "markdown",
      "source": [
        "###19."
      ],
      "metadata": {
        "id": "0JXniJw9ge53"
      }
    },
    {
      "cell_type": "code",
      "source": [
        "lista_a = [4,1,8,6,3]"
      ],
      "metadata": {
        "id": "rYRxxXNzgVej"
      },
      "execution_count": 164,
      "outputs": []
    },
    {
      "cell_type": "code",
      "source": [
        "# lista_a recebe lista_b, as duas agora apontam para o mesmo objeto.\n",
        "lista_b = lista_a"
      ],
      "metadata": {
        "id": "5dEI4cOJhCXM"
      },
      "execution_count": 165,
      "outputs": []
    },
    {
      "cell_type": "code",
      "source": [
        "# Altera o valor do indice 3, e como lista a e b apontam para o mesmo objeto\n",
        "# a alteração vale para as duas.\n",
        "lista_b[3] = 22"
      ],
      "metadata": {
        "id": "JFs3lo9wiYgu"
      },
      "execution_count": 166,
      "outputs": []
    },
    {
      "cell_type": "code",
      "source": [
        "print(lista_a)"
      ],
      "metadata": {
        "colab": {
          "base_uri": "https://localhost:8080/"
        },
        "id": "d4o8GIIHieX4",
        "outputId": "f1012193-cf82-4551-f504-3576d5f95cf5"
      },
      "execution_count": 167,
      "outputs": [
        {
          "output_type": "stream",
          "name": "stdout",
          "text": [
            "[4, 1, 8, 22, 3]\n"
          ]
        }
      ]
    },
    {
      "cell_type": "markdown",
      "source": [
        "###20."
      ],
      "metadata": {
        "id": "UcRRGBIhisJe"
      }
    },
    {
      "cell_type": "code",
      "source": [
        "lista_original = [5,6,7,8]"
      ],
      "metadata": {
        "id": "5NChZZaVig5A"
      },
      "execution_count": 168,
      "outputs": []
    },
    {
      "cell_type": "code",
      "source": [
        "# Imprime todos os elementos da lista original 3 vezes\n",
        "print(lista_original*3)"
      ],
      "metadata": {
        "colab": {
          "base_uri": "https://localhost:8080/"
        },
        "id": "3VpMaP-Ei0OQ",
        "outputId": "0f8b2b4b-f7c2-445c-e728-9cdc509e4884"
      },
      "execution_count": 169,
      "outputs": [
        {
          "output_type": "stream",
          "name": "stdout",
          "text": [
            "[5, 6, 7, 8, 5, 6, 7, 8, 5, 6, 7, 8]\n"
          ]
        }
      ]
    },
    {
      "cell_type": "markdown",
      "source": [
        "###21."
      ],
      "metadata": {
        "id": "k5sWKrd1kgEH"
      }
    },
    {
      "cell_type": "code",
      "source": [
        "lista_original = [5,6,7,8]"
      ],
      "metadata": {
        "id": "vgG_rQ5Ti4Df"
      },
      "execution_count": 95,
      "outputs": []
    },
    {
      "cell_type": "code",
      "source": [
        "print(lista_original*3)"
      ],
      "metadata": {
        "colab": {
          "base_uri": "https://localhost:8080/"
        },
        "id": "can9BvDHkna4",
        "outputId": "965262da-23c9-476e-8d9e-228efc341150"
      },
      "execution_count": 96,
      "outputs": [
        {
          "output_type": "stream",
          "name": "stdout",
          "text": [
            "[5, 6, 7, 8, 5, 6, 7, 8, 5, 6, 7, 8]\n"
          ]
        }
      ]
    },
    {
      "cell_type": "code",
      "source": [
        "# Repete a lista origianl inteira 3 vezes e faz com que cada repetição seja um \n",
        "# elemento da lista_nova\n",
        "lista_nova = [lista_original] * 3"
      ],
      "metadata": {
        "id": "U1esyVZmkrCC"
      },
      "execution_count": 170,
      "outputs": []
    },
    {
      "cell_type": "code",
      "source": [
        "print(lista_nova)"
      ],
      "metadata": {
        "colab": {
          "base_uri": "https://localhost:8080/"
        },
        "id": "wI2NKAykkvdg",
        "outputId": "342900f7-55bb-4bde-9452-253f1552e5ce"
      },
      "execution_count": 171,
      "outputs": [
        {
          "output_type": "stream",
          "name": "stdout",
          "text": [
            "[[5, 6, 7, 8], [5, 6, 7, 8], [5, 6, 7, 8]]\n"
          ]
        }
      ]
    },
    {
      "cell_type": "markdown",
      "source": [
        "###22."
      ],
      "metadata": {
        "id": "q4iabHkDk9my"
      }
    },
    {
      "cell_type": "code",
      "source": [
        "lista_original = [5,6,7,8]"
      ],
      "metadata": {
        "id": "dFC7Kxp2kyIB"
      },
      "execution_count": 172,
      "outputs": []
    },
    {
      "cell_type": "code",
      "source": [
        "lista_nova = [lista_original] * 3"
      ],
      "metadata": {
        "id": "wfY2V7-TlJFc"
      },
      "execution_count": 173,
      "outputs": []
    },
    {
      "cell_type": "code",
      "source": [
        "print(lista_nova)"
      ],
      "metadata": {
        "colab": {
          "base_uri": "https://localhost:8080/"
        },
        "id": "U2Tfw-HilK0P",
        "outputId": "f6b6f4f3-7099-4bc1-851c-87ceffb46626"
      },
      "execution_count": 174,
      "outputs": [
        {
          "output_type": "stream",
          "name": "stdout",
          "text": [
            "[[5, 6, 7, 8], [5, 6, 7, 8], [5, 6, 7, 8]]\n"
          ]
        }
      ]
    },
    {
      "cell_type": "code",
      "source": [
        "# Altera o valor do indice um na lista original\n",
        "lista_original[1] = 22"
      ],
      "metadata": {
        "id": "NeaR4i2PmluS"
      },
      "execution_count": 175,
      "outputs": []
    },
    {
      "cell_type": "code",
      "source": [
        "print(lista_nova)"
      ],
      "metadata": {
        "colab": {
          "base_uri": "https://localhost:8080/"
        },
        "id": "W9zhIsgGmqpL",
        "outputId": "60e9a2ca-4873-4ab5-94f9-53aa904c0595"
      },
      "execution_count": 176,
      "outputs": [
        {
          "output_type": "stream",
          "name": "stdout",
          "text": [
            "[[5, 22, 7, 8], [5, 22, 7, 8], [5, 22, 7, 8]]\n"
          ]
        }
      ]
    },
    {
      "cell_type": "markdown",
      "source": [
        "DUVIDA: Porque o 22 apareceu no ultimo print se a alteração aconteceu depois da declaração da variável"
      ],
      "metadata": {
        "id": "C-O0VtS-0RDt"
      }
    },
    {
      "cell_type": "markdown",
      "source": [
        "HIPOTESE: Talvez a multiplicação crie varias \"setas\" que apontem para o mesmo objeto mais de uma vez, então não é que os elementos tenham sido copiados, é so que cada elemento da \"lista_nova\" não passam de indicadores para o objeto guardado na \"lista_original\"."
      ],
      "metadata": {
        "id": "fBNgsliL00WZ"
      }
    },
    {
      "cell_type": "markdown",
      "source": [
        "###23."
      ],
      "metadata": {
        "id": "dluMJIjym8PK"
      }
    },
    {
      "cell_type": "code",
      "source": [
        "lista_a = [4,1,8,6,3]"
      ],
      "metadata": {
        "id": "Q2kvN9jlmsk9"
      },
      "execution_count": 193,
      "outputs": []
    },
    {
      "cell_type": "code",
      "source": [
        "# lisa_b recebe dois indicadores para os elementos da lista a\n",
        "lista_b = lista_a * 2"
      ],
      "metadata": {
        "id": "-czDKPKAnCB0"
      },
      "execution_count": 194,
      "outputs": []
    },
    {
      "cell_type": "code",
      "source": [
        "# Altera o indice 3 do objeto da lista b\n",
        "lista_b[3] = 35"
      ],
      "metadata": {
        "id": "80SpTLOZnJXc"
      },
      "execution_count": 195,
      "outputs": []
    },
    {
      "cell_type": "code",
      "source": [
        "print(lista_a)"
      ],
      "metadata": {
        "colab": {
          "base_uri": "https://localhost:8080/"
        },
        "id": "0f1WbXsonPPQ",
        "outputId": "a96a0ea4-c804-4b8d-d595-98d4044c326c"
      },
      "execution_count": 196,
      "outputs": [
        {
          "output_type": "stream",
          "name": "stdout",
          "text": [
            "[4, 1, 8, 6, 3]\n"
          ]
        }
      ]
    },
    {
      "cell_type": "markdown",
      "source": [
        "###24."
      ],
      "metadata": {
        "id": "iwBV4kVtnVAS"
      }
    },
    {
      "cell_type": "code",
      "source": [
        "lista_a = [4,1,8,6,3]"
      ],
      "metadata": {
        "id": "h8V2AHxNnRKF"
      },
      "execution_count": 197,
      "outputs": []
    },
    {
      "cell_type": "code",
      "source": [
        "# Faz a lista b receber dois indicadores para a lista a \n",
        "lista_b = [lista_a] * 2"
      ],
      "metadata": {
        "id": "MnNadSj-na8W"
      },
      "execution_count": 198,
      "outputs": []
    },
    {
      "cell_type": "code",
      "source": [
        "# Altera o valor do indice 3 do objeto da lista_a\n",
        "lista_a[3] = 35"
      ],
      "metadata": {
        "id": "NehSrGXHncNq"
      },
      "execution_count": 201,
      "outputs": []
    },
    {
      "cell_type": "code",
      "source": [
        "print(lista_b)"
      ],
      "metadata": {
        "colab": {
          "base_uri": "https://localhost:8080/"
        },
        "id": "3XlI4BQNneuA",
        "outputId": "2c91d41a-93ff-4584-834e-b19969955e1e"
      },
      "execution_count": 202,
      "outputs": [
        {
          "output_type": "stream",
          "name": "stdout",
          "text": [
            "[[4, 1, 8, 35, 3], [4, 1, 8, 35, 3]]\n"
          ]
        }
      ]
    },
    {
      "cell_type": "markdown",
      "source": [
        "###25."
      ],
      "metadata": {
        "id": "XOIm4zC_nxO7"
      }
    },
    {
      "cell_type": "code",
      "source": [
        "uma_lista = [4,1,8,6,3]"
      ],
      "metadata": {
        "id": "oD4on6f-nk18"
      },
      "execution_count": 206,
      "outputs": []
    },
    {
      "cell_type": "code",
      "source": [
        "# Adiciona um valor boleano na lista\n",
        "uma_lista.append(True)"
      ],
      "metadata": {
        "id": "qdcUHaQdpHC0"
      },
      "execution_count": 207,
      "outputs": []
    },
    {
      "cell_type": "code",
      "source": [
        "# Adiciona outro valor boelano na lista\n",
        "uma_lista.append(False)"
      ],
      "metadata": {
        "id": "9AN8A7PzpSxN"
      },
      "execution_count": 208,
      "outputs": []
    },
    {
      "cell_type": "code",
      "source": [
        "print(uma_lista)"
      ],
      "metadata": {
        "colab": {
          "base_uri": "https://localhost:8080/"
        },
        "id": "GqwAsXMZpbSX",
        "outputId": "db7ea146-eb97-4076-80e6-284f3b962561"
      },
      "execution_count": 209,
      "outputs": [
        {
          "output_type": "stream",
          "name": "stdout",
          "text": [
            "[4, 1, 8, 6, 3, True, False]\n"
          ]
        }
      ]
    },
    {
      "cell_type": "markdown",
      "source": [
        "###26."
      ],
      "metadata": {
        "id": "Kzyi-1DUqxP5"
      }
    },
    {
      "cell_type": "code",
      "source": [
        "uma_lista = [4,1,8,6,3]"
      ],
      "metadata": {
        "id": "FjYIc8ckqvL_"
      },
      "execution_count": 213,
      "outputs": []
    },
    {
      "cell_type": "code",
      "source": [
        "# Insere no indice 2 um valor booelano\n",
        "uma_lista.insert(2,True)"
      ],
      "metadata": {
        "id": "flHhK_lWrBsP"
      },
      "execution_count": 214,
      "outputs": []
    },
    {
      "cell_type": "code",
      "source": [
        "# Insere no indice 0 um outro valor booleano\n",
        "uma_lista.insert(0,False)"
      ],
      "metadata": {
        "id": "YAB_MenMrJSB"
      },
      "execution_count": 215,
      "outputs": []
    },
    {
      "cell_type": "code",
      "source": [
        "print(uma_lista)"
      ],
      "metadata": {
        "colab": {
          "base_uri": "https://localhost:8080/"
        },
        "id": "aNC8zKsZrN05",
        "outputId": "55313228-0c9f-4726-fe55-ec0ca19292c6"
      },
      "execution_count": 216,
      "outputs": [
        {
          "output_type": "stream",
          "name": "stdout",
          "text": [
            "[False, 4, 1, True, 8, 6, 3]\n"
          ]
        }
      ]
    },
    {
      "cell_type": "markdown",
      "source": [
        "###27."
      ],
      "metadata": {
        "id": "tOFH93EIrSkO"
      }
    },
    {
      "cell_type": "code",
      "source": [
        "uma_lista = [4,1,8,6,3]"
      ],
      "metadata": {
        "id": "Vcw_aU1mrQ_Z"
      },
      "execution_count": 217,
      "outputs": []
    },
    {
      "cell_type": "code",
      "source": [
        "# Remove o item do indice passado na função e o devolve como valor que é \n",
        "# Armazenado na variavel \"temp\"\n",
        "temp = uma_lista.pop(2)"
      ],
      "metadata": {
        "id": "r16EOdmWrg5s"
      },
      "execution_count": 219,
      "outputs": []
    },
    {
      "cell_type": "code",
      "source": [
        "# Remove o ultimo valor da lista e o devolve como valor a ser armazenado\n",
        "temp = uma_lista.pop()"
      ],
      "metadata": {
        "id": "xK6Xk_1GsUOu"
      },
      "execution_count": 220,
      "outputs": []
    },
    {
      "cell_type": "code",
      "source": [
        "print(uma_lista)"
      ],
      "metadata": {
        "colab": {
          "base_uri": "https://localhost:8080/"
        },
        "id": "OrpXBcTAv3-9",
        "outputId": "8c3fe0e4-cbdf-48af-d099-ff1b93634e71"
      },
      "execution_count": 221,
      "outputs": [
        {
          "output_type": "stream",
          "name": "stdout",
          "text": [
            "[4, 1]\n"
          ]
        }
      ]
    },
    {
      "cell_type": "markdown",
      "source": [
        "###28."
      ],
      "metadata": {
        "id": "y5co24hfv77r"
      }
    },
    {
      "cell_type": "code",
      "source": [
        "uma_lista = [4,1,8,6,3]"
      ],
      "metadata": {
        "id": "9lGStQy3v6fx"
      },
      "execution_count": 125,
      "outputs": []
    },
    {
      "cell_type": "code",
      "source": [
        "# Subtitui a lista armazenada na varial pelo valor retornado pela função\n",
        "# que foi o elemento que havia sido apagado da lista\n",
        "uma_lista = uma_lista.pop(0)"
      ],
      "metadata": {
        "id": "8OPj6Fr4wDd5"
      },
      "execution_count": 222,
      "outputs": []
    },
    {
      "cell_type": "code",
      "source": [
        "print(uma_lista)"
      ],
      "metadata": {
        "colab": {
          "base_uri": "https://localhost:8080/"
        },
        "id": "j3IIX3tRwIC_",
        "outputId": "c2ba69b1-27b2-4d78-951d-e2e86604921c"
      },
      "execution_count": 223,
      "outputs": [
        {
          "output_type": "stream",
          "name": "stdout",
          "text": [
            "4\n"
          ]
        }
      ]
    },
    {
      "cell_type": "code",
      "source": [],
      "metadata": {
        "id": "l3O370WSwKwi"
      },
      "execution_count": null,
      "outputs": []
    }
  ]
}