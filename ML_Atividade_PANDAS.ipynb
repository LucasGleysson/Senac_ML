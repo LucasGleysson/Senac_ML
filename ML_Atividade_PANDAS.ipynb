{
  "nbformat": 4,
  "nbformat_minor": 0,
  "metadata": {
    "colab": {
      "provenance": [],
      "include_colab_link": true
    },
    "kernelspec": {
      "name": "python3",
      "display_name": "Python 3"
    },
    "language_info": {
      "name": "python"
    }
  },
  "cells": [
    {
      "cell_type": "markdown",
      "metadata": {
        "id": "view-in-github",
        "colab_type": "text"
      },
      "source": [
        "<a href=\"https://colab.research.google.com/github/LucasGleysson/Senac_ML/blob/master/ML_Atividade_PANDAS.ipynb\" target=\"_parent\"><img src=\"https://colab.research.google.com/assets/colab-badge.svg\" alt=\"Open In Colab\"/></a>"
      ]
    },
    {
      "cell_type": "code",
      "execution_count": 319,
      "metadata": {
        "id": "haofwNFHTOwu"
      },
      "outputs": [],
      "source": [
        "import pandas as pd\n",
        "import numpy as np\n",
        "import matplotlib.pyplot as plt\n"
      ]
    },
    {
      "cell_type": "markdown",
      "source": [
        "##Obtendo os dados: \n",
        "Ao rodarmos a célula abaixo vamos obter os dados diretamente do site:\n",
        "\n",
        "http://dados.recife.pe.gov.br/tl/dataset/relacao-de-pessoas-vacinadas-covid-19/resource/966e9c4c-df45-40d7-9c58-2f13c61a6d28 \n"
      ],
      "metadata": {
        "id": "CJSaC-eDpKpZ"
      }
    },
    {
      "cell_type": "code",
      "source": [
        "data = pd.read_csv('http://dados.recife.pe.gov.br/dataset/2b5ee58d-9535-4d80-ab32-f63fd475346e/resource/93f4e8c2-430f-4142-86b3-96dab4905b4e/download/casosgravescovid.csv', sep=\";\")"
      ],
      "metadata": {
        "id": "nx62qgP0Teii"
      },
      "execution_count": 320,
      "outputs": []
    },
    {
      "cell_type": "markdown",
      "source": [
        "Utilize os comandos aprendidos em aula para os dados carregados, começando, preferencialmente, por:\n",
        "- head()\n",
        "- head(1-2)\n",
        "- tail()\n",
        "- info()\n",
        "- describe()\n",
        "- seguindo com outros aprendidos para manipulação de tratamento dos dados."
      ],
      "metadata": {
        "id": "S4Z2XURVpkAS"
      }
    },
    {
      "cell_type": "markdown",
      "source": [
        "# Limpeza e tratamento dos dados"
      ],
      "metadata": {
        "id": "61o6Nwme9_JV"
      }
    },
    {
      "cell_type": "markdown",
      "source": [
        "##Check List de análises"
      ],
      "metadata": {
        "id": "_2alfQyFsWxP"
      }
    },
    {
      "cell_type": "markdown",
      "source": [
        "- Analisar a base de dados\n",
        "- Descartar colunas com poucos registros\n",
        "- Tratar valores ausentes\n",
        "- Tratar colunas erradas\n"
      ],
      "metadata": {
        "id": "tqa6Yr91sao2"
      }
    },
    {
      "cell_type": "markdown",
      "source": [
        "## Analise da base de dados"
      ],
      "metadata": {
        "id": "1gcy1MOItyR-"
      }
    },
    {
      "cell_type": "markdown",
      "source": [
        "- Observando a estutura da base e suas colunas"
      ],
      "metadata": {
        "id": "AyMSn3KXuY72"
      }
    },
    {
      "cell_type": "code",
      "source": [
        "display(data.head(1-2))\n",
        "data.shape"
      ],
      "metadata": {
        "colab": {
          "base_uri": "https://localhost:8080/",
          "height": 887
        },
        "id": "Jd2xVAHvuWKu",
        "outputId": "4543fbd8-90bf-46dd-f2f1-4d6c4d3b0025"
      },
      "execution_count": 321,
      "outputs": [
        {
          "output_type": "display_data",
          "data": {
            "text/plain": [
              "      data_notificacao       sexo      raca etnia idade municipio_residencia  \\\n",
              "0           2020-05-30  Masculino    Branca   NaN    53               Recife   \n",
              "1           2020-06-02   Feminino     Parda   NaN     0               Recife   \n",
              "2           2020-06-02   Feminino     Parda   NaN    86               Recife   \n",
              "3           2020-06-01  Masculino    Branca   NaN    66               Recife   \n",
              "4           2020-06-02  Masculino     Preta   NaN    68               Recife   \n",
              "...                ...        ...       ...   ...   ...                  ...   \n",
              "36429       2022-06-08  Masculino    Branca   NaN     1               Recife   \n",
              "36430       2022-06-08  Masculino  Ignorado   NaN    77               Recife   \n",
              "36431       2022-06-09  Masculino     Parda   NaN    74               Recife   \n",
              "36432       2022-06-10  Masculino     Parda   NaN    74               Recife   \n",
              "36433       2022-06-12   Feminino   Amarela   NaN    73               Recife   \n",
              "\n",
              "                     bairro distrito_sanitario data_inicio_sintomas  \\\n",
              "0                SAN MARTIN                  V           2020-05-25   \n",
              "1      ALTO SANTA TEREZINHA                 II           2020-05-30   \n",
              "2                ESPINHEIRO                III           2020-06-01   \n",
              "3                CASA FORTE                III           2020-05-25   \n",
              "4            ILHA DO RETIRO                 IV           2020-05-30   \n",
              "...                     ...                ...                  ...   \n",
              "36429             GUABIRABA                VII           2022-06-05   \n",
              "36430    BREJO DA GUABIRABA                VII           2022-06-06   \n",
              "36431       NOVA DESCOBERTA                VII           2022-06-06   \n",
              "36432              BEBERIBE                 II           2022-06-03   \n",
              "36433       ENGENHO DO MEIO                 IV           2022-06-11   \n",
              "\n",
              "                                                sintomas outros_sintomas  \\\n",
              "0      Febre, Tosse, Mialgia, Alteração/perda de olfa...             NaN   \n",
              "1              Febre, Tosse, Dispneia, Saturação O2 < 95             NaN   \n",
              "2                            Dispneia, Saturação O2 < 95             NaN   \n",
              "3                                                    NaN             NaN   \n",
              "4                     Tosse, Dispneia, Saturação O2 < 95             NaN   \n",
              "...                                                  ...             ...   \n",
              "36429                             Febre, Tosse, Dispneia             NaN   \n",
              "36430                                           Dispneia             NaN   \n",
              "36431  Tosse, Cansaço/fadiga, Desconforto respiratóri...             NaN   \n",
              "36432                             Febre, Tosse, Dispneia             NaN   \n",
              "36433  Dispneia, Desconforto respiratório / aperto to...             NaN   \n",
              "\n",
              "                           doencas_preexistentes  \\\n",
              "0                                            NaN   \n",
              "1                                            NaN   \n",
              "2                                            NaN   \n",
              "3                                            NaN   \n",
              "4                                            NaN   \n",
              "...                                          ...   \n",
              "36429                                        NaN   \n",
              "36430                                        NaN   \n",
              "36431                                        NaN   \n",
              "36432                                   Diabetes   \n",
              "36433  Doenças Cardíacas ou Vasculares, Diabetes   \n",
              "\n",
              "      outras_doencas_preexistentes  profissional_saude categoria_profissional  \\\n",
              "0                               NaN                NaN                    NaN   \n",
              "1                               NaN                NaN                    NaN   \n",
              "2                               NaN                NaN                    NaN   \n",
              "3                               NaN                NaN                    NaN   \n",
              "4                               NaN                NaN                    NaN   \n",
              "...                             ...                ...                    ...   \n",
              "36429                           NaN                NÃO                    NaN   \n",
              "36430                           HAS                NÃO                    NaN   \n",
              "36431                           NaN                NÃO                    NaN   \n",
              "36432                           NaN                NÃO                    NaN   \n",
              "36433                           AVC                NÃO                    NaN   \n",
              "\n",
              "      classificacao_final                       evolucao data_obito  \n",
              "0              DESCARTADO          ISOLAMENTO DOMICILIAR        NaN  \n",
              "1            INCONCLUSIVO          ISOLAMENTO DOMICILIAR        NaN  \n",
              "2              DESCARTADO  INTERNADO LEITO DE ISOLAMENTO        NaN  \n",
              "3              CONFIRMADO                     RECUPERADO        NaN  \n",
              "4              DESCARTADO  INTERNADO LEITO DE ISOLAMENTO        NaN  \n",
              "...                   ...                            ...        ...  \n",
              "36429          EM ANÁLISE  INTERNADO LEITO DE ISOLAMENTO        NaN  \n",
              "36430          EM ANÁLISE                  INTERNADO UTI        NaN  \n",
              "36431          EM ANÁLISE  INTERNADO LEITO DE ISOLAMENTO        NaN  \n",
              "36432          EM ANÁLISE  INTERNADO LEITO DE ISOLAMENTO        NaN  \n",
              "36433          EM ANÁLISE                  INTERNADO UTI        NaN  \n",
              "\n",
              "[36434 rows x 18 columns]"
            ],
            "text/html": [
              "\n",
              "  <div id=\"df-12fa77bc-ad51-4869-b775-fbf79e203cfb\">\n",
              "    <div class=\"colab-df-container\">\n",
              "      <div>\n",
              "<style scoped>\n",
              "    .dataframe tbody tr th:only-of-type {\n",
              "        vertical-align: middle;\n",
              "    }\n",
              "\n",
              "    .dataframe tbody tr th {\n",
              "        vertical-align: top;\n",
              "    }\n",
              "\n",
              "    .dataframe thead th {\n",
              "        text-align: right;\n",
              "    }\n",
              "</style>\n",
              "<table border=\"1\" class=\"dataframe\">\n",
              "  <thead>\n",
              "    <tr style=\"text-align: right;\">\n",
              "      <th></th>\n",
              "      <th>data_notificacao</th>\n",
              "      <th>sexo</th>\n",
              "      <th>raca</th>\n",
              "      <th>etnia</th>\n",
              "      <th>idade</th>\n",
              "      <th>municipio_residencia</th>\n",
              "      <th>bairro</th>\n",
              "      <th>distrito_sanitario</th>\n",
              "      <th>data_inicio_sintomas</th>\n",
              "      <th>sintomas</th>\n",
              "      <th>outros_sintomas</th>\n",
              "      <th>doencas_preexistentes</th>\n",
              "      <th>outras_doencas_preexistentes</th>\n",
              "      <th>profissional_saude</th>\n",
              "      <th>categoria_profissional</th>\n",
              "      <th>classificacao_final</th>\n",
              "      <th>evolucao</th>\n",
              "      <th>data_obito</th>\n",
              "    </tr>\n",
              "  </thead>\n",
              "  <tbody>\n",
              "    <tr>\n",
              "      <th>0</th>\n",
              "      <td>2020-05-30</td>\n",
              "      <td>Masculino</td>\n",
              "      <td>Branca</td>\n",
              "      <td>NaN</td>\n",
              "      <td>53</td>\n",
              "      <td>Recife</td>\n",
              "      <td>SAN MARTIN</td>\n",
              "      <td>V</td>\n",
              "      <td>2020-05-25</td>\n",
              "      <td>Febre, Tosse, Mialgia, Alteração/perda de olfa...</td>\n",
              "      <td>NaN</td>\n",
              "      <td>NaN</td>\n",
              "      <td>NaN</td>\n",
              "      <td>NaN</td>\n",
              "      <td>NaN</td>\n",
              "      <td>DESCARTADO</td>\n",
              "      <td>ISOLAMENTO DOMICILIAR</td>\n",
              "      <td>NaN</td>\n",
              "    </tr>\n",
              "    <tr>\n",
              "      <th>1</th>\n",
              "      <td>2020-06-02</td>\n",
              "      <td>Feminino</td>\n",
              "      <td>Parda</td>\n",
              "      <td>NaN</td>\n",
              "      <td>0</td>\n",
              "      <td>Recife</td>\n",
              "      <td>ALTO SANTA TEREZINHA</td>\n",
              "      <td>II</td>\n",
              "      <td>2020-05-30</td>\n",
              "      <td>Febre, Tosse, Dispneia, Saturação O2 &lt; 95</td>\n",
              "      <td>NaN</td>\n",
              "      <td>NaN</td>\n",
              "      <td>NaN</td>\n",
              "      <td>NaN</td>\n",
              "      <td>NaN</td>\n",
              "      <td>INCONCLUSIVO</td>\n",
              "      <td>ISOLAMENTO DOMICILIAR</td>\n",
              "      <td>NaN</td>\n",
              "    </tr>\n",
              "    <tr>\n",
              "      <th>2</th>\n",
              "      <td>2020-06-02</td>\n",
              "      <td>Feminino</td>\n",
              "      <td>Parda</td>\n",
              "      <td>NaN</td>\n",
              "      <td>86</td>\n",
              "      <td>Recife</td>\n",
              "      <td>ESPINHEIRO</td>\n",
              "      <td>III</td>\n",
              "      <td>2020-06-01</td>\n",
              "      <td>Dispneia, Saturação O2 &lt; 95</td>\n",
              "      <td>NaN</td>\n",
              "      <td>NaN</td>\n",
              "      <td>NaN</td>\n",
              "      <td>NaN</td>\n",
              "      <td>NaN</td>\n",
              "      <td>DESCARTADO</td>\n",
              "      <td>INTERNADO LEITO DE ISOLAMENTO</td>\n",
              "      <td>NaN</td>\n",
              "    </tr>\n",
              "    <tr>\n",
              "      <th>3</th>\n",
              "      <td>2020-06-01</td>\n",
              "      <td>Masculino</td>\n",
              "      <td>Branca</td>\n",
              "      <td>NaN</td>\n",
              "      <td>66</td>\n",
              "      <td>Recife</td>\n",
              "      <td>CASA FORTE</td>\n",
              "      <td>III</td>\n",
              "      <td>2020-05-25</td>\n",
              "      <td>NaN</td>\n",
              "      <td>NaN</td>\n",
              "      <td>NaN</td>\n",
              "      <td>NaN</td>\n",
              "      <td>NaN</td>\n",
              "      <td>NaN</td>\n",
              "      <td>CONFIRMADO</td>\n",
              "      <td>RECUPERADO</td>\n",
              "      <td>NaN</td>\n",
              "    </tr>\n",
              "    <tr>\n",
              "      <th>4</th>\n",
              "      <td>2020-06-02</td>\n",
              "      <td>Masculino</td>\n",
              "      <td>Preta</td>\n",
              "      <td>NaN</td>\n",
              "      <td>68</td>\n",
              "      <td>Recife</td>\n",
              "      <td>ILHA DO RETIRO</td>\n",
              "      <td>IV</td>\n",
              "      <td>2020-05-30</td>\n",
              "      <td>Tosse, Dispneia, Saturação O2 &lt; 95</td>\n",
              "      <td>NaN</td>\n",
              "      <td>NaN</td>\n",
              "      <td>NaN</td>\n",
              "      <td>NaN</td>\n",
              "      <td>NaN</td>\n",
              "      <td>DESCARTADO</td>\n",
              "      <td>INTERNADO LEITO DE ISOLAMENTO</td>\n",
              "      <td>NaN</td>\n",
              "    </tr>\n",
              "    <tr>\n",
              "      <th>...</th>\n",
              "      <td>...</td>\n",
              "      <td>...</td>\n",
              "      <td>...</td>\n",
              "      <td>...</td>\n",
              "      <td>...</td>\n",
              "      <td>...</td>\n",
              "      <td>...</td>\n",
              "      <td>...</td>\n",
              "      <td>...</td>\n",
              "      <td>...</td>\n",
              "      <td>...</td>\n",
              "      <td>...</td>\n",
              "      <td>...</td>\n",
              "      <td>...</td>\n",
              "      <td>...</td>\n",
              "      <td>...</td>\n",
              "      <td>...</td>\n",
              "      <td>...</td>\n",
              "    </tr>\n",
              "    <tr>\n",
              "      <th>36429</th>\n",
              "      <td>2022-06-08</td>\n",
              "      <td>Masculino</td>\n",
              "      <td>Branca</td>\n",
              "      <td>NaN</td>\n",
              "      <td>1</td>\n",
              "      <td>Recife</td>\n",
              "      <td>GUABIRABA</td>\n",
              "      <td>VII</td>\n",
              "      <td>2022-06-05</td>\n",
              "      <td>Febre, Tosse, Dispneia</td>\n",
              "      <td>NaN</td>\n",
              "      <td>NaN</td>\n",
              "      <td>NaN</td>\n",
              "      <td>NÃO</td>\n",
              "      <td>NaN</td>\n",
              "      <td>EM ANÁLISE</td>\n",
              "      <td>INTERNADO LEITO DE ISOLAMENTO</td>\n",
              "      <td>NaN</td>\n",
              "    </tr>\n",
              "    <tr>\n",
              "      <th>36430</th>\n",
              "      <td>2022-06-08</td>\n",
              "      <td>Masculino</td>\n",
              "      <td>Ignorado</td>\n",
              "      <td>NaN</td>\n",
              "      <td>77</td>\n",
              "      <td>Recife</td>\n",
              "      <td>BREJO DA GUABIRABA</td>\n",
              "      <td>VII</td>\n",
              "      <td>2022-06-06</td>\n",
              "      <td>Dispneia</td>\n",
              "      <td>NaN</td>\n",
              "      <td>NaN</td>\n",
              "      <td>HAS</td>\n",
              "      <td>NÃO</td>\n",
              "      <td>NaN</td>\n",
              "      <td>EM ANÁLISE</td>\n",
              "      <td>INTERNADO UTI</td>\n",
              "      <td>NaN</td>\n",
              "    </tr>\n",
              "    <tr>\n",
              "      <th>36431</th>\n",
              "      <td>2022-06-09</td>\n",
              "      <td>Masculino</td>\n",
              "      <td>Parda</td>\n",
              "      <td>NaN</td>\n",
              "      <td>74</td>\n",
              "      <td>Recife</td>\n",
              "      <td>NOVA DESCOBERTA</td>\n",
              "      <td>VII</td>\n",
              "      <td>2022-06-06</td>\n",
              "      <td>Tosse, Cansaço/fadiga, Desconforto respiratóri...</td>\n",
              "      <td>NaN</td>\n",
              "      <td>NaN</td>\n",
              "      <td>NaN</td>\n",
              "      <td>NÃO</td>\n",
              "      <td>NaN</td>\n",
              "      <td>EM ANÁLISE</td>\n",
              "      <td>INTERNADO LEITO DE ISOLAMENTO</td>\n",
              "      <td>NaN</td>\n",
              "    </tr>\n",
              "    <tr>\n",
              "      <th>36432</th>\n",
              "      <td>2022-06-10</td>\n",
              "      <td>Masculino</td>\n",
              "      <td>Parda</td>\n",
              "      <td>NaN</td>\n",
              "      <td>74</td>\n",
              "      <td>Recife</td>\n",
              "      <td>BEBERIBE</td>\n",
              "      <td>II</td>\n",
              "      <td>2022-06-03</td>\n",
              "      <td>Febre, Tosse, Dispneia</td>\n",
              "      <td>NaN</td>\n",
              "      <td>Diabetes</td>\n",
              "      <td>NaN</td>\n",
              "      <td>NÃO</td>\n",
              "      <td>NaN</td>\n",
              "      <td>EM ANÁLISE</td>\n",
              "      <td>INTERNADO LEITO DE ISOLAMENTO</td>\n",
              "      <td>NaN</td>\n",
              "    </tr>\n",
              "    <tr>\n",
              "      <th>36433</th>\n",
              "      <td>2022-06-12</td>\n",
              "      <td>Feminino</td>\n",
              "      <td>Amarela</td>\n",
              "      <td>NaN</td>\n",
              "      <td>73</td>\n",
              "      <td>Recife</td>\n",
              "      <td>ENGENHO DO MEIO</td>\n",
              "      <td>IV</td>\n",
              "      <td>2022-06-11</td>\n",
              "      <td>Dispneia, Desconforto respiratório / aperto to...</td>\n",
              "      <td>NaN</td>\n",
              "      <td>Doenças Cardíacas ou Vasculares, Diabetes</td>\n",
              "      <td>AVC</td>\n",
              "      <td>NÃO</td>\n",
              "      <td>NaN</td>\n",
              "      <td>EM ANÁLISE</td>\n",
              "      <td>INTERNADO UTI</td>\n",
              "      <td>NaN</td>\n",
              "    </tr>\n",
              "  </tbody>\n",
              "</table>\n",
              "<p>36434 rows × 18 columns</p>\n",
              "</div>\n",
              "      <button class=\"colab-df-convert\" onclick=\"convertToInteractive('df-12fa77bc-ad51-4869-b775-fbf79e203cfb')\"\n",
              "              title=\"Convert this dataframe to an interactive table.\"\n",
              "              style=\"display:none;\">\n",
              "        \n",
              "  <svg xmlns=\"http://www.w3.org/2000/svg\" height=\"24px\"viewBox=\"0 0 24 24\"\n",
              "       width=\"24px\">\n",
              "    <path d=\"M0 0h24v24H0V0z\" fill=\"none\"/>\n",
              "    <path d=\"M18.56 5.44l.94 2.06.94-2.06 2.06-.94-2.06-.94-.94-2.06-.94 2.06-2.06.94zm-11 1L8.5 8.5l.94-2.06 2.06-.94-2.06-.94L8.5 2.5l-.94 2.06-2.06.94zm10 10l.94 2.06.94-2.06 2.06-.94-2.06-.94-.94-2.06-.94 2.06-2.06.94z\"/><path d=\"M17.41 7.96l-1.37-1.37c-.4-.4-.92-.59-1.43-.59-.52 0-1.04.2-1.43.59L10.3 9.45l-7.72 7.72c-.78.78-.78 2.05 0 2.83L4 21.41c.39.39.9.59 1.41.59.51 0 1.02-.2 1.41-.59l7.78-7.78 2.81-2.81c.8-.78.8-2.07 0-2.86zM5.41 20L4 18.59l7.72-7.72 1.47 1.35L5.41 20z\"/>\n",
              "  </svg>\n",
              "      </button>\n",
              "      \n",
              "  <style>\n",
              "    .colab-df-container {\n",
              "      display:flex;\n",
              "      flex-wrap:wrap;\n",
              "      gap: 12px;\n",
              "    }\n",
              "\n",
              "    .colab-df-convert {\n",
              "      background-color: #E8F0FE;\n",
              "      border: none;\n",
              "      border-radius: 50%;\n",
              "      cursor: pointer;\n",
              "      display: none;\n",
              "      fill: #1967D2;\n",
              "      height: 32px;\n",
              "      padding: 0 0 0 0;\n",
              "      width: 32px;\n",
              "    }\n",
              "\n",
              "    .colab-df-convert:hover {\n",
              "      background-color: #E2EBFA;\n",
              "      box-shadow: 0px 1px 2px rgba(60, 64, 67, 0.3), 0px 1px 3px 1px rgba(60, 64, 67, 0.15);\n",
              "      fill: #174EA6;\n",
              "    }\n",
              "\n",
              "    [theme=dark] .colab-df-convert {\n",
              "      background-color: #3B4455;\n",
              "      fill: #D2E3FC;\n",
              "    }\n",
              "\n",
              "    [theme=dark] .colab-df-convert:hover {\n",
              "      background-color: #434B5C;\n",
              "      box-shadow: 0px 1px 3px 1px rgba(0, 0, 0, 0.15);\n",
              "      filter: drop-shadow(0px 1px 2px rgba(0, 0, 0, 0.3));\n",
              "      fill: #FFFFFF;\n",
              "    }\n",
              "  </style>\n",
              "\n",
              "      <script>\n",
              "        const buttonEl =\n",
              "          document.querySelector('#df-12fa77bc-ad51-4869-b775-fbf79e203cfb button.colab-df-convert');\n",
              "        buttonEl.style.display =\n",
              "          google.colab.kernel.accessAllowed ? 'block' : 'none';\n",
              "\n",
              "        async function convertToInteractive(key) {\n",
              "          const element = document.querySelector('#df-12fa77bc-ad51-4869-b775-fbf79e203cfb');\n",
              "          const dataTable =\n",
              "            await google.colab.kernel.invokeFunction('convertToInteractive',\n",
              "                                                     [key], {});\n",
              "          if (!dataTable) return;\n",
              "\n",
              "          const docLinkHtml = 'Like what you see? Visit the ' +\n",
              "            '<a target=\"_blank\" href=https://colab.research.google.com/notebooks/data_table.ipynb>data table notebook</a>'\n",
              "            + ' to learn more about interactive tables.';\n",
              "          element.innerHTML = '';\n",
              "          dataTable['output_type'] = 'display_data';\n",
              "          await google.colab.output.renderOutput(dataTable, element);\n",
              "          const docLink = document.createElement('div');\n",
              "          docLink.innerHTML = docLinkHtml;\n",
              "          element.appendChild(docLink);\n",
              "        }\n",
              "      </script>\n",
              "    </div>\n",
              "  </div>\n",
              "  "
            ]
          },
          "metadata": {}
        },
        {
          "output_type": "execute_result",
          "data": {
            "text/plain": [
              "(36435, 18)"
            ]
          },
          "metadata": {},
          "execution_count": 321
        }
      ]
    },
    {
      "cell_type": "code",
      "source": [
        "data.info()"
      ],
      "metadata": {
        "colab": {
          "base_uri": "https://localhost:8080/"
        },
        "id": "hk8i0uCDvLzm",
        "outputId": "caa72278-3d30-4a00-be36-de1737e7979f"
      },
      "execution_count": 322,
      "outputs": [
        {
          "output_type": "stream",
          "name": "stdout",
          "text": [
            "<class 'pandas.core.frame.DataFrame'>\n",
            "RangeIndex: 36435 entries, 0 to 36434\n",
            "Data columns (total 18 columns):\n",
            " #   Column                         Non-Null Count  Dtype \n",
            "---  ------                         --------------  ----- \n",
            " 0   data_notificacao               36435 non-null  object\n",
            " 1   sexo                           36435 non-null  object\n",
            " 2   raca                           30106 non-null  object\n",
            " 3   etnia                          4 non-null      object\n",
            " 4   idade                          36435 non-null  object\n",
            " 5   municipio_residencia           36435 non-null  object\n",
            " 6   bairro                         36435 non-null  object\n",
            " 7   distrito_sanitario             36435 non-null  object\n",
            " 8   data_inicio_sintomas           36435 non-null  object\n",
            " 9   sintomas                       34477 non-null  object\n",
            " 10  outros_sintomas                5974 non-null   object\n",
            " 11  doencas_preexistentes          13698 non-null  object\n",
            " 12  outras_doencas_preexistentes   7807 non-null   object\n",
            " 13  profissional_saude             27338 non-null  object\n",
            " 14  categoria_profissional         2914 non-null   object\n",
            " 15  classificacao_final            36435 non-null  object\n",
            " 16  evolucao                       35458 non-null  object\n",
            " 17  data_obito                     9344 non-null   object\n",
            "dtypes: object(18)\n",
            "memory usage: 5.0+ MB\n"
          ]
        }
      ]
    },
    {
      "cell_type": "markdown",
      "source": [
        "Colunas com poucos registros:\n",
        "- etinia (apagar)\n",
        "- outros_sintomas (apagar)\n",
        "- doencas_preexistentes (analisar)\n",
        "- outras_doencas_preexistentes (apagar)\n",
        "- categoria_profissional (apagar)\n",
        "- data_obito (apagar)"
      ],
      "metadata": {
        "id": "V0Cg_v77vRHZ"
      }
    },
    {
      "cell_type": "markdown",
      "source": [
        "##Descartando colunas"
      ],
      "metadata": {
        "id": "Eho0kufatxjl"
      }
    },
    {
      "cell_type": "code",
      "source": [
        "data_copy = data.copy()"
      ],
      "metadata": {
        "id": "eKEpcAVMwmZs"
      },
      "execution_count": 323,
      "outputs": []
    },
    {
      "cell_type": "markdown",
      "source": [
        "- Apagarei as colunas com poucos registros e que nesse caso não tem tanta relevancia."
      ],
      "metadata": {
        "id": "Vl4bjdBS41oE"
      }
    },
    {
      "cell_type": "code",
      "source": [
        "data.drop(columns = ['etnia','outros_sintomas',\\\n",
        "                     'categoria_profissional','data_obito'], inplace=True)\n",
        "\n",
        "# Mesmo copiando e colando o nome da coluna \"outras_doencas_preexistentes\"\n",
        "# dava erro dizendo que a coluna não existia, então apaguei usando o indice\n",
        "data.drop(columns = data.columns[10], inplace=True)"
      ],
      "metadata": {
        "id": "Aw6ey7md1fqy"
      },
      "execution_count": 324,
      "outputs": []
    },
    {
      "cell_type": "markdown",
      "source": [
        "- A coluna \"doencas_preexistentes\" tem metade dos valores ausentes, então será feita uma analise mais profunda para ver se deve ou não ser descartada também."
      ],
      "metadata": {
        "id": "zmoMup8P5BdV"
      }
    },
    {
      "cell_type": "code",
      "source": [
        "# Analisando \"doencas_preexistentes\"\n",
        "print('* CONTAGEM DE VALORES *'.center(100,'='))\n",
        "display(data.value_counts('doencas_preexistentes'))\n",
        "print('* QUANTIDADE VALORES NULOS *'.center(100,'='))\n",
        "display(data['doencas_preexistentes'].isnull().sum())"
      ],
      "metadata": {
        "colab": {
          "base_uri": "https://localhost:8080/",
          "height": 295
        },
        "id": "MSH-54hc1fHy",
        "outputId": "619cbf4a-bd38-43c0-d35d-a6c8368fd1ee"
      },
      "execution_count": 325,
      "outputs": [
        {
          "output_type": "stream",
          "name": "stdout",
          "text": [
            "======================================* CONTAGEM DE VALORES *=======================================\n"
          ]
        },
        {
          "output_type": "display_data",
          "data": {
            "text/plain": [
              "doencas_preexistentes\n",
              "Doenças Cardíacas ou Vasculares                                                 3827\n",
              "Doenças Cardíacas ou Vasculares, Diabetes                                       2633\n",
              "Diabetes                                                                        1610\n",
              "Doenças Respiratórias Crônicas                                                   937\n",
              "Sobrepeso/Obesidade                                                              545\n",
              "                                                                                ... \n",
              "Doenças Hematológicas, Neoplasias                                                  1\n",
              "Doenças Hematológicas, Imunossupressão, Neoplasias                                 1\n",
              "Doenças Hematológicas, Imunossupressão, Asma                                       1\n",
              "Doenças Cardíacas ou Vasculares, Doenças Neurológicas, Doenças Hematológicas       1\n",
              "Sobrepeso/Obesidade, Neoplasias                                                    1\n",
              "Length: 244, dtype: int64"
            ]
          },
          "metadata": {}
        },
        {
          "output_type": "stream",
          "name": "stdout",
          "text": [
            "====================================* QUANTIDADE VALORES NULOS *====================================\n"
          ]
        },
        {
          "output_type": "display_data",
          "data": {
            "text/plain": [
              "22737"
            ]
          },
          "metadata": {}
        }
      ]
    },
    {
      "cell_type": "markdown",
      "source": [
        "- Apesar de existir muitas opções que podem preencher os dados vazios, isso não seria viável pelo fato de que mais da metade dos valores da coluna são valores nulos. Preencher todos eles poderia criar uma realidade nos dados que não representa a situação real, então a coluna será descartada."
      ],
      "metadata": {
        "id": "sMYwNfza7Q_c"
      }
    },
    {
      "cell_type": "code",
      "source": [
        "data.drop(columns = ['doencas_preexistentes'], inplace=True)"
      ],
      "metadata": {
        "id": "3nvxWnS31ejW"
      },
      "execution_count": 326,
      "outputs": []
    },
    {
      "cell_type": "code",
      "source": [
        "display(data.head(3))\n",
        "display(data.shape)\n",
        "data.info()"
      ],
      "metadata": {
        "colab": {
          "base_uri": "https://localhost:8080/",
          "height": 694
        },
        "id": "bQBPgN8B9twG",
        "outputId": "18b0a9c0-7fff-400a-afbb-0526f83ecd7e"
      },
      "execution_count": 327,
      "outputs": [
        {
          "output_type": "display_data",
          "data": {
            "text/plain": [
              "  data_notificacao       sexo    raca idade municipio_residencia  \\\n",
              "0       2020-05-30  Masculino  Branca    53               Recife   \n",
              "1       2020-06-02   Feminino   Parda     0               Recife   \n",
              "2       2020-06-02   Feminino   Parda    86               Recife   \n",
              "\n",
              "                 bairro distrito_sanitario data_inicio_sintomas  \\\n",
              "0            SAN MARTIN                  V           2020-05-25   \n",
              "1  ALTO SANTA TEREZINHA                 II           2020-05-30   \n",
              "2            ESPINHEIRO                III           2020-06-01   \n",
              "\n",
              "                                            sintomas profissional_saude  \\\n",
              "0  Febre, Tosse, Mialgia, Alteração/perda de olfa...                NaN   \n",
              "1          Febre, Tosse, Dispneia, Saturação O2 < 95                NaN   \n",
              "2                        Dispneia, Saturação O2 < 95                NaN   \n",
              "\n",
              "  classificacao_final                       evolucao  \n",
              "0          DESCARTADO          ISOLAMENTO DOMICILIAR  \n",
              "1        INCONCLUSIVO          ISOLAMENTO DOMICILIAR  \n",
              "2          DESCARTADO  INTERNADO LEITO DE ISOLAMENTO  "
            ],
            "text/html": [
              "\n",
              "  <div id=\"df-8fd207c0-80ce-43fb-bf01-820e6df5c192\">\n",
              "    <div class=\"colab-df-container\">\n",
              "      <div>\n",
              "<style scoped>\n",
              "    .dataframe tbody tr th:only-of-type {\n",
              "        vertical-align: middle;\n",
              "    }\n",
              "\n",
              "    .dataframe tbody tr th {\n",
              "        vertical-align: top;\n",
              "    }\n",
              "\n",
              "    .dataframe thead th {\n",
              "        text-align: right;\n",
              "    }\n",
              "</style>\n",
              "<table border=\"1\" class=\"dataframe\">\n",
              "  <thead>\n",
              "    <tr style=\"text-align: right;\">\n",
              "      <th></th>\n",
              "      <th>data_notificacao</th>\n",
              "      <th>sexo</th>\n",
              "      <th>raca</th>\n",
              "      <th>idade</th>\n",
              "      <th>municipio_residencia</th>\n",
              "      <th>bairro</th>\n",
              "      <th>distrito_sanitario</th>\n",
              "      <th>data_inicio_sintomas</th>\n",
              "      <th>sintomas</th>\n",
              "      <th>profissional_saude</th>\n",
              "      <th>classificacao_final</th>\n",
              "      <th>evolucao</th>\n",
              "    </tr>\n",
              "  </thead>\n",
              "  <tbody>\n",
              "    <tr>\n",
              "      <th>0</th>\n",
              "      <td>2020-05-30</td>\n",
              "      <td>Masculino</td>\n",
              "      <td>Branca</td>\n",
              "      <td>53</td>\n",
              "      <td>Recife</td>\n",
              "      <td>SAN MARTIN</td>\n",
              "      <td>V</td>\n",
              "      <td>2020-05-25</td>\n",
              "      <td>Febre, Tosse, Mialgia, Alteração/perda de olfa...</td>\n",
              "      <td>NaN</td>\n",
              "      <td>DESCARTADO</td>\n",
              "      <td>ISOLAMENTO DOMICILIAR</td>\n",
              "    </tr>\n",
              "    <tr>\n",
              "      <th>1</th>\n",
              "      <td>2020-06-02</td>\n",
              "      <td>Feminino</td>\n",
              "      <td>Parda</td>\n",
              "      <td>0</td>\n",
              "      <td>Recife</td>\n",
              "      <td>ALTO SANTA TEREZINHA</td>\n",
              "      <td>II</td>\n",
              "      <td>2020-05-30</td>\n",
              "      <td>Febre, Tosse, Dispneia, Saturação O2 &lt; 95</td>\n",
              "      <td>NaN</td>\n",
              "      <td>INCONCLUSIVO</td>\n",
              "      <td>ISOLAMENTO DOMICILIAR</td>\n",
              "    </tr>\n",
              "    <tr>\n",
              "      <th>2</th>\n",
              "      <td>2020-06-02</td>\n",
              "      <td>Feminino</td>\n",
              "      <td>Parda</td>\n",
              "      <td>86</td>\n",
              "      <td>Recife</td>\n",
              "      <td>ESPINHEIRO</td>\n",
              "      <td>III</td>\n",
              "      <td>2020-06-01</td>\n",
              "      <td>Dispneia, Saturação O2 &lt; 95</td>\n",
              "      <td>NaN</td>\n",
              "      <td>DESCARTADO</td>\n",
              "      <td>INTERNADO LEITO DE ISOLAMENTO</td>\n",
              "    </tr>\n",
              "  </tbody>\n",
              "</table>\n",
              "</div>\n",
              "      <button class=\"colab-df-convert\" onclick=\"convertToInteractive('df-8fd207c0-80ce-43fb-bf01-820e6df5c192')\"\n",
              "              title=\"Convert this dataframe to an interactive table.\"\n",
              "              style=\"display:none;\">\n",
              "        \n",
              "  <svg xmlns=\"http://www.w3.org/2000/svg\" height=\"24px\"viewBox=\"0 0 24 24\"\n",
              "       width=\"24px\">\n",
              "    <path d=\"M0 0h24v24H0V0z\" fill=\"none\"/>\n",
              "    <path d=\"M18.56 5.44l.94 2.06.94-2.06 2.06-.94-2.06-.94-.94-2.06-.94 2.06-2.06.94zm-11 1L8.5 8.5l.94-2.06 2.06-.94-2.06-.94L8.5 2.5l-.94 2.06-2.06.94zm10 10l.94 2.06.94-2.06 2.06-.94-2.06-.94-.94-2.06-.94 2.06-2.06.94z\"/><path d=\"M17.41 7.96l-1.37-1.37c-.4-.4-.92-.59-1.43-.59-.52 0-1.04.2-1.43.59L10.3 9.45l-7.72 7.72c-.78.78-.78 2.05 0 2.83L4 21.41c.39.39.9.59 1.41.59.51 0 1.02-.2 1.41-.59l7.78-7.78 2.81-2.81c.8-.78.8-2.07 0-2.86zM5.41 20L4 18.59l7.72-7.72 1.47 1.35L5.41 20z\"/>\n",
              "  </svg>\n",
              "      </button>\n",
              "      \n",
              "  <style>\n",
              "    .colab-df-container {\n",
              "      display:flex;\n",
              "      flex-wrap:wrap;\n",
              "      gap: 12px;\n",
              "    }\n",
              "\n",
              "    .colab-df-convert {\n",
              "      background-color: #E8F0FE;\n",
              "      border: none;\n",
              "      border-radius: 50%;\n",
              "      cursor: pointer;\n",
              "      display: none;\n",
              "      fill: #1967D2;\n",
              "      height: 32px;\n",
              "      padding: 0 0 0 0;\n",
              "      width: 32px;\n",
              "    }\n",
              "\n",
              "    .colab-df-convert:hover {\n",
              "      background-color: #E2EBFA;\n",
              "      box-shadow: 0px 1px 2px rgba(60, 64, 67, 0.3), 0px 1px 3px 1px rgba(60, 64, 67, 0.15);\n",
              "      fill: #174EA6;\n",
              "    }\n",
              "\n",
              "    [theme=dark] .colab-df-convert {\n",
              "      background-color: #3B4455;\n",
              "      fill: #D2E3FC;\n",
              "    }\n",
              "\n",
              "    [theme=dark] .colab-df-convert:hover {\n",
              "      background-color: #434B5C;\n",
              "      box-shadow: 0px 1px 3px 1px rgba(0, 0, 0, 0.15);\n",
              "      filter: drop-shadow(0px 1px 2px rgba(0, 0, 0, 0.3));\n",
              "      fill: #FFFFFF;\n",
              "    }\n",
              "  </style>\n",
              "\n",
              "      <script>\n",
              "        const buttonEl =\n",
              "          document.querySelector('#df-8fd207c0-80ce-43fb-bf01-820e6df5c192 button.colab-df-convert');\n",
              "        buttonEl.style.display =\n",
              "          google.colab.kernel.accessAllowed ? 'block' : 'none';\n",
              "\n",
              "        async function convertToInteractive(key) {\n",
              "          const element = document.querySelector('#df-8fd207c0-80ce-43fb-bf01-820e6df5c192');\n",
              "          const dataTable =\n",
              "            await google.colab.kernel.invokeFunction('convertToInteractive',\n",
              "                                                     [key], {});\n",
              "          if (!dataTable) return;\n",
              "\n",
              "          const docLinkHtml = 'Like what you see? Visit the ' +\n",
              "            '<a target=\"_blank\" href=https://colab.research.google.com/notebooks/data_table.ipynb>data table notebook</a>'\n",
              "            + ' to learn more about interactive tables.';\n",
              "          element.innerHTML = '';\n",
              "          dataTable['output_type'] = 'display_data';\n",
              "          await google.colab.output.renderOutput(dataTable, element);\n",
              "          const docLink = document.createElement('div');\n",
              "          docLink.innerHTML = docLinkHtml;\n",
              "          element.appendChild(docLink);\n",
              "        }\n",
              "      </script>\n",
              "    </div>\n",
              "  </div>\n",
              "  "
            ]
          },
          "metadata": {}
        },
        {
          "output_type": "display_data",
          "data": {
            "text/plain": [
              "(36435, 12)"
            ]
          },
          "metadata": {}
        },
        {
          "output_type": "stream",
          "name": "stdout",
          "text": [
            "<class 'pandas.core.frame.DataFrame'>\n",
            "RangeIndex: 36435 entries, 0 to 36434\n",
            "Data columns (total 12 columns):\n",
            " #   Column                Non-Null Count  Dtype \n",
            "---  ------                --------------  ----- \n",
            " 0   data_notificacao      36435 non-null  object\n",
            " 1   sexo                  36435 non-null  object\n",
            " 2   raca                  30106 non-null  object\n",
            " 3   idade                 36435 non-null  object\n",
            " 4   municipio_residencia  36435 non-null  object\n",
            " 5   bairro                36435 non-null  object\n",
            " 6   distrito_sanitario    36435 non-null  object\n",
            " 7   data_inicio_sintomas  36435 non-null  object\n",
            " 8   sintomas              34477 non-null  object\n",
            " 9   profissional_saude    27338 non-null  object\n",
            " 10  classificacao_final   36435 non-null  object\n",
            " 11  evolucao              35458 non-null  object\n",
            "dtypes: object(12)\n",
            "memory usage: 3.3+ MB\n"
          ]
        }
      ]
    },
    {
      "cell_type": "markdown",
      "source": [
        "Organizadim :)"
      ],
      "metadata": {
        "id": "ERS72bbK-Rf9"
      }
    },
    {
      "cell_type": "markdown",
      "source": [
        "##Tratando valores ausentes nas colunas: "
      ],
      "metadata": {
        "id": "Cz50LK6ptxFN"
      }
    },
    {
      "cell_type": "markdown",
      "source": [
        "- sintomas, profissional_saude e evolucao tem uma baixa quantidade de valores ausentes que podem se tratado."
      ],
      "metadata": {
        "id": "T0qYGSfN-XAp"
      }
    },
    {
      "cell_type": "code",
      "source": [
        "def resumo_column(coluna):\n",
        "  print('* VALORES NULOS *'.center(100,'='))\n",
        "  display(data[coluna].isnull().sum())\n",
        "\n",
        "  print('* QUANTIDADE VALORES *'.center(100,'='))\n",
        "  display(data.value_counts(coluna))\n",
        "  print('total:      ', data.value_counts(coluna).sum())\n",
        "\n",
        "  print('* VALOR COMUM *'.center(100,'='))\n",
        "  display(data[coluna].describe().top)"
      ],
      "metadata": {
        "id": "0wab1ySocxOY"
      },
      "execution_count": 328,
      "outputs": []
    },
    {
      "cell_type": "markdown",
      "source": [
        "###sintomas"
      ],
      "metadata": {
        "id": "x4Rk5zsPALL3"
      }
    },
    {
      "cell_type": "code",
      "source": [
        "resumo_column('sintomas')"
      ],
      "metadata": {
        "colab": {
          "base_uri": "https://localhost:8080/",
          "height": 539
        },
        "id": "lyCIgs6t9s1O",
        "outputId": "efe523dd-b60f-49cb-f6ca-ecae8c050226"
      },
      "execution_count": 329,
      "outputs": [
        {
          "output_type": "stream",
          "name": "stdout",
          "text": [
            "=========================================* VALORES NULOS *==========================================\n"
          ]
        },
        {
          "output_type": "display_data",
          "data": {
            "text/plain": [
              "1958"
            ]
          },
          "metadata": {}
        },
        {
          "output_type": "stream",
          "name": "stdout",
          "text": [
            "=======================================* QUANTIDADE VALORES *=======================================\n"
          ]
        },
        {
          "output_type": "display_data",
          "data": {
            "text/plain": [
              "sintomas\n",
              "Febre, Tosse, Dispneia, Saturação O2 < 95                                                                                                  2535\n",
              "Febre, Tosse, Dispneia                                                                                                                     2306\n",
              "Febre, Tosse, Dispneia, Desconforto respiratório / aperto torácico, Saturação O2 < 95                                                      1604\n",
              "Febre, Tosse                                                                                                                                963\n",
              "Tosse, Dispneia, Saturação O2 < 95                                                                                                          864\n",
              "                                                                                                                                           ... \n",
              "Febre, Tosse, Dispneia, Desconforto respiratório / aperto torácico, Saturação O2 < 95, Alteração/perda de olfato e/ou paladar, Cefaleia       1\n",
              "Febre, Cansaço/fadiga, Diarreia, Saturação O2 < 95                                                                                            1\n",
              "Febre, Tosse, Dispneia, Desconforto respiratório / aperto torácico, Náusea, Vômito, Saturação O2 < 95, Edema mãos/pés                         1\n",
              "Febre, Cansaço/fadiga, Edema mãos/pés, Diarreia                                                                                               1\n",
              "Vômito, Saturação O2 < 95, Febre, Dispneia                                                                                                    1\n",
              "Length: 3440, dtype: int64"
            ]
          },
          "metadata": {}
        },
        {
          "output_type": "stream",
          "name": "stdout",
          "text": [
            "total:       34477\n",
            "==========================================* VALOR COMUM *===========================================\n"
          ]
        },
        {
          "output_type": "display_data",
          "data": {
            "text/plain": [
              "'Febre, Tosse, Dispneia, Saturação O2 < 95'"
            ],
            "application/vnd.google.colaboratory.intrinsic+json": {
              "type": "string"
            }
          },
          "metadata": {}
        }
      ]
    },
    {
      "cell_type": "markdown",
      "source": [
        "- Neste caso, irei apenas substituir os valores faltantes pelo valor mais comum."
      ],
      "metadata": {
        "id": "Nkfln97yDzd6"
      }
    },
    {
      "cell_type": "code",
      "source": [
        "data['sintomas'].fillna(data['sintomas'].describe().top, inplace=True)\n",
        "\n",
        "print('valores nulos')\n",
        "display(data['sintomas'].isnull().sum())"
      ],
      "metadata": {
        "colab": {
          "base_uri": "https://localhost:8080/",
          "height": 52
        },
        "id": "VMHspFLQQc6N",
        "outputId": "8e01b226-5827-4010-cc63-520c23403f6d"
      },
      "execution_count": 330,
      "outputs": [
        {
          "output_type": "stream",
          "name": "stdout",
          "text": [
            "valores nulos\n"
          ]
        },
        {
          "output_type": "display_data",
          "data": {
            "text/plain": [
              "0"
            ]
          },
          "metadata": {}
        }
      ]
    },
    {
      "cell_type": "markdown",
      "source": [
        "###profissional_saude"
      ],
      "metadata": {
        "id": "cl508sx9AXKA"
      }
    },
    {
      "cell_type": "code",
      "source": [
        "resumo_column('profissional_saude')"
      ],
      "metadata": {
        "id": "LvFkcc725VXb",
        "colab": {
          "base_uri": "https://localhost:8080/",
          "height": 192
        },
        "outputId": "e42ca4ba-2e4d-4d3c-98ab-f33cb90c9756"
      },
      "execution_count": 331,
      "outputs": [
        {
          "output_type": "stream",
          "name": "stdout",
          "text": [
            "=========================================* VALORES NULOS *==========================================\n"
          ]
        },
        {
          "output_type": "display_data",
          "data": {
            "text/plain": [
              "9097"
            ]
          },
          "metadata": {}
        },
        {
          "output_type": "stream",
          "name": "stdout",
          "text": [
            "=======================================* QUANTIDADE VALORES *=======================================\n"
          ]
        },
        {
          "output_type": "display_data",
          "data": {
            "text/plain": [
              "profissional_saude\n",
              "NÃO    24424\n",
              "SIM     2914\n",
              "dtype: int64"
            ]
          },
          "metadata": {}
        },
        {
          "output_type": "stream",
          "name": "stdout",
          "text": [
            "total:       27338\n",
            "==========================================* VALOR COMUM *===========================================\n"
          ]
        },
        {
          "output_type": "display_data",
          "data": {
            "text/plain": [
              "'NÃO'"
            ],
            "application/vnd.google.colaboratory.intrinsic+json": {
              "type": "string"
            }
          },
          "metadata": {}
        }
      ]
    },
    {
      "cell_type": "code",
      "source": [
        "porcentagem_sim = int(data['profissional_saude'].isnull().sum() * 0.10) # A função so aceita int\n",
        "\n",
        "data['profissional_saude'].fillna('SIM', limit=porcentagem_sim, inplace=True)\n",
        "data['profissional_saude'].fillna(data['profissional_saude'].describe().top, inplace=True)"
      ],
      "metadata": {
        "id": "qfA2_cAgZWXF"
      },
      "execution_count": 332,
      "outputs": []
    },
    {
      "cell_type": "markdown",
      "source": [
        "- Notei que pouco mais de 10% de todos os valores respondidos eram \"SIM\" então, na substituição, decidi manter esta proporção e divido os valores, fazendo o valor \"SIM\" receber 10% dos nulos e o valor mais comum receber todo o restante."
      ],
      "metadata": {
        "id": "rrA_EAR6cbEb"
      }
    },
    {
      "cell_type": "code",
      "source": [
        "resumo_column('profissional_saude')"
      ],
      "metadata": {
        "colab": {
          "base_uri": "https://localhost:8080/",
          "height": 192
        },
        "id": "nj0zLcv0b_LP",
        "outputId": "45f98d75-9a9d-4f11-8ac2-936d7ad9ab74"
      },
      "execution_count": 333,
      "outputs": [
        {
          "output_type": "stream",
          "name": "stdout",
          "text": [
            "=========================================* VALORES NULOS *==========================================\n"
          ]
        },
        {
          "output_type": "display_data",
          "data": {
            "text/plain": [
              "0"
            ]
          },
          "metadata": {}
        },
        {
          "output_type": "stream",
          "name": "stdout",
          "text": [
            "=======================================* QUANTIDADE VALORES *=======================================\n"
          ]
        },
        {
          "output_type": "display_data",
          "data": {
            "text/plain": [
              "profissional_saude\n",
              "NÃO    32612\n",
              "SIM     3823\n",
              "dtype: int64"
            ]
          },
          "metadata": {}
        },
        {
          "output_type": "stream",
          "name": "stdout",
          "text": [
            "total:       36435\n",
            "==========================================* VALOR COMUM *===========================================\n"
          ]
        },
        {
          "output_type": "display_data",
          "data": {
            "text/plain": [
              "'NÃO'"
            ],
            "application/vnd.google.colaboratory.intrinsic+json": {
              "type": "string"
            }
          },
          "metadata": {}
        }
      ]
    },
    {
      "cell_type": "markdown",
      "source": [
        "###evolução"
      ],
      "metadata": {
        "id": "EqdCcnQPAgsq"
      }
    },
    {
      "cell_type": "code",
      "source": [
        "resumo_column('evolucao')"
      ],
      "metadata": {
        "colab": {
          "base_uri": "https://localhost:8080/",
          "height": 244
        },
        "id": "H4EWFCi0BnRM",
        "outputId": "cb4c26f4-1990-4771-cfb1-ee73e279371e"
      },
      "execution_count": 334,
      "outputs": [
        {
          "output_type": "stream",
          "name": "stdout",
          "text": [
            "=========================================* VALORES NULOS *==========================================\n"
          ]
        },
        {
          "output_type": "display_data",
          "data": {
            "text/plain": [
              "977"
            ]
          },
          "metadata": {}
        },
        {
          "output_type": "stream",
          "name": "stdout",
          "text": [
            "=======================================* QUANTIDADE VALORES *=======================================\n"
          ]
        },
        {
          "output_type": "display_data",
          "data": {
            "text/plain": [
              "evolucao\n",
              "RECUPERADO                       18931\n",
              "ÓBITO                             9344\n",
              "INTERNADO LEITO DE ISOLAMENTO     4344\n",
              "ISOLAMENTO DOMICILIAR             1463\n",
              "INTERNADO UTI                     1376\n",
              "dtype: int64"
            ]
          },
          "metadata": {}
        },
        {
          "output_type": "stream",
          "name": "stdout",
          "text": [
            "total:       35458\n",
            "==========================================* VALOR COMUM *===========================================\n"
          ]
        },
        {
          "output_type": "display_data",
          "data": {
            "text/plain": [
              "'RECUPERADO'"
            ],
            "application/vnd.google.colaboratory.intrinsic+json": {
              "type": "string"
            }
          },
          "metadata": {}
        }
      ]
    },
    {
      "cell_type": "code",
      "source": [
        "data.dropna(subset = ['evolucao'], inplace=True)"
      ],
      "metadata": {
        "id": "uAjXx9CUeb3D"
      },
      "execution_count": 335,
      "outputs": []
    },
    {
      "cell_type": "markdown",
      "source": [
        "- Por serem dados mais delicados e por serem poucos nulos, apenas larguei os registros com valores vazios."
      ],
      "metadata": {
        "id": "BLbamc4lgCDJ"
      }
    },
    {
      "cell_type": "code",
      "source": [
        "resumo_column('evolucao')"
      ],
      "metadata": {
        "colab": {
          "base_uri": "https://localhost:8080/",
          "height": 244
        },
        "id": "p2Fr4EUfdqwL",
        "outputId": "2787cabf-4745-4ff8-9045-e13ab3881a1b"
      },
      "execution_count": 336,
      "outputs": [
        {
          "output_type": "stream",
          "name": "stdout",
          "text": [
            "=========================================* VALORES NULOS *==========================================\n"
          ]
        },
        {
          "output_type": "display_data",
          "data": {
            "text/plain": [
              "0"
            ]
          },
          "metadata": {}
        },
        {
          "output_type": "stream",
          "name": "stdout",
          "text": [
            "=======================================* QUANTIDADE VALORES *=======================================\n"
          ]
        },
        {
          "output_type": "display_data",
          "data": {
            "text/plain": [
              "evolucao\n",
              "RECUPERADO                       18931\n",
              "ÓBITO                             9344\n",
              "INTERNADO LEITO DE ISOLAMENTO     4344\n",
              "ISOLAMENTO DOMICILIAR             1463\n",
              "INTERNADO UTI                     1376\n",
              "dtype: int64"
            ]
          },
          "metadata": {}
        },
        {
          "output_type": "stream",
          "name": "stdout",
          "text": [
            "total:       35458\n",
            "==========================================* VALOR COMUM *===========================================\n"
          ]
        },
        {
          "output_type": "display_data",
          "data": {
            "text/plain": [
              "'RECUPERADO'"
            ],
            "application/vnd.google.colaboratory.intrinsic+json": {
              "type": "string"
            }
          },
          "metadata": {}
        }
      ]
    },
    {
      "cell_type": "markdown",
      "source": [
        "###raça"
      ],
      "metadata": {
        "id": "kXVyZCJmAsA6"
      }
    },
    {
      "cell_type": "code",
      "source": [
        "# A função diz quantos porcento um determinado valor equivale do outro\n",
        "def porcento_do_total(quanto_tem, total):\n",
        "  return round(((quanto_tem*100)/ total) + 0.5)\n",
        "\n",
        "\n",
        "def porcentagem_da_raca_no_total(raca):\n",
        "  '''\n",
        "  Calcula quantos porcento do total a raça passada corresponde.\n",
        "  '''\n",
        "  # Pega a quantidade total de valores preenchidos (100%)\n",
        "  total = data.value_counts('raca').sum()\n",
        "\n",
        "  # Quantidade de registros com aquela raça\n",
        "  quanto_tem = dict(data.value_counts('raca'))[raca] \n",
        "\n",
        "  # Calcula o % de 100%\n",
        "  porcentagem = porcento_do_total(quanto_tem, total)\n",
        "  return porcentagem\n",
        "\n",
        "\n",
        "def quantidade_limite_raca(raca):\n",
        "  '''\n",
        "  Usa a porcentagem correspondente da raça para definir quantos porcento dos \n",
        "  nulos vão receber este valor, para manter a proporcionalidade.\n",
        "  '''\n",
        "  porcentagem = porcentagem_da_raca_no_total(raca) \n",
        "  quantidade = int(round((data['raca'].isnull().sum() * (porcentagem / 100) + 0.5)))\n",
        "  return quantidade"
      ],
      "metadata": {
        "id": "oefLORY6JGa2"
      },
      "execution_count": 337,
      "outputs": []
    },
    {
      "cell_type": "code",
      "source": [
        "resumo_column('raca')"
      ],
      "metadata": {
        "colab": {
          "base_uri": "https://localhost:8080/",
          "height": 261
        },
        "id": "3csmk1JSxsx8",
        "outputId": "a520523d-419b-4f89-f116-d86749dbb787"
      },
      "execution_count": 338,
      "outputs": [
        {
          "output_type": "stream",
          "name": "stdout",
          "text": [
            "=========================================* VALORES NULOS *==========================================\n"
          ]
        },
        {
          "output_type": "display_data",
          "data": {
            "text/plain": [
              "6329"
            ]
          },
          "metadata": {}
        },
        {
          "output_type": "stream",
          "name": "stdout",
          "text": [
            "=======================================* QUANTIDADE VALORES *=======================================\n"
          ]
        },
        {
          "output_type": "display_data",
          "data": {
            "text/plain": [
              "raca\n",
              "Parda       14548\n",
              "Ignorado     7829\n",
              "Branca       5472\n",
              "Preta        1080\n",
              "Amarela       182\n",
              "Indígena       18\n",
              "dtype: int64"
            ]
          },
          "metadata": {}
        },
        {
          "output_type": "stream",
          "name": "stdout",
          "text": [
            "total:       29129\n",
            "==========================================* VALOR COMUM *===========================================\n"
          ]
        },
        {
          "output_type": "display_data",
          "data": {
            "text/plain": [
              "'Parda'"
            ],
            "application/vnd.google.colaboratory.intrinsic+json": {
              "type": "string"
            }
          },
          "metadata": {}
        }
      ]
    },
    {
      "cell_type": "markdown",
      "source": [
        "- Aqui temos uma quantidade aceitável de valores nulos para tratamento de substituição, porem, aqui temos duas possíveis soluções: Ou dividimos os nulos entre as três raças mais comuns de maneira \"proporcional\"; Ou fazemos todos os valores nulos ficarem como \"Ignorados\"."
      ],
      "metadata": {
        "id": "AxbXeHFF1x4n"
      }
    },
    {
      "cell_type": "markdown",
      "source": [
        "- Irei dividor a quantidade de nulos ao meio, metade para a primeira solução e metade para a segunda."
      ],
      "metadata": {
        "id": "MSwkrjso54xs"
      }
    },
    {
      "cell_type": "code",
      "source": [
        "# A quantidade é impar então irei arredondar para cima.\n",
        "limite_parda = quantidade_limite_raca('Parda')\n",
        "limite_branca = quantidade_limite_raca('Branca')\n",
        "limite_preta = quantidade_limite_raca('Preta')\n",
        "\n",
        "# Preenchendo com as três racas mais comuns\n",
        "data['raca'].fillna('Parda', limit=limite_parda, inplace=True)\n",
        "data['raca'].fillna('Branca', limit=limite_branca, inplace=True)\n",
        "data['raca'].fillna('Preta', limit=limite_preta, inplace=True)\n",
        "\n",
        "# Preenchendo todos o restante de valores nulos com \"Ignorado\"\n",
        "data['raca'].fillna('Ignorado', inplace=True)"
      ],
      "metadata": {
        "id": "waMUfYQaxsky"
      },
      "execution_count": 339,
      "outputs": []
    },
    {
      "cell_type": "code",
      "source": [
        "resumo_column('raca')"
      ],
      "metadata": {
        "colab": {
          "base_uri": "https://localhost:8080/",
          "height": 261
        },
        "id": "Z06Qq7F-xsXl",
        "outputId": "47eb22f3-7f69-43dd-9476-55c8f2cbce1b"
      },
      "execution_count": 340,
      "outputs": [
        {
          "output_type": "stream",
          "name": "stdout",
          "text": [
            "=========================================* VALORES NULOS *==========================================\n"
          ]
        },
        {
          "output_type": "display_data",
          "data": {
            "text/plain": [
              "0"
            ]
          },
          "metadata": {}
        },
        {
          "output_type": "stream",
          "name": "stdout",
          "text": [
            "=======================================* QUANTIDADE VALORES *=======================================\n"
          ]
        },
        {
          "output_type": "display_data",
          "data": {
            "text/plain": [
              "raca\n",
              "Parda       17713\n",
              "Ignorado     9536\n",
              "Branca       6675\n",
              "Preta        1334\n",
              "Amarela       182\n",
              "Indígena       18\n",
              "dtype: int64"
            ]
          },
          "metadata": {}
        },
        {
          "output_type": "stream",
          "name": "stdout",
          "text": [
            "total:       35458\n",
            "==========================================* VALOR COMUM *===========================================\n"
          ]
        },
        {
          "output_type": "display_data",
          "data": {
            "text/plain": [
              "'Parda'"
            ],
            "application/vnd.google.colaboratory.intrinsic+json": {
              "type": "string"
            }
          },
          "metadata": {}
        }
      ]
    },
    {
      "cell_type": "markdown",
      "source": [
        "##Tratando a colunas:"
      ],
      "metadata": {
        "id": "QqII5QUJgPAG"
      }
    },
    {
      "cell_type": "markdown",
      "source": [
        "###idade"
      ],
      "metadata": {
        "id": "YZjy4yE5BxOU"
      }
    },
    {
      "cell_type": "code",
      "source": [
        "data.dtypes"
      ],
      "metadata": {
        "colab": {
          "base_uri": "https://localhost:8080/"
        },
        "id": "AYlIYRkWe-4o",
        "outputId": "4db4d705-61ba-4426-d91c-5521589c7b63"
      },
      "execution_count": 341,
      "outputs": [
        {
          "output_type": "execute_result",
          "data": {
            "text/plain": [
              "data_notificacao        object\n",
              "sexo                    object\n",
              "raca                    object\n",
              "idade                   object\n",
              "municipio_residencia    object\n",
              "bairro                  object\n",
              "distrito_sanitario      object\n",
              "data_inicio_sintomas    object\n",
              "sintomas                object\n",
              "profissional_saude      object\n",
              "classificacao_final     object\n",
              "evolucao                object\n",
              "dtype: object"
            ]
          },
          "metadata": {},
          "execution_count": 341
        }
      ]
    },
    {
      "cell_type": "code",
      "source": [
        "# Varificando valores exsitentes na coluna\n",
        "resumo_column('idade')"
      ],
      "metadata": {
        "colab": {
          "base_uri": "https://localhost:8080/",
          "height": 348
        },
        "id": "bfb2dfdggcjf",
        "outputId": "ae683e14-48a7-4304-c940-c9f054220e39"
      },
      "execution_count": 342,
      "outputs": [
        {
          "output_type": "stream",
          "name": "stdout",
          "text": [
            "=========================================* VALORES NULOS *==========================================\n"
          ]
        },
        {
          "output_type": "display_data",
          "data": {
            "text/plain": [
              "0"
            ]
          },
          "metadata": {}
        },
        {
          "output_type": "stream",
          "name": "stdout",
          "text": [
            "=======================================* QUANTIDADE VALORES *=======================================\n"
          ]
        },
        {
          "output_type": "display_data",
          "data": {
            "text/plain": [
              "idade\n",
              "57     633\n",
              "58     627\n",
              "68     618\n",
              "62     611\n",
              "59     611\n",
              "      ... \n",
              "IGN      3\n",
              "109      1\n",
              "112      1\n",
              "115      1\n",
              "110      1\n",
              "Length: 127, dtype: int64"
            ]
          },
          "metadata": {}
        },
        {
          "output_type": "stream",
          "name": "stdout",
          "text": [
            "total:       35458\n",
            "==========================================* VALOR COMUM *===========================================\n"
          ]
        },
        {
          "output_type": "display_data",
          "data": {
            "text/plain": [
              "'57'"
            ],
            "application/vnd.google.colaboratory.intrinsic+json": {
              "type": "string"
            }
          },
          "metadata": {}
        }
      ]
    },
    {
      "cell_type": "markdown",
      "source": [
        "- Existem 127 valores diferentes para a idade e alguns são strings.\n",
        "\n",
        "- Em uma rápida varificação usando loop, ví que existem valores menores que 1 ano, no casos uma contagem de meses.\n",
        "\n",
        "- Irei substitiuir esses valores por 0, por não ter concluido 1 ano de vida"
      ],
      "metadata": {
        "id": "8BRg3YAriD-z"
      }
    },
    {
      "cell_type": "code",
      "source": [
        "# Função para trocar os valores.\n",
        "def subtstituiMesesPor0(valor):\n",
        "  if not valor.isnumeric():\n",
        "    valor = 0\n",
        "  return valor"
      ],
      "metadata": {
        "id": "eSFNxcjQiDBA"
      },
      "execution_count": 343,
      "outputs": []
    },
    {
      "cell_type": "code",
      "source": [
        "# A função \"apply()\" aplica a função passada a cada elemento na série ou dataset\n",
        "data['idade'] = data['idade'].apply(subtstituiMesesPor0)\n",
        "data['idade'] = data['idade'].astype(int)"
      ],
      "metadata": {
        "id": "oPRe9A19mR3F"
      },
      "execution_count": 344,
      "outputs": []
    },
    {
      "cell_type": "markdown",
      "source": [
        "- Agora que temos dados numéricos, se pode ver dados estatisticos sobre essa coluna."
      ],
      "metadata": {
        "id": "-IHG6XT6pRei"
      }
    },
    {
      "cell_type": "code",
      "source": [
        "data['idade'].describe()"
      ],
      "metadata": {
        "colab": {
          "base_uri": "https://localhost:8080/"
        },
        "id": "NWMFV7r-jUyx",
        "outputId": "c73ddec1-7e52-480a-96e2-5ba8eeaa302f"
      },
      "execution_count": 345,
      "outputs": [
        {
          "output_type": "execute_result",
          "data": {
            "text/plain": [
              "count    35458.000000\n",
              "mean        53.553105\n",
              "std         23.892970\n",
              "min          0.000000\n",
              "25%         39.000000\n",
              "50%         56.000000\n",
              "75%         71.000000\n",
              "max        115.000000\n",
              "Name: idade, dtype: float64"
            ]
          },
          "metadata": {},
          "execution_count": 345
        }
      ]
    },
    {
      "cell_type": "markdown",
      "source": [
        "- Usando a função \"loc\", irei analisar as idade maiores que 100"
      ],
      "metadata": {
        "id": "Hm4l1FQBsqjY"
      }
    },
    {
      "cell_type": "code",
      "source": [
        "print('* IDADES E QUANTIDADE *'.center(100,'='))\n",
        "display(data.loc[(data['idade'] >= 100)]['idade'].value_counts())\n",
        "print('* TOTAL *'.center(100,'='))\n",
        "display(data.loc[(data['idade'] >= 100)]['idade'].value_counts().sum())"
      ],
      "metadata": {
        "id": "ZG65pVeOpg8s",
        "colab": {
          "base_uri": "https://localhost:8080/",
          "height": 312
        },
        "outputId": "c10b0795-f102-40ce-a3c4-59ec0290ce97"
      },
      "execution_count": 346,
      "outputs": [
        {
          "output_type": "stream",
          "name": "stdout",
          "text": [
            "======================================* IDADES E QUANTIDADE *=======================================\n"
          ]
        },
        {
          "output_type": "display_data",
          "data": {
            "text/plain": [
              "100    23\n",
              "101    19\n",
              "102    11\n",
              "104     7\n",
              "103     7\n",
              "105     5\n",
              "107     5\n",
              "106     4\n",
              "114     4\n",
              "110     1\n",
              "115     1\n",
              "112     1\n",
              "109     1\n",
              "Name: idade, dtype: int64"
            ]
          },
          "metadata": {}
        },
        {
          "output_type": "stream",
          "name": "stdout",
          "text": [
            "=============================================* TOTAL *==============================================\n"
          ]
        },
        {
          "output_type": "display_data",
          "data": {
            "text/plain": [
              "89"
            ]
          },
          "metadata": {}
        }
      ]
    },
    {
      "cell_type": "markdown",
      "source": [
        "- Apesar de poucos, existem casos com idades muito elevadas, então depois de uma breve analise, vou descartar os registros que tenham mais do que 107 anos de idade, já que acima disso não existem muitos registros e que podem ter sido erro."
      ],
      "metadata": {
        "id": "5b2bW6Ysvq7H"
      }
    },
    {
      "cell_type": "code",
      "source": [
        "data = data.loc[(data['idade'] <= 107)]\n",
        "data['idade'].describe()"
      ],
      "metadata": {
        "colab": {
          "base_uri": "https://localhost:8080/"
        },
        "id": "tYhHSFRKrY6Q",
        "outputId": "f6916b7c-3620-4753-eee9-2c76a41a88a1"
      },
      "execution_count": 347,
      "outputs": [
        {
          "output_type": "execute_result",
          "data": {
            "text/plain": [
              "count    35450.000000\n",
              "mean        53.539746\n",
              "std         23.879089\n",
              "min          0.000000\n",
              "25%         39.000000\n",
              "50%         56.000000\n",
              "75%         71.000000\n",
              "max        107.000000\n",
              "Name: idade, dtype: float64"
            ]
          },
          "metadata": {},
          "execution_count": 347
        }
      ]
    },
    {
      "cell_type": "markdown",
      "source": [
        "# Resultado.\n"
      ],
      "metadata": {
        "id": "O_UiF8V9_OPz"
      }
    },
    {
      "cell_type": "markdown",
      "source": [
        "- No fim, esta é nossa base de dados limpa"
      ],
      "metadata": {
        "id": "kVvy6C_KxDOG"
      }
    },
    {
      "cell_type": "code",
      "source": [
        "data_clean = data.copy()"
      ],
      "metadata": {
        "id": "VlPn05dK_yhx"
      },
      "execution_count": 348,
      "outputs": []
    },
    {
      "cell_type": "code",
      "source": [
        "display(data_clean.head(3))\n",
        "data_clean.shape"
      ],
      "metadata": {
        "colab": {
          "base_uri": "https://localhost:8080/",
          "height": 364
        },
        "id": "hkFzrxaSxCvj",
        "outputId": "68489b09-9ecf-4b31-a264-f273ee2b718a"
      },
      "execution_count": 349,
      "outputs": [
        {
          "output_type": "display_data",
          "data": {
            "text/plain": [
              "  data_notificacao       sexo    raca  idade municipio_residencia  \\\n",
              "0       2020-05-30  Masculino  Branca     53               Recife   \n",
              "1       2020-06-02   Feminino   Parda      0               Recife   \n",
              "2       2020-06-02   Feminino   Parda     86               Recife   \n",
              "\n",
              "                 bairro distrito_sanitario data_inicio_sintomas  \\\n",
              "0            SAN MARTIN                  V           2020-05-25   \n",
              "1  ALTO SANTA TEREZINHA                 II           2020-05-30   \n",
              "2            ESPINHEIRO                III           2020-06-01   \n",
              "\n",
              "                                            sintomas profissional_saude  \\\n",
              "0  Febre, Tosse, Mialgia, Alteração/perda de olfa...                SIM   \n",
              "1          Febre, Tosse, Dispneia, Saturação O2 < 95                SIM   \n",
              "2                        Dispneia, Saturação O2 < 95                SIM   \n",
              "\n",
              "  classificacao_final                       evolucao  \n",
              "0          DESCARTADO          ISOLAMENTO DOMICILIAR  \n",
              "1        INCONCLUSIVO          ISOLAMENTO DOMICILIAR  \n",
              "2          DESCARTADO  INTERNADO LEITO DE ISOLAMENTO  "
            ],
            "text/html": [
              "\n",
              "  <div id=\"df-3de0d3b9-a084-4ad1-9fbc-6c08b0a460e0\">\n",
              "    <div class=\"colab-df-container\">\n",
              "      <div>\n",
              "<style scoped>\n",
              "    .dataframe tbody tr th:only-of-type {\n",
              "        vertical-align: middle;\n",
              "    }\n",
              "\n",
              "    .dataframe tbody tr th {\n",
              "        vertical-align: top;\n",
              "    }\n",
              "\n",
              "    .dataframe thead th {\n",
              "        text-align: right;\n",
              "    }\n",
              "</style>\n",
              "<table border=\"1\" class=\"dataframe\">\n",
              "  <thead>\n",
              "    <tr style=\"text-align: right;\">\n",
              "      <th></th>\n",
              "      <th>data_notificacao</th>\n",
              "      <th>sexo</th>\n",
              "      <th>raca</th>\n",
              "      <th>idade</th>\n",
              "      <th>municipio_residencia</th>\n",
              "      <th>bairro</th>\n",
              "      <th>distrito_sanitario</th>\n",
              "      <th>data_inicio_sintomas</th>\n",
              "      <th>sintomas</th>\n",
              "      <th>profissional_saude</th>\n",
              "      <th>classificacao_final</th>\n",
              "      <th>evolucao</th>\n",
              "    </tr>\n",
              "  </thead>\n",
              "  <tbody>\n",
              "    <tr>\n",
              "      <th>0</th>\n",
              "      <td>2020-05-30</td>\n",
              "      <td>Masculino</td>\n",
              "      <td>Branca</td>\n",
              "      <td>53</td>\n",
              "      <td>Recife</td>\n",
              "      <td>SAN MARTIN</td>\n",
              "      <td>V</td>\n",
              "      <td>2020-05-25</td>\n",
              "      <td>Febre, Tosse, Mialgia, Alteração/perda de olfa...</td>\n",
              "      <td>SIM</td>\n",
              "      <td>DESCARTADO</td>\n",
              "      <td>ISOLAMENTO DOMICILIAR</td>\n",
              "    </tr>\n",
              "    <tr>\n",
              "      <th>1</th>\n",
              "      <td>2020-06-02</td>\n",
              "      <td>Feminino</td>\n",
              "      <td>Parda</td>\n",
              "      <td>0</td>\n",
              "      <td>Recife</td>\n",
              "      <td>ALTO SANTA TEREZINHA</td>\n",
              "      <td>II</td>\n",
              "      <td>2020-05-30</td>\n",
              "      <td>Febre, Tosse, Dispneia, Saturação O2 &lt; 95</td>\n",
              "      <td>SIM</td>\n",
              "      <td>INCONCLUSIVO</td>\n",
              "      <td>ISOLAMENTO DOMICILIAR</td>\n",
              "    </tr>\n",
              "    <tr>\n",
              "      <th>2</th>\n",
              "      <td>2020-06-02</td>\n",
              "      <td>Feminino</td>\n",
              "      <td>Parda</td>\n",
              "      <td>86</td>\n",
              "      <td>Recife</td>\n",
              "      <td>ESPINHEIRO</td>\n",
              "      <td>III</td>\n",
              "      <td>2020-06-01</td>\n",
              "      <td>Dispneia, Saturação O2 &lt; 95</td>\n",
              "      <td>SIM</td>\n",
              "      <td>DESCARTADO</td>\n",
              "      <td>INTERNADO LEITO DE ISOLAMENTO</td>\n",
              "    </tr>\n",
              "  </tbody>\n",
              "</table>\n",
              "</div>\n",
              "      <button class=\"colab-df-convert\" onclick=\"convertToInteractive('df-3de0d3b9-a084-4ad1-9fbc-6c08b0a460e0')\"\n",
              "              title=\"Convert this dataframe to an interactive table.\"\n",
              "              style=\"display:none;\">\n",
              "        \n",
              "  <svg xmlns=\"http://www.w3.org/2000/svg\" height=\"24px\"viewBox=\"0 0 24 24\"\n",
              "       width=\"24px\">\n",
              "    <path d=\"M0 0h24v24H0V0z\" fill=\"none\"/>\n",
              "    <path d=\"M18.56 5.44l.94 2.06.94-2.06 2.06-.94-2.06-.94-.94-2.06-.94 2.06-2.06.94zm-11 1L8.5 8.5l.94-2.06 2.06-.94-2.06-.94L8.5 2.5l-.94 2.06-2.06.94zm10 10l.94 2.06.94-2.06 2.06-.94-2.06-.94-.94-2.06-.94 2.06-2.06.94z\"/><path d=\"M17.41 7.96l-1.37-1.37c-.4-.4-.92-.59-1.43-.59-.52 0-1.04.2-1.43.59L10.3 9.45l-7.72 7.72c-.78.78-.78 2.05 0 2.83L4 21.41c.39.39.9.59 1.41.59.51 0 1.02-.2 1.41-.59l7.78-7.78 2.81-2.81c.8-.78.8-2.07 0-2.86zM5.41 20L4 18.59l7.72-7.72 1.47 1.35L5.41 20z\"/>\n",
              "  </svg>\n",
              "      </button>\n",
              "      \n",
              "  <style>\n",
              "    .colab-df-container {\n",
              "      display:flex;\n",
              "      flex-wrap:wrap;\n",
              "      gap: 12px;\n",
              "    }\n",
              "\n",
              "    .colab-df-convert {\n",
              "      background-color: #E8F0FE;\n",
              "      border: none;\n",
              "      border-radius: 50%;\n",
              "      cursor: pointer;\n",
              "      display: none;\n",
              "      fill: #1967D2;\n",
              "      height: 32px;\n",
              "      padding: 0 0 0 0;\n",
              "      width: 32px;\n",
              "    }\n",
              "\n",
              "    .colab-df-convert:hover {\n",
              "      background-color: #E2EBFA;\n",
              "      box-shadow: 0px 1px 2px rgba(60, 64, 67, 0.3), 0px 1px 3px 1px rgba(60, 64, 67, 0.15);\n",
              "      fill: #174EA6;\n",
              "    }\n",
              "\n",
              "    [theme=dark] .colab-df-convert {\n",
              "      background-color: #3B4455;\n",
              "      fill: #D2E3FC;\n",
              "    }\n",
              "\n",
              "    [theme=dark] .colab-df-convert:hover {\n",
              "      background-color: #434B5C;\n",
              "      box-shadow: 0px 1px 3px 1px rgba(0, 0, 0, 0.15);\n",
              "      filter: drop-shadow(0px 1px 2px rgba(0, 0, 0, 0.3));\n",
              "      fill: #FFFFFF;\n",
              "    }\n",
              "  </style>\n",
              "\n",
              "      <script>\n",
              "        const buttonEl =\n",
              "          document.querySelector('#df-3de0d3b9-a084-4ad1-9fbc-6c08b0a460e0 button.colab-df-convert');\n",
              "        buttonEl.style.display =\n",
              "          google.colab.kernel.accessAllowed ? 'block' : 'none';\n",
              "\n",
              "        async function convertToInteractive(key) {\n",
              "          const element = document.querySelector('#df-3de0d3b9-a084-4ad1-9fbc-6c08b0a460e0');\n",
              "          const dataTable =\n",
              "            await google.colab.kernel.invokeFunction('convertToInteractive',\n",
              "                                                     [key], {});\n",
              "          if (!dataTable) return;\n",
              "\n",
              "          const docLinkHtml = 'Like what you see? Visit the ' +\n",
              "            '<a target=\"_blank\" href=https://colab.research.google.com/notebooks/data_table.ipynb>data table notebook</a>'\n",
              "            + ' to learn more about interactive tables.';\n",
              "          element.innerHTML = '';\n",
              "          dataTable['output_type'] = 'display_data';\n",
              "          await google.colab.output.renderOutput(dataTable, element);\n",
              "          const docLink = document.createElement('div');\n",
              "          docLink.innerHTML = docLinkHtml;\n",
              "          element.appendChild(docLink);\n",
              "        }\n",
              "      </script>\n",
              "    </div>\n",
              "  </div>\n",
              "  "
            ]
          },
          "metadata": {}
        },
        {
          "output_type": "execute_result",
          "data": {
            "text/plain": [
              "(35450, 12)"
            ]
          },
          "metadata": {},
          "execution_count": 349
        }
      ]
    },
    {
      "cell_type": "code",
      "source": [
        "data_clean.info()"
      ],
      "metadata": {
        "colab": {
          "base_uri": "https://localhost:8080/"
        },
        "id": "JVq41C8uwhmY",
        "outputId": "397e38f6-6c05-4ce0-c458-86a90a84da31"
      },
      "execution_count": 350,
      "outputs": [
        {
          "output_type": "stream",
          "name": "stdout",
          "text": [
            "<class 'pandas.core.frame.DataFrame'>\n",
            "Int64Index: 35450 entries, 0 to 36434\n",
            "Data columns (total 12 columns):\n",
            " #   Column                Non-Null Count  Dtype \n",
            "---  ------                --------------  ----- \n",
            " 0   data_notificacao      35450 non-null  object\n",
            " 1   sexo                  35450 non-null  object\n",
            " 2   raca                  35450 non-null  object\n",
            " 3   idade                 35450 non-null  int64 \n",
            " 4   municipio_residencia  35450 non-null  object\n",
            " 5   bairro                35450 non-null  object\n",
            " 6   distrito_sanitario    35450 non-null  object\n",
            " 7   data_inicio_sintomas  35450 non-null  object\n",
            " 8   sintomas              35450 non-null  object\n",
            " 9   profissional_saude    35450 non-null  object\n",
            " 10  classificacao_final   35450 non-null  object\n",
            " 11  evolucao              35450 non-null  object\n",
            "dtypes: int64(1), object(11)\n",
            "memory usage: 3.5+ MB\n"
          ]
        }
      ]
    },
    {
      "cell_type": "code",
      "source": [],
      "metadata": {
        "id": "cTrjUIQA_v-S"
      },
      "execution_count": 350,
      "outputs": []
    }
  ]
}