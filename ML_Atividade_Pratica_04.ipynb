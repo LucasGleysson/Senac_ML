{
  "nbformat": 4,
  "nbformat_minor": 0,
  "metadata": {
    "colab": {
      "provenance": [],
      "authorship_tag": "ABX9TyNSMOCr7MdVeu5sb0aSXGDg",
      "include_colab_link": true
    },
    "kernelspec": {
      "name": "python3",
      "display_name": "Python 3"
    },
    "language_info": {
      "name": "python"
    }
  },
  "cells": [
    {
      "cell_type": "markdown",
      "metadata": {
        "id": "view-in-github",
        "colab_type": "text"
      },
      "source": [
        "<a href=\"https://colab.research.google.com/github/LucasGleysson/Senac_ML/blob/master/ML_Atividade_Pratica_04.ipynb\" target=\"_parent\"><img src=\"https://colab.research.google.com/assets/colab-badge.svg\" alt=\"Open In Colab\"/></a>"
      ]
    },
    {
      "cell_type": "markdown",
      "source": [
        "#For, While, Enumerate, Assunto anteriores."
      ],
      "metadata": {
        "id": "WI2yI8_fCkc_"
      }
    },
    {
      "cell_type": "markdown",
      "source": [
        "#Prática"
      ],
      "metadata": {
        "id": "2MUfRRZ6DDZs"
      }
    },
    {
      "cell_type": "markdown",
      "source": [
        "##1."
      ],
      "metadata": {
        "id": "ZTZfP2CRC6tf"
      }
    },
    {
      "cell_type": "code",
      "execution_count": 1,
      "metadata": {
        "colab": {
          "base_uri": "https://localhost:8080/"
        },
        "id": "OAH9-korCQVy",
        "outputId": "dfbdfc8e-6bdc-418d-a6ff-edbf9316a9e6"
      },
      "outputs": [
        {
          "output_type": "stream",
          "name": "stdout",
          "text": [
            "0 1 2 3 4 5 6 7 8 9 10 11 12 13 14 15 16 17 18 19 20 21 22 23 24 25 26 27 28 29 30 31 32 33 34 35 36 37 38 39 40 41 42 43 44 45 46 47 48 49 50 51 52 53 54 55 56 57 58 59 60 61 62 63 64 65 66 67 68 69 70 71 72 73 74 75 76 77 78 79 80 81 82 83 84 85 86 87 88 89 90 91 92 93 94 95 96 97 98 99 "
          ]
        }
      ],
      "source": [
        "counter = 0\n",
        "while counter < 100:\n",
        "  print(counter, end= ' ')\n",
        "  counter+=1"
      ]
    },
    {
      "cell_type": "markdown",
      "source": [
        "##2."
      ],
      "metadata": {
        "id": "jW3-FCwnGa9R"
      }
    },
    {
      "cell_type": "code",
      "source": [
        "lista = []\n",
        "valor = 4\n",
        "\n",
        "while valor <= 20:\n",
        "  if valor % 2 == 0:\n",
        "    lista.append(valor)\n",
        "  valor+=1\n",
        "\n",
        "print(lista)"
      ],
      "metadata": {
        "colab": {
          "base_uri": "https://localhost:8080/"
        },
        "id": "GbbDCH7-Dcqc",
        "outputId": "e317cab2-f165-4edb-d251-f5e908196e75"
      },
      "execution_count": 3,
      "outputs": [
        {
          "output_type": "stream",
          "name": "stdout",
          "text": [
            "[4, 6, 8, 10, 12, 14, 16, 18, 20]\n"
          ]
        }
      ]
    },
    {
      "cell_type": "markdown",
      "source": [
        "##3."
      ],
      "metadata": {
        "id": "9l6OqH0WGfcI"
      }
    },
    {
      "cell_type": "code",
      "source": [
        "# CODIGO ERRADO!\n",
        "\n",
        "# temperatura = float(input(Qual a temperatura? ))\n",
        "# if temperatura > 30\n",
        "# print('Vista roupas leves.')\n",
        "# else\n",
        "#   print('Busque seus casacos.')\n",
        "\n",
        "# CODIGO CORRIGIGO\n",
        "\n",
        "temperatura = float(input('Qual a temperatura? ')) # Estava sem aspas na string\n",
        "if temperatura > 30:                               # Não tinha os dois pontos\n",
        "  print('Vista roupas leves.')                     # Identação errada.\n",
        "else:                                              # Faltou os dois pontos\n",
        "  print('Busque seus casacos.')"
      ],
      "metadata": {
        "colab": {
          "base_uri": "https://localhost:8080/"
        },
        "id": "NMFrOsmtEhpP",
        "outputId": "6d7df9d1-6251-40bb-b139-e32a8dd2e16b"
      },
      "execution_count": 5,
      "outputs": [
        {
          "output_type": "stream",
          "name": "stdout",
          "text": [
            "Qual a temperatura? 31\n",
            "Vista roupas leves.\n"
          ]
        }
      ]
    },
    {
      "cell_type": "markdown",
      "source": [
        "##4."
      ],
      "metadata": {
        "id": "pv8fOyXDGiur"
      }
    },
    {
      "cell_type": "code",
      "source": [
        "letra = input('Digite uma letra: ')\n",
        "\n",
        "frase = '''Educação não transforma o mundo. Educação muda \n",
        "pessoas. Pessoas transformam o mundo. (Paulo Freire)'''\n",
        "\n",
        "quantidade = 0\n",
        "for caracter in frase:\n",
        "  if caracter == letra:\n",
        "    quantidade+=1\n",
        "\n",
        "print('Na frase: \"', frase, '\" \\nA letra \"', letra.upper(), '\" aparece', \\\n",
        "      quantidade, 'vezes')\n"
      ],
      "metadata": {
        "colab": {
          "base_uri": "https://localhost:8080/"
        },
        "id": "MfkcUSi0GH5q",
        "outputId": "1ec9d442-8015-4ffa-e8d1-b02cd6b2ce80"
      },
      "execution_count": 8,
      "outputs": [
        {
          "output_type": "stream",
          "name": "stdout",
          "text": [
            "Digite uma letra: s\n",
            "Na frase: \" Educação não transforma o mundo. Educação muda \n",
            "pessoas. Pessoas transformam o mundo. (Paulo Freire) \" \n",
            "A letra \" S \" aparece 8 vezes\n"
          ]
        }
      ]
    },
    {
      "cell_type": "markdown",
      "source": [
        "##5."
      ],
      "metadata": {
        "id": "eiA0W0jLJhxu"
      }
    },
    {
      "cell_type": "code",
      "source": [
        "letra = input('Digite uma letra: ')\n",
        "\n",
        "frase = '''Educação não transforma o mundo. Educação muda \n",
        "pessoas. Pessoas transformam o mundo. (Paulo Freire)'''\n",
        "\n",
        "quantidade = 0\n",
        "for caracter in frase:\n",
        "  if caracter == letra:\n",
        "    quantidade+=1\n",
        "\n",
        "print('Na frase: \"', frase, '\" \\nA letra \"', letra.upper(), '\" aparece', \\\n",
        "      quantidade, 'vezes')\n"
      ],
      "metadata": {
        "colab": {
          "base_uri": "https://localhost:8080/"
        },
        "id": "K2v-l1IgIRu5",
        "outputId": "356b92b7-8636-4c5e-b617-db46a9ffdab4"
      },
      "execution_count": 9,
      "outputs": [
        {
          "output_type": "stream",
          "name": "stdout",
          "text": [
            "Digite uma letra: a\n",
            "Na frase: \" Educação não transforma o mundo. Educação muda \n",
            "pessoas. Pessoas transformam o mundo. (Paulo Freire) \" \n",
            "A letra \" A \" aparece 10 vezes\n"
          ]
        }
      ]
    },
    {
      "cell_type": "markdown",
      "source": [
        "##6."
      ],
      "metadata": {
        "id": "uf9aUmD6J6GU"
      }
    },
    {
      "cell_type": "code",
      "source": [
        "lista = ['a','b','c','d','e','f','g','h']\n",
        "\n",
        "# print(lista[6:])\n",
        "\n",
        "for elemento in lista:\n",
        "  if lista.index(elemento) > 5:\n",
        "    print(elemento)"
      ],
      "metadata": {
        "colab": {
          "base_uri": "https://localhost:8080/"
        },
        "id": "sL4SEsCoJ10m",
        "outputId": "8e4f2709-3ffa-42ef-8431-bda7016909df"
      },
      "execution_count": 11,
      "outputs": [
        {
          "output_type": "stream",
          "name": "stdout",
          "text": [
            "['g', 'h']\n",
            "g\n",
            "h\n"
          ]
        }
      ]
    },
    {
      "cell_type": "markdown",
      "source": [
        "##7."
      ],
      "metadata": {
        "id": "dSCpgJqIN4eA"
      }
    },
    {
      "cell_type": "code",
      "source": [
        "dict1 = {'a': 1, 'b':2}\n",
        "dict2 = {'c':4, 'd':5}\n",
        "dict3 = {}\n",
        "\n",
        "for indice, chave in enumerate(dict1.keys()):\n",
        "  dict3[chave] = list(dict2.values())[indice]\n",
        "\n",
        "print(dict3)"
      ],
      "metadata": {
        "colab": {
          "base_uri": "https://localhost:8080/"
        },
        "id": "TYZY5MijKrOd",
        "outputId": "f66b5128-4400-40ca-fbfd-e5aab36f3418"
      },
      "execution_count": 20,
      "outputs": [
        {
          "output_type": "stream",
          "name": "stdout",
          "text": [
            "{'a': 4, 'b': 5}\n"
          ]
        }
      ]
    },
    {
      "cell_type": "markdown",
      "source": [
        "##8."
      ],
      "metadata": {
        "id": "PMFIH4N3N6yc"
      }
    },
    {
      "cell_type": "code",
      "source": [
        "for um_valor in range(10):\n",
        "  print(um_valor)"
      ],
      "metadata": {
        "colab": {
          "base_uri": "https://localhost:8080/"
        },
        "id": "-FkaITCfLVJf",
        "outputId": "db2ae888-cc5e-4b06-f041-35a3f5ca77b4"
      },
      "execution_count": 25,
      "outputs": [
        {
          "output_type": "stream",
          "name": "stdout",
          "text": [
            "0\n",
            "1\n",
            "2\n",
            "3\n",
            "4\n",
            "5\n",
            "6\n",
            "7\n",
            "8\n",
            "9\n"
          ]
        }
      ]
    },
    {
      "cell_type": "markdown",
      "source": [
        "##9."
      ],
      "metadata": {
        "id": "yt0zpOniN9xa"
      }
    },
    {
      "cell_type": "code",
      "source": [
        "for um_char in 'Venha para a festa':\n",
        "  print(um_char)"
      ],
      "metadata": {
        "id": "e9OsapsaNXhW"
      },
      "execution_count": null,
      "outputs": []
    }
  ]
}