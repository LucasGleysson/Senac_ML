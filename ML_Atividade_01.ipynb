{
  "nbformat": 4,
  "nbformat_minor": 0,
  "metadata": {
    "colab": {
      "provenance": [],
      "toc_visible": true,
      "authorship_tag": "ABX9TyOznj3RvRiH+Ti9UrqMpz+6",
      "include_colab_link": true
    },
    "kernelspec": {
      "name": "python3",
      "display_name": "Python 3"
    },
    "language_info": {
      "name": "python"
    }
  },
  "cells": [
    {
      "cell_type": "markdown",
      "metadata": {
        "id": "view-in-github",
        "colab_type": "text"
      },
      "source": [
        "<a href=\"https://colab.research.google.com/github/LucasGleysson/Senac_ML/blob/master/ML_Atividade_01.ipynb\" target=\"_parent\"><img src=\"https://colab.research.google.com/assets/colab-badge.svg\" alt=\"Open In Colab\"/></a>"
      ]
    },
    {
      "cell_type": "code",
      "execution_count": 2,
      "metadata": {
        "colab": {
          "base_uri": "https://localhost:8080/",
          "height": 132
        },
        "id": "X78-5wT-YVT4",
        "outputId": "ac928f65-e9b7-432e-98bc-1c2be49a47a9"
      },
      "outputs": [
        {
          "output_type": "error",
          "ename": "IndentationError",
          "evalue": "ignored",
          "traceback": [
            "\u001b[0;36m  File \u001b[0;32m\"<ipython-input-2-c111a52d4f75>\"\u001b[0;36m, line \u001b[0;32m3\u001b[0m\n\u001b[0;31m    soma = a+b\u001b[0m\n\u001b[0m    ^\u001b[0m\n\u001b[0;31mIndentationError\u001b[0m\u001b[0;31m:\u001b[0m unexpected indent\n"
          ]
        }
      ],
      "source": [
        "# 01 - Além do erro de identação, o resultado da variável \"soma\" não seria\n",
        "# exibido por não estar sendo chamada dentro do print, ao inves disso ela\n",
        "# esta fazendo parte da string.\n",
        "\n",
        "a = 3\n",
        "b = 4\n",
        "  soma = a+b\n",
        "  print(\"A soma de a+b é: soma\")"
      ]
    },
    {
      "cell_type": "code",
      "source": [
        "# 02 -  Diferente da questão anterior, o resultado da soma seria exibida\n",
        "# corretamente junto ao texto no print.\n",
        "\n",
        "a = 3 \n",
        "b = 4\n",
        "soma = a+b\n",
        "print(\"A soma de a+b é:\", soma)"
      ],
      "metadata": {
        "colab": {
          "base_uri": "https://localhost:8080/"
        },
        "id": "NEDknouobMRb",
        "outputId": "af7c2104-0672-4585-a871-844f5c217c9c"
      },
      "execution_count": 3,
      "outputs": [
        {
          "output_type": "stream",
          "name": "stdout",
          "text": [
            "A soma de a+b é: 7\n"
          ]
        }
      ]
    },
    {
      "cell_type": "code",
      "source": [
        "# 03 - Aqui, a os valores das variáveis \"a\" e \"b\" serão exibidos no print.\n",
        "\n",
        "a = 3 \n",
        "b = 4\n",
        "soma = a+b\n",
        "print(\"A soma de \",a,\"+\",b, \"é:\", soma)\n"
      ],
      "metadata": {
        "colab": {
          "base_uri": "https://localhost:8080/"
        },
        "id": "9zwLgvR5buiJ",
        "outputId": "4ee37a68-6fe7-4666-88bd-602177efb574"
      },
      "execution_count": 4,
      "outputs": [
        {
          "output_type": "stream",
          "name": "stdout",
          "text": [
            "A soma de  3 + 4 é: 7\n"
          ]
        }
      ]
    },
    {
      "cell_type": "code",
      "source": [
        "# 04 - \"a\" e \"b\"  recebem as strings definidas em PROMPT 1 e 2 e exibem na tela\n",
        "# como mensagem esperando a entrada dos valores para \"a\" e \"b\". No print será \n",
        "# mostrado o valores concatenados ao inves de somados, por serem strings e não\n",
        "# valores inteiros.\n",
        "\n",
        "PROMPT_1 = \"Digite o primeiro numero: \"\n",
        "PROMPT_2 = \"Digite o segundo numero: \"\n",
        "\n",
        "a = input(PROMPT_1)\n",
        "b = input(PROMPT_2)\n",
        "\n",
        "soma = a+b\n",
        "print(\"A soma de \",a,\"+\",b, \"é:\", soma)"
      ],
      "metadata": {
        "colab": {
          "base_uri": "https://localhost:8080/"
        },
        "id": "Ss7ScSX3cYRg",
        "outputId": "e2b96922-1e0c-435c-dc4f-0ecba7932be9"
      },
      "execution_count": 5,
      "outputs": [
        {
          "output_type": "stream",
          "name": "stdout",
          "text": [
            "Digite o primeiro numero: 3\n",
            "Digite o segundo numero: 4\n",
            "A soma de  3 + 4 é: 34\n"
          ]
        }
      ]
    },
    {
      "cell_type": "code",
      "source": [
        "# 05 -  \"a_str\" e \"b_str\" recebem os numeros passados em forma de string. \n",
        "# \"a_int\" e \"b_int\" agora armazenam os numero como inteiros depois da conversão \n",
        "# permitindo assim que a soma ocorra corretamente.\n",
        "\n",
        "a_str = input(\"Digite o primeiro numero: \")\n",
        "b_str = input(\"Digite o segundo numero: \")\n",
        "\n",
        "a_int = int(a_str)\n",
        "b_int = int(b_str)\n",
        "\n",
        "soma = a_int+b_int\n",
        "print(\"A soma de\", a_int, \"+\", b_int, \"eh igual a\", soma)"
      ],
      "metadata": {
        "colab": {
          "base_uri": "https://localhost:8080/"
        },
        "id": "lw3rLzH6ertq",
        "outputId": "9255d62e-15f1-408f-c4e2-f6a6e380a52c"
      },
      "execution_count": 6,
      "outputs": [
        {
          "output_type": "stream",
          "name": "stdout",
          "text": [
            "Digite o primeiro numero: 5\n",
            "Digite o segundo numero: 2\n",
            "A soma de 5 + 2 eh igual a 7\n"
          ]
        }
      ]
    },
    {
      "cell_type": "code",
      "source": [
        "# 06 - Mesmo processo que da questão anterior, apenas mais simplificado.\n",
        "\n",
        "a = int(input(\"Digite o primeiro numero: \"))\n",
        "b = int(input(\"Digite o segundo numero: \"))\n",
        "soma = a+b\n",
        "print(\"A soma de\", a, \"+\", b, \"eh igual a\", soma)"
      ],
      "metadata": {
        "colab": {
          "base_uri": "https://localhost:8080/"
        },
        "id": "OzN5gLtlghWZ",
        "outputId": "332d441d-eb48-4b48-9326-83827bda5f87"
      },
      "execution_count": 7,
      "outputs": [
        {
          "output_type": "stream",
          "name": "stdout",
          "text": [
            "Digite o primeiro numero: 4\n",
            "Digite o segundo numero: 7\n",
            "A soma de 4 + 7 eh igual a 11\n"
          ]
        }
      ]
    },
    {
      "cell_type": "code",
      "source": [],
      "metadata": {
        "id": "5vzXFATQhBWw"
      },
      "execution_count": null,
      "outputs": []
    }
  ]
}