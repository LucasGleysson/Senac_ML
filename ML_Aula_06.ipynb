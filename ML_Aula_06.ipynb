{
  "nbformat": 4,
  "nbformat_minor": 0,
  "metadata": {
    "colab": {
      "provenance": [],
      "toc_visible": true,
      "authorship_tag": "ABX9TyMruRGH68sACOX/fTGYMFvh",
      "include_colab_link": true
    },
    "kernelspec": {
      "name": "python3",
      "display_name": "Python 3"
    },
    "language_info": {
      "name": "python"
    }
  },
  "cells": [
    {
      "cell_type": "markdown",
      "metadata": {
        "id": "view-in-github",
        "colab_type": "text"
      },
      "source": [
        "<a href=\"https://colab.research.google.com/github/LucasGleysson/Senac_ML/blob/master/ML_Aula_06.ipynb\" target=\"_parent\"><img src=\"https://colab.research.google.com/assets/colab-badge.svg\" alt=\"Open In Colab\"/></a>"
      ]
    },
    {
      "cell_type": "markdown",
      "source": [
        "#Aula 05\n",
        "\n",
        "#Introdução a DataScience"
      ],
      "metadata": {
        "id": "hOLMRq8TYIAX"
      }
    },
    {
      "cell_type": "markdown",
      "source": [
        "##Numpy"
      ],
      "metadata": {
        "id": "9hD9p1VSA-eL"
      }
    },
    {
      "cell_type": "markdown",
      "source": [
        "###Criando uma lista"
      ],
      "metadata": {
        "id": "yLo9e-fhCfVs"
      }
    },
    {
      "cell_type": "code",
      "execution_count": 2,
      "metadata": {
        "id": "CrOeYrw_YBCX"
      },
      "outputs": [],
      "source": [
        "import numpy as np"
      ]
    },
    {
      "cell_type": "code",
      "source": [
        "minhaLista = [0,1,2,3,4,5,6,7,8]\n",
        "minhaLista"
      ],
      "metadata": {
        "colab": {
          "base_uri": "https://localhost:8080/"
        },
        "id": "wu5FGzf4ahn5",
        "outputId": "4177bab8-9b5e-4b6d-eba5-e1af32d6ab2a"
      },
      "execution_count": 4,
      "outputs": [
        {
          "output_type": "execute_result",
          "data": {
            "text/plain": [
              "[0, 1, 2, 3, 4, 5, 6, 7, 8]"
            ]
          },
          "metadata": {},
          "execution_count": 4
        }
      ]
    },
    {
      "cell_type": "markdown",
      "source": [
        "###Tramsformando em um array numpy"
      ],
      "metadata": {
        "id": "iqCHIqtNCjDz"
      }
    },
    {
      "cell_type": "code",
      "source": [
        "meuArray = np.array(minhaLista)\n",
        "meuArray"
      ],
      "metadata": {
        "colab": {
          "base_uri": "https://localhost:8080/"
        },
        "id": "HikbrAfwCKaU",
        "outputId": "b8c837bb-ab87-4876-c693-abbcbd741412"
      },
      "execution_count": 5,
      "outputs": [
        {
          "output_type": "execute_result",
          "data": {
            "text/plain": [
              "array([0, 1, 2, 3, 4, 5, 6, 7, 8])"
            ]
          },
          "metadata": {},
          "execution_count": 5
        }
      ]
    },
    {
      "cell_type": "markdown",
      "source": [
        "###Diferenta entre array e print(array)"
      ],
      "metadata": {
        "id": "3TSK1MiJCvbz"
      }
    },
    {
      "cell_type": "code",
      "source": [
        "meuArray"
      ],
      "metadata": {
        "colab": {
          "base_uri": "https://localhost:8080/"
        },
        "id": "1BNe8vQVCTvL",
        "outputId": "584e696a-6875-4193-ac5d-1bf08fd5c947"
      },
      "execution_count": 6,
      "outputs": [
        {
          "output_type": "execute_result",
          "data": {
            "text/plain": [
              "array([0, 1, 2, 3, 4, 5, 6, 7, 8])"
            ]
          },
          "metadata": {},
          "execution_count": 6
        }
      ]
    },
    {
      "cell_type": "code",
      "source": [
        "print(meuArray)"
      ],
      "metadata": {
        "colab": {
          "base_uri": "https://localhost:8080/"
        },
        "id": "saXXYIIFCqhr",
        "outputId": "4289f2e1-0a1c-4502-a5a3-ad7bd1bf5e80"
      },
      "execution_count": 7,
      "outputs": [
        {
          "output_type": "stream",
          "name": "stdout",
          "text": [
            "[0 1 2 3 4 5 6 7 8]\n"
          ]
        }
      ]
    },
    {
      "cell_type": "markdown",
      "source": [
        "###Uma forma simples de criarmos essa lista"
      ],
      "metadata": {
        "id": "uCWx0hD3DLsE"
      }
    },
    {
      "cell_type": "code",
      "source": [
        "minhaLista = list(range(9))\n",
        "minhaLista"
      ],
      "metadata": {
        "colab": {
          "base_uri": "https://localhost:8080/"
        },
        "id": "HCpKcfgrCupr",
        "outputId": "5a0b5036-cb85-4f2a-9974-b3a59054583a"
      },
      "execution_count": 8,
      "outputs": [
        {
          "output_type": "execute_result",
          "data": {
            "text/plain": [
              "[0, 1, 2, 3, 4, 5, 6, 7, 8]"
            ]
          },
          "metadata": {},
          "execution_count": 8
        }
      ]
    },
    {
      "cell_type": "markdown",
      "source": [
        "###Transformando agora essa lista em um Array Numpy"
      ],
      "metadata": {
        "id": "IUnKFGuUDQkr"
      }
    },
    {
      "cell_type": "code",
      "source": [
        "array1 = np.array(range(9))\n",
        "array1"
      ],
      "metadata": {
        "colab": {
          "base_uri": "https://localhost:8080/"
        },
        "id": "Jc7Oir_qC7P0",
        "outputId": "b5f6ace2-45f0-46d4-ea9f-5bf9238d1dd9"
      },
      "execution_count": 9,
      "outputs": [
        {
          "output_type": "execute_result",
          "data": {
            "text/plain": [
              "array([0, 1, 2, 3, 4, 5, 6, 7, 8])"
            ]
          },
          "metadata": {},
          "execution_count": 9
        }
      ]
    },
    {
      "cell_type": "markdown",
      "source": [
        "###Arange: Fazendo as etapas anteriores numa única sintaxe"
      ],
      "metadata": {
        "id": "GE4ugNIEDdzb"
      }
    },
    {
      "cell_type": "code",
      "source": [
        "array2 = np.arange(9)\n",
        "array2"
      ],
      "metadata": {
        "colab": {
          "base_uri": "https://localhost:8080/"
        },
        "id": "zMwv76gjDCis",
        "outputId": "f3325c18-a7f7-4255-e120-d8d79bacb409"
      },
      "execution_count": 10,
      "outputs": [
        {
          "output_type": "execute_result",
          "data": {
            "text/plain": [
              "array([0, 1, 2, 3, 4, 5, 6, 7, 8])"
            ]
          },
          "metadata": {},
          "execution_count": 10
        }
      ]
    },
    {
      "cell_type": "markdown",
      "source": [
        "###Start, stop, step"
      ],
      "metadata": {
        "id": "LA8H2X6WDo3M"
      }
    },
    {
      "cell_type": "code",
      "source": [
        "array3 = np.arange(0,10,0.5)\n",
        "array3"
      ],
      "metadata": {
        "colab": {
          "base_uri": "https://localhost:8080/"
        },
        "id": "Q1E_utxKDHJs",
        "outputId": "f7f93b02-4f34-45dc-da38-5f222c1d55ef"
      },
      "execution_count": 11,
      "outputs": [
        {
          "output_type": "execute_result",
          "data": {
            "text/plain": [
              "array([0. , 0.5, 1. , 1.5, 2. , 2.5, 3. , 3.5, 4. , 4.5, 5. , 5.5, 6. ,\n",
              "       6.5, 7. , 7.5, 8. , 8.5, 9. , 9.5])"
            ]
          },
          "metadata": {},
          "execution_count": 11
        }
      ]
    },
    {
      "cell_type": "markdown",
      "source": [
        "###Arredondando os valores obtidos"
      ],
      "metadata": {
        "id": "BXyswH9dEPk8"
      }
    },
    {
      "cell_type": "code",
      "source": [
        "novoArray = np.around(array3)\n",
        "novoArray"
      ],
      "metadata": {
        "colab": {
          "base_uri": "https://localhost:8080/"
        },
        "id": "qeo4HfljEDLU",
        "outputId": "9738349c-a079-4faf-ccd4-e371027b48f4"
      },
      "execution_count": 12,
      "outputs": [
        {
          "output_type": "execute_result",
          "data": {
            "text/plain": [
              "array([ 0.,  0.,  1.,  2.,  2.,  2.,  3.,  4.,  4.,  4.,  5.,  6.,  6.,\n",
              "        6.,  7.,  8.,  8.,  8.,  9., 10.])"
            ]
          },
          "metadata": {},
          "execution_count": 12
        }
      ]
    },
    {
      "cell_type": "markdown",
      "source": [
        "###Também podemos \"forçar\" o tipo dos elementos:"
      ],
      "metadata": {
        "id": "REd4thr6EbRU"
      }
    },
    {
      "cell_type": "code",
      "source": [
        "array3 = np.arange(0, 10, 0.5, dtype=int)\n",
        "array3"
      ],
      "metadata": {
        "colab": {
          "base_uri": "https://localhost:8080/"
        },
        "id": "iO-uOW1BEMLz",
        "outputId": "a64bd137-f777-4331-e54c-25078ff0ce21"
      },
      "execution_count": 13,
      "outputs": [
        {
          "output_type": "execute_result",
          "data": {
            "text/plain": [
              "array([0, 0, 0, 0, 0, 0, 0, 0, 0, 0, 0, 0, 0, 0, 0, 0, 0, 0, 0, 0])"
            ]
          },
          "metadata": {},
          "execution_count": 13
        }
      ]
    },
    {
      "cell_type": "markdown",
      "source": [
        "###Predeterminar o tipo dos elementos"
      ],
      "metadata": {
        "id": "o0-FxdLjFVhW"
      }
    },
    {
      "cell_type": "code",
      "source": [
        "array4 = np.arange(12)\n",
        "array4"
      ],
      "metadata": {
        "colab": {
          "base_uri": "https://localhost:8080/"
        },
        "id": "PFTUr5cYEmyU",
        "outputId": "a6794d25-f053-4098-c250-4dc3e74f7010"
      },
      "execution_count": 16,
      "outputs": [
        {
          "output_type": "execute_result",
          "data": {
            "text/plain": [
              "array([ 0,  1,  2,  3,  4,  5,  6,  7,  8,  9, 10, 11])"
            ]
          },
          "metadata": {},
          "execution_count": 16
        }
      ]
    },
    {
      "cell_type": "markdown",
      "source": [
        "###Preparando os elementos para trabalhar futuramente com tipos float"
      ],
      "metadata": {
        "id": "Cmuw7NXeFWEV"
      }
    },
    {
      "cell_type": "code",
      "source": [
        "array4 = np.arange(12.)\n",
        "array4"
      ],
      "metadata": {
        "colab": {
          "base_uri": "https://localhost:8080/"
        },
        "id": "oKucI4WeFPAc",
        "outputId": "efd9c90f-79ba-4567-cd79-c9fc223c662e"
      },
      "execution_count": 19,
      "outputs": [
        {
          "output_type": "execute_result",
          "data": {
            "text/plain": [
              "array([ 0.,  1.,  2.,  3.,  4.,  5.,  6.,  7.,  8.,  9., 10., 11.])"
            ]
          },
          "metadata": {},
          "execution_count": 19
        }
      ]
    },
    {
      "cell_type": "markdown",
      "source": [
        "###Tipo do objeto"
      ],
      "metadata": {
        "id": "9se9O58RGqQ0"
      }
    },
    {
      "cell_type": "code",
      "source": [
        "type(array4)"
      ],
      "metadata": {
        "colab": {
          "base_uri": "https://localhost:8080/"
        },
        "id": "z2bjtppUFT58",
        "outputId": "ead4423f-acfc-47ca-ad51-bd641b3d9c94"
      },
      "execution_count": 20,
      "outputs": [
        {
          "output_type": "execute_result",
          "data": {
            "text/plain": [
              "numpy.ndarray"
            ]
          },
          "metadata": {},
          "execution_count": 20
        }
      ]
    },
    {
      "cell_type": "markdown",
      "source": [
        "###Tipos dos elementos do array"
      ],
      "metadata": {
        "id": "o5NHkyM6G7Ul"
      }
    },
    {
      "cell_type": "code",
      "source": [
        "array4.dtype"
      ],
      "metadata": {
        "colab": {
          "base_uri": "https://localhost:8080/"
        },
        "id": "yGyLfUN2Gkpd",
        "outputId": "c8bd4b13-a32c-40d5-c645-2734d88bd713"
      },
      "execution_count": 21,
      "outputs": [
        {
          "output_type": "execute_result",
          "data": {
            "text/plain": [
              "dtype('float64')"
            ]
          },
          "metadata": {},
          "execution_count": 21
        }
      ]
    },
    {
      "cell_type": "markdown",
      "source": [
        "### Criar array digitando"
      ],
      "metadata": {
        "id": "rrlACoG_HOAk"
      }
    },
    {
      "cell_type": "code",
      "source": [
        "vetor1 = np.array([0,1,2,3,4])\n",
        "print(vetor1)"
      ],
      "metadata": {
        "colab": {
          "base_uri": "https://localhost:8080/"
        },
        "id": "c31QoeyiGolV",
        "outputId": "aab2a657-4fd9-46fb-ce0a-e82c81aa29dd"
      },
      "execution_count": 22,
      "outputs": [
        {
          "output_type": "stream",
          "name": "stdout",
          "text": [
            "[0 1 2 3 4]\n"
          ]
        }
      ]
    },
    {
      "cell_type": "markdown",
      "source": [
        "###Seleção especifica"
      ],
      "metadata": {
        "id": "pSNn2n0yHO0c"
      }
    },
    {
      "cell_type": "code",
      "source": [
        "vetor1[3]"
      ],
      "metadata": {
        "colab": {
          "base_uri": "https://localhost:8080/"
        },
        "id": "fv6vqRYYHGL1",
        "outputId": "df14e8a4-5362-4ec0-bda6-250e8eb037df"
      },
      "execution_count": 24,
      "outputs": [
        {
          "output_type": "execute_result",
          "data": {
            "text/plain": [
              "3"
            ]
          },
          "metadata": {},
          "execution_count": 24
        }
      ]
    },
    {
      "cell_type": "markdown",
      "source": [
        "###Selecionando intervalos"
      ],
      "metadata": {
        "id": "EZeP1J7VHPlO"
      }
    },
    {
      "cell_type": "code",
      "source": [
        "vetor1[0:2]"
      ],
      "metadata": {
        "colab": {
          "base_uri": "https://localhost:8080/"
        },
        "id": "oHaG0k1XHHR9",
        "outputId": "eab41452-2eba-42e1-908e-8b9122ab6535"
      },
      "execution_count": 25,
      "outputs": [
        {
          "output_type": "execute_result",
          "data": {
            "text/plain": [
              "array([0, 1])"
            ]
          },
          "metadata": {},
          "execution_count": 25
        }
      ]
    },
    {
      "cell_type": "markdown",
      "source": [
        "###Array de string"
      ],
      "metadata": {
        "id": "4W6pzoNWISfV"
      }
    },
    {
      "cell_type": "code",
      "source": [
        "s = np.array(['Python','Profissional','Java',\"Água\"])\n",
        "s"
      ],
      "metadata": {
        "colab": {
          "base_uri": "https://localhost:8080/"
        },
        "id": "BVe23pCaHMA1",
        "outputId": "82d337a4-3d58-4d1b-fc05-0b4047fd4c94"
      },
      "execution_count": 26,
      "outputs": [
        {
          "output_type": "execute_result",
          "data": {
            "text/plain": [
              "array(['Python', 'Profissional', 'Java', 'Água'], dtype='<U12')"
            ]
          },
          "metadata": {},
          "execution_count": 26
        }
      ]
    },
    {
      "cell_type": "code",
      "source": [
        "s = np.array(['Python',1464321315,'Java',\"Água\"])\n",
        "s"
      ],
      "metadata": {
        "colab": {
          "base_uri": "https://localhost:8080/"
        },
        "id": "t4IRfVHgIeHN",
        "outputId": "b39a7abf-c436-4be5-d07a-105fdc7aaf3e"
      },
      "execution_count": 28,
      "outputs": [
        {
          "output_type": "execute_result",
          "data": {
            "text/plain": [
              "array(['Python', '1464321315', 'Java', 'Água'], dtype='<U21')"
            ]
          },
          "metadata": {},
          "execution_count": 28
        }
      ]
    },
    {
      "cell_type": "markdown",
      "source": [
        "###Alterando um elemento Array"
      ],
      "metadata": {
        "id": "zZqclNIaJGSe"
      }
    },
    {
      "cell_type": "code",
      "source": [
        "vetor1[2] = 10\n",
        "vetor1"
      ],
      "metadata": {
        "colab": {
          "base_uri": "https://localhost:8080/"
        },
        "id": "ZUtt0e1kInKV",
        "outputId": "48eafe69-4565-4ee8-d772-82018088f77e"
      },
      "execution_count": 29,
      "outputs": [
        {
          "output_type": "execute_result",
          "data": {
            "text/plain": [
              "array([ 0,  1, 10,  3,  4])"
            ]
          },
          "metadata": {},
          "execution_count": 29
        }
      ]
    },
    {
      "cell_type": "markdown",
      "source": [
        "###Tentando incluir um elemento"
      ],
      "metadata": {
        "id": "de2nfmvpJdB2"
      }
    },
    {
      "cell_type": "code",
      "source": [
        "vetor1[0] = 'Novo Elemento'\n",
        "vetor1"
      ],
      "metadata": {
        "colab": {
          "base_uri": "https://localhost:8080/",
          "height": 183
        },
        "id": "ETSN4yruJN3N",
        "outputId": "5d3608af-7c67-4987-b7b4-1f967ef2d41d"
      },
      "execution_count": 30,
      "outputs": [
        {
          "output_type": "error",
          "ename": "ValueError",
          "evalue": "ignored",
          "traceback": [
            "\u001b[0;31m---------------------------------------------------------------------------\u001b[0m",
            "\u001b[0;31mValueError\u001b[0m                                Traceback (most recent call last)",
            "\u001b[0;32m<ipython-input-30-9c165cb695f1>\u001b[0m in \u001b[0;36m<module>\u001b[0;34m\u001b[0m\n\u001b[0;32m----> 1\u001b[0;31m \u001b[0mvetor1\u001b[0m\u001b[0;34m[\u001b[0m\u001b[0;36m0\u001b[0m\u001b[0;34m]\u001b[0m \u001b[0;34m=\u001b[0m \u001b[0;34m'Novo Elemento'\u001b[0m\u001b[0;34m\u001b[0m\u001b[0;34m\u001b[0m\u001b[0m\n\u001b[0m\u001b[1;32m      2\u001b[0m \u001b[0mvetor1\u001b[0m\u001b[0;34m\u001b[0m\u001b[0;34m\u001b[0m\u001b[0m\n",
            "\u001b[0;31mValueError\u001b[0m: invalid literal for int() with base 10: 'Novo Elemento'"
          ]
        }
      ]
    },
    {
      "cell_type": "code",
      "source": [
        "vetor1[0] = 45.6\n",
        "vetor1"
      ],
      "metadata": {
        "colab": {
          "base_uri": "https://localhost:8080/"
        },
        "id": "atEP5IJZJUyu",
        "outputId": "8e2a2027-2671-484a-8f04-ed9f29500d6c"
      },
      "execution_count": 31,
      "outputs": [
        {
          "output_type": "execute_result",
          "data": {
            "text/plain": [
              "array([45,  1, 10,  3,  4])"
            ]
          },
          "metadata": {},
          "execution_count": 31
        }
      ]
    },
    {
      "cell_type": "code",
      "source": [],
      "metadata": {
        "id": "5JgW38FAJaVm"
      },
      "execution_count": null,
      "outputs": []
    }
  ]
}