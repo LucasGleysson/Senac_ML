{
  "nbformat": 4,
  "nbformat_minor": 0,
  "metadata": {
    "colab": {
      "provenance": [],
      "authorship_tag": "ABX9TyOzxqDsDcXp+lguF5cr6tl9",
      "include_colab_link": true
    },
    "kernelspec": {
      "name": "python3",
      "display_name": "Python 3"
    },
    "language_info": {
      "name": "python"
    }
  },
  "cells": [
    {
      "cell_type": "markdown",
      "metadata": {
        "id": "view-in-github",
        "colab_type": "text"
      },
      "source": [
        "<a href=\"https://colab.research.google.com/github/LucasGleysson/Senac_ML/blob/master/ML_Aula_04.ipynb\" target=\"_parent\"><img src=\"https://colab.research.google.com/assets/colab-badge.svg\" alt=\"Open In Colab\"/></a>"
      ]
    },
    {
      "cell_type": "markdown",
      "source": [
        "# Estrutura de Repetição"
      ],
      "metadata": {
        "id": "qp_w76copT86"
      }
    },
    {
      "cell_type": "markdown",
      "source": [
        "##For"
      ],
      "metadata": {
        "id": "1xlrFyjQpUzO"
      }
    },
    {
      "cell_type": "code",
      "source": [
        "for elemento in [1,2,3,4,5,6]:\n",
        "  print('Estamos no elemento', elemento)"
      ],
      "metadata": {
        "colab": {
          "base_uri": "https://localhost:8080/"
        },
        "id": "WnDoOrT3vQji",
        "outputId": "2fef8e34-6ba6-4aef-9d34-6b544d943830"
      },
      "execution_count": null,
      "outputs": [
        {
          "output_type": "stream",
          "name": "stdout",
          "text": [
            "Estamos no elemento 1\n",
            "Estamos no elemento 2\n",
            "Estamos no elemento 3\n",
            "Estamos no elemento 4\n",
            "Estamos no elemento 5\n",
            "Estamos no elemento 6\n"
          ]
        }
      ]
    },
    {
      "cell_type": "code",
      "source": [
        "for elemento in 'STRING':\n",
        "  print('Estamos no elemento', elemento)"
      ],
      "metadata": {
        "colab": {
          "base_uri": "https://localhost:8080/"
        },
        "id": "xxJRDCirttX8",
        "outputId": "638d168c-7820-4661-8dcf-05c430a54432"
      },
      "execution_count": null,
      "outputs": [
        {
          "output_type": "stream",
          "name": "stdout",
          "text": [
            "Estamos no elemento S\n",
            "Estamos no elemento T\n",
            "Estamos no elemento R\n",
            "Estamos no elemento I\n",
            "Estamos no elemento N\n",
            "Estamos no elemento G\n"
          ]
        }
      ]
    },
    {
      "cell_type": "code",
      "source": [
        "for elemento in range(len('STRING')):\n",
        "  print('estamos no elemento', elemento)"
      ],
      "metadata": {
        "colab": {
          "base_uri": "https://localhost:8080/"
        },
        "id": "wuWvHg5Jw0tx",
        "outputId": "a6384878-e963-4229-cb9a-76b26548d63a"
      },
      "execution_count": null,
      "outputs": [
        {
          "output_type": "stream",
          "name": "stdout",
          "text": [
            "estamos no elemento 0\n",
            "estamos no elemento 1\n",
            "estamos no elemento 2\n",
            "estamos no elemento 3\n",
            "estamos no elemento 4\n",
            "estamos no elemento 5\n"
          ]
        }
      ]
    },
    {
      "cell_type": "markdown",
      "source": [
        "##while"
      ],
      "metadata": {
        "id": "IGE6C8oQx2DA"
      }
    },
    {
      "cell_type": "code",
      "source": [
        "elemento = 0"
      ],
      "metadata": {
        "id": "x6MvjI2cxa-9"
      },
      "execution_count": null,
      "outputs": []
    },
    {
      "cell_type": "code",
      "source": [
        "while elemento <= len([1,2,3,4,5,6]):\n",
        "  print('Estamos no elemento', elemento)\n",
        "  "
      ],
      "metadata": {
        "id": "QHtBP-_ZyR0p"
      },
      "execution_count": null,
      "outputs": []
    },
    {
      "cell_type": "code",
      "source": [
        "elemento = 0"
      ],
      "metadata": {
        "id": "BrSltTYmy4q9"
      },
      "execution_count": null,
      "outputs": []
    },
    {
      "cell_type": "code",
      "source": [
        "while elemento <= len([1,2,3,4,5,6]):\n",
        "  print('Estamos no elemento', elemento)\n",
        "  elemento += 1"
      ],
      "metadata": {
        "colab": {
          "base_uri": "https://localhost:8080/"
        },
        "id": "dHd1CTZKy6St",
        "outputId": "7ee9215a-7f2b-4494-8798-db13ecc5f325"
      },
      "execution_count": null,
      "outputs": [
        {
          "output_type": "stream",
          "name": "stdout",
          "text": [
            "Estamos no elemento 0\n",
            "Estamos no elemento 1\n",
            "Estamos no elemento 2\n",
            "Estamos no elemento 3\n",
            "Estamos no elemento 4\n",
            "Estamos no elemento 5\n",
            "Estamos no elemento 6\n"
          ]
        }
      ]
    },
    {
      "cell_type": "code",
      "source": [
        "s = 'STRING'\n",
        "indice = 0\n",
        "\n",
        "while indice in range(len(s)):\n",
        "  print('Estamos no element', s[indice])\n",
        "  indice += 1"
      ],
      "metadata": {
        "colab": {
          "base_uri": "https://localhost:8080/"
        },
        "id": "_XlcCVkny9u3",
        "outputId": "2886e3c0-bfe9-4bc8-cdc6-dcf6ec9d9093"
      },
      "execution_count": null,
      "outputs": [
        {
          "output_type": "stream",
          "name": "stdout",
          "text": [
            "Estamos no element S\n",
            "Estamos no element T\n",
            "Estamos no element R\n",
            "Estamos no element I\n",
            "Estamos no element N\n",
            "Estamos no element G\n"
          ]
        }
      ]
    },
    {
      "cell_type": "markdown",
      "source": [
        "##Enumerate"
      ],
      "metadata": {
        "id": "8Gs3Sfn71aNs"
      }
    },
    {
      "cell_type": "code",
      "source": [
        "palavra = 'tranquilo'\n",
        "for indice, letra in enumerate(palavra):\n",
        "  print(indice, letra)"
      ],
      "metadata": {
        "colab": {
          "base_uri": "https://localhost:8080/"
        },
        "id": "G7GHxoFcze30",
        "outputId": "0719b72d-584f-4e47-e7da-596e7e0fabe6"
      },
      "execution_count": null,
      "outputs": [
        {
          "output_type": "stream",
          "name": "stdout",
          "text": [
            "0 t\n",
            "1 r\n",
            "2 a\n",
            "3 n\n",
            "4 q\n",
            "5 u\n",
            "6 i\n",
            "7 l\n",
            "8 o\n"
          ]
        }
      ]
    },
    {
      "cell_type": "code",
      "source": [
        "lista = ['eat','sleep','repeat']\n",
        "palavra = 'geek'"
      ],
      "metadata": {
        "id": "tmmf39mJ1noU"
      },
      "execution_count": null,
      "outputs": []
    },
    {
      "cell_type": "code",
      "source": [
        "objeto1 = enumerate(lista)\n",
        "objeto2 = enumerate(palavra)"
      ],
      "metadata": {
        "id": "eVu5KeeO2WMZ"
      },
      "execution_count": null,
      "outputs": []
    },
    {
      "cell_type": "code",
      "source": [
        "print('Tipo:', type(objeto1))\n",
        "print(list(enumerate(lista)))"
      ],
      "metadata": {
        "colab": {
          "base_uri": "https://localhost:8080/"
        },
        "id": "wXeuBP6l2jh1",
        "outputId": "c5f75659-f428-4d7b-a026-3171bd1ce0ab"
      },
      "execution_count": null,
      "outputs": [
        {
          "output_type": "stream",
          "name": "stdout",
          "text": [
            "Tipo: <class 'enumerate'>\n",
            "[(0, 'eat'), (1, 'sleep'), (2, 'repeat')]\n"
          ]
        }
      ]
    },
    {
      "cell_type": "code",
      "source": [
        "print(list(enumerate(palavra,2)))"
      ],
      "metadata": {
        "colab": {
          "base_uri": "https://localhost:8080/"
        },
        "id": "1PZtYlgg26oI",
        "outputId": "feb3a5c1-d843-43fc-cee6-29b54d42e0d5"
      },
      "execution_count": null,
      "outputs": [
        {
          "output_type": "stream",
          "name": "stdout",
          "text": [
            "[(2, 'g'), (3, 'e'), (4, 'e'), (5, 'k')]\n"
          ]
        }
      ]
    },
    {
      "cell_type": "markdown",
      "source": [
        "##Quiz"
      ],
      "metadata": {
        "id": "ToTbYkwl-Lvz"
      }
    },
    {
      "cell_type": "markdown",
      "source": [
        "###1."
      ],
      "metadata": {
        "id": "H86jm8MF_Xww"
      }
    },
    {
      "cell_type": "code",
      "source": [
        "# \"Oi\" impresso 13 vezes\n",
        "s = 'viva o python'\n",
        "for ch in s:\n",
        "  print('Oi')"
      ],
      "metadata": {
        "colab": {
          "base_uri": "https://localhost:8080/"
        },
        "id": "u1Fq7SK33wyl",
        "outputId": "861977d0-1af0-4c7c-b438-18f5a76b05e8"
      },
      "execution_count": null,
      "outputs": [
        {
          "output_type": "stream",
          "name": "stdout",
          "text": [
            "Oi\n",
            "Oi\n",
            "Oi\n",
            "Oi\n",
            "Oi\n",
            "Oi\n",
            "Oi\n",
            "Oi\n",
            "Oi\n",
            "Oi\n",
            "Oi\n",
            "Oi\n",
            "Oi\n"
          ]
        }
      ]
    },
    {
      "cell_type": "markdown",
      "source": [
        "###2."
      ],
      "metadata": {
        "id": "BodWzZOG_aWZ"
      }
    },
    {
      "cell_type": "code",
      "source": [
        "# \"Oi\" impresso 5 vezes\n",
        "s = 'viva o python'\n",
        "for ch in s[3:8]:\n",
        "  print('Oi')"
      ],
      "metadata": {
        "colab": {
          "base_uri": "https://localhost:8080/"
        },
        "id": "qeMnaSYh4Fhl",
        "outputId": "35652bc0-0ae3-4009-8291-d4f12cbd105b"
      },
      "execution_count": null,
      "outputs": [
        {
          "output_type": "stream",
          "name": "stdout",
          "text": [
            "Oi\n",
            "Oi\n",
            "Oi\n",
            "Oi\n",
            "Oi\n"
          ]
        }
      ]
    },
    {
      "cell_type": "markdown",
      "source": [
        "##Desafios\n"
      ],
      "metadata": {
        "id": "Vdt-QNtW4aNO"
      }
    },
    {
      "cell_type": "markdown",
      "source": [
        "###1."
      ],
      "metadata": {
        "id": "PfBYQ751-qlA"
      }
    },
    {
      "cell_type": "code",
      "source": [
        "par = 0\n",
        "impar = 0\n",
        "for indice in range(1, 11): \n",
        "  numero = int(input(f'Digite o {indice}º numero: '))\n",
        "  if numero % 2 == 0:\n",
        "    par += 1\n",
        "  else:\n",
        "    impar += 1\n",
        "print(par, 'Numeros pares')\n",
        "print(impar, 'Numeros impares')"
      ],
      "metadata": {
        "colab": {
          "base_uri": "https://localhost:8080/"
        },
        "id": "yC9yIJvv4kIl",
        "outputId": "3450b440-b370-4ab3-e131-228d6c33f8a0"
      },
      "execution_count": null,
      "outputs": [
        {
          "output_type": "stream",
          "name": "stdout",
          "text": [
            "Digite o 1º numero: 1\n",
            "Digite o 2º numero: 2\n",
            "Digite o 3º numero: 3\n",
            "Digite o 4º numero: 6\n",
            "Digite o 5º numero: 0\n",
            "Digite o 6º numero: 9\n",
            "Digite o 7º numero: 7\n",
            "Digite o 8º numero: 12\n",
            "Digite o 9º numero: 4\n",
            "Digite o 10º numero: 678\n",
            "Quantidade de Numeros Pares:  6\n",
            "Quantidade de Numero Impares:  4\n"
          ]
        }
      ]
    },
    {
      "cell_type": "markdown",
      "source": [
        "###2."
      ],
      "metadata": {
        "id": "b_rBPLCF-tkl"
      }
    },
    {
      "cell_type": "code",
      "source": [
        "dia = input('Qual é o dia da semana? ').lower()\n",
        "\n",
        "while dia != 'domingo' and dia != 'sabado':\n",
        "  print('Você precisa trabalhar!\\n')\n",
        "\n",
        "  dia = input('Qual é o dia da semana? ').lower()\n",
        "  \n",
        "print('Hoje é dia de descanso!')"
      ],
      "metadata": {
        "colab": {
          "base_uri": "https://localhost:8080/"
        },
        "id": "pRUoWXUbJYQI",
        "outputId": "6423fb8b-8642-48d9-ae8b-a5f9af0c7251"
      },
      "execution_count": 6,
      "outputs": [
        {
          "output_type": "stream",
          "name": "stdout",
          "text": [
            "Qual é o dia da semana? quarta\n",
            "Você precisa trabalhar!\n",
            "\n",
            "Qual é o dia da semana? quinta\n",
            "Você precisa trabalhar!\n",
            "\n",
            "Qual é o dia da semana? segunda\n",
            "Você precisa trabalhar!\n",
            "\n",
            "Qual é o dia da semana? sabado\n",
            "Hoje é dia de descanso!\n"
          ]
        }
      ]
    },
    {
      "cell_type": "markdown",
      "source": [
        "###3."
      ],
      "metadata": {
        "id": "zhI-IuQw-yTV"
      }
    },
    {
      "cell_type": "code",
      "source": [
        "numeros = list(range(10))\n",
        "for n in numeros:\n",
        "  if n % 2 == 0:\n",
        "    print('Par:', n)\n",
        "  else:\n",
        "    print('Impar:', n*n)"
      ],
      "metadata": {
        "colab": {
          "base_uri": "https://localhost:8080/"
        },
        "id": "IZXXhF6X4lZ9",
        "outputId": "03f50d72-3b95-4fda-fcbf-426019bf4dd8"
      },
      "execution_count": null,
      "outputs": [
        {
          "output_type": "stream",
          "name": "stdout",
          "text": [
            "Par: 0\n",
            "Impar: 1\n",
            "Par: 2\n",
            "Impar: 9\n",
            "Par: 4\n",
            "Impar: 25\n",
            "Par: 6\n",
            "Impar: 49\n",
            "Par: 8\n",
            "Impar: 81\n"
          ]
        }
      ]
    },
    {
      "cell_type": "markdown",
      "source": [
        "###4."
      ],
      "metadata": {
        "id": "q_4NN5Yr-1B6"
      }
    },
    {
      "cell_type": "code",
      "source": [
        "vogais = ['a','e','i','o','u']\n",
        "\n",
        "palavra = input('Digite uma palavra: ')\n",
        "for indice, letra in enumerate(palavra):\n",
        "  if letra in vogais:\n",
        "    print('A vogal', letra.upper(), 'esta no indice', indice)"
      ],
      "metadata": {
        "id": "AypAJ6qo4lna",
        "colab": {
          "base_uri": "https://localhost:8080/"
        },
        "outputId": "458a8dd8-2eee-47a0-f9c0-f9e0ac856b9f"
      },
      "execution_count": 41,
      "outputs": [
        {
          "output_type": "stream",
          "name": "stdout",
          "text": [
            "Digite uma palavra: lucas\n",
            "A vogal  U esta no indice 1\n",
            "A vogal  A esta no indice 3\n"
          ]
        }
      ]
    },
    {
      "cell_type": "markdown",
      "source": [
        "##Prática"
      ],
      "metadata": {
        "id": "CDXmfwKh_BJI"
      }
    },
    {
      "cell_type": "markdown",
      "source": [
        "###1."
      ],
      "metadata": {
        "id": "twdssYsX-3ck"
      }
    },
    {
      "cell_type": "code",
      "source": [
        "for nome in ['Reginaldo', 'Gisele Pintcher', 'Scoob', 'Marlene','Zezinho',\n",
        "             'Cibele', 'Suely']:\n",
        "\n",
        "             convite = 'Oi,' + nome + \\\n",
        "            '! Por favor, venha para o sábado pet em minha casa!'\n",
        "             print(convite)"
      ],
      "metadata": {
        "colab": {
          "base_uri": "https://localhost:8080/"
        },
        "id": "2fFnf-IzDjzF",
        "outputId": "73ed9552-0492-4c1f-b904-b2d119f622da"
      },
      "execution_count": 44,
      "outputs": [
        {
          "output_type": "stream",
          "name": "stdout",
          "text": [
            "Oi,Reginaldo! Por favor, venha para o sábado pet em minha casa!\n",
            "Oi,Gisele Pintcher! Por favor, venha para o sábado pet em minha casa!\n",
            "Oi,Scoob! Por favor, venha para o sábado pet em minha casa!\n",
            "Oi,Marlene! Por favor, venha para o sábado pet em minha casa!\n",
            "Oi,Zezinho! Por favor, venha para o sábado pet em minha casa!\n",
            "Oi,Cibele! Por favor, venha para o sábado pet em minha casa!\n",
            "Oi,Suely! Por favor, venha para o sábado pet em minha casa!\n"
          ]
        }
      ]
    },
    {
      "cell_type": "markdown",
      "source": [
        "###2."
      ],
      "metadata": {
        "id": "gJolapJt-6mp"
      }
    },
    {
      "cell_type": "code",
      "source": [
        "frutas = ['Banana','Laranja','Morango','Abacate','Tomate']\n",
        "'Morango' in frutas"
      ],
      "metadata": {
        "colab": {
          "base_uri": "https://localhost:8080/"
        },
        "id": "0jxwkyXkE_Sl",
        "outputId": "d701c9cf-95e5-496c-c2eb-cf9fcbc71e68"
      },
      "execution_count": 43,
      "outputs": [
        {
          "output_type": "execute_result",
          "data": {
            "text/plain": [
              "True"
            ]
          },
          "metadata": {},
          "execution_count": 43
        }
      ]
    },
    {
      "cell_type": "markdown",
      "source": [
        "###3."
      ],
      "metadata": {
        "id": "0B2UG337_K_V"
      }
    },
    {
      "cell_type": "code",
      "source": [
        "for pares in range(100,151,2):\n",
        "  print(pares, end=' ')"
      ],
      "metadata": {
        "colab": {
          "base_uri": "https://localhost:8080/"
        },
        "id": "0xwGvBA-FlHR",
        "outputId": "5b28bd7b-7a3f-4db0-c0da-38c03e91a77f"
      },
      "execution_count": 47,
      "outputs": [
        {
          "output_type": "stream",
          "name": "stdout",
          "text": [
            "100 102 104 106 108 110 112 114 116 118 120 122 124 126 128 130 132 134 136 138 140 142 144 146 148 150 "
          ]
        }
      ]
    },
    {
      "cell_type": "markdown",
      "source": [
        "###4."
      ],
      "metadata": {
        "id": "W4uzPYhs_PVS"
      }
    },
    {
      "cell_type": "code",
      "source": [
        "temperatura = 40\n",
        "while temperatura > 25:\n",
        "  print(temperatura)\n",
        "  temperatura -= 1"
      ],
      "metadata": {
        "colab": {
          "base_uri": "https://localhost:8080/"
        },
        "id": "fenqdj8rGzAF",
        "outputId": "ee0bf724-4c83-4872-fd51-937ae42e1324"
      },
      "execution_count": 48,
      "outputs": [
        {
          "output_type": "stream",
          "name": "stdout",
          "text": [
            "40\n",
            "39\n",
            "38\n",
            "37\n",
            "36\n",
            "35\n",
            "34\n",
            "33\n",
            "32\n",
            "31\n",
            "30\n",
            "29\n",
            "28\n",
            "27\n",
            "26\n"
          ]
        }
      ]
    }
  ]
}