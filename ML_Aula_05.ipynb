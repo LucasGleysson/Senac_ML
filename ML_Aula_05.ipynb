{
  "nbformat": 4,
  "nbformat_minor": 0,
  "metadata": {
    "colab": {
      "provenance": [],
      "authorship_tag": "ABX9TyOQcTWtp2Dj/+4DzAuewORo",
      "include_colab_link": true
    },
    "kernelspec": {
      "name": "python3",
      "display_name": "Python 3"
    },
    "language_info": {
      "name": "python"
    }
  },
  "cells": [
    {
      "cell_type": "markdown",
      "metadata": {
        "id": "view-in-github",
        "colab_type": "text"
      },
      "source": [
        "<a href=\"https://colab.research.google.com/github/LucasGleysson/Senac_ML/blob/master/ML_Aula_05.ipynb\" target=\"_parent\"><img src=\"https://colab.research.google.com/assets/colab-badge.svg\" alt=\"Open In Colab\"/></a>"
      ]
    },
    {
      "cell_type": "markdown",
      "source": [
        "#Funções e Metodos"
      ],
      "metadata": {
        "id": "0v9zZG5EFDOx"
      }
    },
    {
      "cell_type": "markdown",
      "source": [
        "##Prática"
      ],
      "metadata": {
        "id": "fuAm0oFkFRcD"
      }
    },
    {
      "cell_type": "code",
      "execution_count": 7,
      "metadata": {
        "colab": {
          "base_uri": "https://localhost:8080/"
        },
        "id": "-WL4EYJTDt3O",
        "outputId": "69bdf40a-9f21-4157-9a3e-70711c7a4905"
      },
      "outputs": [
        {
          "output_type": "stream",
          "name": "stdout",
          "text": [
            "Numero: 0\n",
            "Numero: 1\n",
            "Numero: 2\n",
            "Numero: 3\n",
            "Numero: 4\n"
          ]
        }
      ],
      "source": [
        "def funcaoLeitura():\n",
        "  for i in range(5):\n",
        "    print('Numero:', i)\n",
        "\n",
        "\n",
        "funcaoLeitura()"
      ]
    },
    {
      "cell_type": "code",
      "source": [
        "def addNum(n1,n2):\n",
        "  print('O primeiro número é:', n1)\n",
        "  print('O segundo número é:', n2)\n",
        "  print('A soma é:', n1+n2)\n",
        "\n",
        "addNum(4,5)"
      ],
      "metadata": {
        "colab": {
          "base_uri": "https://localhost:8080/"
        },
        "id": "4q7GWwFCGTuS",
        "outputId": "207ec106-e57b-4090-ccd3-8a5a2ed295a5"
      },
      "execution_count": 8,
      "outputs": [
        {
          "output_type": "stream",
          "name": "stdout",
          "text": [
            "O primeiro número é: 4\n",
            "O segundo número é: 5\n",
            "A soma é: 9\n"
          ]
        }
      ]
    },
    {
      "cell_type": "code",
      "source": [
        "varGlobal = 10 # Essa é uma variável global\n",
        "def multiplicacao(num1, num2):\n",
        "  varGlobal = (num1 * num2) # Essa é uma varável local\n",
        "  print('Variavel da função Multiplicacao:', varGlobal)\n",
        "\n",
        "multiplicacao(5,4)\n",
        "print(varGlobal)"
      ],
      "metadata": {
        "colab": {
          "base_uri": "https://localhost:8080/"
        },
        "id": "kXYPUDiIOh3I",
        "outputId": "b61fde64-bcf4-46d7-d7c2-ad0b131086fb"
      },
      "execution_count": 14,
      "outputs": [
        {
          "output_type": "stream",
          "name": "stdout",
          "text": [
            "Variavel da função Multiplicacao: 20\n",
            "10\n"
          ]
        }
      ]
    },
    {
      "cell_type": "code",
      "source": [
        "def multiplica(num1, num2):\n",
        "  varLocal = (num1 * num2) # Essa é uma varável local\n",
        "  print('Variavel da função Multiplicacao:', varLocal)\n",
        "\n",
        "multiplica(5,4)"
      ],
      "metadata": {
        "colab": {
          "base_uri": "https://localhost:8080/"
        },
        "id": "hNp0McWVPfyw",
        "outputId": "37634b9f-c13a-4279-8ea1-b989c66c75c6"
      },
      "execution_count": 15,
      "outputs": [
        {
          "output_type": "stream",
          "name": "stdout",
          "text": [
            "Variavel da função Multiplicacao: 20\n"
          ]
        }
      ]
    },
    {
      "cell_type": "code",
      "source": [
        "print(varLocal)"
      ],
      "metadata": {
        "colab": {
          "base_uri": "https://localhost:8080/",
          "height": 167
        },
        "id": "Ca_Bj5j9P4nX",
        "outputId": "2ff91e10-ed62-45ed-8e99-268f39aa13a6"
      },
      "execution_count": 16,
      "outputs": [
        {
          "output_type": "error",
          "ename": "NameError",
          "evalue": "ignored",
          "traceback": [
            "\u001b[0;31m---------------------------------------------------------------------------\u001b[0m",
            "\u001b[0;31mNameError\u001b[0m                                 Traceback (most recent call last)",
            "\u001b[0;32m<ipython-input-16-6ff1d360d399>\u001b[0m in \u001b[0;36m<module>\u001b[0;34m\u001b[0m\n\u001b[0;32m----> 1\u001b[0;31m \u001b[0mprint\u001b[0m\u001b[0;34m(\u001b[0m\u001b[0mvarLocal\u001b[0m\u001b[0;34m)\u001b[0m\u001b[0;34m\u001b[0m\u001b[0;34m\u001b[0m\u001b[0m\n\u001b[0m",
            "\u001b[0;31mNameError\u001b[0m: name 'varLocal' is not defined"
          ]
        }
      ]
    },
    {
      "cell_type": "code",
      "source": [
        "for i in range(5): print(i)"
      ],
      "metadata": {
        "colab": {
          "base_uri": "https://localhost:8080/"
        },
        "id": "6Ee64KNQP6pu",
        "outputId": "b84b2289-89d6-409a-999d-045268ddd1ac"
      },
      "execution_count": 17,
      "outputs": [
        {
          "output_type": "stream",
          "name": "stdout",
          "text": [
            "0\n",
            "1\n",
            "2\n",
            "3\n",
            "4\n"
          ]
        }
      ]
    },
    {
      "cell_type": "code",
      "source": [
        "def separaTexto(texto): return texto.split()"
      ],
      "metadata": {
        "id": "vXoLy2qQRKpA"
      },
      "execution_count": 18,
      "outputs": []
    },
    {
      "cell_type": "code",
      "source": [
        "token = separaTexto('Cibele Maria')"
      ],
      "metadata": {
        "id": "VzCJZt08RuL5"
      },
      "execution_count": 19,
      "outputs": []
    },
    {
      "cell_type": "code",
      "source": [
        "print(token)"
      ],
      "metadata": {
        "colab": {
          "base_uri": "https://localhost:8080/"
        },
        "id": "09H4pakDTaQQ",
        "outputId": "6437f009-0dfc-4595-9a1f-9bdfeba9cad9"
      },
      "execution_count": 20,
      "outputs": [
        {
          "output_type": "stream",
          "name": "stdout",
          "text": [
            "['Cibele', 'Maria']\n"
          ]
        }
      ]
    },
    {
      "cell_type": "code",
      "source": [
        "# Quando não sabemos a quantidade de parametros\n",
        "def variosParametros(*parametros):\n",
        "  for n, item in enumerate(parametros):\n",
        "    print('O parâmetro %d é:' %(n), item)\n",
        "  return;"
      ],
      "metadata": {
        "id": "-vV-cRY1TcWV"
      },
      "execution_count": 21,
      "outputs": []
    },
    {
      "cell_type": "code",
      "source": [
        "variosParametros('pitomba','jambo','siriguela','umbu')"
      ],
      "metadata": {
        "colab": {
          "base_uri": "https://localhost:8080/"
        },
        "id": "_cDOS7mMUwKQ",
        "outputId": "bcd50fb2-e619-4f04-ce89-ac5d78aab105"
      },
      "execution_count": 22,
      "outputs": [
        {
          "output_type": "stream",
          "name": "stdout",
          "text": [
            "O parâmetro 0 é: pitomba\n",
            "O parâmetro 1 é: jambo\n",
            "O parâmetro 2 é: siriguela\n",
            "O parâmetro 3 é: umbu\n"
          ]
        }
      ]
    },
    {
      "cell_type": "code",
      "source": [
        "import math # Pacote com um conjunto de funções matemático\n",
        "\n",
        "def numPrimo(num):\n",
        "  # Verificando se um Número é primo\n",
        "  if (num%2) == 0 and num>2:\n",
        "    return ('Este número não é primo')\n",
        "  for i in range(3, int(math.sqrt(num)) + 1, 2):\n",
        "    if (num % i) == 0:\n",
        "      return ('Este numero não é primo')\n",
        "  return ('Este número é primo')"
      ],
      "metadata": {
        "id": "0OM6_ByEVRHP"
      },
      "execution_count": 23,
      "outputs": []
    },
    {
      "cell_type": "code",
      "source": [
        "numPrimo(47)"
      ],
      "metadata": {
        "colab": {
          "base_uri": "https://localhost:8080/",
          "height": 35
        },
        "id": "bbtgCKNfXQ9_",
        "outputId": "83351478-070b-4899-c196-4b9abea73694"
      },
      "execution_count": 25,
      "outputs": [
        {
          "output_type": "execute_result",
          "data": {
            "text/plain": [
              "'Este número é primo'"
            ],
            "application/vnd.google.colaboratory.intrinsic+json": {
              "type": "string"
            }
          },
          "metadata": {},
          "execution_count": 25
        }
      ]
    },
    {
      "cell_type": "code",
      "source": [
        "def soma(n1, n2):\n",
        "  return n1+n2\n",
        "\n",
        "def subtrai(n1, n2):\n",
        "  return n1-n2\n",
        "\n",
        "def multiplica(n1, n2):\n",
        "  return n1*n2\n",
        "\n",
        "def divide(n1, n2):\n",
        "  return n1/n2"
      ],
      "metadata": {
        "id": "tPtN9dQFYRpX"
      },
      "execution_count": 30,
      "outputs": []
    },
    {
      "cell_type": "code",
      "source": [
        "while True:\n",
        "  print('+==================+')\n",
        "  print('| MENU DE OPERAÇÕES')\n",
        "  print('| 1 - somar        ')\n",
        "  print('| 2 - subitrair    ')\n",
        "  print('| 3 - multiplicar  ')\n",
        "  print('| 4 - dividir      ')\n",
        "  print('| 0 - sair         ')\n",
        "  print('+==================+')\n",
        "\n",
        "  op = int(input())\n",
        "  if op==0:\n",
        "    break\n",
        "  \n",
        "  n1 = int(input('Primeiro numero: '))\n",
        "  n2 = int(input('Segundo numero: '))\n",
        "\n",
        "  if op==1:\n",
        "    print('O resultado da soma é:', soma(n1,n2))\n",
        "  elif op==2:\n",
        "    print('O resultado da subtração é:', subtrai(n1,n2))\n",
        "  elif op==3:\n",
        "    print('O resultado da multiplicação e:', multiplica(n1,n2))\n",
        "  elif op==4:\n",
        "    print('O resultado da divisão é:', divide(n1,n2))\n"
      ],
      "metadata": {
        "colab": {
          "base_uri": "https://localhost:8080/"
        },
        "id": "0tfTbCeHY4NP",
        "outputId": "9bd2691f-8c4d-4cef-f021-f8535b10e0bb"
      },
      "execution_count": 32,
      "outputs": [
        {
          "name": "stdout",
          "output_type": "stream",
          "text": [
            "+==================+\n",
            "| MENU DE OPERAÇÕES\n",
            "| 1 - somar        \n",
            "| 2 - subitrair    \n",
            "| 3 - multiplicar  \n",
            "| 4 - dividir      \n",
            "| 0 - sair         \n",
            "+==================+\n",
            "1\n",
            "Primeiro numero: 3\n",
            "Segundo numero: 4\n",
            "O resultado da soma é: 7\n",
            "+==================+\n",
            "| MENU DE OPERAÇÕES\n",
            "| 1 - somar        \n",
            "| 2 - subitrair    \n",
            "| 3 - multiplicar  \n",
            "| 4 - dividir      \n",
            "| 0 - sair         \n",
            "+==================+\n",
            "0\n"
          ]
        }
      ]
    },
    {
      "cell_type": "code",
      "source": [
        "class Pessoa():\n",
        "  def __init__(self, n, i):\n",
        "    self.nome = n\n",
        "    self.idade = i\n",
        "\n",
        "  def apresentacao(self):\n",
        "    print('Seja bem vindo ao sistema SENAC!')\n",
        "  \n",
        "\n",
        "class PessoaFisica():\n",
        "  def __init__(self, n, i, cpf):\n",
        "    self.nome = n\n",
        "    self.idade = i\n",
        "    self.cpf = cpf\n",
        "\n",
        "  def apresentacao(self):\n",
        "    print('Seja bem vindo ao sistema SENAC!')\n",
        "\n",
        "  def impostoDeRenda(self, *salario):\n",
        "    s = sum(salario)\n",
        "    ir = s*0.015\n",
        "    print('O valor do seu imposto de renda é R$', ir)\n",
        "    return ir\n",
        "  \n",
        "\n",
        "class PessoaJuridica():\n",
        "  def __init__(self, n, i, cnpj):\n",
        "    self.nome = n\n",
        "    self.idade = i\n",
        "    self.cnpj = cnpj\n",
        "\n",
        "  def apresentacao(self):\n",
        "    print('Seja bem vindo ao Python!')\n",
        "\n",
        "  def impostoDeRenda(self, *salario):\n",
        "    s = sum(salario)\n",
        "    ir = s*0.010\n",
        "    print('O valor do seu imposto de renda é R$', ir)\n",
        "    return ir"
      ],
      "metadata": {
        "id": "o1wXJrzLb9Qv"
      },
      "execution_count": 33,
      "outputs": []
    },
    {
      "cell_type": "code",
      "source": [
        "nome = str(input('Nome: '))\n",
        "age = int(input('Idade: '))\n",
        "cnpj = int(input('CNPJ: '))\n",
        "\n",
        "serumaninho = Pessoa(nome, age)\n",
        "comunidade = PessoaJuridica(nome, age, cnpj)"
      ],
      "metadata": {
        "colab": {
          "base_uri": "https://localhost:8080/"
        },
        "id": "-ePkPUNZgAkZ",
        "outputId": "ffbfee86-6afd-4045-dd5f-f7d38442c069"
      },
      "execution_count": 34,
      "outputs": [
        {
          "name": "stdout",
          "output_type": "stream",
          "text": [
            "Nome: Lucas\n",
            "Idade: 22\n",
            "CNPJ: 1234535345\n"
          ]
        }
      ]
    },
    {
      "cell_type": "code",
      "source": [
        "serumaninho.nome"
      ],
      "metadata": {
        "colab": {
          "base_uri": "https://localhost:8080/",
          "height": 35
        },
        "id": "sSajhu6PhHXv",
        "outputId": "859ea301-676c-45a9-83d7-da446c64be6a"
      },
      "execution_count": 36,
      "outputs": [
        {
          "output_type": "execute_result",
          "data": {
            "text/plain": [
              "'Lucas'"
            ],
            "application/vnd.google.colaboratory.intrinsic+json": {
              "type": "string"
            }
          },
          "metadata": {},
          "execution_count": 36
        }
      ]
    },
    {
      "cell_type": "code",
      "source": [
        "serumaninho.idade"
      ],
      "metadata": {
        "colab": {
          "base_uri": "https://localhost:8080/"
        },
        "id": "O6vEQDp8hoX6",
        "outputId": "e46b1032-bee8-41bb-a18b-74be7551fe39"
      },
      "execution_count": 39,
      "outputs": [
        {
          "output_type": "execute_result",
          "data": {
            "text/plain": [
              "22"
            ]
          },
          "metadata": {},
          "execution_count": 39
        }
      ]
    },
    {
      "cell_type": "code",
      "source": [
        "serumaninho.apresentacao()"
      ],
      "metadata": {
        "colab": {
          "base_uri": "https://localhost:8080/"
        },
        "id": "5ww_S9spg5rF",
        "outputId": "f2580a12-f7d7-4a6a-8d5e-438c935e05b1"
      },
      "execution_count": 35,
      "outputs": [
        {
          "output_type": "stream",
          "name": "stdout",
          "text": [
            "Seja bem vindo ao sistema SENAC!\n"
          ]
        }
      ]
    },
    {
      "cell_type": "code",
      "source": [
        "comunidade.cnpj"
      ],
      "metadata": {
        "colab": {
          "base_uri": "https://localhost:8080/"
        },
        "id": "HfuI2abhhLs1",
        "outputId": "73f0de2f-0779-41a2-b3e8-4d8879e4c073"
      },
      "execution_count": 37,
      "outputs": [
        {
          "output_type": "execute_result",
          "data": {
            "text/plain": [
              "1234535345"
            ]
          },
          "metadata": {},
          "execution_count": 37
        }
      ]
    },
    {
      "cell_type": "code",
      "source": [
        "salario = float(input('Receita: '))\n",
        "comunidade.impostoDeRenda(salario)\n",
        "print('Fim!')"
      ],
      "metadata": {
        "id": "8xHccecThXXw"
      },
      "execution_count": null,
      "outputs": []
    }
  ]
}