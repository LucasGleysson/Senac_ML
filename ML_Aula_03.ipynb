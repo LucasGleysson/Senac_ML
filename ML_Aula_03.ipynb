{
  "nbformat": 4,
  "nbformat_minor": 0,
  "metadata": {
    "colab": {
      "provenance": [],
      "toc_visible": true,
      "authorship_tag": "ABX9TyOA95gqGqsz7TNsvDNL+0D2",
      "include_colab_link": true
    },
    "kernelspec": {
      "name": "python3",
      "display_name": "Python 3"
    },
    "language_info": {
      "name": "python"
    }
  },
  "cells": [
    {
      "cell_type": "markdown",
      "metadata": {
        "id": "view-in-github",
        "colab_type": "text"
      },
      "source": [
        "<a href=\"https://colab.research.google.com/github/LucasGleysson/Senac_ML/blob/master/ML_Aula_03.ipynb\" target=\"_parent\"><img src=\"https://colab.research.google.com/assets/colab-badge.svg\" alt=\"Open In Colab\"/></a>"
      ]
    },
    {
      "cell_type": "markdown",
      "source": [
        "## Estrutura de Dados em Python"
      ],
      "metadata": {
        "id": "k7AogAnBlA8q"
      }
    },
    {
      "cell_type": "markdown",
      "source": [
        "## Listas"
      ],
      "metadata": {
        "id": "n2ynRWfklJtF"
      }
    },
    {
      "cell_type": "markdown",
      "source": [
        "### Listas vazias"
      ],
      "metadata": {
        "id": "LJ9RmBoflabB"
      }
    },
    {
      "cell_type": "code",
      "execution_count": 1,
      "metadata": {
        "id": "ddTu0pRKkC34"
      },
      "outputs": [],
      "source": [
        "L = []"
      ]
    },
    {
      "cell_type": "code",
      "source": [
        "L = list() # construtor de listas"
      ],
      "metadata": {
        "id": "Z7jeZZJzlOty"
      },
      "execution_count": 2,
      "outputs": []
    },
    {
      "cell_type": "markdown",
      "source": [
        "### Listas com 3 elemetos"
      ],
      "metadata": {
        "id": "XSB3kEcflhvS"
      }
    },
    {
      "cell_type": "code",
      "source": [
        "dias = [3,1,10]"
      ],
      "metadata": {
        "id": "IBVf_o0dlVqx"
      },
      "execution_count": 3,
      "outputs": []
    },
    {
      "cell_type": "code",
      "source": [
        "dias[0]"
      ],
      "metadata": {
        "colab": {
          "base_uri": "https://localhost:8080/"
        },
        "id": "GAdalhNklpZS",
        "outputId": "b49d56b9-e172-4f37-c357-dc3839e9c631"
      },
      "execution_count": 4,
      "outputs": [
        {
          "output_type": "execute_result",
          "data": {
            "text/plain": [
              "3"
            ]
          },
          "metadata": {},
          "execution_count": 4
        }
      ]
    },
    {
      "cell_type": "code",
      "source": [
        "dias[1]"
      ],
      "metadata": {
        "colab": {
          "base_uri": "https://localhost:8080/"
        },
        "id": "f3diSuXWlqDi",
        "outputId": "4a227b38-99c3-45d5-c121-bc5a235c463d"
      },
      "execution_count": 5,
      "outputs": [
        {
          "output_type": "execute_result",
          "data": {
            "text/plain": [
              "1"
            ]
          },
          "metadata": {},
          "execution_count": 5
        }
      ]
    },
    {
      "cell_type": "code",
      "source": [
        "dias[2]"
      ],
      "metadata": {
        "colab": {
          "base_uri": "https://localhost:8080/"
        },
        "id": "59uHYKDLluDa",
        "outputId": "07886820-4614-4c7f-eb57-eb4d2c9e0bd7"
      },
      "execution_count": 6,
      "outputs": [
        {
          "output_type": "execute_result",
          "data": {
            "text/plain": [
              "10"
            ]
          },
          "metadata": {},
          "execution_count": 6
        }
      ]
    },
    {
      "cell_type": "code",
      "source": [],
      "metadata": {
        "id": "2XWdx29vlusi"
      },
      "execution_count": null,
      "outputs": []
    },
    {
      "cell_type": "markdown",
      "source": [
        "###Modificando listas"
      ],
      "metadata": {
        "id": "4JbQZ8OylrO0"
      }
    },
    {
      "cell_type": "code",
      "source": [
        "Z = [3,8,9]"
      ],
      "metadata": {
        "id": "afgLXjWvl1VS"
      },
      "execution_count": 7,
      "outputs": []
    },
    {
      "cell_type": "code",
      "source": [
        "Z[0] = 7"
      ],
      "metadata": {
        "id": "KLaqmb2Sl32q"
      },
      "execution_count": 8,
      "outputs": []
    },
    {
      "cell_type": "code",
      "source": [
        "Z"
      ],
      "metadata": {
        "colab": {
          "base_uri": "https://localhost:8080/"
        },
        "id": "DUjyhN_5l7Ta",
        "outputId": "710d2206-62b3-4591-9445-68a1859f0317"
      },
      "execution_count": 9,
      "outputs": [
        {
          "output_type": "execute_result",
          "data": {
            "text/plain": [
              "[7, 8, 9]"
            ]
          },
          "metadata": {},
          "execution_count": 9
        }
      ]
    },
    {
      "cell_type": "code",
      "source": [
        "V = 67589 \n",
        "L = V"
      ],
      "metadata": {
        "id": "vqqaLjLPl79z"
      },
      "execution_count": 10,
      "outputs": []
    },
    {
      "cell_type": "code",
      "source": [
        "L"
      ],
      "metadata": {
        "colab": {
          "base_uri": "https://localhost:8080/"
        },
        "id": "HJ2xBBR_mJ9q",
        "outputId": "b5445b0a-b0cd-4cf5-aeeb-c903f23509a5"
      },
      "execution_count": 11,
      "outputs": [
        {
          "output_type": "execute_result",
          "data": {
            "text/plain": [
              "67589"
            ]
          },
          "metadata": {},
          "execution_count": 11
        }
      ]
    },
    {
      "cell_type": "markdown",
      "source": [
        "###Clonando listas"
      ],
      "metadata": {
        "id": "avBoHO6lmShi"
      }
    },
    {
      "cell_type": "code",
      "source": [
        "a = [81,82,83]"
      ],
      "metadata": {
        "id": "SeW7AttvmLwy"
      },
      "execution_count": 12,
      "outputs": []
    },
    {
      "cell_type": "code",
      "source": [
        "b = a[:] #Cria um clone com fatia"
      ],
      "metadata": {
        "id": "26AFxmf3mkZi"
      },
      "execution_count": 13,
      "outputs": []
    },
    {
      "cell_type": "code",
      "source": [
        "print(a == b)"
      ],
      "metadata": {
        "colab": {
          "base_uri": "https://localhost:8080/"
        },
        "id": "vkhBJhI0mlwq",
        "outputId": "38b3b711-5f06-45c8-a420-f7489d02a490"
      },
      "execution_count": 14,
      "outputs": [
        {
          "output_type": "stream",
          "name": "stdout",
          "text": [
            "True\n"
          ]
        }
      ]
    },
    {
      "cell_type": "code",
      "source": [
        "print(a is b)"
      ],
      "metadata": {
        "colab": {
          "base_uri": "https://localhost:8080/"
        },
        "id": "p_iRvG5wmmhC",
        "outputId": "e69b6b64-d78c-432d-d2ef-7ebbee493a1e"
      },
      "execution_count": 15,
      "outputs": [
        {
          "output_type": "stream",
          "name": "stdout",
          "text": [
            "False\n"
          ]
        }
      ]
    },
    {
      "cell_type": "code",
      "source": [
        "b[0] = 5"
      ],
      "metadata": {
        "id": "er2qAWDRmsYS"
      },
      "execution_count": 18,
      "outputs": []
    },
    {
      "cell_type": "code",
      "source": [
        "print(a)"
      ],
      "metadata": {
        "colab": {
          "base_uri": "https://localhost:8080/"
        },
        "id": "EbrovNRmmoYa",
        "outputId": "8eca0a22-60b5-4f2c-e459-afe515037fa8"
      },
      "execution_count": 19,
      "outputs": [
        {
          "output_type": "stream",
          "name": "stdout",
          "text": [
            "[81, 82, 83]\n"
          ]
        }
      ]
    },
    {
      "cell_type": "code",
      "source": [
        "print(b)"
      ],
      "metadata": {
        "colab": {
          "base_uri": "https://localhost:8080/"
        },
        "id": "6YMOhOY2mpDS",
        "outputId": "9364e838-01f1-459e-e5b0-1ad5fb55139d"
      },
      "execution_count": 20,
      "outputs": [
        {
          "output_type": "stream",
          "name": "stdout",
          "text": [
            "[5, 82, 83]\n"
          ]
        }
      ]
    },
    {
      "cell_type": "markdown",
      "source": [
        "### Fatiamento de Listas"
      ],
      "metadata": {
        "id": "R4oeQz5QnK_i"
      }
    },
    {
      "cell_type": "code",
      "source": [
        "uma_lista = ['a','b','c','d','e','f']"
      ],
      "metadata": {
        "id": "gUPsnKtdmpqi"
      },
      "execution_count": 23,
      "outputs": []
    },
    {
      "cell_type": "code",
      "source": [
        "print(uma_lista[1:3])"
      ],
      "metadata": {
        "colab": {
          "base_uri": "https://localhost:8080/"
        },
        "id": "H2hhCNCLm346",
        "outputId": "625935c4-c1e9-409b-f5d9-0c423f21be99"
      },
      "execution_count": 24,
      "outputs": [
        {
          "output_type": "stream",
          "name": "stdout",
          "text": [
            "['b', 'c']\n"
          ]
        }
      ]
    },
    {
      "cell_type": "code",
      "source": [
        "print(uma_lista[:4])"
      ],
      "metadata": {
        "colab": {
          "base_uri": "https://localhost:8080/"
        },
        "id": "sX3rc_Tem8ZC",
        "outputId": "22e22d46-8e3c-4b49-c641-aeb119d018af"
      },
      "execution_count": 25,
      "outputs": [
        {
          "output_type": "stream",
          "name": "stdout",
          "text": [
            "['a', 'b', 'c', 'd']\n"
          ]
        }
      ]
    },
    {
      "cell_type": "code",
      "source": [
        "print(uma_lista[3:])"
      ],
      "metadata": {
        "colab": {
          "base_uri": "https://localhost:8080/"
        },
        "id": "0tKXe0p6nB9q",
        "outputId": "007f88b1-6228-45bb-93ea-c53944a82008"
      },
      "execution_count": 26,
      "outputs": [
        {
          "output_type": "stream",
          "name": "stdout",
          "text": [
            "['d', 'e', 'f']\n"
          ]
        }
      ]
    },
    {
      "cell_type": "code",
      "source": [
        "print(uma_lista[:])"
      ],
      "metadata": {
        "colab": {
          "base_uri": "https://localhost:8080/"
        },
        "id": "T5EtrHOXnEZB",
        "outputId": "d75e1f22-d86b-41b0-edb1-50dda332c37e"
      },
      "execution_count": 27,
      "outputs": [
        {
          "output_type": "stream",
          "name": "stdout",
          "text": [
            "['a', 'b', 'c', 'd', 'e', 'f']\n"
          ]
        }
      ]
    },
    {
      "cell_type": "markdown",
      "source": [
        "#### Desafios"
      ],
      "metadata": {
        "id": "r94yABG5sZ50"
      }
    },
    {
      "cell_type": "code",
      "source": [
        "a = [1,2,3]"
      ],
      "metadata": {
        "id": "0b42diAEnGjZ"
      },
      "execution_count": 28,
      "outputs": []
    },
    {
      "cell_type": "code",
      "source": [
        "b = a[:]"
      ],
      "metadata": {
        "id": "0X9PbSL2oWdS"
      },
      "execution_count": 29,
      "outputs": []
    },
    {
      "cell_type": "code",
      "source": [
        "b[0] = 5"
      ],
      "metadata": {
        "id": "vz4b6S0voZHy"
      },
      "execution_count": 30,
      "outputs": []
    },
    {
      "cell_type": "code",
      "source": [
        "print(a[3])"
      ],
      "metadata": {
        "colab": {
          "base_uri": "https://localhost:8080/",
          "height": 165
        },
        "id": "U71ngegfoa0S",
        "outputId": "bfcb93a1-cafe-49ce-86ab-3a4927281685"
      },
      "execution_count": 31,
      "outputs": [
        {
          "output_type": "error",
          "ename": "IndexError",
          "evalue": "ignored",
          "traceback": [
            "\u001b[0;31m---------------------------------------------------------------------------\u001b[0m",
            "\u001b[0;31mIndexError\u001b[0m                                Traceback (most recent call last)",
            "\u001b[0;32m<ipython-input-31-5451d47c444b>\u001b[0m in \u001b[0;36m<module>\u001b[0;34m\u001b[0m\n\u001b[0;32m----> 1\u001b[0;31m \u001b[0mprint\u001b[0m\u001b[0;34m(\u001b[0m\u001b[0ma\u001b[0m\u001b[0;34m[\u001b[0m\u001b[0;36m3\u001b[0m\u001b[0;34m]\u001b[0m\u001b[0;34m)\u001b[0m\u001b[0;34m\u001b[0m\u001b[0;34m\u001b[0m\u001b[0m\n\u001b[0m",
            "\u001b[0;31mIndexError\u001b[0m: list index out of range"
          ]
        }
      ]
    },
    {
      "cell_type": "code",
      "source": [
        "minhaLista = [76,92.3,'oi,',True,4,76]"
      ],
      "metadata": {
        "id": "dxD0EKIpoctS"
      },
      "execution_count": 73,
      "outputs": []
    },
    {
      "cell_type": "code",
      "source": [
        "minhaLista = [76,92.3,'oi,',True,4,76]\n",
        "minhaLista += ['pitomba']\n",
        "minhaLista += [76]\n",
        "minhaLista"
      ],
      "metadata": {
        "colab": {
          "base_uri": "https://localhost:8080/"
        },
        "id": "shDrMahxpBhT",
        "outputId": "fcd42a28-9e75-4dee-e472-60e646672e70"
      },
      "execution_count": 74,
      "outputs": [
        {
          "output_type": "execute_result",
          "data": {
            "text/plain": [
              "[76, 92.3, 'oi,', True, 4, 76, 'pitomba', 76]"
            ]
          },
          "metadata": {},
          "execution_count": 74
        }
      ]
    },
    {
      "cell_type": "code",
      "source": [
        "minhaLista = [76,92.3,'oi,',True,4,76]\n",
        "minhaLista[2] = 'Cibele'\n",
        "minhaLista"
      ],
      "metadata": {
        "colab": {
          "base_uri": "https://localhost:8080/"
        },
        "id": "MB2lugmDpRFb",
        "outputId": "14dfeb5d-31d4-48ca-e61c-3775c02eae36"
      },
      "execution_count": 75,
      "outputs": [
        {
          "output_type": "execute_result",
          "data": {
            "text/plain": [
              "[76, 92.3, 'Cibele', True, 4, 76, 'pitomba', 76]"
            ]
          },
          "metadata": {},
          "execution_count": 75
        }
      ]
    },
    {
      "cell_type": "code",
      "source": [
        "minhaLista = [76,92.3,'oi,',True,4,76]\n",
        "minhaLista[0] = 99\n",
        "minhaLista"
      ],
      "metadata": {
        "colab": {
          "base_uri": "https://localhost:8080/"
        },
        "id": "TricZw8npacL",
        "outputId": "5042f4e6-4d58-4ff2-b32c-367e22fb68e2"
      },
      "execution_count": 76,
      "outputs": [
        {
          "output_type": "execute_result",
          "data": {
            "text/plain": [
              "[99, 92.3, 'Cibele', True, 4, 76, 'pitomba', 76]"
            ]
          },
          "metadata": {},
          "execution_count": 76
        }
      ]
    },
    {
      "cell_type": "code",
      "source": [
        "minhaLista = [76,92.3,'oi',True,4,76]\n",
        "print(minhaLista[2])"
      ],
      "metadata": {
        "colab": {
          "base_uri": "https://localhost:8080/"
        },
        "id": "jN00K4j4qx_E",
        "outputId": "d2d7f473-a627-4dac-b067-c3b0dd7bc882"
      },
      "execution_count": 79,
      "outputs": [
        {
          "output_type": "stream",
          "name": "stdout",
          "text": [
            "oi,\n"
          ]
        }
      ]
    },
    {
      "cell_type": "code",
      "source": [
        "uma_lista = [4,2,8,6,5]"
      ],
      "metadata": {
        "id": "B0PftGLHrR-E"
      },
      "execution_count": 68,
      "outputs": []
    },
    {
      "cell_type": "code",
      "source": [
        "uma_lista = uma_lista + [\"Cibele\"]"
      ],
      "metadata": {
        "id": "a_5iUjdWrZrT"
      },
      "execution_count": 69,
      "outputs": []
    },
    {
      "cell_type": "code",
      "source": [
        "print(uma_lista)"
      ],
      "metadata": {
        "colab": {
          "base_uri": "https://localhost:8080/"
        },
        "id": "KVsTJBUVrfbU",
        "outputId": "97daa350-9bde-40f6-dcc3-299ebc1e1bda"
      },
      "execution_count": 70,
      "outputs": [
        {
          "output_type": "stream",
          "name": "stdout",
          "text": [
            "[4, 2, 8, 6, 5, 'Cibele']\n"
          ]
        }
      ]
    },
    {
      "cell_type": "markdown",
      "source": [
        "## Tuplas"
      ],
      "metadata": {
        "id": "LPpikJMpsfNL"
      }
    },
    {
      "cell_type": "markdown",
      "source": [
        "### Criando Tuplas"
      ],
      "metadata": {
        "id": "mhKeInPCtqE8"
      }
    },
    {
      "cell_type": "code",
      "source": [
        "tupla_numeros = (10, 20, 30)"
      ],
      "metadata": {
        "id": "SnGADdXzrhg8"
      },
      "execution_count": 77,
      "outputs": []
    },
    {
      "cell_type": "code",
      "source": [
        "tupla_numeros"
      ],
      "metadata": {
        "colab": {
          "base_uri": "https://localhost:8080/"
        },
        "id": "WUJimHw0snHL",
        "outputId": "9071c206-79d8-480c-ac3b-b7ac8410d14a"
      },
      "execution_count": 78,
      "outputs": [
        {
          "output_type": "execute_result",
          "data": {
            "text/plain": [
              "(10, 20, 30)"
            ]
          },
          "metadata": {},
          "execution_count": 78
        }
      ]
    },
    {
      "cell_type": "markdown",
      "source": [
        "### Sem parenteses"
      ],
      "metadata": {
        "id": "H43emONatv_M"
      }
    },
    {
      "cell_type": "code",
      "source": [
        "tupla_nova = 10,20, 30"
      ],
      "metadata": {
        "id": "2tJu78E6spED"
      },
      "execution_count": 80,
      "outputs": []
    },
    {
      "cell_type": "code",
      "source": [
        "tupla_nova"
      ],
      "metadata": {
        "colab": {
          "base_uri": "https://localhost:8080/"
        },
        "id": "cMCs271-tj70",
        "outputId": "943a6295-514a-4d0b-e4a8-54d9db65764b"
      },
      "execution_count": 81,
      "outputs": [
        {
          "output_type": "execute_result",
          "data": {
            "text/plain": [
              "(10, 20, 30)"
            ]
          },
          "metadata": {},
          "execution_count": 81
        }
      ]
    },
    {
      "cell_type": "markdown",
      "source": [
        "### Elemento único"
      ],
      "metadata": {
        "id": "ww60TRn3t9LV"
      }
    },
    {
      "cell_type": "code",
      "source": [
        "tupla_elemento = 10,"
      ],
      "metadata": {
        "id": "6R0m24Wutk-E"
      },
      "execution_count": 82,
      "outputs": []
    },
    {
      "cell_type": "code",
      "source": [
        "tupla_elemento"
      ],
      "metadata": {
        "colab": {
          "base_uri": "https://localhost:8080/"
        },
        "id": "ZsCMve29tn18",
        "outputId": "c43c7f7e-cb6d-4b4b-fb73-431f573f3c1d"
      },
      "execution_count": 83,
      "outputs": [
        {
          "output_type": "execute_result",
          "data": {
            "text/plain": [
              "(10,)"
            ]
          },
          "metadata": {},
          "execution_count": 83
        }
      ]
    },
    {
      "cell_type": "markdown",
      "source": [
        "### Tupla Vazia"
      ],
      "metadata": {
        "id": "j7uyEMC4uWKE"
      }
    },
    {
      "cell_type": "code",
      "source": [
        "tupla_vazia = ()"
      ],
      "metadata": {
        "id": "GAfUwpxFtouk"
      },
      "execution_count": 84,
      "outputs": []
    },
    {
      "cell_type": "code",
      "source": [
        "tupla_vazia"
      ],
      "metadata": {
        "colab": {
          "base_uri": "https://localhost:8080/"
        },
        "id": "laPTx8bmuT_k",
        "outputId": "5f9f643d-de10-4a1e-d74b-733091ec995e"
      },
      "execution_count": 85,
      "outputs": [
        {
          "output_type": "execute_result",
          "data": {
            "text/plain": [
              "()"
            ]
          },
          "metadata": {},
          "execution_count": 85
        }
      ]
    },
    {
      "cell_type": "markdown",
      "source": [
        "###Função Tuple"
      ],
      "metadata": {
        "id": "4l9VBEUEvHnd"
      }
    },
    {
      "cell_type": "code",
      "source": [
        "nova_tupla = tuple('Teste')"
      ],
      "metadata": {
        "id": "LRMQAyp4uU78"
      },
      "execution_count": 86,
      "outputs": []
    },
    {
      "cell_type": "code",
      "source": [
        "nova_tupla"
      ],
      "metadata": {
        "colab": {
          "base_uri": "https://localhost:8080/"
        },
        "id": "w5U0Eg22vAvE",
        "outputId": "4b2f63c0-d72c-400c-e303-57bbc24e4167"
      },
      "execution_count": 87,
      "outputs": [
        {
          "output_type": "execute_result",
          "data": {
            "text/plain": [
              "('T', 'e', 's', 't', 'e')"
            ]
          },
          "metadata": {},
          "execution_count": 87
        }
      ]
    },
    {
      "cell_type": "markdown",
      "source": [
        "### Contando elementos da Tupla"
      ],
      "metadata": {
        "id": "wm2jH8GawSyl"
      }
    },
    {
      "cell_type": "code",
      "source": [
        "tupla_nomes = ('Marlene','Zezinho','Marlene','Cibele','Zuely')"
      ],
      "metadata": {
        "id": "ZmuEGp4kveQM"
      },
      "execution_count": 90,
      "outputs": []
    },
    {
      "cell_type": "code",
      "source": [
        "tupla_nomes.count('Marlene')"
      ],
      "metadata": {
        "colab": {
          "base_uri": "https://localhost:8080/"
        },
        "id": "JJPgxX-nwDoH",
        "outputId": "3dfc6689-7673-4b9f-d385-86363de0f837"
      },
      "execution_count": 91,
      "outputs": [
        {
          "output_type": "execute_result",
          "data": {
            "text/plain": [
              "2"
            ]
          },
          "metadata": {},
          "execution_count": 91
        }
      ]
    },
    {
      "cell_type": "code",
      "source": [
        "print(tupla_nomes.count('Suely'))"
      ],
      "metadata": {
        "colab": {
          "base_uri": "https://localhost:8080/"
        },
        "id": "D5uuHgZSwGMd",
        "outputId": "93640474-ca45-4123-9ed7-2fe737f00a6c"
      },
      "execution_count": 92,
      "outputs": [
        {
          "output_type": "stream",
          "name": "stdout",
          "text": [
            "0\n"
          ]
        }
      ]
    },
    {
      "cell_type": "code",
      "source": [
        "print(tupla_nomes.count('Zezinho'))"
      ],
      "metadata": {
        "colab": {
          "base_uri": "https://localhost:8080/"
        },
        "id": "El-fuR8twMTd",
        "outputId": "9b7481d4-8752-40fb-e081-97aa133ef567"
      },
      "execution_count": 93,
      "outputs": [
        {
          "output_type": "stream",
          "name": "stdout",
          "text": [
            "1\n"
          ]
        }
      ]
    },
    {
      "cell_type": "markdown",
      "source": [
        "####Desafio"
      ],
      "metadata": {
        "id": "h1jshMbewsLs"
      }
    },
    {
      "cell_type": "code",
      "source": [
        "tupla_desafio = (1,2,2,3,4,4,4,5)\n",
        "tupla_desafio.count(4)"
      ],
      "metadata": {
        "colab": {
          "base_uri": "https://localhost:8080/"
        },
        "id": "86p4QbZrwQAF",
        "outputId": "7e19d395-bd38-4b81-be63-350deda403c4"
      },
      "execution_count": 94,
      "outputs": [
        {
          "output_type": "execute_result",
          "data": {
            "text/plain": [
              "3"
            ]
          },
          "metadata": {},
          "execution_count": 94
        }
      ]
    },
    {
      "cell_type": "markdown",
      "source": [
        "##Dicionário"
      ],
      "metadata": {
        "id": "dTVDqNEtxj0-"
      }
    },
    {
      "cell_type": "markdown",
      "source": [
        "###Criando Dicinário"
      ],
      "metadata": {
        "id": "jvGPPuVPyJSV"
      }
    },
    {
      "cell_type": "code",
      "source": [
        "dicio = {'chave': 'valor'}"
      ],
      "metadata": {
        "id": "nNNQ4E98w6HF"
      },
      "execution_count": 95,
      "outputs": []
    },
    {
      "cell_type": "code",
      "source": [
        "print(type(dicio))"
      ],
      "metadata": {
        "colab": {
          "base_uri": "https://localhost:8080/"
        },
        "id": "hCrhGeo0yTCe",
        "outputId": "c75d638e-800d-477d-d220-ce0fff9ea0bd"
      },
      "execution_count": 96,
      "outputs": [
        {
          "output_type": "stream",
          "name": "stdout",
          "text": [
            "<class 'dict'>\n"
          ]
        }
      ]
    },
    {
      "cell_type": "markdown",
      "source": [
        "###Buscando valores"
      ],
      "metadata": {
        "id": "RbH-SH7W03FG"
      }
    },
    {
      "cell_type": "code",
      "source": [
        "d = {'laranjas': 15, 'bananas': 35, 'siriguelas': 12}"
      ],
      "metadata": {
        "id": "axTp9uUoyUpm"
      },
      "execution_count": 97,
      "outputs": []
    },
    {
      "cell_type": "code",
      "source": [
        "d['bananas']"
      ],
      "metadata": {
        "colab": {
          "base_uri": "https://localhost:8080/"
        },
        "id": "fBzBU_PYyxy-",
        "outputId": "0d964154-e0a9-4e7c-b637-0ab336beadab"
      },
      "execution_count": 99,
      "outputs": [
        {
          "output_type": "execute_result",
          "data": {
            "text/plain": [
              "35"
            ]
          },
          "metadata": {},
          "execution_count": 99
        }
      ]
    },
    {
      "cell_type": "markdown",
      "source": [
        "####Desafios"
      ],
      "metadata": {
        "id": "OGhpfDHF0vj3"
      }
    },
    {
      "cell_type": "code",
      "source": [
        "d['pitomba'] = 20"
      ],
      "metadata": {
        "id": "6hq97jwpyzJW"
      },
      "execution_count": 100,
      "outputs": []
    },
    {
      "cell_type": "code",
      "source": [
        "len(d)"
      ],
      "metadata": {
        "colab": {
          "base_uri": "https://localhost:8080/"
        },
        "id": "IKgJHHc-zPx2",
        "outputId": "a0de2619-07cc-46f2-9b31-a88bf9112090"
      },
      "execution_count": 101,
      "outputs": [
        {
          "output_type": "execute_result",
          "data": {
            "text/plain": [
              "4"
            ]
          },
          "metadata": {},
          "execution_count": 101
        }
      ]
    },
    {
      "cell_type": "code",
      "source": [
        "'pitomba' in d"
      ],
      "metadata": {
        "colab": {
          "base_uri": "https://localhost:8080/"
        },
        "id": "rpovqaGczQZ-",
        "outputId": "a039083b-0aad-4029-a02b-a3ab2fd1eab9"
      },
      "execution_count": 102,
      "outputs": [
        {
          "output_type": "execute_result",
          "data": {
            "text/plain": [
              "True"
            ]
          },
          "metadata": {},
          "execution_count": 102
        }
      ]
    },
    {
      "cell_type": "code",
      "source": [
        "del d['laranjas']"
      ],
      "metadata": {
        "id": "zsEjRFohzvTY"
      },
      "execution_count": 104,
      "outputs": []
    },
    {
      "cell_type": "code",
      "source": [
        "'laranjas' in d"
      ],
      "metadata": {
        "colab": {
          "base_uri": "https://localhost:8080/"
        },
        "id": "mL0sL6170Vc_",
        "outputId": "83f21de7-757b-4e10-84fc-af993c4215d5"
      },
      "execution_count": 106,
      "outputs": [
        {
          "output_type": "execute_result",
          "data": {
            "text/plain": [
              "False"
            ]
          },
          "metadata": {},
          "execution_count": 106
        }
      ]
    },
    {
      "cell_type": "code",
      "source": [
        "frutas = ['pinha', 'oiti coró', 'jaca', 'tamarindo']"
      ],
      "metadata": {
        "id": "sP-ZXLxB1Mp2"
      },
      "execution_count": 109,
      "outputs": []
    },
    {
      "cell_type": "code",
      "source": [
        "print([1,2] + [3,4])"
      ],
      "metadata": {
        "colab": {
          "base_uri": "https://localhost:8080/"
        },
        "id": "QATuve8Z1bPv",
        "outputId": "d01c2bc4-8a86-43ae-f1fa-a466f4cd86af"
      },
      "execution_count": 110,
      "outputs": [
        {
          "output_type": "stream",
          "name": "stdout",
          "text": [
            "[1, 2, 3, 4]\n"
          ]
        }
      ]
    },
    {
      "cell_type": "code",
      "source": [
        "print(frutas + [6,7,8,9])"
      ],
      "metadata": {
        "colab": {
          "base_uri": "https://localhost:8080/"
        },
        "id": "q6Co5wAn13yv",
        "outputId": "e23a9711-b76c-48b8-afa3-23a746bc83e7"
      },
      "execution_count": 111,
      "outputs": [
        {
          "output_type": "stream",
          "name": "stdout",
          "text": [
            "['pinha', 'oiti coró', 'jaca', 'tamarindo', 6, 7, 8, 9]\n"
          ]
        }
      ]
    },
    {
      "cell_type": "code",
      "source": [
        "print([0]*4)"
      ],
      "metadata": {
        "colab": {
          "base_uri": "https://localhost:8080/"
        },
        "id": "kY6ZobnR19Mw",
        "outputId": "bc67b58d-51de-467d-e368-fdb23e118a19"
      },
      "execution_count": 112,
      "outputs": [
        {
          "output_type": "stream",
          "name": "stdout",
          "text": [
            "[0, 0, 0, 0]\n"
          ]
        }
      ]
    },
    {
      "cell_type": "code",
      "source": [
        "print([1,2,['oi','tchau']]*2)"
      ],
      "metadata": {
        "colab": {
          "base_uri": "https://localhost:8080/"
        },
        "id": "cGpdz7lD2A73",
        "outputId": "e3094fc6-742e-4935-ede5-aaebcbcfbaa5"
      },
      "execution_count": 113,
      "outputs": [
        {
          "output_type": "stream",
          "name": "stdout",
          "text": [
            "[1, 2, ['oi', 'tchau'], 1, 2, ['oi', 'tchau']]\n"
          ]
        }
      ]
    },
    {
      "cell_type": "markdown",
      "source": [
        "##Métodos"
      ],
      "metadata": {
        "id": "ytzLIV7k4Wpn"
      }
    },
    {
      "cell_type": "markdown",
      "source": [
        "###Adiciona (listas)"
      ],
      "metadata": {
        "id": "ScSQ3adC4aKu"
      }
    },
    {
      "cell_type": "code",
      "source": [
        "minha_lista =[]"
      ],
      "metadata": {
        "id": "GA54KdQb4Asg"
      },
      "execution_count": 123,
      "outputs": []
    },
    {
      "cell_type": "code",
      "source": [
        "minha_lista.append(5)"
      ],
      "metadata": {
        "id": "QfzENT_l4J_T"
      },
      "execution_count": 124,
      "outputs": []
    },
    {
      "cell_type": "code",
      "source": [
        "minha_lista.append(27)"
      ],
      "metadata": {
        "id": "uFwFtdOr4N8I"
      },
      "execution_count": 125,
      "outputs": []
    },
    {
      "cell_type": "code",
      "source": [
        "minha_lista.append(3)"
      ],
      "metadata": {
        "id": "-vBcnLpJ4Ou3"
      },
      "execution_count": 127,
      "outputs": []
    },
    {
      "cell_type": "code",
      "source": [
        "minha_lista.append(12)"
      ],
      "metadata": {
        "id": "5_lvhytz4Php"
      },
      "execution_count": 128,
      "outputs": []
    },
    {
      "cell_type": "code",
      "source": [
        "print(minha_lista)"
      ],
      "metadata": {
        "id": "jXBB2oTe4SKX"
      },
      "execution_count": null,
      "outputs": []
    },
    {
      "cell_type": "markdown",
      "source": [
        "###Inserir em"
      ],
      "metadata": {
        "id": "oBX7x-904uU4"
      }
    },
    {
      "cell_type": "code",
      "source": [
        "minha_lista.insert(1,12)"
      ],
      "metadata": {
        "id": "VU8ghisE4T5v"
      },
      "execution_count": 130,
      "outputs": []
    },
    {
      "cell_type": "code",
      "source": [
        "print(minha_lista)"
      ],
      "metadata": {
        "colab": {
          "base_uri": "https://localhost:8080/"
        },
        "id": "_YQVvYIZ40AA",
        "outputId": "9e308699-cd8c-48bc-be80-bacf90aac37f"
      },
      "execution_count": 131,
      "outputs": [
        {
          "output_type": "stream",
          "name": "stdout",
          "text": [
            "[5, 12, 27, 3, 12]\n"
          ]
        }
      ]
    },
    {
      "cell_type": "code",
      "source": [
        "print(minha_lista.count(12))"
      ],
      "metadata": {
        "colab": {
          "base_uri": "https://localhost:8080/"
        },
        "id": "EZNYjhfy41Y4",
        "outputId": "e6760e6a-d426-460e-a031-468160435288"
      },
      "execution_count": 132,
      "outputs": [
        {
          "output_type": "stream",
          "name": "stdout",
          "text": [
            "2\n"
          ]
        }
      ]
    },
    {
      "cell_type": "code",
      "source": [
        "print(minha_lista.index(3))"
      ],
      "metadata": {
        "colab": {
          "base_uri": "https://localhost:8080/"
        },
        "id": "Hpf2mF6G454Y",
        "outputId": "065e4482-6980-4b97-8548-cb4d85691591"
      },
      "execution_count": 133,
      "outputs": [
        {
          "output_type": "stream",
          "name": "stdout",
          "text": [
            "3\n"
          ]
        }
      ]
    },
    {
      "cell_type": "code",
      "source": [
        "print(minha_lista.count(5))"
      ],
      "metadata": {
        "colab": {
          "base_uri": "https://localhost:8080/"
        },
        "id": "vhpHHJZ849y3",
        "outputId": "0140d590-edf8-45f2-c75c-f9479183ca81"
      },
      "execution_count": 134,
      "outputs": [
        {
          "output_type": "stream",
          "name": "stdout",
          "text": [
            "1\n"
          ]
        }
      ]
    },
    {
      "cell_type": "markdown",
      "source": [
        "###Reverte"
      ],
      "metadata": {
        "id": "gO5GwFeE662Q"
      }
    },
    {
      "cell_type": "code",
      "source": [
        "minha_lista.reverse()"
      ],
      "metadata": {
        "id": "lp6HPJBe4_-H"
      },
      "execution_count": 140,
      "outputs": []
    },
    {
      "cell_type": "code",
      "source": [
        "print(minha_lista)"
      ],
      "metadata": {
        "colab": {
          "base_uri": "https://localhost:8080/"
        },
        "id": "ou11fK1M58XX",
        "outputId": "51c40ed5-fd48-4c67-f8c6-a3e5a8c1450c"
      },
      "execution_count": 141,
      "outputs": [
        {
          "output_type": "stream",
          "name": "stdout",
          "text": [
            "[27, 12, 12, 5, 3]\n"
          ]
        }
      ]
    },
    {
      "cell_type": "markdown",
      "source": [
        "###Ordena"
      ],
      "metadata": {
        "id": "sh0iMQUI69hI"
      }
    },
    {
      "cell_type": "code",
      "source": [
        "minha_lista.sort()"
      ],
      "metadata": {
        "id": "5E0XnLf_6AU3"
      },
      "execution_count": 142,
      "outputs": []
    },
    {
      "cell_type": "code",
      "source": [
        "print(minha_lista)"
      ],
      "metadata": {
        "colab": {
          "base_uri": "https://localhost:8080/"
        },
        "id": "OIiRZFuy6LC4",
        "outputId": "c7618601-6235-4946-f525-9e3cd713292e"
      },
      "execution_count": 143,
      "outputs": [
        {
          "output_type": "stream",
          "name": "stdout",
          "text": [
            "[3, 5, 12, 12, 27]\n"
          ]
        }
      ]
    },
    {
      "cell_type": "markdown",
      "source": [
        "###Remove"
      ],
      "metadata": {
        "id": "u_2wxOXH7PGh"
      }
    },
    {
      "cell_type": "code",
      "source": [
        "minha_lista.remove(5)"
      ],
      "metadata": {
        "id": "lzTmJa3B6N6g"
      },
      "execution_count": 144,
      "outputs": []
    },
    {
      "cell_type": "code",
      "source": [
        "print(minha_lista)"
      ],
      "metadata": {
        "colab": {
          "base_uri": "https://localhost:8080/"
        },
        "id": "VEGpTufG6YMA",
        "outputId": "00be35d9-4ee9-4552-ed1f-068183e2105f"
      },
      "execution_count": 145,
      "outputs": [
        {
          "output_type": "stream",
          "name": "stdout",
          "text": [
            "[3, 12, 12, 27]\n"
          ]
        }
      ]
    },
    {
      "cell_type": "code",
      "source": [
        "ultimo_item = minha_lista.pop()"
      ],
      "metadata": {
        "id": "oBSaviM76aFo"
      },
      "execution_count": 146,
      "outputs": []
    },
    {
      "cell_type": "code",
      "source": [
        "print(ultimo_item)"
      ],
      "metadata": {
        "colab": {
          "base_uri": "https://localhost:8080/"
        },
        "id": "-3DDL9-i6pI5",
        "outputId": "a0d069c2-2d17-471c-93ba-81b1e6a7655a"
      },
      "execution_count": 147,
      "outputs": [
        {
          "output_type": "stream",
          "name": "stdout",
          "text": [
            "27\n"
          ]
        }
      ]
    },
    {
      "cell_type": "code",
      "source": [
        "print(minha_lista)"
      ],
      "metadata": {
        "colab": {
          "base_uri": "https://localhost:8080/"
        },
        "id": "pLHf_ZT56r5A",
        "outputId": "0c89aa3c-b573-440b-b981-2f1425107681"
      },
      "execution_count": 148,
      "outputs": [
        {
          "output_type": "stream",
          "name": "stdout",
          "text": [
            "[3, 12, 12]\n"
          ]
        }
      ]
    },
    {
      "cell_type": "code",
      "source": [],
      "metadata": {
        "id": "fGrt5UUK6u5I"
      },
      "execution_count": null,
      "outputs": []
    },
    {
      "cell_type": "markdown",
      "source": [
        "# Exercício "
      ],
      "metadata": {
        "id": "PVv6h7nu8G2I"
      }
    },
    {
      "cell_type": "markdown",
      "source": [
        "###01"
      ],
      "metadata": {
        "id": "dlfASvH79TJd"
      }
    },
    {
      "cell_type": "code",
      "source": [
        "palavras = ['codigo','linguagem','web']"
      ],
      "metadata": {
        "id": "GyXMQwej8Nap"
      },
      "execution_count": 149,
      "outputs": []
    },
    {
      "cell_type": "code",
      "source": [
        "numeros = [18,123]"
      ],
      "metadata": {
        "id": "SkqfqNtc8dN5"
      },
      "execution_count": 150,
      "outputs": []
    },
    {
      "cell_type": "code",
      "source": [
        "vazia = []"
      ],
      "metadata": {
        "id": "jXnl2uxu8fUB"
      },
      "execution_count": 151,
      "outputs": []
    },
    {
      "cell_type": "code",
      "source": [
        "lista_mista = ['oi',2.0, 5*2, [10,20]]"
      ],
      "metadata": {
        "id": "GePUXRs98hCx"
      },
      "execution_count": 152,
      "outputs": []
    },
    {
      "cell_type": "code",
      "source": [
        "print(numeros)"
      ],
      "metadata": {
        "colab": {
          "base_uri": "https://localhost:8080/"
        },
        "id": "c8sPr6Y78pux",
        "outputId": "1ad4ad88-a63d-433c-b8b3-e6368c0cb395"
      },
      "execution_count": 153,
      "outputs": [
        {
          "output_type": "stream",
          "name": "stdout",
          "text": [
            "[18, 123]\n"
          ]
        }
      ]
    },
    {
      "cell_type": "code",
      "source": [
        "print(lista_mista)"
      ],
      "metadata": {
        "colab": {
          "base_uri": "https://localhost:8080/"
        },
        "id": "3_ZIYLQO88rp",
        "outputId": "81e8f155-5a9e-45d3-a54e-703d423b3485"
      },
      "execution_count": 154,
      "outputs": [
        {
          "output_type": "stream",
          "name": "stdout",
          "text": [
            "['oi', 2.0, 10, [10, 20]]\n"
          ]
        }
      ]
    },
    {
      "cell_type": "code",
      "source": [
        "nova_lista = [numeros, palavras]"
      ],
      "metadata": {
        "id": "ESY5w1mm89rR"
      },
      "execution_count": 155,
      "outputs": []
    },
    {
      "cell_type": "code",
      "source": [
        "print(nova_lista)"
      ],
      "metadata": {
        "colab": {
          "base_uri": "https://localhost:8080/"
        },
        "id": "EcAvPtVF9B5g",
        "outputId": "7e39fe79-2e46-41e9-e05c-bae8c4e87edb"
      },
      "execution_count": 156,
      "outputs": [
        {
          "output_type": "stream",
          "name": "stdout",
          "text": [
            "[[18, 123], ['codigo', 'linguagem', 'web']]\n"
          ]
        }
      ]
    },
    {
      "cell_type": "markdown",
      "source": [
        "##02"
      ],
      "metadata": {
        "id": "1qceIkoD9W7Y"
      }
    },
    {
      "cell_type": "code",
      "source": [
        "uma_lista = ['oi', 2.0,5,[10,20]]"
      ],
      "metadata": {
        "id": "iTVnUsJq9DgA"
      },
      "execution_count": 157,
      "outputs": []
    },
    {
      "cell_type": "code",
      "source": [
        "print(len(uma_lista))"
      ],
      "metadata": {
        "colab": {
          "base_uri": "https://localhost:8080/"
        },
        "id": "fYj7zBH59r3J",
        "outputId": "e08414fd-9ba2-423c-e96e-bab6c8e049c0"
      },
      "execution_count": 158,
      "outputs": [
        {
          "output_type": "stream",
          "name": "stdout",
          "text": [
            "4\n"
          ]
        }
      ]
    },
    {
      "cell_type": "code",
      "source": [
        "print(len(['spam!',1,['bolo','bolacha','biscoito'],[1,2,3]]))"
      ],
      "metadata": {
        "colab": {
          "base_uri": "https://localhost:8080/"
        },
        "id": "KPG2eGqf9t44",
        "outputId": "23d590f0-23a1-4e9a-fb41-7fc040965228"
      },
      "execution_count": 159,
      "outputs": [
        {
          "output_type": "stream",
          "name": "stdout",
          "text": [
            "4\n"
          ]
        }
      ]
    },
    {
      "cell_type": "code",
      "source": [],
      "metadata": {
        "id": "oS9pnq9c97I5"
      },
      "execution_count": null,
      "outputs": []
    },
    {
      "cell_type": "markdown",
      "source": [
        "#Strings em Python"
      ],
      "metadata": {
        "id": "iDeerIABEvJr"
      }
    },
    {
      "cell_type": "markdown",
      "source": [
        "###Acessando Caracteres"
      ],
      "metadata": {
        "id": "3Lvnt4vOFIOr"
      }
    },
    {
      "cell_type": "markdown",
      "source": [
        "##Acesso direto"
      ],
      "metadata": {
        "id": "N_TvwdjNGL4c"
      }
    },
    {
      "cell_type": "code",
      "source": [
        "s = 'Python'"
      ],
      "metadata": {
        "id": "mSA3vfeDEyWr"
      },
      "execution_count": 160,
      "outputs": []
    },
    {
      "cell_type": "code",
      "source": [
        "s[0]"
      ],
      "metadata": {
        "colab": {
          "base_uri": "https://localhost:8080/",
          "height": 35
        },
        "id": "l7ZnWzLQFY_k",
        "outputId": "4cb3dc5a-dbb9-441d-8ce6-571299261e84"
      },
      "execution_count": 161,
      "outputs": [
        {
          "output_type": "execute_result",
          "data": {
            "text/plain": [
              "'P'"
            ],
            "application/vnd.google.colaboratory.intrinsic+json": {
              "type": "string"
            }
          },
          "metadata": {},
          "execution_count": 161
        }
      ]
    },
    {
      "cell_type": "code",
      "source": [
        "s[1]"
      ],
      "metadata": {
        "colab": {
          "base_uri": "https://localhost:8080/",
          "height": 35
        },
        "id": "sWhAWyggFZoT",
        "outputId": "a3772130-2d47-49f9-93c2-331f0ff1261c"
      },
      "execution_count": 162,
      "outputs": [
        {
          "output_type": "execute_result",
          "data": {
            "text/plain": [
              "'y'"
            ],
            "application/vnd.google.colaboratory.intrinsic+json": {
              "type": "string"
            }
          },
          "metadata": {},
          "execution_count": 162
        }
      ]
    },
    {
      "cell_type": "code",
      "source": [],
      "metadata": {
        "id": "dPMHNRg4GP0M"
      },
      "execution_count": null,
      "outputs": []
    },
    {
      "cell_type": "markdown",
      "source": [
        "##Acesso indireto"
      ],
      "metadata": {
        "id": "LvYV_bgqGSDL"
      }
    },
    {
      "cell_type": "code",
      "source": [
        "s = 'Python'"
      ],
      "metadata": {
        "id": "ndh5IrARFa5D"
      },
      "execution_count": 163,
      "outputs": []
    },
    {
      "cell_type": "code",
      "source": [
        "s[len(s)-1]"
      ],
      "metadata": {
        "colab": {
          "base_uri": "https://localhost:8080/",
          "height": 35
        },
        "id": "jx8lq7Q9FtXE",
        "outputId": "8847bb25-e7d1-4c99-a90a-1fd7e0ad0e7d"
      },
      "execution_count": 164,
      "outputs": [
        {
          "output_type": "execute_result",
          "data": {
            "text/plain": [
              "'n'"
            ],
            "application/vnd.google.colaboratory.intrinsic+json": {
              "type": "string"
            }
          },
          "metadata": {},
          "execution_count": 164
        }
      ]
    },
    {
      "cell_type": "code",
      "source": [
        "s[-1]"
      ],
      "metadata": {
        "colab": {
          "base_uri": "https://localhost:8080/",
          "height": 35
        },
        "id": "cWlOK0E3Fvwr",
        "outputId": "44b33a79-c7ff-4a68-8d06-53c63a88c431"
      },
      "execution_count": 165,
      "outputs": [
        {
          "output_type": "execute_result",
          "data": {
            "text/plain": [
              "'n'"
            ],
            "application/vnd.google.colaboratory.intrinsic+json": {
              "type": "string"
            }
          },
          "metadata": {},
          "execution_count": 165
        }
      ]
    },
    {
      "cell_type": "code",
      "source": [
        "s[-5]"
      ],
      "metadata": {
        "colab": {
          "base_uri": "https://localhost:8080/",
          "height": 35
        },
        "id": "gP3I7hABGB6z",
        "outputId": "185ec5d6-efd5-4e91-90c7-4eff6d1a2efe"
      },
      "execution_count": 166,
      "outputs": [
        {
          "output_type": "execute_result",
          "data": {
            "text/plain": [
              "'y'"
            ],
            "application/vnd.google.colaboratory.intrinsic+json": {
              "type": "string"
            }
          },
          "metadata": {},
          "execution_count": 166
        }
      ]
    },
    {
      "cell_type": "markdown",
      "source": [
        "##Fatiamento"
      ],
      "metadata": {
        "id": "xwzKHR0jGvtU"
      }
    },
    {
      "cell_type": "code",
      "source": [
        "s = 'ABCDEFGG'"
      ],
      "metadata": {
        "id": "KwgHlKBEGI0T"
      },
      "execution_count": 167,
      "outputs": []
    },
    {
      "cell_type": "code",
      "source": [
        "s[0:2]"
      ],
      "metadata": {
        "colab": {
          "base_uri": "https://localhost:8080/",
          "height": 35
        },
        "id": "h6cW8hHLHJr9",
        "outputId": "cab222fc-26f1-4873-e0fe-08657ee70069"
      },
      "execution_count": 168,
      "outputs": [
        {
          "output_type": "execute_result",
          "data": {
            "text/plain": [
              "'AB'"
            ],
            "application/vnd.google.colaboratory.intrinsic+json": {
              "type": "string"
            }
          },
          "metadata": {},
          "execution_count": 168
        }
      ]
    },
    {
      "cell_type": "code",
      "source": [
        "s[1:5:2]"
      ],
      "metadata": {
        "colab": {
          "base_uri": "https://localhost:8080/",
          "height": 35
        },
        "id": "jutcWysrHL8U",
        "outputId": "99784178-6c1c-431a-dc82-03581d890b98"
      },
      "execution_count": 169,
      "outputs": [
        {
          "output_type": "execute_result",
          "data": {
            "text/plain": [
              "'BD'"
            ],
            "application/vnd.google.colaboratory.intrinsic+json": {
              "type": "string"
            }
          },
          "metadata": {},
          "execution_count": 169
        }
      ]
    },
    {
      "cell_type": "code",
      "source": [
        "s[3:6:2]"
      ],
      "metadata": {
        "colab": {
          "base_uri": "https://localhost:8080/",
          "height": 35
        },
        "id": "Zc6Tca-_HPe8",
        "outputId": "3ac3e70c-51b1-4a06-85f6-c4c82299d100"
      },
      "execution_count": 170,
      "outputs": [
        {
          "output_type": "execute_result",
          "data": {
            "text/plain": [
              "'DF'"
            ],
            "application/vnd.google.colaboratory.intrinsic+json": {
              "type": "string"
            }
          },
          "metadata": {},
          "execution_count": 170
        }
      ]
    },
    {
      "cell_type": "code",
      "source": [
        "s = 'ABCDEFGG'"
      ],
      "metadata": {
        "id": "q1tcTzreHSQE"
      },
      "execution_count": 171,
      "outputs": []
    },
    {
      "cell_type": "code",
      "source": [
        "s[:2]"
      ],
      "metadata": {
        "colab": {
          "base_uri": "https://localhost:8080/",
          "height": 35
        },
        "id": "lJdRWvmrIGmk",
        "outputId": "f609c3d4-6725-4b53-9d04-e37d8f98af7e"
      },
      "execution_count": 173,
      "outputs": [
        {
          "output_type": "execute_result",
          "data": {
            "text/plain": [
              "'AB'"
            ],
            "application/vnd.google.colaboratory.intrinsic+json": {
              "type": "string"
            }
          },
          "metadata": {},
          "execution_count": 173
        }
      ]
    },
    {
      "cell_type": "code",
      "source": [
        "s[3:]"
      ],
      "metadata": {
        "colab": {
          "base_uri": "https://localhost:8080/",
          "height": 35
        },
        "id": "5nHK-EwBIII0",
        "outputId": "2aa57312-a57f-4156-8060-50e2b0c5468f"
      },
      "execution_count": 174,
      "outputs": [
        {
          "output_type": "execute_result",
          "data": {
            "text/plain": [
              "'DEFGG'"
            ],
            "application/vnd.google.colaboratory.intrinsic+json": {
              "type": "string"
            }
          },
          "metadata": {},
          "execution_count": 174
        }
      ]
    },
    {
      "cell_type": "code",
      "source": [
        "s[3::2]"
      ],
      "metadata": {
        "colab": {
          "base_uri": "https://localhost:8080/",
          "height": 35
        },
        "id": "9rMgGPVRINxc",
        "outputId": "8c7a4204-2790-46c0-83e2-3250c2e82845"
      },
      "execution_count": 175,
      "outputs": [
        {
          "output_type": "execute_result",
          "data": {
            "text/plain": [
              "'DFG'"
            ],
            "application/vnd.google.colaboratory.intrinsic+json": {
              "type": "string"
            }
          },
          "metadata": {},
          "execution_count": 175
        }
      ]
    },
    {
      "cell_type": "code",
      "source": [
        "s[::]"
      ],
      "metadata": {
        "colab": {
          "base_uri": "https://localhost:8080/",
          "height": 35
        },
        "id": "9Is9wcwCIPhk",
        "outputId": "120a40d9-5c4a-4a0a-83e4-be2e6b98be02"
      },
      "execution_count": 176,
      "outputs": [
        {
          "output_type": "execute_result",
          "data": {
            "text/plain": [
              "'ABCDEFGG'"
            ],
            "application/vnd.google.colaboratory.intrinsic+json": {
              "type": "string"
            }
          },
          "metadata": {},
          "execution_count": 176
        }
      ]
    },
    {
      "cell_type": "code",
      "source": [
        "s[::3]"
      ],
      "metadata": {
        "colab": {
          "base_uri": "https://localhost:8080/",
          "height": 35
        },
        "id": "8xHtmp2uIRIs",
        "outputId": "01769dcd-2927-4051-b9b2-256996e4ac01"
      },
      "execution_count": 179,
      "outputs": [
        {
          "output_type": "execute_result",
          "data": {
            "text/plain": [
              "'ADG'"
            ],
            "application/vnd.google.colaboratory.intrinsic+json": {
              "type": "string"
            }
          },
          "metadata": {},
          "execution_count": 179
        }
      ]
    },
    {
      "cell_type": "code",
      "source": [
        "s[-1:]"
      ],
      "metadata": {
        "colab": {
          "base_uri": "https://localhost:8080/",
          "height": 35
        },
        "id": "dmTxToRrISrs",
        "outputId": "9b266440-5fe3-49e8-c052-57d7c77f3dc4"
      },
      "execution_count": 185,
      "outputs": [
        {
          "output_type": "execute_result",
          "data": {
            "text/plain": [
              "'G'"
            ],
            "application/vnd.google.colaboratory.intrinsic+json": {
              "type": "string"
            }
          },
          "metadata": {},
          "execution_count": 185
        }
      ]
    },
    {
      "cell_type": "code",
      "source": [
        "s[0:-2] # s[:-2]"
      ],
      "metadata": {
        "colab": {
          "base_uri": "https://localhost:8080/",
          "height": 35
        },
        "id": "ceOe7WUHImG0",
        "outputId": "c782d49f-2aef-46cc-f839-9b917f7ee83a"
      },
      "execution_count": 187,
      "outputs": [
        {
          "output_type": "execute_result",
          "data": {
            "text/plain": [
              "'ABCDEF'"
            ],
            "application/vnd.google.colaboratory.intrinsic+json": {
              "type": "string"
            }
          },
          "metadata": {},
          "execution_count": 187
        }
      ]
    },
    {
      "cell_type": "code",
      "source": [
        "s[-3:-1]"
      ],
      "metadata": {
        "colab": {
          "base_uri": "https://localhost:8080/",
          "height": 35
        },
        "id": "9IbYfh04LlxO",
        "outputId": "9d3c5486-f623-411d-8cfc-1e9fc2edf2a4"
      },
      "execution_count": 188,
      "outputs": [
        {
          "output_type": "execute_result",
          "data": {
            "text/plain": [
              "'FG'"
            ],
            "application/vnd.google.colaboratory.intrinsic+json": {
              "type": "string"
            }
          },
          "metadata": {},
          "execution_count": 188
        }
      ]
    },
    {
      "cell_type": "code",
      "source": [
        "s[-3]"
      ],
      "metadata": {
        "colab": {
          "base_uri": "https://localhost:8080/",
          "height": 35
        },
        "id": "Y6V5fcj8LqjV",
        "outputId": "1fd8e1e4-4ca3-40cf-9706-300f14ec54f7"
      },
      "execution_count": 189,
      "outputs": [
        {
          "output_type": "execute_result",
          "data": {
            "text/plain": [
              "'F'"
            ],
            "application/vnd.google.colaboratory.intrinsic+json": {
              "type": "string"
            }
          },
          "metadata": {},
          "execution_count": 189
        }
      ]
    },
    {
      "cell_type": "code",
      "source": [
        "s[-5:6]"
      ],
      "metadata": {
        "colab": {
          "base_uri": "https://localhost:8080/",
          "height": 35
        },
        "id": "-XRDB6QQLtNf",
        "outputId": "56425ae4-5af5-4f6e-e2e8-d3d0c70c93f6"
      },
      "execution_count": 190,
      "outputs": [
        {
          "output_type": "execute_result",
          "data": {
            "text/plain": [
              "'DEF'"
            ],
            "application/vnd.google.colaboratory.intrinsic+json": {
              "type": "string"
            }
          },
          "metadata": {},
          "execution_count": 190
        }
      ]
    },
    {
      "cell_type": "code",
      "source": [
        "s[-1:-4:-1]"
      ],
      "metadata": {
        "colab": {
          "base_uri": "https://localhost:8080/",
          "height": 35
        },
        "id": "A9KCPmXYLvVd",
        "outputId": "e126c8e2-a0a1-4b06-f059-27d76b6c16c8"
      },
      "execution_count": 191,
      "outputs": [
        {
          "output_type": "execute_result",
          "data": {
            "text/plain": [
              "'GGF'"
            ],
            "application/vnd.google.colaboratory.intrinsic+json": {
              "type": "string"
            }
          },
          "metadata": {},
          "execution_count": 191
        }
      ]
    },
    {
      "cell_type": "markdown",
      "source": [
        "##Pertinencia de sub-string"
      ],
      "metadata": {
        "id": "jcqAKB7VNzt-"
      }
    },
    {
      "cell_type": "code",
      "source": [
        "linguagem_preferida = 'Python'"
      ],
      "metadata": {
        "id": "F_AQ2umZLzD9"
      },
      "execution_count": 192,
      "outputs": []
    },
    {
      "cell_type": "code",
      "source": [
        "'P' in linguagem_preferida #True or False?"
      ],
      "metadata": {
        "colab": {
          "base_uri": "https://localhost:8080/"
        },
        "id": "lPbbTu3UN9IO",
        "outputId": "b2215e64-03c3-4086-fbb4-566a800ea230"
      },
      "execution_count": 193,
      "outputs": [
        {
          "output_type": "execute_result",
          "data": {
            "text/plain": [
              "True"
            ]
          },
          "metadata": {},
          "execution_count": 193
        }
      ]
    },
    {
      "cell_type": "code",
      "source": [
        "'p' in linguagem_preferida #True or False?"
      ],
      "metadata": {
        "colab": {
          "base_uri": "https://localhost:8080/"
        },
        "id": "jYbLYvyMOE52",
        "outputId": "3c3df8c8-f1fb-44ee-eafe-03c9a5c94181"
      },
      "execution_count": 194,
      "outputs": [
        {
          "output_type": "execute_result",
          "data": {
            "text/plain": [
              "False"
            ]
          },
          "metadata": {},
          "execution_count": 194
        }
      ]
    },
    {
      "cell_type": "code",
      "source": [
        "'n' in linguagem_preferida #True or False?"
      ],
      "metadata": {
        "colab": {
          "base_uri": "https://localhost:8080/"
        },
        "id": "QANuFTrJOKYt",
        "outputId": "d44e5468-bc65-4903-fc0d-bc2671616b95"
      },
      "execution_count": 195,
      "outputs": [
        {
          "output_type": "execute_result",
          "data": {
            "text/plain": [
              "True"
            ]
          },
          "metadata": {},
          "execution_count": 195
        }
      ]
    },
    {
      "cell_type": "code",
      "source": [
        "linguagem_preferida in linguagem_preferida #True or False?"
      ],
      "metadata": {
        "colab": {
          "base_uri": "https://localhost:8080/"
        },
        "id": "yyZLs4JROPRu",
        "outputId": "63fb7f78-c899-4552-d327-ce3d4f823fb5"
      },
      "execution_count": 196,
      "outputs": [
        {
          "output_type": "execute_result",
          "data": {
            "text/plain": [
              "True"
            ]
          },
          "metadata": {},
          "execution_count": 196
        }
      ]
    },
    {
      "cell_type": "code",
      "source": [],
      "metadata": {
        "id": "AvpWtI4OOUJ-"
      },
      "execution_count": null,
      "outputs": []
    },
    {
      "cell_type": "markdown",
      "source": [
        "##Métodos"
      ],
      "metadata": {
        "id": "JqOcS6nWOqXX"
      }
    },
    {
      "cell_type": "code",
      "source": [
        "'python'.upper()"
      ],
      "metadata": {
        "colab": {
          "base_uri": "https://localhost:8080/",
          "height": 35
        },
        "id": "5cGM0EOhOsue",
        "outputId": "b4575a10-4bd5-4f36-9e87-2c2a0091ff4b"
      },
      "execution_count": 197,
      "outputs": [
        {
          "output_type": "execute_result",
          "data": {
            "text/plain": [
              "'PYTHON'"
            ],
            "application/vnd.google.colaboratory.intrinsic+json": {
              "type": "string"
            }
          },
          "metadata": {},
          "execution_count": 197
        }
      ]
    },
    {
      "cell_type": "code",
      "source": [
        "verdade = 'python é legal'"
      ],
      "metadata": {
        "id": "MvUi4OUVOxvn"
      },
      "execution_count": 198,
      "outputs": []
    },
    {
      "cell_type": "code",
      "source": [
        "'python'.title()"
      ],
      "metadata": {
        "colab": {
          "base_uri": "https://localhost:8080/",
          "height": 35
        },
        "id": "WzNyjXuoO1ZO",
        "outputId": "74bb9c1f-4f94-4dfc-c962-1ea3f5132190"
      },
      "execution_count": 199,
      "outputs": [
        {
          "output_type": "execute_result",
          "data": {
            "text/plain": [
              "'Python'"
            ],
            "application/vnd.google.colaboratory.intrinsic+json": {
              "type": "string"
            }
          },
          "metadata": {},
          "execution_count": 199
        }
      ]
    },
    {
      "cell_type": "code",
      "source": [
        "''.join(verdade.split())"
      ],
      "metadata": {
        "colab": {
          "base_uri": "https://localhost:8080/",
          "height": 35
        },
        "id": "9dYuiRjLO3Uf",
        "outputId": "86fbf036-6101-47ca-c8b6-9dd6c1dfd141"
      },
      "execution_count": 203,
      "outputs": [
        {
          "output_type": "execute_result",
          "data": {
            "text/plain": [
              "'pythonélegal'"
            ],
            "application/vnd.google.colaboratory.intrinsic+json": {
              "type": "string"
            }
          },
          "metadata": {},
          "execution_count": 203
        }
      ]
    },
    {
      "cell_type": "code",
      "source": [
        "'python é legal'.split()"
      ],
      "metadata": {
        "colab": {
          "base_uri": "https://localhost:8080/"
        },
        "id": "H-xKtjfSO78G",
        "outputId": "59c53983-68c2-412a-fbf1-17c4ecff21df"
      },
      "execution_count": 201,
      "outputs": [
        {
          "output_type": "execute_result",
          "data": {
            "text/plain": [
              "['python', 'é', 'legal']"
            ]
          },
          "metadata": {},
          "execution_count": 201
        }
      ]
    },
    {
      "cell_type": "code",
      "source": [
        "linguagem_preferida = 'Python'"
      ],
      "metadata": {
        "id": "QdgCCk2BPGCd"
      },
      "execution_count": 204,
      "outputs": []
    },
    {
      "cell_type": "code",
      "source": [
        "print('Eu amo %s' % (linguagem_preferida))"
      ],
      "metadata": {
        "colab": {
          "base_uri": "https://localhost:8080/"
        },
        "id": "eGrWSImkQE2X",
        "outputId": "d866ea99-3fec-4aa8-bf7a-79e6b106c2a9"
      },
      "execution_count": 205,
      "outputs": [
        {
          "output_type": "stream",
          "name": "stdout",
          "text": [
            "Eu amo Python\n"
          ]
        }
      ]
    },
    {
      "cell_type": "code",
      "source": [
        "print('Eu tenho %d anos' %(19))"
      ],
      "metadata": {
        "colab": {
          "base_uri": "https://localhost:8080/"
        },
        "id": "HoImYbmFQdGH",
        "outputId": "dc5075e2-2f00-4cda-c6c9-3b07a7dc7073"
      },
      "execution_count": 206,
      "outputs": [
        {
          "output_type": "stream",
          "name": "stdout",
          "text": [
            "Eu tenho 19 anos\n"
          ]
        }
      ]
    },
    {
      "cell_type": "code",
      "source": [
        "print('Eu tenho %02d anos de idade' % (9))"
      ],
      "metadata": {
        "colab": {
          "base_uri": "https://localhost:8080/"
        },
        "id": "6MrKagv6QsWH",
        "outputId": "8377d67a-eec8-4ce5-ee99-35bd2d18dd71"
      },
      "execution_count": 207,
      "outputs": [
        {
          "output_type": "stream",
          "name": "stdout",
          "text": [
            "Eu tenho 09 anos de idade\n"
          ]
        }
      ]
    },
    {
      "cell_type": "code",
      "source": [
        "print('Eu tenho %03d anos de idade e %2.5f na poupança' % (19,100))"
      ],
      "metadata": {
        "colab": {
          "base_uri": "https://localhost:8080/"
        },
        "id": "2dUixiSCQzmH",
        "outputId": "5c6fe015-62aa-4def-de33-3442e363e913"
      },
      "execution_count": 208,
      "outputs": [
        {
          "output_type": "stream",
          "name": "stdout",
          "text": [
            "Eu tenho 019 anos de idade e 100.00000 na poupança\n"
          ]
        }
      ]
    },
    {
      "cell_type": "code",
      "source": [
        "print('%3.5f' %(3.890))"
      ],
      "metadata": {
        "colab": {
          "base_uri": "https://localhost:8080/"
        },
        "id": "bTFvY2hrRBxv",
        "outputId": "3f324da2-5aef-4ce1-e283-79e2f5166d4b"
      },
      "execution_count": 218,
      "outputs": [
        {
          "output_type": "stream",
          "name": "stdout",
          "text": [
            "3.89000\n"
          ]
        }
      ]
    },
    {
      "cell_type": "code",
      "source": [],
      "metadata": {
        "id": "3ecosHF6RoYn"
      },
      "execution_count": null,
      "outputs": []
    },
    {
      "cell_type": "markdown",
      "source": [
        "####Desafio"
      ],
      "metadata": {
        "id": "OAwTdm2ISZ_I"
      }
    },
    {
      "cell_type": "code",
      "source": [
        "nome = input('Digite seu nome: ')\n",
        "nome = nome.upper()\n",
        "nome = nome[::-1]\n",
        "nome"
      ],
      "metadata": {
        "colab": {
          "base_uri": "https://localhost:8080/",
          "height": 53
        },
        "id": "-W64q4SsSbMA",
        "outputId": "45cae84d-4a4c-4a67-d890-2ece8929d365"
      },
      "execution_count": 221,
      "outputs": [
        {
          "name": "stdout",
          "output_type": "stream",
          "text": [
            "Digite seu nome: Lucas\n"
          ]
        },
        {
          "output_type": "execute_result",
          "data": {
            "text/plain": [
              "'SACUL'"
            ],
            "application/vnd.google.colaboratory.intrinsic+json": {
              "type": "string"
            }
          },
          "metadata": {},
          "execution_count": 221
        }
      ]
    },
    {
      "cell_type": "code",
      "source": [
        "nome = list(input('Digite seu nome: ').upper())\n",
        "nome.reverse()\n",
        "nome = ''.join(nome)\n",
        "print(nome)\n"
      ],
      "metadata": {
        "colab": {
          "base_uri": "https://localhost:8080/"
        },
        "id": "doa9MXPITAQo",
        "outputId": "64b1779a-95e3-47c8-8900-29b5407102af"
      },
      "execution_count": 235,
      "outputs": [
        {
          "output_type": "stream",
          "name": "stdout",
          "text": [
            "Digite seu nome: lucas\n",
            "SACUL\n"
          ]
        }
      ]
    },
    {
      "cell_type": "code",
      "source": [],
      "metadata": {
        "id": "WGsGP-PzUkTA"
      },
      "execution_count": 225,
      "outputs": []
    }
  ]
}