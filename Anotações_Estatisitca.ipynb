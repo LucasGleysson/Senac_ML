{
  "nbformat": 4,
  "nbformat_minor": 0,
  "metadata": {
    "colab": {
      "provenance": [],
      "authorship_tag": "ABX9TyOd5cn4ui/pBcsm59T7CEXc",
      "include_colab_link": true
    },
    "kernelspec": {
      "name": "python3",
      "display_name": "Python 3"
    },
    "language_info": {
      "name": "python"
    }
  },
  "cells": [
    {
      "cell_type": "markdown",
      "metadata": {
        "id": "view-in-github",
        "colab_type": "text"
      },
      "source": [
        "<a href=\"https://colab.research.google.com/github/LucasGleysson/Senac_ML/blob/master/Anota%C3%A7%C3%B5es_Estatisitca.ipynb\" target=\"_parent\"><img src=\"https://colab.research.google.com/assets/colab-badge.svg\" alt=\"Open In Colab\"/></a>"
      ]
    },
    {
      "cell_type": "markdown",
      "source": [
        "#Estatística - Livro"
      ],
      "metadata": {
        "id": "YJ2uM-ba_a_v"
      }
    },
    {
      "cell_type": "markdown",
      "source": [
        "#Estimativa de Localização"
      ],
      "metadata": {
        "id": "gvHiW51z_n57"
      }
    },
    {
      "cell_type": "markdown",
      "source": [
        "Definir uma tendencia central é um dos melhores caminhos para se lidar com dados de medição ou contagem, por terem muitos valores, então definir um \"valor típico\" é importante para saber onde e como os dados estão distribuidos."
      ],
      "metadata": {
        "id": "pchyorL9_0eY"
      }
    },
    {
      "cell_type": "markdown",
      "source": [
        "##Média"
      ],
      "metadata": {
        "id": "bcHb0vxYBHMQ"
      }
    },
    {
      "cell_type": "markdown",
      "source": [
        "A soma de todos os valores dividida pelo número de valores.\n",
        "\n",
        "Apesar de ser fácil e conveniente, nem sempre é a melhor medida para um valor central. Por isso os estatísticos desenvolveram e promoveram diversas estimativas alternativas a média."
      ],
      "metadata": {
        "id": "sf3ZWGXpBdUX"
      }
    },
    {
      "cell_type": "markdown",
      "source": [
        "##Média Ponderada"
      ],
      "metadata": {
        "id": "OCqcl3pOCFez"
      }
    },
    {
      "cell_type": "markdown",
      "source": [
        "A soma de todos os valores multiplicada por um peso e dividida pela soma dos pesos.\n",
        "\n",
        "Nessa caso os pesos são valores simbolicos que definem o quanto aquele dado é importante. Exemplo: Se estivermos tirando a média de diversos sensores e um deles for menos preciso, então deemos diminuir o peso dos dados desse sentor.\n",
        "\n",
        "Os dados coletados não representam igualmente os diferentes grupo que estamos interessados em medir. Para corrigir isso, podemos conferir um peso maior aos valores dos gupos que foam sub-representados."
      ],
      "metadata": {
        "id": "p6NzUF7G_Dkm"
      }
    },
    {
      "cell_type": "markdown",
      "source": [
        "##Mediana"
      ],
      "metadata": {
        "id": "M-BcKrKLCUuU"
      }
    },
    {
      "cell_type": "markdown",
      "source": [
        "O valor que ocupa a posição central dos dados organizados em ordem crescente. Se ouvir um número par de valores, o valor central será a média dos dois valores centrais.\n",
        "\n",
        "Em alguns casos, é a melhor métrica para a localização e por isso também é conhecida como \"estimativa robusta de localização\""
      ],
      "metadata": {
        "id": "k3bMu6umCYPV"
      }
    },
    {
      "cell_type": "markdown",
      "source": [
        "##Mediana ponderada"
      ],
      "metadata": {
        "id": "TMJACHigCrYv"
      }
    },
    {
      "cell_type": "markdown",
      "source": [
        "Valor cuja posição está no centro da soma dos pesos, estando metade da soma antes e metade depois desse dados.\n",
        "\n",
        "A mediana ponderada é um valor cuja soma dos pesos é igual para as metades superio e inferior. Como a mediana, a mediana ponderada é resistente a outliers."
      ],
      "metadata": {
        "id": "pCyQ7RD4DFT9"
      }
    },
    {
      "cell_type": "markdown",
      "source": [
        "##Média aparada"
      ],
      "metadata": {
        "id": "iqA2AuR3DO5e"
      }
    },
    {
      "cell_type": "markdown",
      "source": [
        "A média de todos os valores depois da exclusão de um número fixo de valores extremos (Outlier).\n",
        "\n",
        "Os valores são colocados em ordem crescentes e então é descartados alguns elementos de cada extremidade. Em alguns casos ela e preferível no lugar da média comum, mas somente em casos onde os valores extremos irão influencia no resultado da analise."
      ],
      "metadata": {
        "id": "vgy76xD5DnB2"
      }
    },
    {
      "cell_type": "markdown",
      "source": [
        "##Outlier"
      ],
      "metadata": {
        "id": "BfU0SMu3DvZ0"
      }
    },
    {
      "cell_type": "markdown",
      "source": [
        "Um valor de dados que é muito diferente da maioria dos dados ou que se distância demais da tendencia central. Outliers geralmente são erros de dados ou falhas nas medições e isso faz com que sejam dignos de maior investigação."
      ],
      "metadata": {
        "id": "XC7cKfjvD8_x"
      }
    },
    {
      "cell_type": "markdown",
      "source": [
        "##Estimativas Robustas"
      ],
      "metadata": {
        "id": "e-aen22pGBKD"
      }
    },
    {
      "cell_type": "markdown",
      "source": [
        "A mediana não é a unica estimativa de localização robiusta. A média aparada é muito usada para evitar a influencia de outliers. Aparar 10% dos dados iniciais e finais oferecerá, quase sempre, uma proteção contra outliers, exceto nos conjuntos de dados menores.\n",
        "\n",
        "Estatisticos desenvolvem outras estimadores para localização, principalmente a fim de desenvoler um estimador mais robusto que a média e também mais eficientes, porém esses métodos podem ser muito úteis para pequenos conjuntos dedados, mas não oferecem maiores beneficios com conjuntos de dados de tamanho grande ou moderado."
      ],
      "metadata": {
        "id": "XTdJGTALEQXs"
      }
    },
    {
      "cell_type": "markdown",
      "source": [
        "##Moda"
      ],
      "metadata": {
        "id": "22GM03rnL-Dq"
      }
    },
    {
      "cell_type": "markdown",
      "source": [
        "É o valor, ou valores, em caso de empate, que aparece com maior frequência nos dados.\n",
        "\n",
        "A moda é um resumo estatístico simples para dados categóricos e não costuma ser usada para dados numéricos."
      ],
      "metadata": {
        "id": "LMmfPdOPL9y1"
      }
    },
    {
      "cell_type": "markdown",
      "source": [
        "## Ideias chave"
      ],
      "metadata": {
        "id": "oX24B-_-LZBI"
      }
    },
    {
      "cell_type": "markdown",
      "source": [
        "- A metrica básica para localização é a média, mas podem ser sensíveis  alores extremos (outliers)\n",
        "\n",
        "- Outras métricas são mais robustas\n",
        "\n",
        "- A melhor métrica é aquela que melhor se adequa a sua situação."
      ],
      "metadata": {
        "id": "s_3WybJRLR2e"
      }
    },
    {
      "cell_type": "markdown",
      "source": [
        "#População, Amostragem e Vies"
      ],
      "metadata": {
        "id": "74be0eyeLz3-"
      }
    },
    {
      "cell_type": "markdown",
      "source": [
        "##População"
      ],
      "metadata": {
        "id": "7Th_9LyWOiuj"
      }
    },
    {
      "cell_type": "markdown",
      "source": [
        "É um conjunto de dados grande, definido, mas algumas vezes teórico ou imaginário."
      ],
      "metadata": {
        "id": "oK6pPqrnOmZq"
      }
    },
    {
      "cell_type": "markdown",
      "source": [
        "##Amostragem"
      ],
      "metadata": {
        "id": "eaJLDMlgOVar"
      }
    },
    {
      "cell_type": "markdown",
      "source": [
        "Subconjuntos de um conjunto maior de dados"
      ],
      "metadata": {
        "id": "iOPwTnGrOZHU"
      }
    },
    {
      "cell_type": "markdown",
      "source": [
        "##Amostragem aleatóia"
      ],
      "metadata": {
        "id": "1nRDbmmbPCTU"
      }
    },
    {
      "cell_type": "markdown",
      "source": [
        "Processo  no qual, cada membro disponível da população tem chances iguais de serem selecionados para a amostra a cada extração.\n",
        "\n",
        "A amostra resultante é chamada de amostra aleatória simples e existem dois tipos\n",
        "\n",
        "- Com reposição: que é onde a amostra é devolvida para a população depois da observação, tendo a oportunidade de ser selecionada novamente em uma nova extração.\n",
        "\n",
        "- Sem reposição: Despois da obseração, o selecionado fica indisponivel pra futuras observações.\n",
        "\n",
        "Dificilmente uma amostragem, inclusive aleatória será exatamente representativa da população."
      ],
      "metadata": {
        "id": "pONn2NcLPIAb"
      }
    },
    {
      "cell_type": "markdown",
      "source": [
        "##Amostragem estratificada"
      ],
      "metadata": {
        "id": "pXXrsR66Rl_k"
      }
    },
    {
      "cell_type": "markdown",
      "source": [
        "Se divide a população em estratos (disivões, partes) e então se faz uma amostragem aleatória em cada estrato."
      ],
      "metadata": {
        "id": "3DD3fTMQS6XI"
      }
    },
    {
      "cell_type": "markdown",
      "source": [
        "##Vies"
      ],
      "metadata": {
        "id": "XCPiubASThuJ"
      }
    },
    {
      "cell_type": "markdown",
      "source": [
        "O viés estatístico se refere a erros de medição ou amostragem que são sistemáticos e produzidos pelo processo de medição ou amostragem. Deve-se fazer uma distinção entre erros devido ao acaso e erros devido a viés."
      ],
      "metadata": {
        "id": "GWgdpSnTToaU"
      }
    },
    {
      "cell_type": "markdown",
      "source": [
        "##Seleção aleatória"
      ],
      "metadata": {
        "id": "2Z1-xWoUWQKB"
      }
    },
    {
      "cell_type": "markdown",
      "source": [
        "Apara solucionar o problema de viés de amostragem optar por metodos mais cientificamente escolhidos para atingir uma amostra que seja a mais representativa possível é o melhor caminho.\n",
        "\n",
        "Existem muitas formas e metodos para atingir a representatividade mas no coração de todas elas reside amostragem aleatória.\n",
        "\n",
        "Mesmo assim, uma boa amostragem não é eficiente se a população não for boa."
      ],
      "metadata": {
        "id": "ztt05lPzWWF4"
      }
    },
    {
      "cell_type": "markdown",
      "source": [
        "##Tamanho vs Qualidade."
      ],
      "metadata": {
        "id": "Giy9BNa1XTfO"
      }
    },
    {
      "cell_type": "markdown",
      "source": [
        "Apesar de parecer controverso afirmar que analisar uma pequena parcela dos dados é mais vantajoso em big data, gastar tempo e dedicação com amostragens aleatórias, não apenas reduzem o viés, mas também permitem dar maior atenção a exploração de dados e a qualidade dos dados, ajudando com o tratamento de outliers e valores faltantes. Tratar dados faltantes em uma base com milhares de registros é mais fácil do que numa com Milhões.\n",
        "\n",
        "Ainda sim, o cenário classico para o valor de big data é quando os dados não são apenas grandes mas também esparsos. Se tratando de pesqueisas, por exemplo, a importancia e eficia que um grande volume de dados pode apresentar para demonstrar uma tendencia especifica é indiscutível."
      ],
      "metadata": {
        "id": "XHUFaD1cXsYo"
      }
    },
    {
      "cell_type": "markdown",
      "source": [
        "##Ideias Chave"
      ],
      "metadata": {
        "id": "Kf-wfQdY3oct"
      }
    },
    {
      "cell_type": "markdown",
      "source": [
        "- Mesmo na era do big data, a amostragem aleatori continua sendo uma flecha importande da aljava do cientista de dados.\n",
        "\n",
        "- O viés ocorre quando as medições ou observações estão sistematicamente em erro por não serem representativas da população total.\n",
        "\n",
        "- A qualidade dos dados costuma ser mais importante do que a sua quantidade e a amostragem aleatória pode reduzir o viés e facilitar a melhoria da qualidade que seria extremamente cara.\n",
        "\n",
        "- Uma boa base de dados pode gerar uma boa amostragem se a amostragem for representativa."
      ],
      "metadata": {
        "id": "DfDeCIGg4OfJ"
      }
    },
    {
      "cell_type": "code",
      "source": [],
      "metadata": {
        "id": "u_T1OKWO5i28"
      },
      "execution_count": null,
      "outputs": []
    }
  ]
}