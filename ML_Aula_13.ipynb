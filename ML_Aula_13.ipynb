{
  "nbformat": 4,
  "nbformat_minor": 0,
  "metadata": {
    "colab": {
      "provenance": [],
      "authorship_tag": "ABX9TyPi5qbLIQKkSEyj4ppyqgom",
      "include_colab_link": true
    },
    "kernelspec": {
      "name": "python3",
      "display_name": "Python 3"
    },
    "language_info": {
      "name": "python"
    }
  },
  "cells": [
    {
      "cell_type": "markdown",
      "metadata": {
        "id": "view-in-github",
        "colab_type": "text"
      },
      "source": [
        "<a href=\"https://colab.research.google.com/github/LucasGleysson/Senac_ML/blob/master/ML_Aula_13.ipynb\" target=\"_parent\"><img src=\"https://colab.research.google.com/assets/colab-badge.svg\" alt=\"Open In Colab\"/></a>"
      ]
    },
    {
      "cell_type": "markdown",
      "source": [
        "# Redes Neurais com TensorFlow"
      ],
      "metadata": {
        "id": "d59kTotxJXuN"
      }
    },
    {
      "cell_type": "code",
      "execution_count": 6,
      "metadata": {
        "id": "bwCrRIS2JLPc"
      },
      "outputs": [],
      "source": [
        "import tensorflow as tf\n",
        "import tensorflow.keras as keras"
      ]
    },
    {
      "cell_type": "code",
      "source": [
        "import seaborn as sns\n",
        "import pandas as pd\n",
        "from sklearn.model_selection import train_test_split\n",
        "titanic = sns.load_dataset('titanic')\n",
        "\n",
        "feature_names = ['pclass','female','age','fare']\n",
        "titanic['female'] = titanic['sex'].map({'male':0, 'female':1})\n",
        "titanic.dropna(subset=feature_names, inplace=True) #891 para 714\n",
        "\n",
        "x = titanic[feature_names].to_numpy()\n",
        "y = titanic['survived'].to_numpy()\n",
        "\n",
        "x_train, x_test, y_train, y_test = train_test_split(x,y,test_size=0.25, random_state=123)"
      ],
      "metadata": {
        "id": "1VJCBVwaJUgr"
      },
      "execution_count": 9,
      "outputs": []
    },
    {
      "cell_type": "code",
      "source": [
        "print('Tamanho de x_train:', x_train.shape)\n",
        "print('Tamanho de x_test:', x_test.shape)\n",
        "print('Tamanho de y_train:', y_train.shape)\n",
        "print('Tamanho de y_test:', y_test.shape)"
      ],
      "metadata": {
        "colab": {
          "base_uri": "https://localhost:8080/"
        },
        "id": "blSJ4fWRKkb2",
        "outputId": "c8777ca8-8e32-4c10-adf3-34e9ac02641b"
      },
      "execution_count": 10,
      "outputs": [
        {
          "output_type": "stream",
          "name": "stdout",
          "text": [
            "Tamanho de x_train: (535, 4)\n",
            "Tamanho de x_test: (179, 4)\n",
            "Tamanho de y_train: (535,)\n",
            "Tamanho de y_test: (179,)\n"
          ]
        }
      ]
    },
    {
      "cell_type": "code",
      "source": [
        "# Cria uma rede neural sequencial - feed foward\n",
        "model = keras.models.Sequential() \n",
        "\n",
        "# Primeira hidden layer\n",
        "model.add(keras.layers.Dense(4, activation='relu', input_shape=x_train[0].shape))\n",
        "model.add(keras.layers.Dropout(0.2))\n",
        "\n",
        "# output layer com ativação\n",
        "model.add(keras.layers.Dense(1, activation= 'sigmoid'))\n",
        "\n",
        "model.summary()"
      ],
      "metadata": {
        "colab": {
          "base_uri": "https://localhost:8080/"
        },
        "id": "0mJgv8tNOYr2",
        "outputId": "812800e8-0e5f-435e-ac73-6ec856406b2a"
      },
      "execution_count": 14,
      "outputs": [
        {
          "output_type": "stream",
          "name": "stdout",
          "text": [
            "Model: \"sequential_3\"\n",
            "_________________________________________________________________\n",
            " Layer (type)                Output Shape              Param #   \n",
            "=================================================================\n",
            " dense_6 (Dense)             (None, 4)                 20        \n",
            "                                                                 \n",
            " dropout_3 (Dropout)         (None, 4)                 0         \n",
            "                                                                 \n",
            " dense_7 (Dense)             (None, 1)                 5         \n",
            "                                                                 \n",
            "=================================================================\n",
            "Total params: 25\n",
            "Trainable params: 25\n",
            "Non-trainable params: 0\n",
            "_________________________________________________________________\n"
          ]
        }
      ]
    },
    {
      "cell_type": "code",
      "source": [
        "model.compile(loss=keras.losses.binary_crossentropy, \n",
        "              optimizer=keras.optimizers.Adam(), \n",
        "              metrics=['accuracy'])"
      ],
      "metadata": {
        "id": "K6X8kbgDQYvl"
      },
      "execution_count": 15,
      "outputs": []
    },
    {
      "cell_type": "code",
      "source": [
        "# x_train 535 / 32 = 16.71 (então são 17 batches de )\n",
        "batch_size = 32\n",
        "epochs = 100\n",
        "\n",
        "history = model.fit(x_train, y_train,\n",
        "                    batch_size=batch_size,\n",
        "                    epochs=epochs,\n",
        "                    verbose=1,\n",
        "                    validation_data=(x_test, y_test))"
      ],
      "metadata": {
        "colab": {
          "base_uri": "https://localhost:8080/"
        },
        "id": "bka-A6xdRa_f",
        "outputId": "11607736-1cd9-49b5-b290-2768adc78ca1"
      },
      "execution_count": 17,
      "outputs": [
        {
          "output_type": "stream",
          "name": "stdout",
          "text": [
            "Epoch 1/100\n",
            "17/17 [==============================] - 1s 14ms/step - loss: 13.6455 - accuracy: 0.5944 - val_loss: 9.1018 - val_accuracy: 0.6034\n",
            "Epoch 2/100\n",
            "17/17 [==============================] - 0s 3ms/step - loss: 11.6560 - accuracy: 0.6075 - val_loss: 8.3042 - val_accuracy: 0.6034\n",
            "Epoch 3/100\n",
            "17/17 [==============================] - 0s 4ms/step - loss: 11.2605 - accuracy: 0.5757 - val_loss: 7.5468 - val_accuracy: 0.6034\n",
            "Epoch 4/100\n",
            "17/17 [==============================] - 0s 5ms/step - loss: 10.4076 - accuracy: 0.5776 - val_loss: 6.8014 - val_accuracy: 0.6034\n",
            "Epoch 5/100\n",
            "17/17 [==============================] - 0s 4ms/step - loss: 9.2919 - accuracy: 0.5850 - val_loss: 6.1359 - val_accuracy: 0.6034\n",
            "Epoch 6/100\n",
            "17/17 [==============================] - 0s 4ms/step - loss: 8.5614 - accuracy: 0.5738 - val_loss: 5.5048 - val_accuracy: 0.6034\n",
            "Epoch 7/100\n",
            "17/17 [==============================] - 0s 5ms/step - loss: 7.7018 - accuracy: 0.5757 - val_loss: 4.9343 - val_accuracy: 0.6034\n",
            "Epoch 8/100\n",
            "17/17 [==============================] - 0s 3ms/step - loss: 6.9028 - accuracy: 0.5421 - val_loss: 4.4322 - val_accuracy: 0.6034\n",
            "Epoch 9/100\n",
            "17/17 [==============================] - 0s 4ms/step - loss: 6.1605 - accuracy: 0.5551 - val_loss: 3.9657 - val_accuracy: 0.6034\n",
            "Epoch 10/100\n",
            "17/17 [==============================] - 0s 4ms/step - loss: 5.4570 - accuracy: 0.5664 - val_loss: 3.5271 - val_accuracy: 0.6034\n",
            "Epoch 11/100\n",
            "17/17 [==============================] - 0s 4ms/step - loss: 5.1080 - accuracy: 0.5533 - val_loss: 3.1226 - val_accuracy: 0.6089\n",
            "Epoch 12/100\n",
            "17/17 [==============================] - 0s 5ms/step - loss: 4.4746 - accuracy: 0.5383 - val_loss: 2.7485 - val_accuracy: 0.6089\n",
            "Epoch 13/100\n",
            "17/17 [==============================] - 0s 4ms/step - loss: 4.0278 - accuracy: 0.5607 - val_loss: 2.4296 - val_accuracy: 0.6089\n",
            "Epoch 14/100\n",
            "17/17 [==============================] - 0s 4ms/step - loss: 3.6027 - accuracy: 0.5645 - val_loss: 2.1374 - val_accuracy: 0.6089\n",
            "Epoch 15/100\n",
            "17/17 [==============================] - 0s 3ms/step - loss: 3.2310 - accuracy: 0.5402 - val_loss: 1.8826 - val_accuracy: 0.6089\n",
            "Epoch 16/100\n",
            "17/17 [==============================] - 0s 5ms/step - loss: 2.8294 - accuracy: 0.5589 - val_loss: 1.6621 - val_accuracy: 0.6145\n",
            "Epoch 17/100\n",
            "17/17 [==============================] - 0s 4ms/step - loss: 2.5612 - accuracy: 0.5607 - val_loss: 1.4544 - val_accuracy: 0.6201\n",
            "Epoch 18/100\n",
            "17/17 [==============================] - 0s 5ms/step - loss: 2.2566 - accuracy: 0.5252 - val_loss: 1.2809 - val_accuracy: 0.6201\n",
            "Epoch 19/100\n",
            "17/17 [==============================] - 0s 3ms/step - loss: 2.0499 - accuracy: 0.5570 - val_loss: 1.1338 - val_accuracy: 0.6145\n",
            "Epoch 20/100\n",
            "17/17 [==============================] - 0s 4ms/step - loss: 1.7273 - accuracy: 0.5701 - val_loss: 1.0264 - val_accuracy: 0.6145\n",
            "Epoch 21/100\n",
            "17/17 [==============================] - 0s 3ms/step - loss: 1.5208 - accuracy: 0.5813 - val_loss: 0.9413 - val_accuracy: 0.5307\n",
            "Epoch 22/100\n",
            "17/17 [==============================] - 0s 4ms/step - loss: 1.3013 - accuracy: 0.5215 - val_loss: 0.8893 - val_accuracy: 0.4916\n",
            "Epoch 23/100\n",
            "17/17 [==============================] - 0s 4ms/step - loss: 1.2274 - accuracy: 0.4860 - val_loss: 0.8466 - val_accuracy: 0.4078\n",
            "Epoch 24/100\n",
            "17/17 [==============================] - 0s 3ms/step - loss: 1.0784 - accuracy: 0.3869 - val_loss: 0.8132 - val_accuracy: 0.4246\n",
            "Epoch 25/100\n",
            "17/17 [==============================] - 0s 4ms/step - loss: 0.9955 - accuracy: 0.3981 - val_loss: 0.7675 - val_accuracy: 0.5028\n",
            "Epoch 26/100\n",
            "17/17 [==============================] - 0s 3ms/step - loss: 0.9482 - accuracy: 0.5327 - val_loss: 0.6944 - val_accuracy: 0.6257\n",
            "Epoch 27/100\n",
            "17/17 [==============================] - 0s 4ms/step - loss: 0.8870 - accuracy: 0.5570 - val_loss: 0.6607 - val_accuracy: 0.6648\n",
            "Epoch 28/100\n",
            "17/17 [==============================] - 0s 4ms/step - loss: 0.8762 - accuracy: 0.5607 - val_loss: 0.6527 - val_accuracy: 0.6480\n",
            "Epoch 29/100\n",
            "17/17 [==============================] - 0s 4ms/step - loss: 0.8462 - accuracy: 0.5421 - val_loss: 0.6452 - val_accuracy: 0.6480\n",
            "Epoch 30/100\n",
            "17/17 [==============================] - 0s 4ms/step - loss: 0.7418 - accuracy: 0.5738 - val_loss: 0.6377 - val_accuracy: 0.6592\n",
            "Epoch 31/100\n",
            "17/17 [==============================] - 0s 4ms/step - loss: 0.7351 - accuracy: 0.5645 - val_loss: 0.6327 - val_accuracy: 0.6592\n",
            "Epoch 32/100\n",
            "17/17 [==============================] - 0s 4ms/step - loss: 0.6991 - accuracy: 0.5925 - val_loss: 0.6294 - val_accuracy: 0.6592\n",
            "Epoch 33/100\n",
            "17/17 [==============================] - 0s 3ms/step - loss: 0.6956 - accuracy: 0.5701 - val_loss: 0.6230 - val_accuracy: 0.6592\n",
            "Epoch 34/100\n",
            "17/17 [==============================] - 0s 4ms/step - loss: 0.6697 - accuracy: 0.6056 - val_loss: 0.6161 - val_accuracy: 0.6592\n",
            "Epoch 35/100\n",
            "17/17 [==============================] - 0s 4ms/step - loss: 0.6470 - accuracy: 0.6056 - val_loss: 0.6096 - val_accuracy: 0.6816\n",
            "Epoch 36/100\n",
            "17/17 [==============================] - 0s 4ms/step - loss: 0.6592 - accuracy: 0.6075 - val_loss: 0.6091 - val_accuracy: 0.6816\n",
            "Epoch 37/100\n",
            "17/17 [==============================] - 0s 3ms/step - loss: 0.6382 - accuracy: 0.6168 - val_loss: 0.6100 - val_accuracy: 0.6816\n",
            "Epoch 38/100\n",
            "17/17 [==============================] - 0s 3ms/step - loss: 0.6726 - accuracy: 0.5626 - val_loss: 0.6123 - val_accuracy: 0.6704\n",
            "Epoch 39/100\n",
            "17/17 [==============================] - 0s 4ms/step - loss: 0.6312 - accuracy: 0.6056 - val_loss: 0.6105 - val_accuracy: 0.6704\n",
            "Epoch 40/100\n",
            "17/17 [==============================] - 0s 4ms/step - loss: 0.6501 - accuracy: 0.5832 - val_loss: 0.6057 - val_accuracy: 0.6816\n",
            "Epoch 41/100\n",
            "17/17 [==============================] - 0s 4ms/step - loss: 0.6375 - accuracy: 0.6019 - val_loss: 0.6034 - val_accuracy: 0.6983\n",
            "Epoch 42/100\n",
            "17/17 [==============================] - 0s 4ms/step - loss: 0.6183 - accuracy: 0.6336 - val_loss: 0.5984 - val_accuracy: 0.6983\n",
            "Epoch 43/100\n",
            "17/17 [==============================] - 0s 3ms/step - loss: 0.6379 - accuracy: 0.6150 - val_loss: 0.5973 - val_accuracy: 0.6983\n",
            "Epoch 44/100\n",
            "17/17 [==============================] - 0s 4ms/step - loss: 0.6317 - accuracy: 0.6224 - val_loss: 0.5969 - val_accuracy: 0.6983\n",
            "Epoch 45/100\n",
            "17/17 [==============================] - 0s 5ms/step - loss: 0.6313 - accuracy: 0.6187 - val_loss: 0.5948 - val_accuracy: 0.6983\n",
            "Epoch 46/100\n",
            "17/17 [==============================] - 0s 4ms/step - loss: 0.6322 - accuracy: 0.6150 - val_loss: 0.5938 - val_accuracy: 0.7039\n",
            "Epoch 47/100\n",
            "17/17 [==============================] - 0s 5ms/step - loss: 0.6292 - accuracy: 0.6224 - val_loss: 0.5932 - val_accuracy: 0.7039\n",
            "Epoch 48/100\n",
            "17/17 [==============================] - 0s 3ms/step - loss: 0.6357 - accuracy: 0.6093 - val_loss: 0.5943 - val_accuracy: 0.7039\n",
            "Epoch 49/100\n",
            "17/17 [==============================] - 0s 3ms/step - loss: 0.6428 - accuracy: 0.5907 - val_loss: 0.5954 - val_accuracy: 0.6983\n",
            "Epoch 50/100\n",
            "17/17 [==============================] - 0s 3ms/step - loss: 0.6473 - accuracy: 0.5813 - val_loss: 0.5963 - val_accuracy: 0.6983\n",
            "Epoch 51/100\n",
            "17/17 [==============================] - 0s 4ms/step - loss: 0.6277 - accuracy: 0.6187 - val_loss: 0.5931 - val_accuracy: 0.7095\n",
            "Epoch 52/100\n",
            "17/17 [==============================] - 0s 3ms/step - loss: 0.6386 - accuracy: 0.6037 - val_loss: 0.5939 - val_accuracy: 0.7039\n",
            "Epoch 53/100\n",
            "17/17 [==============================] - 0s 4ms/step - loss: 0.6296 - accuracy: 0.6206 - val_loss: 0.5923 - val_accuracy: 0.7095\n",
            "Epoch 54/100\n",
            "17/17 [==============================] - 0s 4ms/step - loss: 0.6283 - accuracy: 0.6206 - val_loss: 0.5930 - val_accuracy: 0.7095\n",
            "Epoch 55/100\n",
            "17/17 [==============================] - 0s 3ms/step - loss: 0.6298 - accuracy: 0.6187 - val_loss: 0.5942 - val_accuracy: 0.7039\n",
            "Epoch 56/100\n",
            "17/17 [==============================] - 0s 4ms/step - loss: 0.6320 - accuracy: 0.6262 - val_loss: 0.5938 - val_accuracy: 0.7039\n",
            "Epoch 57/100\n",
            "17/17 [==============================] - 0s 5ms/step - loss: 0.6405 - accuracy: 0.5888 - val_loss: 0.5927 - val_accuracy: 0.7095\n",
            "Epoch 58/100\n",
            "17/17 [==============================] - 0s 4ms/step - loss: 0.6310 - accuracy: 0.6224 - val_loss: 0.5939 - val_accuracy: 0.7095\n",
            "Epoch 59/100\n",
            "17/17 [==============================] - 0s 4ms/step - loss: 0.6230 - accuracy: 0.6430 - val_loss: 0.5941 - val_accuracy: 0.7095\n",
            "Epoch 60/100\n",
            "17/17 [==============================] - 0s 5ms/step - loss: 0.6143 - accuracy: 0.6467 - val_loss: 0.5914 - val_accuracy: 0.7207\n",
            "Epoch 61/100\n",
            "17/17 [==============================] - 0s 4ms/step - loss: 0.6264 - accuracy: 0.6112 - val_loss: 0.5928 - val_accuracy: 0.7151\n",
            "Epoch 62/100\n",
            "17/17 [==============================] - 0s 4ms/step - loss: 0.6239 - accuracy: 0.6262 - val_loss: 0.5904 - val_accuracy: 0.7207\n",
            "Epoch 63/100\n",
            "17/17 [==============================] - 0s 4ms/step - loss: 0.6264 - accuracy: 0.6206 - val_loss: 0.5936 - val_accuracy: 0.7039\n",
            "Epoch 64/100\n",
            "17/17 [==============================] - 0s 4ms/step - loss: 0.6208 - accuracy: 0.6262 - val_loss: 0.5918 - val_accuracy: 0.7207\n",
            "Epoch 65/100\n",
            "17/17 [==============================] - 0s 5ms/step - loss: 0.6377 - accuracy: 0.6075 - val_loss: 0.5916 - val_accuracy: 0.7207\n",
            "Epoch 66/100\n",
            "17/17 [==============================] - 0s 4ms/step - loss: 0.6142 - accuracy: 0.6374 - val_loss: 0.5905 - val_accuracy: 0.7263\n",
            "Epoch 67/100\n",
            "17/17 [==============================] - 0s 4ms/step - loss: 0.6323 - accuracy: 0.6037 - val_loss: 0.5885 - val_accuracy: 0.7263\n",
            "Epoch 68/100\n",
            "17/17 [==============================] - 0s 3ms/step - loss: 0.6082 - accuracy: 0.6411 - val_loss: 0.5878 - val_accuracy: 0.7263\n",
            "Epoch 69/100\n",
            "17/17 [==============================] - 0s 4ms/step - loss: 0.6114 - accuracy: 0.6449 - val_loss: 0.5880 - val_accuracy: 0.7263\n",
            "Epoch 70/100\n",
            "17/17 [==============================] - 0s 3ms/step - loss: 0.6185 - accuracy: 0.6411 - val_loss: 0.5872 - val_accuracy: 0.7207\n",
            "Epoch 71/100\n",
            "17/17 [==============================] - 0s 3ms/step - loss: 0.6242 - accuracy: 0.6150 - val_loss: 0.5872 - val_accuracy: 0.7207\n",
            "Epoch 72/100\n",
            "17/17 [==============================] - 0s 4ms/step - loss: 0.6195 - accuracy: 0.6280 - val_loss: 0.5874 - val_accuracy: 0.7207\n",
            "Epoch 73/100\n",
            "17/17 [==============================] - 0s 5ms/step - loss: 0.5992 - accuracy: 0.6579 - val_loss: 0.5881 - val_accuracy: 0.7207\n",
            "Epoch 74/100\n",
            "17/17 [==============================] - 0s 3ms/step - loss: 0.6180 - accuracy: 0.6355 - val_loss: 0.5862 - val_accuracy: 0.7151\n",
            "Epoch 75/100\n",
            "17/17 [==============================] - 0s 4ms/step - loss: 0.6191 - accuracy: 0.6280 - val_loss: 0.5857 - val_accuracy: 0.7151\n",
            "Epoch 76/100\n",
            "17/17 [==============================] - 0s 5ms/step - loss: 0.6264 - accuracy: 0.6262 - val_loss: 0.5871 - val_accuracy: 0.7207\n",
            "Epoch 77/100\n",
            "17/17 [==============================] - 0s 3ms/step - loss: 0.6144 - accuracy: 0.6336 - val_loss: 0.5880 - val_accuracy: 0.7263\n",
            "Epoch 78/100\n",
            "17/17 [==============================] - 0s 4ms/step - loss: 0.6251 - accuracy: 0.6168 - val_loss: 0.5898 - val_accuracy: 0.7263\n",
            "Epoch 79/100\n",
            "17/17 [==============================] - 0s 4ms/step - loss: 0.6246 - accuracy: 0.6150 - val_loss: 0.5875 - val_accuracy: 0.7207\n",
            "Epoch 80/100\n",
            "17/17 [==============================] - 0s 4ms/step - loss: 0.6188 - accuracy: 0.6374 - val_loss: 0.5870 - val_accuracy: 0.7207\n",
            "Epoch 81/100\n",
            "17/17 [==============================] - 0s 4ms/step - loss: 0.6083 - accuracy: 0.6299 - val_loss: 0.5880 - val_accuracy: 0.7263\n",
            "Epoch 82/100\n",
            "17/17 [==============================] - 0s 3ms/step - loss: 0.6131 - accuracy: 0.6374 - val_loss: 0.5867 - val_accuracy: 0.7207\n",
            "Epoch 83/100\n",
            "17/17 [==============================] - 0s 5ms/step - loss: 0.6013 - accuracy: 0.6467 - val_loss: 0.5841 - val_accuracy: 0.7151\n",
            "Epoch 84/100\n",
            "17/17 [==============================] - 0s 4ms/step - loss: 0.6052 - accuracy: 0.6393 - val_loss: 0.5821 - val_accuracy: 0.7207\n",
            "Epoch 85/100\n",
            "17/17 [==============================] - 0s 4ms/step - loss: 0.6252 - accuracy: 0.6168 - val_loss: 0.5832 - val_accuracy: 0.7207\n",
            "Epoch 86/100\n",
            "17/17 [==============================] - 0s 5ms/step - loss: 0.5987 - accuracy: 0.6523 - val_loss: 0.5829 - val_accuracy: 0.7207\n",
            "Epoch 87/100\n",
            "17/17 [==============================] - 0s 4ms/step - loss: 0.6093 - accuracy: 0.6374 - val_loss: 0.5819 - val_accuracy: 0.7207\n",
            "Epoch 88/100\n",
            "17/17 [==============================] - 0s 4ms/step - loss: 0.6238 - accuracy: 0.6187 - val_loss: 0.5817 - val_accuracy: 0.7095\n",
            "Epoch 89/100\n",
            "17/17 [==============================] - 0s 3ms/step - loss: 0.6144 - accuracy: 0.6318 - val_loss: 0.5846 - val_accuracy: 0.7207\n",
            "Epoch 90/100\n",
            "17/17 [==============================] - 0s 5ms/step - loss: 0.6151 - accuracy: 0.6299 - val_loss: 0.5863 - val_accuracy: 0.7207\n",
            "Epoch 91/100\n",
            "17/17 [==============================] - 0s 4ms/step - loss: 0.6138 - accuracy: 0.6262 - val_loss: 0.5829 - val_accuracy: 0.7207\n",
            "Epoch 92/100\n",
            "17/17 [==============================] - 0s 3ms/step - loss: 0.6058 - accuracy: 0.6505 - val_loss: 0.5813 - val_accuracy: 0.7095\n",
            "Epoch 93/100\n",
            "17/17 [==============================] - 0s 4ms/step - loss: 0.6085 - accuracy: 0.6243 - val_loss: 0.5820 - val_accuracy: 0.7207\n",
            "Epoch 94/100\n",
            "17/17 [==============================] - 0s 4ms/step - loss: 0.6119 - accuracy: 0.6280 - val_loss: 0.5807 - val_accuracy: 0.7039\n",
            "Epoch 95/100\n",
            "17/17 [==============================] - 0s 3ms/step - loss: 0.6089 - accuracy: 0.6131 - val_loss: 0.5804 - val_accuracy: 0.7039\n",
            "Epoch 96/100\n",
            "17/17 [==============================] - 0s 4ms/step - loss: 0.6052 - accuracy: 0.6243 - val_loss: 0.5835 - val_accuracy: 0.7207\n",
            "Epoch 97/100\n",
            "17/17 [==============================] - 0s 5ms/step - loss: 0.6067 - accuracy: 0.6355 - val_loss: 0.5794 - val_accuracy: 0.7039\n",
            "Epoch 98/100\n",
            "17/17 [==============================] - 0s 5ms/step - loss: 0.5922 - accuracy: 0.6598 - val_loss: 0.5800 - val_accuracy: 0.7151\n",
            "Epoch 99/100\n",
            "17/17 [==============================] - 0s 5ms/step - loss: 0.5965 - accuracy: 0.6561 - val_loss: 0.5801 - val_accuracy: 0.7151\n",
            "Epoch 100/100\n",
            "17/17 [==============================] - 0s 4ms/step - loss: 0.5991 - accuracy: 0.6561 - val_loss: 0.5772 - val_accuracy: 0.6983\n"
          ]
        }
      ]
    },
    {
      "cell_type": "code",
      "source": [
        "import matplotlib\n",
        "import matplotlib.pyplot as plt\n",
        "\n",
        "matplotlib.rcParams['figure.dpi'] = 50\n",
        "\n",
        "# Plot acurácia de treino e validação\n",
        "plt.plot(history.history['accuracy'])\n",
        "plt.plot(history.history['val_accuracy'])\n",
        "plt.title('Exatidão do Modelo')\n",
        "plt.ylabel('Exatidão')\n",
        "plt.xlabel('Época')\n",
        "plt.legend(['Treino','Teste'], loc='upper left')\n",
        "plt.show()\n",
        "\n",
        "# Plot custo de treino e validação\n",
        "plt.plot(history.history['loss'])\n",
        "plt.plot(history.history['val_loss'])\n",
        "plt.title('Custo do Modelo')\n",
        "plt.ylabel('Custo')\n",
        "plt.xlabel('Época')\n",
        "plt.legend(['Treino','Teste'], loc='upper left')\n",
        "plt.show()\n"
      ],
      "metadata": {
        "colab": {
          "base_uri": "https://localhost:8080/",
          "height": 403
        },
        "id": "2KjL_Y6eRwA0",
        "outputId": "06b39c3a-773a-459d-e1e0-b7715f825ee2"
      },
      "execution_count": 18,
      "outputs": [
        {
          "output_type": "display_data",
          "data": {
            "text/plain": [
              "<Figure size 300x200 with 1 Axes>"
            ],
            "image/png": "[encoded data removed]"
          },
          "metadata": {
            "needs_background": "light"
          }
        },
        {
          "output_type": "display_data",
          "data": {
            "text/plain": [
              "<Figure size 300x200 with 1 Axes>"
            ],
            "image/png": "[encoded data removed]"
          },
          "metadata": {
            "needs_background": "light"
          }
        }
      ]
    },
    {
      "cell_type": "code",
      "source": [
        "model.evaluate(x_test,y_test)"
      ],
      "metadata": {
        "colab": {
          "base_uri": "https://localhost:8080/"
        },
        "id": "0Q8mM80jashY",
        "outputId": "775c992a-4b0a-4052-ed72-fe0084551df1"
      },
      "execution_count": 20,
      "outputs": [
        {
          "output_type": "stream",
          "name": "stdout",
          "text": [
            "6/6 [==============================] - 0s 2ms/step - loss: 0.5772 - accuracy: 0.6983\n"
          ]
        },
        {
          "output_type": "execute_result",
          "data": {
            "text/plain": [
              "[0.5772101283073425, 0.6983240246772766]"
            ]
          },
          "metadata": {},
          "execution_count": 20
        }
      ]
    },
    {
      "cell_type": "code",
      "source": [
        "(model.predict(x_test) > 0.5).astype('int32')"
      ],
      "metadata": {
        "colab": {
          "base_uri": "https://localhost:8080/"
        },
        "id": "VA5acWZdV2Gt",
        "outputId": "8b8871c3-a03a-405c-e85b-e9c0df7460d4"
      },
      "execution_count": 19,
      "outputs": [
        {
          "output_type": "stream",
          "name": "stdout",
          "text": [
            "6/6 [==============================] - 0s 2ms/step\n"
          ]
        },
        {
          "output_type": "execute_result",
          "data": {
            "text/plain": [
              "array([[1],\n",
              "       [0],\n",
              "       [0],\n",
              "       [0],\n",
              "       [1],\n",
              "       [0],\n",
              "       [0],\n",
              "       [0],\n",
              "       [0],\n",
              "       [0],\n",
              "       [0],\n",
              "       [0],\n",
              "       [0],\n",
              "       [0],\n",
              "       [1],\n",
              "       [0],\n",
              "       [0],\n",
              "       [1],\n",
              "       [0],\n",
              "       [0],\n",
              "       [0],\n",
              "       [0],\n",
              "       [1],\n",
              "       [1],\n",
              "       [0],\n",
              "       [0],\n",
              "       [0],\n",
              "       [1],\n",
              "       [0],\n",
              "       [0],\n",
              "       [0],\n",
              "       [0],\n",
              "       [1],\n",
              "       [0],\n",
              "       [1],\n",
              "       [1],\n",
              "       [0],\n",
              "       [0],\n",
              "       [0],\n",
              "       [0],\n",
              "       [0],\n",
              "       [0],\n",
              "       [0],\n",
              "       [1],\n",
              "       [0],\n",
              "       [0],\n",
              "       [1],\n",
              "       [1],\n",
              "       [1],\n",
              "       [1],\n",
              "       [0],\n",
              "       [1],\n",
              "       [0],\n",
              "       [0],\n",
              "       [1],\n",
              "       [0],\n",
              "       [1],\n",
              "       [0],\n",
              "       [0],\n",
              "       [0],\n",
              "       [1],\n",
              "       [1],\n",
              "       [0],\n",
              "       [0],\n",
              "       [0],\n",
              "       [0],\n",
              "       [0],\n",
              "       [1],\n",
              "       [0],\n",
              "       [0],\n",
              "       [0],\n",
              "       [0],\n",
              "       [0],\n",
              "       [0],\n",
              "       [0],\n",
              "       [0],\n",
              "       [1],\n",
              "       [0],\n",
              "       [0],\n",
              "       [0],\n",
              "       [0],\n",
              "       [0],\n",
              "       [1],\n",
              "       [1],\n",
              "       [0],\n",
              "       [1],\n",
              "       [1],\n",
              "       [1],\n",
              "       [0],\n",
              "       [0],\n",
              "       [0],\n",
              "       [0],\n",
              "       [0],\n",
              "       [0],\n",
              "       [0],\n",
              "       [0],\n",
              "       [0],\n",
              "       [1],\n",
              "       [0],\n",
              "       [1],\n",
              "       [0],\n",
              "       [0],\n",
              "       [0],\n",
              "       [1],\n",
              "       [0],\n",
              "       [0],\n",
              "       [1],\n",
              "       [0],\n",
              "       [0],\n",
              "       [0],\n",
              "       [0],\n",
              "       [1],\n",
              "       [1],\n",
              "       [1],\n",
              "       [0],\n",
              "       [0],\n",
              "       [0],\n",
              "       [0],\n",
              "       [1],\n",
              "       [0],\n",
              "       [1],\n",
              "       [0],\n",
              "       [0],\n",
              "       [0],\n",
              "       [0],\n",
              "       [0],\n",
              "       [1],\n",
              "       [0],\n",
              "       [0],\n",
              "       [0],\n",
              "       [0],\n",
              "       [1],\n",
              "       [0],\n",
              "       [0],\n",
              "       [0],\n",
              "       [0],\n",
              "       [0],\n",
              "       [0],\n",
              "       [0],\n",
              "       [0],\n",
              "       [1],\n",
              "       [0],\n",
              "       [1],\n",
              "       [0],\n",
              "       [0],\n",
              "       [0],\n",
              "       [0],\n",
              "       [0],\n",
              "       [1],\n",
              "       [0],\n",
              "       [0],\n",
              "       [1],\n",
              "       [0],\n",
              "       [0],\n",
              "       [0],\n",
              "       [0],\n",
              "       [0],\n",
              "       [0],\n",
              "       [0],\n",
              "       [0],\n",
              "       [0],\n",
              "       [1],\n",
              "       [0],\n",
              "       [0],\n",
              "       [0],\n",
              "       [1],\n",
              "       [0],\n",
              "       [0],\n",
              "       [0],\n",
              "       [1],\n",
              "       [1],\n",
              "       [1],\n",
              "       [1],\n",
              "       [1],\n",
              "       [0],\n",
              "       [0],\n",
              "       [0],\n",
              "       [1],\n",
              "       [1]], dtype=int32)"
            ]
          },
          "metadata": {},
          "execution_count": 19
        }
      ]
    },
    {
      "cell_type": "code",
      "source": [],
      "metadata": {
        "id": "XjjgLZxJXSyV"
      },
      "execution_count": null,
      "outputs": []
    }
  ]
}