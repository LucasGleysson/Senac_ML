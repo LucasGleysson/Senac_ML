{
  "nbformat": 4,
  "nbformat_minor": 0,
  "metadata": {
    "colab": {
      "provenance": [],
      "authorship_tag": "ABX9TyOgNSXAHMCgw5J99OqC0VsW",
      "include_colab_link": true
    },
    "kernelspec": {
      "name": "python3",
      "display_name": "Python 3"
    },
    "language_info": {
      "name": "python"
    }
  },
  "cells": [
    {
      "cell_type": "markdown",
      "metadata": {
        "id": "view-in-github",
        "colab_type": "text"
      },
      "source": [
        "<a href=\"https://colab.research.google.com/github/LucasGleysson/Senac_ML/blob/master/ML_Aula_01.ipynb\" target=\"_parent\"><img src=\"https://colab.research.google.com/assets/colab-badge.svg\" alt=\"Open In Colab\"/></a>"
      ]
    },
    {
      "cell_type": "code",
      "execution_count": 1,
      "metadata": {
        "id": "ALdNGFF3Yf7m",
        "colab": {
          "base_uri": "https://localhost:8080/"
        },
        "outputId": "1617138a-d674-4121-f948-b80444d737ba"
      },
      "outputs": [
        {
          "output_type": "stream",
          "name": "stdout",
          "text": [
            "Olá Você\n"
          ]
        }
      ],
      "source": [
        "print('Olá Você')"
      ]
    },
    {
      "cell_type": "code",
      "source": [
        "nome = 'Camila'\n",
        "idade = 35"
      ],
      "metadata": {
        "id": "NHer5Guot8qK"
      },
      "execution_count": 2,
      "outputs": []
    },
    {
      "cell_type": "code",
      "source": [
        "print('Olá', nome)"
      ],
      "metadata": {
        "colab": {
          "base_uri": "https://localhost:8080/"
        },
        "id": "8GnWu1i3uWJB",
        "outputId": "3455ef12-3165-4448-c99f-eb465aff720b"
      },
      "execution_count": 3,
      "outputs": [
        {
          "output_type": "stream",
          "name": "stdout",
          "text": [
            "Olá Camila\n"
          ]
        }
      ]
    },
    {
      "cell_type": "code",
      "source": [
        "pessoa = 'Camila'\n",
        "idade = 35\n",
        "altura = 1.70\n",
        "desenvolvedora = True"
      ],
      "metadata": {
        "id": "YgZxCHqHuZnS"
      },
      "execution_count": 4,
      "outputs": []
    },
    {
      "cell_type": "code",
      "source": [
        "type(pessoa)"
      ],
      "metadata": {
        "colab": {
          "base_uri": "https://localhost:8080/"
        },
        "id": "bCds0a2yukkU",
        "outputId": "84a25a19-1e57-4f50-bcae-8444b1cadca1"
      },
      "execution_count": 5,
      "outputs": [
        {
          "output_type": "execute_result",
          "data": {
            "text/plain": [
              "str"
            ]
          },
          "metadata": {},
          "execution_count": 5
        }
      ]
    },
    {
      "cell_type": "code",
      "source": [
        "type(idade)"
      ],
      "metadata": {
        "colab": {
          "base_uri": "https://localhost:8080/"
        },
        "id": "hCXiIYB7urmA",
        "outputId": "72845512-ba7a-42d0-c8a8-4bbfe20c53ba"
      },
      "execution_count": 6,
      "outputs": [
        {
          "output_type": "execute_result",
          "data": {
            "text/plain": [
              "int"
            ]
          },
          "metadata": {},
          "execution_count": 6
        }
      ]
    },
    {
      "cell_type": "code",
      "source": [
        "type(altura)"
      ],
      "metadata": {
        "colab": {
          "base_uri": "https://localhost:8080/"
        },
        "id": "sZZ6GycMutTe",
        "outputId": "ba3a995e-7a67-40ae-af24-87f46a446504"
      },
      "execution_count": 7,
      "outputs": [
        {
          "output_type": "execute_result",
          "data": {
            "text/plain": [
              "float"
            ]
          },
          "metadata": {},
          "execution_count": 7
        }
      ]
    },
    {
      "cell_type": "code",
      "source": [
        "type(desenvolvedora)"
      ],
      "metadata": {
        "colab": {
          "base_uri": "https://localhost:8080/"
        },
        "id": "33pxE039uvHK",
        "outputId": "bfdd8892-3b92-44d6-8c24-27cc0c7844cb"
      },
      "execution_count": 8,
      "outputs": [
        {
          "output_type": "execute_result",
          "data": {
            "text/plain": [
              "bool"
            ]
          },
          "metadata": {},
          "execution_count": 8
        }
      ]
    },
    {
      "cell_type": "code",
      "source": [
        "pessoa = 1234"
      ],
      "metadata": {
        "id": "1VDUGuHTuxb0"
      },
      "execution_count": 9,
      "outputs": []
    },
    {
      "cell_type": "code",
      "source": [
        "print(pessoa)"
      ],
      "metadata": {
        "colab": {
          "base_uri": "https://localhost:8080/"
        },
        "id": "zdkZdeMRu0vq",
        "outputId": "451a8b37-ca6b-4d83-fa5c-2aef8cb5940a"
      },
      "execution_count": 10,
      "outputs": [
        {
          "output_type": "stream",
          "name": "stdout",
          "text": [
            "1234\n"
          ]
        }
      ]
    },
    {
      "cell_type": "code",
      "source": [
        "type(pessoa)"
      ],
      "metadata": {
        "colab": {
          "base_uri": "https://localhost:8080/"
        },
        "id": "iiQ2aDM2u2G4",
        "outputId": "9a63ba21-0525-4ba0-f4e5-c8c1bff96641"
      },
      "execution_count": 11,
      "outputs": [
        {
          "output_type": "execute_result",
          "data": {
            "text/plain": [
              "int"
            ]
          },
          "metadata": {},
          "execution_count": 11
        }
      ]
    },
    {
      "cell_type": "code",
      "source": [
        "print('Olá', nome) # podemos fazer comentários\n",
        "\n",
        "\"\"\" podemos fazer comentários \n",
        "que ultrapassam mais de uma linha \n",
        "porém é necessário fechas as aspas \"\"\""
      ],
      "metadata": {
        "id": "hYUbN3dWvL3G"
      },
      "execution_count": null,
      "outputs": []
    }
  ]
}