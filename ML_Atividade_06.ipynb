{
  "nbformat": 4,
  "nbformat_minor": 0,
  "metadata": {
    "colab": {
      "provenance": [],
      "authorship_tag": "ABX9TyOOtewlupznjuW7HCmc88wa",
      "include_colab_link": true
    },
    "kernelspec": {
      "name": "python3",
      "display_name": "Python 3"
    },
    "language_info": {
      "name": "python"
    }
  },
  "cells": [
    {
      "cell_type": "markdown",
      "metadata": {
        "id": "view-in-github",
        "colab_type": "text"
      },
      "source": [
        "<a href=\"https://colab.research.google.com/github/LucasGleysson/Senac_ML/blob/master/ML_Atividade_06.ipynb\" target=\"_parent\"><img src=\"https://colab.research.google.com/assets/colab-badge.svg\" alt=\"Open In Colab\"/></a>"
      ]
    },
    {
      "cell_type": "markdown",
      "source": [
        "# Exercícios - Aula 06\n",
        "#Numpy"
      ],
      "metadata": {
        "id": "eOyUlhZBEr7W"
      }
    },
    {
      "cell_type": "code",
      "source": [
        "import numpy as np"
      ],
      "metadata": {
        "id": "JHEYMNHCFY2w"
      },
      "execution_count": 3,
      "outputs": []
    },
    {
      "cell_type": "markdown",
      "source": [
        "## arange()"
      ],
      "metadata": {
        "id": "kr1epjjgE1p3"
      }
    },
    {
      "cell_type": "markdown",
      "source": [
        "- arange() funciona como o range() do python"
      ],
      "metadata": {
        "id": "_kd_BHeBE4lx"
      }
    },
    {
      "cell_type": "code",
      "execution_count": null,
      "metadata": {
        "colab": {
          "base_uri": "https://localhost:8080/"
        },
        "id": "Qmhs8_73ckb7",
        "outputId": "9be1c0c6-cc11-4775-fb7c-418083389df9"
      },
      "outputs": [
        {
          "output_type": "execute_result",
          "data": {
            "text/plain": [
              "array([0, 1, 2, 3, 4, 5, 6, 7, 8, 9])"
            ]
          },
          "metadata": {},
          "execution_count": 3
        }
      ],
      "source": [
        "arr1 = np.arange(10)\n",
        "arr1"
      ]
    },
    {
      "cell_type": "code",
      "source": [
        "arr2 = np.arange(10, 20)\n",
        "arr2"
      ],
      "metadata": {
        "colab": {
          "base_uri": "https://localhost:8080/"
        },
        "id": "rP37HCQYeno-",
        "outputId": "f70173e4-223b-4171-f6ef-e437c6543f61"
      },
      "execution_count": null,
      "outputs": [
        {
          "output_type": "execute_result",
          "data": {
            "text/plain": [
              "array([10, 11, 12, 13, 14, 15, 16, 17, 18, 19])"
            ]
          },
          "metadata": {},
          "execution_count": 4
        }
      ]
    },
    {
      "cell_type": "code",
      "source": [
        "arr3 = np.arange(10, 20, 2)\n",
        "arr3"
      ],
      "metadata": {
        "id": "ghE7WANLe3qy",
        "colab": {
          "base_uri": "https://localhost:8080/"
        },
        "outputId": "a1efe6c7-ee8b-4db6-e0a7-af063b82be37"
      },
      "execution_count": null,
      "outputs": [
        {
          "output_type": "execute_result",
          "data": {
            "text/plain": [
              "array([10, 12, 14, 16, 18])"
            ]
          },
          "metadata": {},
          "execution_count": 5
        }
      ]
    },
    {
      "cell_type": "code",
      "source": [
        "arr4 = np.arange(10, 20, 1.4)\n",
        "arr4"
      ],
      "metadata": {
        "colab": {
          "base_uri": "https://localhost:8080/"
        },
        "id": "2dC8axZkFvPD",
        "outputId": "243c987c-1940-4c3b-a1cd-f12b6e231dc6"
      },
      "execution_count": null,
      "outputs": [
        {
          "output_type": "execute_result",
          "data": {
            "text/plain": [
              "array([10. , 11.4, 12.8, 14.2, 15.6, 17. , 18.4, 19.8])"
            ]
          },
          "metadata": {},
          "execution_count": 6
        }
      ]
    },
    {
      "cell_type": "markdown",
      "source": [
        "\n",
        "##linspace()"
      ],
      "metadata": {
        "id": "7yJjstLbGKCF"
      }
    },
    {
      "cell_type": "markdown",
      "source": [
        "- linspace() recebe o valor inicial, o valor final e a quantidade de elementos numéricos que se quer entre os dois valores."
      ],
      "metadata": {
        "id": "EinYsF31GJvA"
      }
    },
    {
      "cell_type": "code",
      "source": [
        "arr5 = np.linspace(10, 20, 11)\n",
        "display(arr5)\n",
        "len(arr5)"
      ],
      "metadata": {
        "colab": {
          "base_uri": "https://localhost:8080/",
          "height": 52
        },
        "id": "gYnyms9kF2px",
        "outputId": "ff62b9db-bb28-4b23-e931-5d9c074a0154"
      },
      "execution_count": null,
      "outputs": [
        {
          "output_type": "display_data",
          "data": {
            "text/plain": [
              "array([10., 11., 12., 13., 14., 15., 16., 17., 18., 19., 20.])"
            ]
          },
          "metadata": {}
        },
        {
          "output_type": "execute_result",
          "data": {
            "text/plain": [
              "11"
            ]
          },
          "metadata": {},
          "execution_count": 8
        }
      ]
    },
    {
      "cell_type": "code",
      "source": [
        "arr6 = np.linspace(10, 20, 101)\n",
        "display(arr6)\n",
        "len(arr6)"
      ],
      "metadata": {
        "colab": {
          "base_uri": "https://localhost:8080/",
          "height": 208
        },
        "id": "LzD0mL85GkGI",
        "outputId": "c7148300-a905-45da-d40b-1d6727917f14"
      },
      "execution_count": null,
      "outputs": [
        {
          "output_type": "display_data",
          "data": {
            "text/plain": [
              "array([10. , 10.1, 10.2, 10.3, 10.4, 10.5, 10.6, 10.7, 10.8, 10.9, 11. ,\n",
              "       11.1, 11.2, 11.3, 11.4, 11.5, 11.6, 11.7, 11.8, 11.9, 12. , 12.1,\n",
              "       12.2, 12.3, 12.4, 12.5, 12.6, 12.7, 12.8, 12.9, 13. , 13.1, 13.2,\n",
              "       13.3, 13.4, 13.5, 13.6, 13.7, 13.8, 13.9, 14. , 14.1, 14.2, 14.3,\n",
              "       14.4, 14.5, 14.6, 14.7, 14.8, 14.9, 15. , 15.1, 15.2, 15.3, 15.4,\n",
              "       15.5, 15.6, 15.7, 15.8, 15.9, 16. , 16.1, 16.2, 16.3, 16.4, 16.5,\n",
              "       16.6, 16.7, 16.8, 16.9, 17. , 17.1, 17.2, 17.3, 17.4, 17.5, 17.6,\n",
              "       17.7, 17.8, 17.9, 18. , 18.1, 18.2, 18.3, 18.4, 18.5, 18.6, 18.7,\n",
              "       18.8, 18.9, 19. , 19.1, 19.2, 19.3, 19.4, 19.5, 19.6, 19.7, 19.8,\n",
              "       19.9, 20. ])"
            ]
          },
          "metadata": {}
        },
        {
          "output_type": "execute_result",
          "data": {
            "text/plain": [
              "101"
            ]
          },
          "metadata": {},
          "execution_count": 9
        }
      ]
    },
    {
      "cell_type": "code",
      "source": [
        "arr7 = np.linspace(0, np.pi, 100)\n",
        "display(arr7)\n",
        "len(arr7)"
      ],
      "metadata": {
        "colab": {
          "base_uri": "https://localhost:8080/",
          "height": 382
        },
        "id": "q06Uf2niGyWG",
        "outputId": "e80abf00-0634-4ab4-b090-01c3487b745c"
      },
      "execution_count": null,
      "outputs": [
        {
          "output_type": "display_data",
          "data": {
            "text/plain": [
              "array([0.        , 0.03173326, 0.06346652, 0.09519978, 0.12693304,\n",
              "       0.1586663 , 0.19039955, 0.22213281, 0.25386607, 0.28559933,\n",
              "       0.31733259, 0.34906585, 0.38079911, 0.41253237, 0.44426563,\n",
              "       0.47599889, 0.50773215, 0.53946541, 0.57119866, 0.60293192,\n",
              "       0.63466518, 0.66639844, 0.6981317 , 0.72986496, 0.76159822,\n",
              "       0.79333148, 0.82506474, 0.856798  , 0.88853126, 0.92026451,\n",
              "       0.95199777, 0.98373103, 1.01546429, 1.04719755, 1.07893081,\n",
              "       1.11066407, 1.14239733, 1.17413059, 1.20586385, 1.23759711,\n",
              "       1.26933037, 1.30106362, 1.33279688, 1.36453014, 1.3962634 ,\n",
              "       1.42799666, 1.45972992, 1.49146318, 1.52319644, 1.5549297 ,\n",
              "       1.58666296, 1.61839622, 1.65012947, 1.68186273, 1.71359599,\n",
              "       1.74532925, 1.77706251, 1.80879577, 1.84052903, 1.87226229,\n",
              "       1.90399555, 1.93572881, 1.96746207, 1.99919533, 2.03092858,\n",
              "       2.06266184, 2.0943951 , 2.12612836, 2.15786162, 2.18959488,\n",
              "       2.22132814, 2.2530614 , 2.28479466, 2.31652792, 2.34826118,\n",
              "       2.37999443, 2.41172769, 2.44346095, 2.47519421, 2.50692747,\n",
              "       2.53866073, 2.57039399, 2.60212725, 2.63386051, 2.66559377,\n",
              "       2.69732703, 2.72906028, 2.76079354, 2.7925268 , 2.82426006,\n",
              "       2.85599332, 2.88772658, 2.91945984, 2.9511931 , 2.98292636,\n",
              "       3.01465962, 3.04639288, 3.07812614, 3.10985939, 3.14159265])"
            ]
          },
          "metadata": {}
        },
        {
          "output_type": "execute_result",
          "data": {
            "text/plain": [
              "100"
            ]
          },
          "metadata": {},
          "execution_count": 10
        }
      ]
    },
    {
      "cell_type": "markdown",
      "source": [
        "## Matrizes"
      ],
      "metadata": {
        "id": "eCH2WHuJHF83"
      }
    },
    {
      "cell_type": "markdown",
      "source": [
        "- criando matrizes"
      ],
      "metadata": {
        "id": "RDhs1hCUI23G"
      }
    },
    {
      "cell_type": "code",
      "source": [
        "minhaMatriz = np.array([[1,2,3],\n",
        "                       [4,5,6]])\n",
        "minhaMatriz"
      ],
      "metadata": {
        "colab": {
          "base_uri": "https://localhost:8080/"
        },
        "id": "QMEX-IhbHdhm",
        "outputId": "b84e3dff-e858-4108-db72-8217a0519b17"
      },
      "execution_count": null,
      "outputs": [
        {
          "output_type": "execute_result",
          "data": {
            "text/plain": [
              "array([[1, 2, 3],\n",
              "       [4, 5, 6]])"
            ]
          },
          "metadata": {},
          "execution_count": 13
        }
      ]
    },
    {
      "cell_type": "code",
      "source": [
        "minhaMatriz = np.array([[1,2,3],[4,5,6]])\n",
        "minhaMatriz"
      ],
      "metadata": {
        "colab": {
          "base_uri": "https://localhost:8080/"
        },
        "id": "qztK7YKyHcJJ",
        "outputId": "4c544cbf-166f-4366-d60a-789eefbd0d78"
      },
      "execution_count": null,
      "outputs": [
        {
          "output_type": "execute_result",
          "data": {
            "text/plain": [
              "array([[1, 2, 3],\n",
              "       [4, 5, 6]])"
            ]
          },
          "metadata": {},
          "execution_count": 14
        }
      ]
    },
    {
      "cell_type": "markdown",
      "source": [
        "- outra forma de criar matrizes"
      ],
      "metadata": {
        "id": "snpbC4FKI6b-"
      }
    },
    {
      "cell_type": "code",
      "source": [
        "minhaLista = [[13,81,22],[0,34,59],[21,48,94]]\n",
        "minhaLista"
      ],
      "metadata": {
        "colab": {
          "base_uri": "https://localhost:8080/"
        },
        "id": "KsCmjA1RG_v6",
        "outputId": "aa023820-2657-457f-f257-e78b16b22f03"
      },
      "execution_count": null,
      "outputs": [
        {
          "output_type": "execute_result",
          "data": {
            "text/plain": [
              "[[13, 81, 22], [0, 34, 59], [21, 48, 94]]"
            ]
          },
          "metadata": {},
          "execution_count": 11
        }
      ]
    },
    {
      "cell_type": "code",
      "source": [
        "minhaMatriz = np.matrix(minhaLista)\n",
        "minhaMatriz"
      ],
      "metadata": {
        "colab": {
          "base_uri": "https://localhost:8080/"
        },
        "id": "PPK1quA7HYGR",
        "outputId": "b54c26ff-7351-4686-8d43-62c3800eb565"
      },
      "execution_count": null,
      "outputs": [
        {
          "output_type": "execute_result",
          "data": {
            "text/plain": [
              "matrix([[13, 81, 22],\n",
              "        [ 0, 34, 59],\n",
              "        [21, 48, 94]])"
            ]
          },
          "metadata": {},
          "execution_count": 16
        }
      ]
    },
    {
      "cell_type": "markdown",
      "source": [
        "##zeros()"
      ],
      "metadata": {
        "id": "j8wFIdB2KAKB"
      }
    },
    {
      "cell_type": "markdown",
      "source": [
        "- np.zeros() pode formar tanto vetores quanto matrizes preenchidos com o valor 0"
      ],
      "metadata": {
        "id": "nUDzqrjoKIax"
      }
    },
    {
      "cell_type": "code",
      "source": [
        "# Vetor\n",
        "print(np.zeros(3))"
      ],
      "metadata": {
        "colab": {
          "base_uri": "https://localhost:8080/"
        },
        "id": "DPtGHyB5JIXT",
        "outputId": "916862a7-32f5-406f-d87c-95a113f771da"
      },
      "execution_count": null,
      "outputs": [
        {
          "output_type": "stream",
          "name": "stdout",
          "text": [
            "[0. 0. 0.]\n"
          ]
        }
      ]
    },
    {
      "cell_type": "code",
      "source": [
        "x = np.zeros(3)\n",
        "x"
      ],
      "metadata": {
        "colab": {
          "base_uri": "https://localhost:8080/"
        },
        "id": "PFyvqpn4K62J",
        "outputId": "cf26ba44-eb65-441f-9cf4-ece572e9b679"
      },
      "execution_count": null,
      "outputs": [
        {
          "output_type": "execute_result",
          "data": {
            "text/plain": [
              "array([0., 0., 0.])"
            ]
          },
          "metadata": {},
          "execution_count": 25
        }
      ]
    },
    {
      "cell_type": "code",
      "source": [
        "# Matriz\n",
        "print(np.zeros((3,2)))"
      ],
      "metadata": {
        "colab": {
          "base_uri": "https://localhost:8080/"
        },
        "id": "R_Ldw1__KWaE",
        "outputId": "cc65cc17-c28e-43fb-bfcd-e057a4d8c5cc"
      },
      "execution_count": null,
      "outputs": [
        {
          "output_type": "stream",
          "name": "stdout",
          "text": [
            "[[0. 0.]\n",
            " [0. 0.]\n",
            " [0. 0.]]\n"
          ]
        }
      ]
    },
    {
      "cell_type": "code",
      "source": [
        "x = np.zeros((3,2))\n",
        "x"
      ],
      "metadata": {
        "colab": {
          "base_uri": "https://localhost:8080/"
        },
        "id": "ENepBe0PKeSz",
        "outputId": "8203f5fc-d83d-4e94-e77d-7375fbe75b6d"
      },
      "execution_count": null,
      "outputs": [
        {
          "output_type": "execute_result",
          "data": {
            "text/plain": [
              "array([[0., 0.],\n",
              "       [0., 0.],\n",
              "       [0., 0.]])"
            ]
          },
          "metadata": {},
          "execution_count": 23
        }
      ]
    },
    {
      "cell_type": "markdown",
      "source": [
        "##ones()"
      ],
      "metadata": {
        "id": "-aoe6J5FSvrE"
      }
    },
    {
      "cell_type": "markdown",
      "source": [
        "- Cria uma matriz ou um vetor e preenche com 1."
      ],
      "metadata": {
        "id": "HvZz6KQYTf-O"
      }
    },
    {
      "cell_type": "code",
      "source": [
        "x = np.ones((5,3))\n",
        "x"
      ],
      "metadata": {
        "colab": {
          "base_uri": "https://localhost:8080/"
        },
        "id": "_Pq6Cp8KK_A3",
        "outputId": "0fefab7e-73d4-4cd9-e040-b4ff2e1bfdea"
      },
      "execution_count": null,
      "outputs": [
        {
          "output_type": "execute_result",
          "data": {
            "text/plain": [
              "array([[1., 1., 1.],\n",
              "       [1., 1., 1.],\n",
              "       [1., 1., 1.],\n",
              "       [1., 1., 1.],\n",
              "       [1., 1., 1.]])"
            ]
          },
          "metadata": {},
          "execution_count": 27
        }
      ]
    },
    {
      "cell_type": "code",
      "source": [
        "x = np.ones(5)\n",
        "x"
      ],
      "metadata": {
        "colab": {
          "base_uri": "https://localhost:8080/"
        },
        "id": "FMM0d9Ara0mk",
        "outputId": "863b26e7-6d97-454e-b3b9-56921e8623a4"
      },
      "execution_count": null,
      "outputs": [
        {
          "output_type": "execute_result",
          "data": {
            "text/plain": [
              "array([1., 1., 1., 1., 1.])"
            ]
          },
          "metadata": {},
          "execution_count": 37
        }
      ]
    },
    {
      "cell_type": "markdown",
      "source": [
        "##Desafio 01.\n",
        "\n",
        "- Matriz 4x4 com apenas numeros 8."
      ],
      "metadata": {
        "id": "dsSWVGdScVW6"
      }
    },
    {
      "cell_type": "code",
      "source": [
        "x = np.ones((4,4))\n",
        "x = x*8\n",
        "x"
      ],
      "metadata": {
        "colab": {
          "base_uri": "https://localhost:8080/"
        },
        "id": "Q4UP_mIgT4QC",
        "outputId": "029105e9-609e-463b-c7a3-dbc3fa9ed5cd"
      },
      "execution_count": null,
      "outputs": [
        {
          "output_type": "execute_result",
          "data": {
            "text/plain": [
              "array([[8., 8., 8., 8.],\n",
              "       [8., 8., 8., 8.],\n",
              "       [8., 8., 8., 8.],\n",
              "       [8., 8., 8., 8.]])"
            ]
          },
          "metadata": {},
          "execution_count": 39
        }
      ]
    },
    {
      "cell_type": "markdown",
      "source": [
        "##diag()"
      ],
      "metadata": {
        "id": "7OnQN74Dcq6K"
      }
    },
    {
      "cell_type": "markdown",
      "source": [
        "- Os valores passados como parametros informam a diagonal e o restante será preenchido por 0"
      ],
      "metadata": {
        "id": "ksKN2BjOcqa1"
      }
    },
    {
      "cell_type": "code",
      "source": [
        "z = np.diag(np.array([1,2,3,4,5,6]))\n",
        "z"
      ],
      "metadata": {
        "colab": {
          "base_uri": "https://localhost:8080/"
        },
        "id": "74CBAsk3WZAE",
        "outputId": "801632e9-b2ee-488d-bab8-550219f70870"
      },
      "execution_count": null,
      "outputs": [
        {
          "output_type": "execute_result",
          "data": {
            "text/plain": [
              "array([[1, 0, 0, 0, 0, 0],\n",
              "       [0, 2, 0, 0, 0, 0],\n",
              "       [0, 0, 3, 0, 0, 0],\n",
              "       [0, 0, 0, 4, 0, 0],\n",
              "       [0, 0, 0, 0, 5, 0],\n",
              "       [0, 0, 0, 0, 0, 6]])"
            ]
          },
          "metadata": {},
          "execution_count": 41
        }
      ]
    },
    {
      "cell_type": "markdown",
      "source": [
        "##eye()"
      ],
      "metadata": {
        "id": "0SBRmYvIdQEZ"
      }
    },
    {
      "cell_type": "markdown",
      "source": [
        "- Forma uma matriz identidade da ordem do valor passado como argumento."
      ],
      "metadata": {
        "id": "RloM8WtPdSqX"
      }
    },
    {
      "cell_type": "code",
      "source": [
        "y = np.eye(5)\n",
        "y"
      ],
      "metadata": {
        "colab": {
          "base_uri": "https://localhost:8080/"
        },
        "id": "-ACbUrCydDAk",
        "outputId": "bad22da1-c39c-4701-85f8-d339180dc017"
      },
      "execution_count": null,
      "outputs": [
        {
          "output_type": "execute_result",
          "data": {
            "text/plain": [
              "array([[1., 0., 0., 0., 0.],\n",
              "       [0., 1., 0., 0., 0.],\n",
              "       [0., 0., 1., 0., 0.],\n",
              "       [0., 0., 0., 1., 0.],\n",
              "       [0., 0., 0., 0., 1.]])"
            ]
          },
          "metadata": {},
          "execution_count": 42
        }
      ]
    },
    {
      "cell_type": "code",
      "source": [
        "# Definindo o tipo\n",
        "y = np.eye(5, dtype= int)\n",
        "y"
      ],
      "metadata": {
        "colab": {
          "base_uri": "https://localhost:8080/"
        },
        "id": "46BBfVxddcgT",
        "outputId": "a8b668b9-6450-420b-fc45-b5299cf5bc81"
      },
      "execution_count": null,
      "outputs": [
        {
          "output_type": "execute_result",
          "data": {
            "text/plain": [
              "array([[1, 0, 0, 0, 0],\n",
              "       [0, 1, 0, 0, 0],\n",
              "       [0, 0, 1, 0, 0],\n",
              "       [0, 0, 0, 1, 0],\n",
              "       [0, 0, 0, 0, 1]])"
            ]
          },
          "metadata": {},
          "execution_count": 43
        }
      ]
    },
    {
      "cell_type": "markdown",
      "source": [
        "##shape()"
      ],
      "metadata": {
        "id": "7hFskBrSeyjt"
      }
    },
    {
      "cell_type": "markdown",
      "source": [
        "- verifica o fomrato da matriz. Existem duas formas:"
      ],
      "metadata": {
        "id": "qRV9ACaBeyNI"
      }
    },
    {
      "cell_type": "code",
      "source": [
        "np.shape(minhaMatriz)"
      ],
      "metadata": {
        "colab": {
          "base_uri": "https://localhost:8080/"
        },
        "id": "V69oSpfqeuU_",
        "outputId": "4a10afed-edc5-48ab-d7ef-66979bc39d47"
      },
      "execution_count": null,
      "outputs": [
        {
          "output_type": "execute_result",
          "data": {
            "text/plain": [
              "(3, 3)"
            ]
          },
          "metadata": {},
          "execution_count": 44
        }
      ]
    },
    {
      "cell_type": "code",
      "source": [
        "minhaMatriz.shape"
      ],
      "metadata": {
        "colab": {
          "base_uri": "https://localhost:8080/"
        },
        "id": "Obu338ZlfBX0",
        "outputId": "15b3782b-8b50-4d07-97d4-03e54d59aed2"
      },
      "execution_count": null,
      "outputs": [
        {
          "output_type": "execute_result",
          "data": {
            "text/plain": [
              "(3, 3)"
            ]
          },
          "metadata": {},
          "execution_count": 45
        }
      ]
    },
    {
      "cell_type": "markdown",
      "source": [
        "##Utilidades"
      ],
      "metadata": {
        "id": "aRlprIFRfIV7"
      }
    },
    {
      "cell_type": "code",
      "source": [
        "# Verifica o tipo da matriz\n",
        "type(minhaMatriz)"
      ],
      "metadata": {
        "colab": {
          "base_uri": "https://localhost:8080/"
        },
        "id": "wvL1Ht7tfDtE",
        "outputId": "1c8f80be-6a0e-4591-f475-2613a51e4832"
      },
      "execution_count": null,
      "outputs": [
        {
          "output_type": "execute_result",
          "data": {
            "text/plain": [
              "numpy.matrix"
            ]
          },
          "metadata": {},
          "execution_count": 46
        }
      ]
    },
    {
      "cell_type": "code",
      "source": [
        "# Verifica o tipo dos dados da matriz\n",
        "minhaMatriz.dtype"
      ],
      "metadata": {
        "colab": {
          "base_uri": "https://localhost:8080/"
        },
        "id": "v18C_WVffY6D",
        "outputId": "aacdd4a0-0653-4b72-e5a9-3eb95f7dd333"
      },
      "execution_count": null,
      "outputs": [
        {
          "output_type": "execute_result",
          "data": {
            "text/plain": [
              "dtype('int64')"
            ]
          },
          "metadata": {},
          "execution_count": 47
        }
      ]
    },
    {
      "cell_type": "code",
      "source": [
        "# Selecionando elementos da matriz\n",
        "minhaMatriz[2,1]"
      ],
      "metadata": {
        "colab": {
          "base_uri": "https://localhost:8080/"
        },
        "id": "Ew9oTzYrff19",
        "outputId": "df456794-ac64-46a6-e64b-db8010b74b1f"
      },
      "execution_count": null,
      "outputs": [
        {
          "output_type": "execute_result",
          "data": {
            "text/plain": [
              "48"
            ]
          },
          "metadata": {},
          "execution_count": 48
        }
      ]
    },
    {
      "cell_type": "code",
      "source": [
        "# Selecionando a primeira linha da matriz\n",
        "print(minhaMatriz[0,:])"
      ],
      "metadata": {
        "colab": {
          "base_uri": "https://localhost:8080/"
        },
        "id": "4JRyBOncfzlS",
        "outputId": "d5919648-6785-4fc2-b016-1887b047b552"
      },
      "execution_count": null,
      "outputs": [
        {
          "output_type": "stream",
          "name": "stdout",
          "text": [
            "[[13 81 22]]\n"
          ]
        }
      ]
    },
    {
      "cell_type": "code",
      "source": [
        "# Selecionando a terceira coluna da matriz\n",
        "print(minhaMatriz[:,2])"
      ],
      "metadata": {
        "colab": {
          "base_uri": "https://localhost:8080/"
        },
        "id": "aB7gnVJpf9Aa",
        "outputId": "8040438d-9236-4d51-8990-c1157ef59367"
      },
      "execution_count": null,
      "outputs": [
        {
          "output_type": "stream",
          "name": "stdout",
          "text": [
            "[[22]\n",
            " [59]\n",
            " [94]]\n"
          ]
        }
      ]
    },
    {
      "cell_type": "code",
      "source": [
        "# Alterando um elemento da matriz\n",
        "minhaMatriz[1,0] = 100\n",
        "minhaMatriz"
      ],
      "metadata": {
        "colab": {
          "base_uri": "https://localhost:8080/"
        },
        "id": "7Y0bTRzPgGT0",
        "outputId": "4108b634-2a93-4063-fc85-cae1115cef5d"
      },
      "execution_count": null,
      "outputs": [
        {
          "output_type": "execute_result",
          "data": {
            "text/plain": [
              "matrix([[ 13,  81,  22],\n",
              "        [100,  34,  59],\n",
              "        [ 21,  48,  94]])"
            ]
          },
          "metadata": {},
          "execution_count": 51
        }
      ]
    },
    {
      "cell_type": "markdown",
      "source": [
        "## Operações basicas"
      ],
      "metadata": {
        "id": "BF_IZETggWq5"
      }
    },
    {
      "cell_type": "code",
      "source": [
        "meuArray = np.arange(1,10)"
      ],
      "metadata": {
        "id": "c5FUTixehQNJ"
      },
      "execution_count": null,
      "outputs": []
    },
    {
      "cell_type": "code",
      "source": [
        "# Soma dos valores do array\n",
        "np.sum(meuArray)"
      ],
      "metadata": {
        "colab": {
          "base_uri": "https://localhost:8080/"
        },
        "id": "SlBCi7NbgS1r",
        "outputId": "d17b2d7f-94ff-42d0-f10a-aedce2d66061"
      },
      "execution_count": null,
      "outputs": [
        {
          "output_type": "execute_result",
          "data": {
            "text/plain": [
              "45"
            ]
          },
          "metadata": {},
          "execution_count": 56
        }
      ]
    },
    {
      "cell_type": "code",
      "source": [
        "# Ibtendo o produto\n",
        "np.prod(meuArray)"
      ],
      "metadata": {
        "colab": {
          "base_uri": "https://localhost:8080/"
        },
        "id": "hI2M7oIbhW9A",
        "outputId": "99e5d1a9-eec6-4cab-f594-6fbb1e8aa10b"
      },
      "execution_count": null,
      "outputs": [
        {
          "output_type": "execute_result",
          "data": {
            "text/plain": [
              "362880"
            ]
          },
          "metadata": {},
          "execution_count": 57
        }
      ]
    },
    {
      "cell_type": "code",
      "source": [
        "# Soma acumulada\n",
        "np.cumsum(meuArray)"
      ],
      "metadata": {
        "colab": {
          "base_uri": "https://localhost:8080/"
        },
        "id": "bbhZQAEChtF6",
        "outputId": "d901c352-1664-413e-bf9c-0e513a57a1ca"
      },
      "execution_count": null,
      "outputs": [
        {
          "output_type": "execute_result",
          "data": {
            "text/plain": [
              "array([ 1,  3,  6, 10, 15, 21, 28, 36, 45])"
            ]
          },
          "metadata": {},
          "execution_count": 58
        }
      ]
    },
    {
      "cell_type": "code",
      "source": [
        "# Valor minimo\n",
        "meuArray.min()"
      ],
      "metadata": {
        "colab": {
          "base_uri": "https://localhost:8080/"
        },
        "id": "ZEEEYiMMh9oE",
        "outputId": "19f3111b-06a9-4c3b-8447-d3bf951ca5ad"
      },
      "execution_count": null,
      "outputs": [
        {
          "output_type": "execute_result",
          "data": {
            "text/plain": [
              "1"
            ]
          },
          "metadata": {},
          "execution_count": 59
        }
      ]
    },
    {
      "cell_type": "code",
      "source": [
        "# Valor Maximo\n",
        "meuArray.max()"
      ],
      "metadata": {
        "colab": {
          "base_uri": "https://localhost:8080/"
        },
        "id": "k91wXIEqiP-s",
        "outputId": "02520cc9-e5f3-471e-decb-acf69ffaea1c"
      },
      "execution_count": null,
      "outputs": [
        {
          "output_type": "execute_result",
          "data": {
            "text/plain": [
              "9"
            ]
          },
          "metadata": {},
          "execution_count": 60
        }
      ]
    },
    {
      "cell_type": "markdown",
      "source": [
        "## perações estatisticas básicas"
      ],
      "metadata": {
        "id": "LLZUCtFMigIT"
      }
    },
    {
      "cell_type": "code",
      "source": [
        "# Obtendo a média\n",
        "np.mean(meuArray)"
      ],
      "metadata": {
        "colab": {
          "base_uri": "https://localhost:8080/"
        },
        "id": "3dcx7q4AiVAm",
        "outputId": "e541af36-3892-407a-8612-7cc27473ee90"
      },
      "execution_count": null,
      "outputs": [
        {
          "output_type": "execute_result",
          "data": {
            "text/plain": [
              "5.0"
            ]
          },
          "metadata": {},
          "execution_count": 61
        }
      ]
    },
    {
      "cell_type": "code",
      "source": [
        "# Obtendo a mediana\n",
        "np.median(meuArray)"
      ],
      "metadata": {
        "colab": {
          "base_uri": "https://localhost:8080/"
        },
        "id": "X0yxiB2Giqr3",
        "outputId": "66a39a49-a9d7-4329-942e-912a58873b97"
      },
      "execution_count": null,
      "outputs": [
        {
          "output_type": "execute_result",
          "data": {
            "text/plain": [
              "5.0"
            ]
          },
          "metadata": {},
          "execution_count": 63
        }
      ]
    },
    {
      "cell_type": "code",
      "source": [
        "# Obtendo a variança dos valores\n",
        "np.var(meuArray)"
      ],
      "metadata": {
        "colab": {
          "base_uri": "https://localhost:8080/"
        },
        "id": "q4DrIaSGiuq0",
        "outputId": "58d9a529-82cc-44f5-acc8-9cd6da2d33a8"
      },
      "execution_count": null,
      "outputs": [
        {
          "output_type": "execute_result",
          "data": {
            "text/plain": [
              "6.666666666666667"
            ]
          },
          "metadata": {},
          "execution_count": 64
        }
      ]
    },
    {
      "cell_type": "code",
      "source": [
        "# Obtendo o desvio padrão\n",
        "np.std(meuArray)"
      ],
      "metadata": {
        "colab": {
          "base_uri": "https://localhost:8080/"
        },
        "id": "xJtgpwM_i9pk",
        "outputId": "6536d6c4-dd99-4678-c2ca-69294d75a065"
      },
      "execution_count": null,
      "outputs": [
        {
          "output_type": "execute_result",
          "data": {
            "text/plain": [
              "2.581988897471611"
            ]
          },
          "metadata": {},
          "execution_count": 65
        }
      ]
    },
    {
      "cell_type": "markdown",
      "source": [
        "##Desafio 02."
      ],
      "metadata": {
        "id": "0o2285rVjRIU"
      }
    },
    {
      "cell_type": "code",
      "source": [
        "# Criando o array\n",
        "teste = np.arange(1,10)\n",
        "teste"
      ],
      "metadata": {
        "colab": {
          "base_uri": "https://localhost:8080/"
        },
        "id": "AJdfXjHBjDIh",
        "outputId": "be789521-e300-4482-cf15-c30506aa8b96"
      },
      "execution_count": 9,
      "outputs": [
        {
          "output_type": "execute_result",
          "data": {
            "text/plain": [
              "array([1, 2, 3, 4, 5, 6, 7, 8, 9])"
            ]
          },
          "metadata": {},
          "execution_count": 9
        }
      ]
    },
    {
      "cell_type": "code",
      "source": [
        "# Varrendo o array para obter os pares:\n",
        "pares = np.where(teste % 2 == 0)\n",
        "for i in pares:\n",
        "  print(teste[i], end= ' ')"
      ],
      "metadata": {
        "colab": {
          "base_uri": "https://localhost:8080/"
        },
        "id": "Mn33sOLOjs_k",
        "outputId": "d42ffd13-85fd-4404-cd4e-8ad725450947"
      },
      "execution_count": 10,
      "outputs": [
        {
          "output_type": "stream",
          "name": "stdout",
          "text": [
            "[2 4 6 8] "
          ]
        }
      ]
    },
    {
      "cell_type": "code",
      "source": [
        "# Varrendo o array para obter os impares:\n",
        "impares = np.where(teste % 2 == 1)\n",
        "for i in impares:\n",
        "  print(teste[i], end= ' ')"
      ],
      "metadata": {
        "colab": {
          "base_uri": "https://localhost:8080/"
        },
        "id": "khBI4BmSm0JE",
        "outputId": "e1986bfb-ecae-4c9e-e388-dafa6ec4f9fa"
      },
      "execution_count": 11,
      "outputs": [
        {
          "output_type": "stream",
          "name": "stdout",
          "text": [
            "[1 3 5 7 9] "
          ]
        }
      ]
    },
    {
      "cell_type": "code",
      "source": [
        "# media, soma, produtos, variancia, desvio padrão\n",
        "print('Média:', np.mean(teste))\n",
        "print('Soma:', np.sum(teste))\n",
        "print('Produto:', np.prod(teste))\n",
        "print('Variancia:', np.var(teste))\n",
        "print('Desvio padrão', np.std(teste))"
      ],
      "metadata": {
        "id": "CSnpYeHfvUKn",
        "colab": {
          "base_uri": "https://localhost:8080/"
        },
        "outputId": "3084282e-7cc7-43d5-8e66-edebf7b60ddb"
      },
      "execution_count": 12,
      "outputs": [
        {
          "output_type": "stream",
          "name": "stdout",
          "text": [
            "Média: 5.0\n",
            "Soma: 45\n",
            "Produto: 362880\n",
            "Variancia: 6.666666666666667\n",
            "Desvio padrão 2.581988897471611\n"
          ]
        }
      ]
    },
    {
      "cell_type": "code",
      "source": [],
      "metadata": {
        "id": "MH_MU4oKJROP"
      },
      "execution_count": 8,
      "outputs": []
    }
  ]
}