{
  "nbformat": 4,
  "nbformat_minor": 0,
  "metadata": {
    "colab": {
      "provenance": [],
      "authorship_tag": "ABX9TyMrHHbWAM6PiT49+orem3jj",
      "include_colab_link": true
    },
    "kernelspec": {
      "name": "python3",
      "display_name": "Python 3"
    },
    "language_info": {
      "name": "python"
    }
  },
  "cells": [
    {
      "cell_type": "markdown",
      "metadata": {
        "id": "view-in-github",
        "colab_type": "text"
      },
      "source": [
        "<a href=\"https://colab.research.google.com/github/LucasGleysson/Senac_ML/blob/master/ML_Atividade_04.ipynb\" target=\"_parent\"><img src=\"https://colab.research.google.com/assets/colab-badge.svg\" alt=\"Open In Colab\"/></a>"
      ]
    },
    {
      "cell_type": "markdown",
      "source": [
        "# Exercícios - Aula 04\n",
        "# Estruturas de Repetiçãos"
      ],
      "metadata": {
        "id": "xqDdxXKKPaDY"
      }
    },
    {
      "cell_type": "markdown",
      "source": [
        "##Desafios"
      ],
      "metadata": {
        "id": "vTSZWzaWP_MA"
      }
    },
    {
      "cell_type": "markdown",
      "source": [
        "###1."
      ],
      "metadata": {
        "id": "mU-pXG04QDrp"
      }
    },
    {
      "cell_type": "code",
      "execution_count": 21,
      "metadata": {
        "id": "wK4TtMT2PN1F",
        "colab": {
          "base_uri": "https://localhost:8080/"
        },
        "outputId": "09ea6d86-1bcc-462b-bf1c-b9eccd7e09d6"
      },
      "outputs": [
        {
          "output_type": "stream",
          "name": "stdout",
          "text": [
            "Devia para a vítima? nao\n",
            "\n",
            "Mora perto da vítima? no\n",
            "\n",
            "Já trabalhou com a vítima? nao\n",
            "\n",
            "Telefonou para a vítima? nao\n",
            "\n",
            "Esteve no local do crime? nao\n",
            "\n",
            "=======================RESULTADO=======================\n",
            "\n",
            "Classificação:  Inocente\n",
            "Pontos:  0\n",
            "\n",
            "=======================================================\n"
          ]
        }
      ],
      "source": [
        "import random\n",
        "\n",
        "lista_perguntas = ['Telefonou para a vítima? ', \n",
        "             'Esteve no local do crime? ',\n",
        "             'Mora perto da vítima? ',\n",
        "             'Devia para a vítima? ',\n",
        "             'Já trabalhou com a vítima? ']\n",
        "\n",
        "#for _ in lista_perguntas:\n",
        "#  num_aleatorio = random.randint(0,4)\n",
        "#  pergunta = lista_perguntas[num_aleatorio]\n",
        "\n",
        "contador = 0\n",
        "for pergunta in random.sample(lista_perguntas,5):\n",
        "  resposta = input(pergunta).lower()\n",
        "  print('')\n",
        " \n",
        "  if resposta == 'sim':\n",
        "    contador+=1\n",
        "\n",
        "\n",
        "if 1 <= contador <= 2:\n",
        "  classificacao = 'Suspeito Grau 1'\n",
        "elif 3 <= contador <= 4:\n",
        "  classificacao = 'Suspeito Grau 2'\n",
        "elif contador >= 5:\n",
        "  classificacao = 'Suspeito Grau 3: Principal Suspeito'\n",
        "else:\n",
        "  classificacao = 'Inocente'\n",
        "\n",
        "print('RESULTADO'.center(55,'='))\n",
        "print('\\nClassificação: ', classificacao)\n",
        "print('Pontos: ', contador, end='\\n\\n')\n",
        "print('='*55)"
      ]
    },
    {
      "cell_type": "markdown",
      "source": [
        "###2."
      ],
      "metadata": {
        "id": "WoRlRR1cN7Kw"
      }
    },
    {
      "cell_type": "code",
      "source": [
        "lista_comissoes = [200, 300, 400, 500, 600, 700, 800, 900,\n",
        "                1000]\n",
        "\n",
        "print('='*45)\n",
        "print('TABELA DE COMISSOES'.center(45))\n",
        "print('='*45)\n",
        "print('Valor da venda--------------------Total')\n",
        "\n",
        "for i in range(len(lista_comissoes)-1):\n",
        "  intervalo1 = lista_comissoes[i]\n",
        "  intervalo2 = intervalo1 + 99\n",
        "  total1 = intervalo1 + (intervalo1 * 0.09)\n",
        "  total2 = intervalo2 + (intervalo2 * 0.09)\n",
        "  print(f'${intervalo1:.2f} - ${intervalo2:.2f}.......... ${total1:.2f} - ${total2:.2f}')\n",
        "\n",
        "print(f'$1000................................ ${1000+(1000*0.09)}')"
      ],
      "metadata": {
        "colab": {
          "base_uri": "https://localhost:8080/"
        },
        "id": "JJnzRC9sHjbu",
        "outputId": "e65ba7e5-6467-4162-b744-a841280c5e77"
      },
      "execution_count": 71,
      "outputs": [
        {
          "output_type": "stream",
          "name": "stdout",
          "text": [
            "=============================================\n",
            "             TABELA DE COMISSOES             \n",
            "=============================================\n",
            "Valor da venda--------------------Total\n",
            "$200.00 - $299.00.......... $218.00 - $325.91\n",
            "$300.00 - $399.00.......... $327.00 - $434.91\n",
            "$400.00 - $499.00.......... $436.00 - $543.91\n",
            "$500.00 - $599.00.......... $545.00 - $652.91\n",
            "$600.00 - $699.00.......... $654.00 - $761.91\n",
            "$700.00 - $799.00.......... $763.00 - $870.91\n",
            "$800.00 - $899.00.......... $872.00 - $979.91\n",
            "$900.00 - $999.00.......... $981.00 - $1088.91\n",
            "$1000................................ $1090.0\n"
          ]
        }
      ]
    },
    {
      "cell_type": "markdown",
      "source": [
        "###3."
      ],
      "metadata": {
        "id": "2Ywh9D0iOPLU"
      }
    },
    {
      "cell_type": "code",
      "source": [
        "vetores = []\n",
        "for i in range(0,11):\n",
        "  vetor = input(f'Digite o {i}º vetor: ')\n",
        "  vetores.append(vetor)\n",
        "\n",
        "print(vetores.reverse())"
      ],
      "metadata": {
        "id": "FffqO7JuOOec"
      },
      "execution_count": null,
      "outputs": []
    },
    {
      "cell_type": "markdown",
      "source": [
        "###4."
      ],
      "metadata": {
        "id": "QbmvmUZbORpW"
      }
    },
    {
      "cell_type": "code",
      "source": [
        "notas_alunos = {}\n",
        "\n",
        "for aluno in range(1,11):\n",
        "  # Define os alunos\n",
        "  notas = []\n",
        "\n",
        "  for semestre in range(1,5):\n",
        "    # Define as notas de cada aluno\n",
        "    n = float(input(f'Digite a nota do aluno {aluno} no {semestre}° semestre: '))\n",
        "    notas.append(n)\n",
        "\n",
        "  notas_alunos[aluno] = notas\n",
        "  print('')\n",
        "\n",
        "\n",
        "qnt_apv = 0\n",
        "for aluno in notas_alunos.keys():\n",
        "  media = sum(notas_alunos[aluno])/len(notas)\n",
        "  if media >= 7:\n",
        "    qnt_apv+=1\n",
        "\n",
        "print('='*20)\n",
        "print(f'Aprovados: {qnt_apv}/10')\n",
        "print('='*20)"
      ],
      "metadata": {
        "colab": {
          "base_uri": "https://localhost:8080/"
        },
        "id": "P-Q3_nmDHktE",
        "outputId": "f5c88607-8da8-4505-a98a-959a38398f14"
      },
      "execution_count": 89,
      "outputs": [
        {
          "output_type": "stream",
          "name": "stdout",
          "text": [
            "Digite a nota do aluno 1 no 1° semestre: 8\n",
            "Digite a nota do aluno 1 no 2° semestre: 7\n",
            "Digite a nota do aluno 1 no 3° semestre: 8\n",
            "Digite a nota do aluno 1 no 4° semestre: 5\n",
            "\n",
            "Digite a nota do aluno 2 no 1° semestre: 4\n",
            "Digite a nota do aluno 2 no 2° semestre: 3\n",
            "Digite a nota do aluno 2 no 3° semestre: 8\n",
            "Digite a nota do aluno 2 no 4° semestre: 8\n",
            "\n",
            "Digite a nota do aluno 3 no 1° semestre: 5\n",
            "Digite a nota do aluno 3 no 2° semestre: 4\n",
            "Digite a nota do aluno 3 no 3° semestre: 8\n",
            "Digite a nota do aluno 3 no 4° semestre: 6\n",
            "\n",
            "Digite a nota do aluno 4 no 1° semestre: 5\n",
            "Digite a nota do aluno 4 no 2° semestre: 3\n",
            "Digite a nota do aluno 4 no 3° semestre: 7\n",
            "Digite a nota do aluno 4 no 4° semestre: 6\n",
            "\n",
            "Digite a nota do aluno 5 no 1° semestre: 7\n",
            "Digite a nota do aluno 5 no 2° semestre: 8\n",
            "Digite a nota do aluno 5 no 3° semestre: 6\n",
            "Digite a nota do aluno 5 no 4° semestre: 5\n",
            "\n",
            "Digite a nota do aluno 6 no 1° semestre: 8\n",
            "Digite a nota do aluno 6 no 2° semestre: 4\n",
            "Digite a nota do aluno 6 no 3° semestre: 6\n",
            "Digite a nota do aluno 6 no 4° semestre: 7\n",
            "\n",
            "Digite a nota do aluno 7 no 1° semestre: 6\n",
            "Digite a nota do aluno 7 no 2° semestre: 6\n",
            "Digite a nota do aluno 7 no 3° semestre: 9\n",
            "Digite a nota do aluno 7 no 4° semestre: 8\n",
            "\n",
            "Digite a nota do aluno 8 no 1° semestre: 10\n",
            "Digite a nota do aluno 8 no 2° semestre: 8\n",
            "Digite a nota do aluno 8 no 3° semestre: 9\n",
            "Digite a nota do aluno 8 no 4° semestre: 9\n",
            "\n",
            "Digite a nota do aluno 9 no 1° semestre: 7\n",
            "Digite a nota do aluno 9 no 2° semestre: 7\n",
            "Digite a nota do aluno 9 no 3° semestre: 7\n",
            "Digite a nota do aluno 9 no 4° semestre: 7\n",
            "\n",
            "Digite a nota do aluno 10 no 1° semestre: 8\n",
            "Digite a nota do aluno 10 no 2° semestre: 9\n",
            "Digite a nota do aluno 10 no 3° semestre: 9\n",
            "Digite a nota do aluno 10 no 4° semestre: 3\n",
            "\n",
            "====================\n",
            "Aprovados: 5/10\n",
            "====================\n"
          ]
        }
      ]
    }
  ]
}