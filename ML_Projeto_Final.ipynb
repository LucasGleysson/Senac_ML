{
  "nbformat": 4,
  "nbformat_minor": 0,
  "metadata": {
    "colab": {
      "provenance": [],
      "toc_visible": true,
      "mount_file_id": "1Zbe36RIMbOk8Y8HFRZUOjRyYwgdFrP5g",
      "authorship_tag": "ABX9TyMsFFAMyOutKnPnFikKoYVU",
      "include_colab_link": true
    },
    "kernelspec": {
      "name": "python3",
      "display_name": "Python 3"
    },
    "language_info": {
      "name": "python"
    }
  },
  "cells": [
    {
      "cell_type": "markdown",
      "metadata": {
        "id": "view-in-github",
        "colab_type": "text"
      },
      "source": [
        "<a href=\"https://colab.research.google.com/github/LucasGleysson/Senac_ML/blob/master/ML_Projeto_Final.ipynb\" target=\"_parent\"><img src=\"https://colab.research.google.com/assets/colab-badge.svg\" alt=\"Open In Colab\"/></a>"
      ]
    },
    {
      "cell_type": "markdown",
      "source": [
        "#Projeto Final - Curso de Machine Learning SENAC\n",
        "## Análise e predição de preço de imóveis"
      ],
      "metadata": {
        "id": "4OoAq7aRcirv"
      }
    },
    {
      "cell_type": "markdown",
      "source": [
        "Dataset: https://www.kaggle.com/datasets/harlfoxem/housesalesprediction\n",
        "\n",
        "Este conjunto de dados contém preços de venda de casas, incluindo casas vendidas entre maio de 2014 e maio de 2015.\n",
        "\n",
        "- *(Mais informações sobre o dataset: https://geodacenter.github.io/data-and-lab//KingCounty-HouseSales2015/)*"
      ],
      "metadata": {
        "id": "gzbHkRSyd8Dy"
      }
    },
    {
      "cell_type": "markdown",
      "source": [
        "##Objetivo\n",
        "\n",
        "Analisar como os dados estão distribuidos e como eles se comportam em relação ao preço, no fim, tentar prever o preço das casas com base em algumas de suas características."
      ],
      "metadata": {
        "id": "sNiBPCTGzH0H"
      }
    },
    {
      "cell_type": "markdown",
      "source": [
        "**Imports**"
      ],
      "metadata": {
        "id": "jgaeHL8I5Ead"
      }
    },
    {
      "cell_type": "code",
      "execution_count": 62,
      "metadata": {
        "id": "2dFbEK6hzB6q"
      },
      "outputs": [],
      "source": [
        "import pandas as pd\n",
        "import numpy as np\n",
        "import matplotlib.pyplot as plt\n",
        "import seaborn as sns"
      ]
    },
    {
      "cell_type": "markdown",
      "source": [
        "# 1 - Visualização da base"
      ],
      "metadata": {
        "id": "4etLDvLT5H65"
      }
    },
    {
      "cell_type": "code",
      "source": [
        "houses = pd.read_csv('/content/drive/MyDrive/kc_house_data.csv')"
      ],
      "metadata": {
        "id": "zqKEfo4s2H48"
      },
      "execution_count": 63,
      "outputs": []
    },
    {
      "cell_type": "code",
      "source": [
        "houses"
      ],
      "metadata": {
        "colab": {
          "base_uri": "https://localhost:8080/",
          "height": 487
        },
        "id": "mhB9iZse2Nbt",
        "outputId": "e08357eb-6536-423a-a5f9-e9663c822e19"
      },
      "execution_count": 64,
      "outputs": [
        {
          "output_type": "execute_result",
          "data": {
            "text/plain": [
              "               id             date     price  bedrooms  bathrooms  \\\n",
              "0      7129300520  20141013T000000  221900.0         3       1.00   \n",
              "1      6414100192  20141209T000000  538000.0         3       2.25   \n",
              "2      5631500400  20150225T000000  180000.0         2       1.00   \n",
              "3      2487200875  20141209T000000  604000.0         4       3.00   \n",
              "4      1954400510  20150218T000000  510000.0         3       2.00   \n",
              "...           ...              ...       ...       ...        ...   \n",
              "21608   263000018  20140521T000000  360000.0         3       2.50   \n",
              "21609  6600060120  20150223T000000  400000.0         4       2.50   \n",
              "21610  1523300141  20140623T000000  402101.0         2       0.75   \n",
              "21611   291310100  20150116T000000  400000.0         3       2.50   \n",
              "21612  1523300157  20141015T000000  325000.0         2       0.75   \n",
              "\n",
              "       sqft_living  sqft_lot  floors  waterfront  view  ...  grade  \\\n",
              "0             1180      5650     1.0           0     0  ...      7   \n",
              "1             2570      7242     2.0           0     0  ...      7   \n",
              "2              770     10000     1.0           0     0  ...      6   \n",
              "3             1960      5000     1.0           0     0  ...      7   \n",
              "4             1680      8080     1.0           0     0  ...      8   \n",
              "...            ...       ...     ...         ...   ...  ...    ...   \n",
              "21608         1530      1131     3.0           0     0  ...      8   \n",
              "21609         2310      5813     2.0           0     0  ...      8   \n",
              "21610         1020      1350     2.0           0     0  ...      7   \n",
              "21611         1600      2388     2.0           0     0  ...      8   \n",
              "21612         1020      1076     2.0           0     0  ...      7   \n",
              "\n",
              "       sqft_above  sqft_basement  yr_built  yr_renovated  zipcode      lat  \\\n",
              "0            1180              0      1955             0    98178  47.5112   \n",
              "1            2170            400      1951          1991    98125  47.7210   \n",
              "2             770              0      1933             0    98028  47.7379   \n",
              "3            1050            910      1965             0    98136  47.5208   \n",
              "4            1680              0      1987             0    98074  47.6168   \n",
              "...           ...            ...       ...           ...      ...      ...   \n",
              "21608        1530              0      2009             0    98103  47.6993   \n",
              "21609        2310              0      2014             0    98146  47.5107   \n",
              "21610        1020              0      2009             0    98144  47.5944   \n",
              "21611        1600              0      2004             0    98027  47.5345   \n",
              "21612        1020              0      2008             0    98144  47.5941   \n",
              "\n",
              "          long  sqft_living15  sqft_lot15  \n",
              "0     -122.257           1340        5650  \n",
              "1     -122.319           1690        7639  \n",
              "2     -122.233           2720        8062  \n",
              "3     -122.393           1360        5000  \n",
              "4     -122.045           1800        7503  \n",
              "...        ...            ...         ...  \n",
              "21608 -122.346           1530        1509  \n",
              "21609 -122.362           1830        7200  \n",
              "21610 -122.299           1020        2007  \n",
              "21611 -122.069           1410        1287  \n",
              "21612 -122.299           1020        1357  \n",
              "\n",
              "[21613 rows x 21 columns]"
            ],
            "text/html": [
              "\n",
              "  <div id=\"df-20e2f006-b096-46cf-939a-5ce1a24889e0\">\n",
              "    <div class=\"colab-df-container\">\n",
              "      <div>\n",
              "<style scoped>\n",
              "    .dataframe tbody tr th:only-of-type {\n",
              "        vertical-align: middle;\n",
              "    }\n",
              "\n",
              "    .dataframe tbody tr th {\n",
              "        vertical-align: top;\n",
              "    }\n",
              "\n",
              "    .dataframe thead th {\n",
              "        text-align: right;\n",
              "    }\n",
              "</style>\n",
              "<table border=\"1\" class=\"dataframe\">\n",
              "  <thead>\n",
              "    <tr style=\"text-align: right;\">\n",
              "      <th></th>\n",
              "      <th>id</th>\n",
              "      <th>date</th>\n",
              "      <th>price</th>\n",
              "      <th>bedrooms</th>\n",
              "      <th>bathrooms</th>\n",
              "      <th>sqft_living</th>\n",
              "      <th>sqft_lot</th>\n",
              "      <th>floors</th>\n",
              "      <th>waterfront</th>\n",
              "      <th>view</th>\n",
              "      <th>...</th>\n",
              "      <th>grade</th>\n",
              "      <th>sqft_above</th>\n",
              "      <th>sqft_basement</th>\n",
              "      <th>yr_built</th>\n",
              "      <th>yr_renovated</th>\n",
              "      <th>zipcode</th>\n",
              "      <th>lat</th>\n",
              "      <th>long</th>\n",
              "      <th>sqft_living15</th>\n",
              "      <th>sqft_lot15</th>\n",
              "    </tr>\n",
              "  </thead>\n",
              "  <tbody>\n",
              "    <tr>\n",
              "      <th>0</th>\n",
              "      <td>7129300520</td>\n",
              "      <td>20141013T000000</td>\n",
              "      <td>221900.0</td>\n",
              "      <td>3</td>\n",
              "      <td>1.00</td>\n",
              "      <td>1180</td>\n",
              "      <td>5650</td>\n",
              "      <td>1.0</td>\n",
              "      <td>0</td>\n",
              "      <td>0</td>\n",
              "      <td>...</td>\n",
              "      <td>7</td>\n",
              "      <td>1180</td>\n",
              "      <td>0</td>\n",
              "      <td>1955</td>\n",
              "      <td>0</td>\n",
              "      <td>98178</td>\n",
              "      <td>47.5112</td>\n",
              "      <td>-122.257</td>\n",
              "      <td>1340</td>\n",
              "      <td>5650</td>\n",
              "    </tr>\n",
              "    <tr>\n",
              "      <th>1</th>\n",
              "      <td>6414100192</td>\n",
              "      <td>20141209T000000</td>\n",
              "      <td>538000.0</td>\n",
              "      <td>3</td>\n",
              "      <td>2.25</td>\n",
              "      <td>2570</td>\n",
              "      <td>7242</td>\n",
              "      <td>2.0</td>\n",
              "      <td>0</td>\n",
              "      <td>0</td>\n",
              "      <td>...</td>\n",
              "      <td>7</td>\n",
              "      <td>2170</td>\n",
              "      <td>400</td>\n",
              "      <td>1951</td>\n",
              "      <td>1991</td>\n",
              "      <td>98125</td>\n",
              "      <td>47.7210</td>\n",
              "      <td>-122.319</td>\n",
              "      <td>1690</td>\n",
              "      <td>7639</td>\n",
              "    </tr>\n",
              "    <tr>\n",
              "      <th>2</th>\n",
              "      <td>5631500400</td>\n",
              "      <td>20150225T000000</td>\n",
              "      <td>180000.0</td>\n",
              "      <td>2</td>\n",
              "      <td>1.00</td>\n",
              "      <td>770</td>\n",
              "      <td>10000</td>\n",
              "      <td>1.0</td>\n",
              "      <td>0</td>\n",
              "      <td>0</td>\n",
              "      <td>...</td>\n",
              "      <td>6</td>\n",
              "      <td>770</td>\n",
              "      <td>0</td>\n",
              "      <td>1933</td>\n",
              "      <td>0</td>\n",
              "      <td>98028</td>\n",
              "      <td>47.7379</td>\n",
              "      <td>-122.233</td>\n",
              "      <td>2720</td>\n",
              "      <td>8062</td>\n",
              "    </tr>\n",
              "    <tr>\n",
              "      <th>3</th>\n",
              "      <td>2487200875</td>\n",
              "      <td>20141209T000000</td>\n",
              "      <td>604000.0</td>\n",
              "      <td>4</td>\n",
              "      <td>3.00</td>\n",
              "      <td>1960</td>\n",
              "      <td>5000</td>\n",
              "      <td>1.0</td>\n",
              "      <td>0</td>\n",
              "      <td>0</td>\n",
              "      <td>...</td>\n",
              "      <td>7</td>\n",
              "      <td>1050</td>\n",
              "      <td>910</td>\n",
              "      <td>1965</td>\n",
              "      <td>0</td>\n",
              "      <td>98136</td>\n",
              "      <td>47.5208</td>\n",
              "      <td>-122.393</td>\n",
              "      <td>1360</td>\n",
              "      <td>5000</td>\n",
              "    </tr>\n",
              "    <tr>\n",
              "      <th>4</th>\n",
              "      <td>1954400510</td>\n",
              "      <td>20150218T000000</td>\n",
              "      <td>510000.0</td>\n",
              "      <td>3</td>\n",
              "      <td>2.00</td>\n",
              "      <td>1680</td>\n",
              "      <td>8080</td>\n",
              "      <td>1.0</td>\n",
              "      <td>0</td>\n",
              "      <td>0</td>\n",
              "      <td>...</td>\n",
              "      <td>8</td>\n",
              "      <td>1680</td>\n",
              "      <td>0</td>\n",
              "      <td>1987</td>\n",
              "      <td>0</td>\n",
              "      <td>98074</td>\n",
              "      <td>47.6168</td>\n",
              "      <td>-122.045</td>\n",
              "      <td>1800</td>\n",
              "      <td>7503</td>\n",
              "    </tr>\n",
              "    <tr>\n",
              "      <th>...</th>\n",
              "      <td>...</td>\n",
              "      <td>...</td>\n",
              "      <td>...</td>\n",
              "      <td>...</td>\n",
              "      <td>...</td>\n",
              "      <td>...</td>\n",
              "      <td>...</td>\n",
              "      <td>...</td>\n",
              "      <td>...</td>\n",
              "      <td>...</td>\n",
              "      <td>...</td>\n",
              "      <td>...</td>\n",
              "      <td>...</td>\n",
              "      <td>...</td>\n",
              "      <td>...</td>\n",
              "      <td>...</td>\n",
              "      <td>...</td>\n",
              "      <td>...</td>\n",
              "      <td>...</td>\n",
              "      <td>...</td>\n",
              "      <td>...</td>\n",
              "    </tr>\n",
              "    <tr>\n",
              "      <th>21608</th>\n",
              "      <td>263000018</td>\n",
              "      <td>20140521T000000</td>\n",
              "      <td>360000.0</td>\n",
              "      <td>3</td>\n",
              "      <td>2.50</td>\n",
              "      <td>1530</td>\n",
              "      <td>1131</td>\n",
              "      <td>3.0</td>\n",
              "      <td>0</td>\n",
              "      <td>0</td>\n",
              "      <td>...</td>\n",
              "      <td>8</td>\n",
              "      <td>1530</td>\n",
              "      <td>0</td>\n",
              "      <td>2009</td>\n",
              "      <td>0</td>\n",
              "      <td>98103</td>\n",
              "      <td>47.6993</td>\n",
              "      <td>-122.346</td>\n",
              "      <td>1530</td>\n",
              "      <td>1509</td>\n",
              "    </tr>\n",
              "    <tr>\n",
              "      <th>21609</th>\n",
              "      <td>6600060120</td>\n",
              "      <td>20150223T000000</td>\n",
              "      <td>400000.0</td>\n",
              "      <td>4</td>\n",
              "      <td>2.50</td>\n",
              "      <td>2310</td>\n",
              "      <td>5813</td>\n",
              "      <td>2.0</td>\n",
              "      <td>0</td>\n",
              "      <td>0</td>\n",
              "      <td>...</td>\n",
              "      <td>8</td>\n",
              "      <td>2310</td>\n",
              "      <td>0</td>\n",
              "      <td>2014</td>\n",
              "      <td>0</td>\n",
              "      <td>98146</td>\n",
              "      <td>47.5107</td>\n",
              "      <td>-122.362</td>\n",
              "      <td>1830</td>\n",
              "      <td>7200</td>\n",
              "    </tr>\n",
              "    <tr>\n",
              "      <th>21610</th>\n",
              "      <td>1523300141</td>\n",
              "      <td>20140623T000000</td>\n",
              "      <td>402101.0</td>\n",
              "      <td>2</td>\n",
              "      <td>0.75</td>\n",
              "      <td>1020</td>\n",
              "      <td>1350</td>\n",
              "      <td>2.0</td>\n",
              "      <td>0</td>\n",
              "      <td>0</td>\n",
              "      <td>...</td>\n",
              "      <td>7</td>\n",
              "      <td>1020</td>\n",
              "      <td>0</td>\n",
              "      <td>2009</td>\n",
              "      <td>0</td>\n",
              "      <td>98144</td>\n",
              "      <td>47.5944</td>\n",
              "      <td>-122.299</td>\n",
              "      <td>1020</td>\n",
              "      <td>2007</td>\n",
              "    </tr>\n",
              "    <tr>\n",
              "      <th>21611</th>\n",
              "      <td>291310100</td>\n",
              "      <td>20150116T000000</td>\n",
              "      <td>400000.0</td>\n",
              "      <td>3</td>\n",
              "      <td>2.50</td>\n",
              "      <td>1600</td>\n",
              "      <td>2388</td>\n",
              "      <td>2.0</td>\n",
              "      <td>0</td>\n",
              "      <td>0</td>\n",
              "      <td>...</td>\n",
              "      <td>8</td>\n",
              "      <td>1600</td>\n",
              "      <td>0</td>\n",
              "      <td>2004</td>\n",
              "      <td>0</td>\n",
              "      <td>98027</td>\n",
              "      <td>47.5345</td>\n",
              "      <td>-122.069</td>\n",
              "      <td>1410</td>\n",
              "      <td>1287</td>\n",
              "    </tr>\n",
              "    <tr>\n",
              "      <th>21612</th>\n",
              "      <td>1523300157</td>\n",
              "      <td>20141015T000000</td>\n",
              "      <td>325000.0</td>\n",
              "      <td>2</td>\n",
              "      <td>0.75</td>\n",
              "      <td>1020</td>\n",
              "      <td>1076</td>\n",
              "      <td>2.0</td>\n",
              "      <td>0</td>\n",
              "      <td>0</td>\n",
              "      <td>...</td>\n",
              "      <td>7</td>\n",
              "      <td>1020</td>\n",
              "      <td>0</td>\n",
              "      <td>2008</td>\n",
              "      <td>0</td>\n",
              "      <td>98144</td>\n",
              "      <td>47.5941</td>\n",
              "      <td>-122.299</td>\n",
              "      <td>1020</td>\n",
              "      <td>1357</td>\n",
              "    </tr>\n",
              "  </tbody>\n",
              "</table>\n",
              "<p>21613 rows × 21 columns</p>\n",
              "</div>\n",
              "      <button class=\"colab-df-convert\" onclick=\"convertToInteractive('df-20e2f006-b096-46cf-939a-5ce1a24889e0')\"\n",
              "              title=\"Convert this dataframe to an interactive table.\"\n",
              "              style=\"display:none;\">\n",
              "        \n",
              "  <svg xmlns=\"http://www.w3.org/2000/svg\" height=\"24px\"viewBox=\"0 0 24 24\"\n",
              "       width=\"24px\">\n",
              "    <path d=\"M0 0h24v24H0V0z\" fill=\"none\"/>\n",
              "    <path d=\"M18.56 5.44l.94 2.06.94-2.06 2.06-.94-2.06-.94-.94-2.06-.94 2.06-2.06.94zm-11 1L8.5 8.5l.94-2.06 2.06-.94-2.06-.94L8.5 2.5l-.94 2.06-2.06.94zm10 10l.94 2.06.94-2.06 2.06-.94-2.06-.94-.94-2.06-.94 2.06-2.06.94z\"/><path d=\"M17.41 7.96l-1.37-1.37c-.4-.4-.92-.59-1.43-.59-.52 0-1.04.2-1.43.59L10.3 9.45l-7.72 7.72c-.78.78-.78 2.05 0 2.83L4 21.41c.39.39.9.59 1.41.59.51 0 1.02-.2 1.41-.59l7.78-7.78 2.81-2.81c.8-.78.8-2.07 0-2.86zM5.41 20L4 18.59l7.72-7.72 1.47 1.35L5.41 20z\"/>\n",
              "  </svg>\n",
              "      </button>\n",
              "      \n",
              "  <style>\n",
              "    .colab-df-container {\n",
              "      display:flex;\n",
              "      flex-wrap:wrap;\n",
              "      gap: 12px;\n",
              "    }\n",
              "\n",
              "    .colab-df-convert {\n",
              "      background-color: #E8F0FE;\n",
              "      border: none;\n",
              "      border-radius: 50%;\n",
              "      cursor: pointer;\n",
              "      display: none;\n",
              "      fill: #1967D2;\n",
              "      height: 32px;\n",
              "      padding: 0 0 0 0;\n",
              "      width: 32px;\n",
              "    }\n",
              "\n",
              "    .colab-df-convert:hover {\n",
              "      background-color: #E2EBFA;\n",
              "      box-shadow: 0px 1px 2px rgba(60, 64, 67, 0.3), 0px 1px 3px 1px rgba(60, 64, 67, 0.15);\n",
              "      fill: #174EA6;\n",
              "    }\n",
              "\n",
              "    [theme=dark] .colab-df-convert {\n",
              "      background-color: #3B4455;\n",
              "      fill: #D2E3FC;\n",
              "    }\n",
              "\n",
              "    [theme=dark] .colab-df-convert:hover {\n",
              "      background-color: #434B5C;\n",
              "      box-shadow: 0px 1px 3px 1px rgba(0, 0, 0, 0.15);\n",
              "      filter: drop-shadow(0px 1px 2px rgba(0, 0, 0, 0.3));\n",
              "      fill: #FFFFFF;\n",
              "    }\n",
              "  </style>\n",
              "\n",
              "      <script>\n",
              "        const buttonEl =\n",
              "          document.querySelector('#df-20e2f006-b096-46cf-939a-5ce1a24889e0 button.colab-df-convert');\n",
              "        buttonEl.style.display =\n",
              "          google.colab.kernel.accessAllowed ? 'block' : 'none';\n",
              "\n",
              "        async function convertToInteractive(key) {\n",
              "          const element = document.querySelector('#df-20e2f006-b096-46cf-939a-5ce1a24889e0');\n",
              "          const dataTable =\n",
              "            await google.colab.kernel.invokeFunction('convertToInteractive',\n",
              "                                                     [key], {});\n",
              "          if (!dataTable) return;\n",
              "\n",
              "          const docLinkHtml = 'Like what you see? Visit the ' +\n",
              "            '<a target=\"_blank\" href=https://colab.research.google.com/notebooks/data_table.ipynb>data table notebook</a>'\n",
              "            + ' to learn more about interactive tables.';\n",
              "          element.innerHTML = '';\n",
              "          dataTable['output_type'] = 'display_data';\n",
              "          await google.colab.output.renderOutput(dataTable, element);\n",
              "          const docLink = document.createElement('div');\n",
              "          docLink.innerHTML = docLinkHtml;\n",
              "          element.appendChild(docLink);\n",
              "        }\n",
              "      </script>\n",
              "    </div>\n",
              "  </div>\n",
              "  "
            ]
          },
          "metadata": {},
          "execution_count": 64
        }
      ]
    },
    {
      "cell_type": "code",
      "source": [
        "houses.info()"
      ],
      "metadata": {
        "colab": {
          "base_uri": "https://localhost:8080/"
        },
        "id": "xxTEZUc-jwNS",
        "outputId": "fbda627c-0f85-46d5-92f3-08b031f7fee6"
      },
      "execution_count": 65,
      "outputs": [
        {
          "output_type": "stream",
          "name": "stdout",
          "text": [
            "<class 'pandas.core.frame.DataFrame'>\n",
            "RangeIndex: 21613 entries, 0 to 21612\n",
            "Data columns (total 21 columns):\n",
            " #   Column         Non-Null Count  Dtype  \n",
            "---  ------         --------------  -----  \n",
            " 0   id             21613 non-null  int64  \n",
            " 1   date           21613 non-null  object \n",
            " 2   price          21613 non-null  float64\n",
            " 3   bedrooms       21613 non-null  int64  \n",
            " 4   bathrooms      21613 non-null  float64\n",
            " 5   sqft_living    21613 non-null  int64  \n",
            " 6   sqft_lot       21613 non-null  int64  \n",
            " 7   floors         21613 non-null  float64\n",
            " 8   waterfront     21613 non-null  int64  \n",
            " 9   view           21613 non-null  int64  \n",
            " 10  condition      21613 non-null  int64  \n",
            " 11  grade          21613 non-null  int64  \n",
            " 12  sqft_above     21613 non-null  int64  \n",
            " 13  sqft_basement  21613 non-null  int64  \n",
            " 14  yr_built       21613 non-null  int64  \n",
            " 15  yr_renovated   21613 non-null  int64  \n",
            " 16  zipcode        21613 non-null  int64  \n",
            " 17  lat            21613 non-null  float64\n",
            " 18  long           21613 non-null  float64\n",
            " 19  sqft_living15  21613 non-null  int64  \n",
            " 20  sqft_lot15     21613 non-null  int64  \n",
            "dtypes: float64(5), int64(15), object(1)\n",
            "memory usage: 3.5+ MB\n"
          ]
        }
      ]
    },
    {
      "cell_type": "markdown",
      "source": [
        "- Aparentemente, os dados não tem problemas com valores faltantes ou tipos errados nas colunas, então o foco maior pode ser voltado ao tratamento dos dados em si."
      ],
      "metadata": {
        "id": "JbVT-lPsj8wy"
      }
    },
    {
      "cell_type": "markdown",
      "source": [
        "# 2 - Análise Exploratória e Tratamento dos dados"
      ],
      "metadata": {
        "id": "fo-NtCOAktlp"
      }
    },
    {
      "cell_type": "markdown",
      "source": [
        "- Primeiro, vou descartar algumas colunas."
      ],
      "metadata": {
        "id": "LrqhyGFupFI8"
      }
    },
    {
      "cell_type": "code",
      "source": [
        "houses = houses.drop(columns=['id','zipcode'])"
      ],
      "metadata": {
        "id": "B0YluG1mpTod"
      },
      "execution_count": 66,
      "outputs": []
    },
    {
      "cell_type": "markdown",
      "source": [
        "- Id não vai ser muito útil e não precisamos do zipcode se já temos as coordenadas."
      ],
      "metadata": {
        "id": "QgKGbGMppdq-"
      }
    },
    {
      "cell_type": "markdown",
      "source": [
        "###2.1 - Variáveis Categóricas\n",
        "\n",
        "Vou separar algumas colunas de valor categórico e valores que deveriam ser pequeno para facilitar a análise inicial."
      ],
      "metadata": {
        "id": "gLAqNmv_mSYg"
      }
    },
    {
      "cell_type": "code",
      "source": [
        "# Selecionando Colunas Categóricas\n",
        "c_categoricas = houses.copy()\n",
        "c_categoricas = c_categoricas[['waterfront','view','condition','grade']]\n",
        "c_categoricas.describe().transpose()"
      ],
      "metadata": {
        "colab": {
          "base_uri": "https://localhost:8080/",
          "height": 175
        },
        "id": "xNPie65m2RBj",
        "outputId": "9892508d-84dd-4f76-816c-8665b94b60b9"
      },
      "execution_count": 67,
      "outputs": [
        {
          "output_type": "execute_result",
          "data": {
            "text/plain": [
              "              count      mean       std  min  25%  50%  75%   max\n",
              "waterfront  21613.0  0.007542  0.086517  0.0  0.0  0.0  0.0   1.0\n",
              "view        21613.0  0.234303  0.766318  0.0  0.0  0.0  0.0   4.0\n",
              "condition   21613.0  3.409430  0.650743  1.0  3.0  3.0  4.0   5.0\n",
              "grade       21613.0  7.656873  1.175459  1.0  7.0  7.0  8.0  13.0"
            ],
            "text/html": [
              "\n",
              "  <div id=\"df-a4abee73-ee77-426a-9ba4-6ee9e8bb0d45\">\n",
              "    <div class=\"colab-df-container\">\n",
              "      <div>\n",
              "<style scoped>\n",
              "    .dataframe tbody tr th:only-of-type {\n",
              "        vertical-align: middle;\n",
              "    }\n",
              "\n",
              "    .dataframe tbody tr th {\n",
              "        vertical-align: top;\n",
              "    }\n",
              "\n",
              "    .dataframe thead th {\n",
              "        text-align: right;\n",
              "    }\n",
              "</style>\n",
              "<table border=\"1\" class=\"dataframe\">\n",
              "  <thead>\n",
              "    <tr style=\"text-align: right;\">\n",
              "      <th></th>\n",
              "      <th>count</th>\n",
              "      <th>mean</th>\n",
              "      <th>std</th>\n",
              "      <th>min</th>\n",
              "      <th>25%</th>\n",
              "      <th>50%</th>\n",
              "      <th>75%</th>\n",
              "      <th>max</th>\n",
              "    </tr>\n",
              "  </thead>\n",
              "  <tbody>\n",
              "    <tr>\n",
              "      <th>waterfront</th>\n",
              "      <td>21613.0</td>\n",
              "      <td>0.007542</td>\n",
              "      <td>0.086517</td>\n",
              "      <td>0.0</td>\n",
              "      <td>0.0</td>\n",
              "      <td>0.0</td>\n",
              "      <td>0.0</td>\n",
              "      <td>1.0</td>\n",
              "    </tr>\n",
              "    <tr>\n",
              "      <th>view</th>\n",
              "      <td>21613.0</td>\n",
              "      <td>0.234303</td>\n",
              "      <td>0.766318</td>\n",
              "      <td>0.0</td>\n",
              "      <td>0.0</td>\n",
              "      <td>0.0</td>\n",
              "      <td>0.0</td>\n",
              "      <td>4.0</td>\n",
              "    </tr>\n",
              "    <tr>\n",
              "      <th>condition</th>\n",
              "      <td>21613.0</td>\n",
              "      <td>3.409430</td>\n",
              "      <td>0.650743</td>\n",
              "      <td>1.0</td>\n",
              "      <td>3.0</td>\n",
              "      <td>3.0</td>\n",
              "      <td>4.0</td>\n",
              "      <td>5.0</td>\n",
              "    </tr>\n",
              "    <tr>\n",
              "      <th>grade</th>\n",
              "      <td>21613.0</td>\n",
              "      <td>7.656873</td>\n",
              "      <td>1.175459</td>\n",
              "      <td>1.0</td>\n",
              "      <td>7.0</td>\n",
              "      <td>7.0</td>\n",
              "      <td>8.0</td>\n",
              "      <td>13.0</td>\n",
              "    </tr>\n",
              "  </tbody>\n",
              "</table>\n",
              "</div>\n",
              "      <button class=\"colab-df-convert\" onclick=\"convertToInteractive('df-a4abee73-ee77-426a-9ba4-6ee9e8bb0d45')\"\n",
              "              title=\"Convert this dataframe to an interactive table.\"\n",
              "              style=\"display:none;\">\n",
              "        \n",
              "  <svg xmlns=\"http://www.w3.org/2000/svg\" height=\"24px\"viewBox=\"0 0 24 24\"\n",
              "       width=\"24px\">\n",
              "    <path d=\"M0 0h24v24H0V0z\" fill=\"none\"/>\n",
              "    <path d=\"M18.56 5.44l.94 2.06.94-2.06 2.06-.94-2.06-.94-.94-2.06-.94 2.06-2.06.94zm-11 1L8.5 8.5l.94-2.06 2.06-.94-2.06-.94L8.5 2.5l-.94 2.06-2.06.94zm10 10l.94 2.06.94-2.06 2.06-.94-2.06-.94-.94-2.06-.94 2.06-2.06.94z\"/><path d=\"M17.41 7.96l-1.37-1.37c-.4-.4-.92-.59-1.43-.59-.52 0-1.04.2-1.43.59L10.3 9.45l-7.72 7.72c-.78.78-.78 2.05 0 2.83L4 21.41c.39.39.9.59 1.41.59.51 0 1.02-.2 1.41-.59l7.78-7.78 2.81-2.81c.8-.78.8-2.07 0-2.86zM5.41 20L4 18.59l7.72-7.72 1.47 1.35L5.41 20z\"/>\n",
              "  </svg>\n",
              "      </button>\n",
              "      \n",
              "  <style>\n",
              "    .colab-df-container {\n",
              "      display:flex;\n",
              "      flex-wrap:wrap;\n",
              "      gap: 12px;\n",
              "    }\n",
              "\n",
              "    .colab-df-convert {\n",
              "      background-color: #E8F0FE;\n",
              "      border: none;\n",
              "      border-radius: 50%;\n",
              "      cursor: pointer;\n",
              "      display: none;\n",
              "      fill: #1967D2;\n",
              "      height: 32px;\n",
              "      padding: 0 0 0 0;\n",
              "      width: 32px;\n",
              "    }\n",
              "\n",
              "    .colab-df-convert:hover {\n",
              "      background-color: #E2EBFA;\n",
              "      box-shadow: 0px 1px 2px rgba(60, 64, 67, 0.3), 0px 1px 3px 1px rgba(60, 64, 67, 0.15);\n",
              "      fill: #174EA6;\n",
              "    }\n",
              "\n",
              "    [theme=dark] .colab-df-convert {\n",
              "      background-color: #3B4455;\n",
              "      fill: #D2E3FC;\n",
              "    }\n",
              "\n",
              "    [theme=dark] .colab-df-convert:hover {\n",
              "      background-color: #434B5C;\n",
              "      box-shadow: 0px 1px 3px 1px rgba(0, 0, 0, 0.15);\n",
              "      filter: drop-shadow(0px 1px 2px rgba(0, 0, 0, 0.3));\n",
              "      fill: #FFFFFF;\n",
              "    }\n",
              "  </style>\n",
              "\n",
              "      <script>\n",
              "        const buttonEl =\n",
              "          document.querySelector('#df-a4abee73-ee77-426a-9ba4-6ee9e8bb0d45 button.colab-df-convert');\n",
              "        buttonEl.style.display =\n",
              "          google.colab.kernel.accessAllowed ? 'block' : 'none';\n",
              "\n",
              "        async function convertToInteractive(key) {\n",
              "          const element = document.querySelector('#df-a4abee73-ee77-426a-9ba4-6ee9e8bb0d45');\n",
              "          const dataTable =\n",
              "            await google.colab.kernel.invokeFunction('convertToInteractive',\n",
              "                                                     [key], {});\n",
              "          if (!dataTable) return;\n",
              "\n",
              "          const docLinkHtml = 'Like what you see? Visit the ' +\n",
              "            '<a target=\"_blank\" href=https://colab.research.google.com/notebooks/data_table.ipynb>data table notebook</a>'\n",
              "            + ' to learn more about interactive tables.';\n",
              "          element.innerHTML = '';\n",
              "          dataTable['output_type'] = 'display_data';\n",
              "          await google.colab.output.renderOutput(dataTable, element);\n",
              "          const docLink = document.createElement('div');\n",
              "          docLink.innerHTML = docLinkHtml;\n",
              "          element.appendChild(docLink);\n",
              "        }\n",
              "      </script>\n",
              "    </div>\n",
              "  </div>\n",
              "  "
            ]
          },
          "metadata": {},
          "execution_count": 67
        }
      ]
    },
    {
      "cell_type": "markdown",
      "source": [
        "- Os dado categóricos parecem não ter muito problemas, exceto o view."
      ],
      "metadata": {
        "id": "v8tB6dsenB2D"
      }
    },
    {
      "cell_type": "markdown",
      "source": [
        "####View"
      ],
      "metadata": {
        "id": "5cRueAJOtmYn"
      }
    },
    {
      "cell_type": "code",
      "source": [
        "# Checando porcentagem\n",
        "(c_categoricas['view'].value_counts() / c_categoricas.shape[0]) * 100"
      ],
      "metadata": {
        "colab": {
          "base_uri": "https://localhost:8080/"
        },
        "id": "wHakXrovnm0V",
        "outputId": "cf897ba2-bb0f-4c86-9d82-a83ad209805d"
      },
      "execution_count": 68,
      "outputs": [
        {
          "output_type": "execute_result",
          "data": {
            "text/plain": [
              "0    90.172581\n",
              "2     4.455652\n",
              "3     2.359691\n",
              "1     1.536113\n",
              "4     1.475964\n",
              "Name: view, dtype: float64"
            ]
          },
          "metadata": {},
          "execution_count": 68
        }
      ]
    },
    {
      "cell_type": "markdown",
      "source": [
        "- View(vista do imóvel) tem 90% dos seus registros com valor 0,mesmo que as notas de condição e estrutura da casa variem."
      ],
      "metadata": {
        "id": "CUdE0-1en6m4"
      }
    },
    {
      "cell_type": "code",
      "source": [
        "# Visualizando distribuição no gráfico\n",
        "plt.style.use('seaborn-white')\n",
        "plt.figure(figsize=(15,10))\n",
        "plt.hist(c_categoricas['view'])\n",
        "plt.title('Distribuição de notas \"View\"', fontsize=16)\n",
        "plt.xlabel('Nota (View)', fontsize=14)\n",
        "plt.ylabel('Quantidade', fontsize=14)\n",
        "plt.grid(True)\n",
        "plt.show()"
      ],
      "metadata": {
        "colab": {
          "base_uri": "https://localhost:8080/",
          "height": 624
        },
        "id": "Ignt-yMh4Nuh",
        "outputId": "4f078efe-7704-43ba-fb68-80aa7263674b"
      },
      "execution_count": 69,
      "outputs": [
        {
          "output_type": "display_data",
          "data": {
            "text/plain": [
              "<Figure size 1080x720 with 1 Axes>"
            ],
            "image/png": "[encoded data removed]"
          },
          "metadata": {}
        }
      ]
    },
    {
      "cell_type": "markdown",
      "source": [
        "- View indica a vista da propriedade basicamente, isso pode indicar que boa parte do terreno pode precisar ser arrumado."
      ],
      "metadata": {
        "id": "C2KuxjoY6qpd"
      }
    },
    {
      "cell_type": "markdown",
      "source": [
        "- O crusamento dos dados de view e condition ajudam a ter uma ideia de como pode esta a situação da maioria das casas. "
      ],
      "metadata": {
        "id": "Iz2Ydg5S8iiV"
      }
    },
    {
      "cell_type": "code",
      "source": [
        "# Cruzando dados.\n",
        "pd.crosstab(index=c_categoricas['view'], columns = c_categoricas['condition'])"
      ],
      "metadata": {
        "colab": {
          "base_uri": "https://localhost:8080/",
          "height": 237
        },
        "id": "Do9aIKii7MH-",
        "outputId": "6f7e5709-c8b8-4da3-beff-a7edef0a27e1"
      },
      "execution_count": 70,
      "outputs": [
        {
          "output_type": "execute_result",
          "data": {
            "text/plain": [
              "condition   1    2      3     4     5\n",
              "view                                 \n",
              "0          27  166  12768  5054  1474\n",
              "1           1    1    191   105    34\n",
              "2           0    3    588   268   104\n",
              "3           0    2    309   153    46\n",
              "4           2    0    175    99    43"
            ],
            "text/html": [
              "\n",
              "  <div id=\"df-f4e63a3d-ebf7-459e-9805-39e0692aa88a\">\n",
              "    <div class=\"colab-df-container\">\n",
              "      <div>\n",
              "<style scoped>\n",
              "    .dataframe tbody tr th:only-of-type {\n",
              "        vertical-align: middle;\n",
              "    }\n",
              "\n",
              "    .dataframe tbody tr th {\n",
              "        vertical-align: top;\n",
              "    }\n",
              "\n",
              "    .dataframe thead th {\n",
              "        text-align: right;\n",
              "    }\n",
              "</style>\n",
              "<table border=\"1\" class=\"dataframe\">\n",
              "  <thead>\n",
              "    <tr style=\"text-align: right;\">\n",
              "      <th>condition</th>\n",
              "      <th>1</th>\n",
              "      <th>2</th>\n",
              "      <th>3</th>\n",
              "      <th>4</th>\n",
              "      <th>5</th>\n",
              "    </tr>\n",
              "    <tr>\n",
              "      <th>view</th>\n",
              "      <th></th>\n",
              "      <th></th>\n",
              "      <th></th>\n",
              "      <th></th>\n",
              "      <th></th>\n",
              "    </tr>\n",
              "  </thead>\n",
              "  <tbody>\n",
              "    <tr>\n",
              "      <th>0</th>\n",
              "      <td>27</td>\n",
              "      <td>166</td>\n",
              "      <td>12768</td>\n",
              "      <td>5054</td>\n",
              "      <td>1474</td>\n",
              "    </tr>\n",
              "    <tr>\n",
              "      <th>1</th>\n",
              "      <td>1</td>\n",
              "      <td>1</td>\n",
              "      <td>191</td>\n",
              "      <td>105</td>\n",
              "      <td>34</td>\n",
              "    </tr>\n",
              "    <tr>\n",
              "      <th>2</th>\n",
              "      <td>0</td>\n",
              "      <td>3</td>\n",
              "      <td>588</td>\n",
              "      <td>268</td>\n",
              "      <td>104</td>\n",
              "    </tr>\n",
              "    <tr>\n",
              "      <th>3</th>\n",
              "      <td>0</td>\n",
              "      <td>2</td>\n",
              "      <td>309</td>\n",
              "      <td>153</td>\n",
              "      <td>46</td>\n",
              "    </tr>\n",
              "    <tr>\n",
              "      <th>4</th>\n",
              "      <td>2</td>\n",
              "      <td>0</td>\n",
              "      <td>175</td>\n",
              "      <td>99</td>\n",
              "      <td>43</td>\n",
              "    </tr>\n",
              "  </tbody>\n",
              "</table>\n",
              "</div>\n",
              "      <button class=\"colab-df-convert\" onclick=\"convertToInteractive('df-f4e63a3d-ebf7-459e-9805-39e0692aa88a')\"\n",
              "              title=\"Convert this dataframe to an interactive table.\"\n",
              "              style=\"display:none;\">\n",
              "        \n",
              "  <svg xmlns=\"http://www.w3.org/2000/svg\" height=\"24px\"viewBox=\"0 0 24 24\"\n",
              "       width=\"24px\">\n",
              "    <path d=\"M0 0h24v24H0V0z\" fill=\"none\"/>\n",
              "    <path d=\"M18.56 5.44l.94 2.06.94-2.06 2.06-.94-2.06-.94-.94-2.06-.94 2.06-2.06.94zm-11 1L8.5 8.5l.94-2.06 2.06-.94-2.06-.94L8.5 2.5l-.94 2.06-2.06.94zm10 10l.94 2.06.94-2.06 2.06-.94-2.06-.94-.94-2.06-.94 2.06-2.06.94z\"/><path d=\"M17.41 7.96l-1.37-1.37c-.4-.4-.92-.59-1.43-.59-.52 0-1.04.2-1.43.59L10.3 9.45l-7.72 7.72c-.78.78-.78 2.05 0 2.83L4 21.41c.39.39.9.59 1.41.59.51 0 1.02-.2 1.41-.59l7.78-7.78 2.81-2.81c.8-.78.8-2.07 0-2.86zM5.41 20L4 18.59l7.72-7.72 1.47 1.35L5.41 20z\"/>\n",
              "  </svg>\n",
              "      </button>\n",
              "      \n",
              "  <style>\n",
              "    .colab-df-container {\n",
              "      display:flex;\n",
              "      flex-wrap:wrap;\n",
              "      gap: 12px;\n",
              "    }\n",
              "\n",
              "    .colab-df-convert {\n",
              "      background-color: #E8F0FE;\n",
              "      border: none;\n",
              "      border-radius: 50%;\n",
              "      cursor: pointer;\n",
              "      display: none;\n",
              "      fill: #1967D2;\n",
              "      height: 32px;\n",
              "      padding: 0 0 0 0;\n",
              "      width: 32px;\n",
              "    }\n",
              "\n",
              "    .colab-df-convert:hover {\n",
              "      background-color: #E2EBFA;\n",
              "      box-shadow: 0px 1px 2px rgba(60, 64, 67, 0.3), 0px 1px 3px 1px rgba(60, 64, 67, 0.15);\n",
              "      fill: #174EA6;\n",
              "    }\n",
              "\n",
              "    [theme=dark] .colab-df-convert {\n",
              "      background-color: #3B4455;\n",
              "      fill: #D2E3FC;\n",
              "    }\n",
              "\n",
              "    [theme=dark] .colab-df-convert:hover {\n",
              "      background-color: #434B5C;\n",
              "      box-shadow: 0px 1px 3px 1px rgba(0, 0, 0, 0.15);\n",
              "      filter: drop-shadow(0px 1px 2px rgba(0, 0, 0, 0.3));\n",
              "      fill: #FFFFFF;\n",
              "    }\n",
              "  </style>\n",
              "\n",
              "      <script>\n",
              "        const buttonEl =\n",
              "          document.querySelector('#df-f4e63a3d-ebf7-459e-9805-39e0692aa88a button.colab-df-convert');\n",
              "        buttonEl.style.display =\n",
              "          google.colab.kernel.accessAllowed ? 'block' : 'none';\n",
              "\n",
              "        async function convertToInteractive(key) {\n",
              "          const element = document.querySelector('#df-f4e63a3d-ebf7-459e-9805-39e0692aa88a');\n",
              "          const dataTable =\n",
              "            await google.colab.kernel.invokeFunction('convertToInteractive',\n",
              "                                                     [key], {});\n",
              "          if (!dataTable) return;\n",
              "\n",
              "          const docLinkHtml = 'Like what you see? Visit the ' +\n",
              "            '<a target=\"_blank\" href=https://colab.research.google.com/notebooks/data_table.ipynb>data table notebook</a>'\n",
              "            + ' to learn more about interactive tables.';\n",
              "          element.innerHTML = '';\n",
              "          dataTable['output_type'] = 'display_data';\n",
              "          await google.colab.output.renderOutput(dataTable, element);\n",
              "          const docLink = document.createElement('div');\n",
              "          docLink.innerHTML = docLinkHtml;\n",
              "          element.appendChild(docLink);\n",
              "        }\n",
              "      </script>\n",
              "    </div>\n",
              "  </div>\n",
              "  "
            ]
          },
          "metadata": {},
          "execution_count": 70
        }
      ]
    },
    {
      "cell_type": "markdown",
      "source": [
        "- Mesmo a propriedade não tendo uma boa nota de visualização, a maioria das casas se mantem em condições relativamente boas, com notas iguais e maiores que 3."
      ],
      "metadata": {
        "id": "UUqQbT_Z852J"
      }
    },
    {
      "cell_type": "markdown",
      "source": [
        "####Grade e Condition\n",
        "\n",
        "- Uma observação interessante de se fazer, é sobre os preços dos imóveis em relação a sua classificação e condição.\n",
        "\n",
        "-\t\"Grade - Classificação por qualidade de construção que se refere aos tipos de materiais utilizados e à qualidade da mão-de-obra. Edifícios de melhor qualidade (grau mais alto) custam mais para serem construídos por unidade de medida e exigem maior valor.\" \n",
        "\n",
        "referência: (https://info.kingcounty.gov/assessor/esales/Glossary.aspx?type=r#b)"
      ],
      "metadata": {
        "id": "PoSbE-IQzeJO"
      }
    },
    {
      "cell_type": "code",
      "source": [
        "plt.style.use('seaborn-white')\n",
        "plt.figure(figsize=(20,10))\n",
        "\n",
        "plt.subplot(1,2,1)\n",
        "plt.bar(c_categoricas['grade'], houses['price'], color='orange')\n",
        "plt.title('Relação entre Preço e o Classificação (Grade)', fontsize=16)\n",
        "plt.xlabel('Grade', fontsize=14)\n",
        "plt.ylabel('Valores', fontsize=14)\n",
        "plt.grid(True)\n",
        "\n",
        "plt.subplot(1,2,2)\n",
        "plt.bar(c_categoricas['condition'], houses['price'], color='orange')\n",
        "plt.title('Relação entre Preço e a Condição do Imóvel', fontsize=16)\n",
        "plt.xlabel('Condition', fontsize=14)\n",
        "plt.ylabel('Valores', fontsize=14)\n",
        "plt.grid(True)\n",
        "\n",
        "plt.show()"
      ],
      "metadata": {
        "colab": {
          "base_uri": "https://localhost:8080/",
          "height": 624
        },
        "id": "dyUADeL91zas",
        "outputId": "5af61a97-d6a8-40b3-d874-45e0fc64d915"
      },
      "execution_count": 71,
      "outputs": [
        {
          "output_type": "display_data",
          "data": {
            "text/plain": [
              "<Figure size 1440x720 with 2 Axes>"
            ],
            "image/png": "[encoded data removed]"
          },
          "metadata": {}
        }
      ]
    },
    {
      "cell_type": "markdown",
      "source": [
        "- E também a forma com que as duas estão relacionadas"
      ],
      "metadata": {
        "id": "mnH5SvS56nu6"
      }
    },
    {
      "cell_type": "code",
      "source": [
        "# Cruzando dados.\n",
        "pd.crosstab(index=c_categoricas['grade'], columns = c_categoricas['condition'])"
      ],
      "metadata": {
        "colab": {
          "base_uri": "https://localhost:8080/",
          "height": 457
        },
        "id": "VDXy6xda6Lkj",
        "outputId": "45ecd05d-a89d-4e9e-dc28-17554d6ae1b7"
      },
      "execution_count": 72,
      "outputs": [
        {
          "output_type": "execute_result",
          "data": {
            "text/plain": [
              "condition   1   2     3     4    5\n",
              "grade                             \n",
              "1           1   0     0     0    0\n",
              "3           0   1     1     0    1\n",
              "4           1   5    13    10    0\n",
              "5           9  15   100    84   34\n",
              "6          11  59  1035   685  248\n",
              "7           6  75  5234  2833  833\n",
              "8           2  13  4269  1394  390\n",
              "9           0   2  2041   446  126\n",
              "10          0   2   921   156   55\n",
              "11          0   0   332    56   11\n",
              "12          0   0    74    13    3\n",
              "13          0   0    11     2    0"
            ],
            "text/html": [
              "\n",
              "  <div id=\"df-9503e5c8-4409-4411-852f-92218021a14e\">\n",
              "    <div class=\"colab-df-container\">\n",
              "      <div>\n",
              "<style scoped>\n",
              "    .dataframe tbody tr th:only-of-type {\n",
              "        vertical-align: middle;\n",
              "    }\n",
              "\n",
              "    .dataframe tbody tr th {\n",
              "        vertical-align: top;\n",
              "    }\n",
              "\n",
              "    .dataframe thead th {\n",
              "        text-align: right;\n",
              "    }\n",
              "</style>\n",
              "<table border=\"1\" class=\"dataframe\">\n",
              "  <thead>\n",
              "    <tr style=\"text-align: right;\">\n",
              "      <th>condition</th>\n",
              "      <th>1</th>\n",
              "      <th>2</th>\n",
              "      <th>3</th>\n",
              "      <th>4</th>\n",
              "      <th>5</th>\n",
              "    </tr>\n",
              "    <tr>\n",
              "      <th>grade</th>\n",
              "      <th></th>\n",
              "      <th></th>\n",
              "      <th></th>\n",
              "      <th></th>\n",
              "      <th></th>\n",
              "    </tr>\n",
              "  </thead>\n",
              "  <tbody>\n",
              "    <tr>\n",
              "      <th>1</th>\n",
              "      <td>1</td>\n",
              "      <td>0</td>\n",
              "      <td>0</td>\n",
              "      <td>0</td>\n",
              "      <td>0</td>\n",
              "    </tr>\n",
              "    <tr>\n",
              "      <th>3</th>\n",
              "      <td>0</td>\n",
              "      <td>1</td>\n",
              "      <td>1</td>\n",
              "      <td>0</td>\n",
              "      <td>1</td>\n",
              "    </tr>\n",
              "    <tr>\n",
              "      <th>4</th>\n",
              "      <td>1</td>\n",
              "      <td>5</td>\n",
              "      <td>13</td>\n",
              "      <td>10</td>\n",
              "      <td>0</td>\n",
              "    </tr>\n",
              "    <tr>\n",
              "      <th>5</th>\n",
              "      <td>9</td>\n",
              "      <td>15</td>\n",
              "      <td>100</td>\n",
              "      <td>84</td>\n",
              "      <td>34</td>\n",
              "    </tr>\n",
              "    <tr>\n",
              "      <th>6</th>\n",
              "      <td>11</td>\n",
              "      <td>59</td>\n",
              "      <td>1035</td>\n",
              "      <td>685</td>\n",
              "      <td>248</td>\n",
              "    </tr>\n",
              "    <tr>\n",
              "      <th>7</th>\n",
              "      <td>6</td>\n",
              "      <td>75</td>\n",
              "      <td>5234</td>\n",
              "      <td>2833</td>\n",
              "      <td>833</td>\n",
              "    </tr>\n",
              "    <tr>\n",
              "      <th>8</th>\n",
              "      <td>2</td>\n",
              "      <td>13</td>\n",
              "      <td>4269</td>\n",
              "      <td>1394</td>\n",
              "      <td>390</td>\n",
              "    </tr>\n",
              "    <tr>\n",
              "      <th>9</th>\n",
              "      <td>0</td>\n",
              "      <td>2</td>\n",
              "      <td>2041</td>\n",
              "      <td>446</td>\n",
              "      <td>126</td>\n",
              "    </tr>\n",
              "    <tr>\n",
              "      <th>10</th>\n",
              "      <td>0</td>\n",
              "      <td>2</td>\n",
              "      <td>921</td>\n",
              "      <td>156</td>\n",
              "      <td>55</td>\n",
              "    </tr>\n",
              "    <tr>\n",
              "      <th>11</th>\n",
              "      <td>0</td>\n",
              "      <td>0</td>\n",
              "      <td>332</td>\n",
              "      <td>56</td>\n",
              "      <td>11</td>\n",
              "    </tr>\n",
              "    <tr>\n",
              "      <th>12</th>\n",
              "      <td>0</td>\n",
              "      <td>0</td>\n",
              "      <td>74</td>\n",
              "      <td>13</td>\n",
              "      <td>3</td>\n",
              "    </tr>\n",
              "    <tr>\n",
              "      <th>13</th>\n",
              "      <td>0</td>\n",
              "      <td>0</td>\n",
              "      <td>11</td>\n",
              "      <td>2</td>\n",
              "      <td>0</td>\n",
              "    </tr>\n",
              "  </tbody>\n",
              "</table>\n",
              "</div>\n",
              "      <button class=\"colab-df-convert\" onclick=\"convertToInteractive('df-9503e5c8-4409-4411-852f-92218021a14e')\"\n",
              "              title=\"Convert this dataframe to an interactive table.\"\n",
              "              style=\"display:none;\">\n",
              "        \n",
              "  <svg xmlns=\"http://www.w3.org/2000/svg\" height=\"24px\"viewBox=\"0 0 24 24\"\n",
              "       width=\"24px\">\n",
              "    <path d=\"M0 0h24v24H0V0z\" fill=\"none\"/>\n",
              "    <path d=\"M18.56 5.44l.94 2.06.94-2.06 2.06-.94-2.06-.94-.94-2.06-.94 2.06-2.06.94zm-11 1L8.5 8.5l.94-2.06 2.06-.94-2.06-.94L8.5 2.5l-.94 2.06-2.06.94zm10 10l.94 2.06.94-2.06 2.06-.94-2.06-.94-.94-2.06-.94 2.06-2.06.94z\"/><path d=\"M17.41 7.96l-1.37-1.37c-.4-.4-.92-.59-1.43-.59-.52 0-1.04.2-1.43.59L10.3 9.45l-7.72 7.72c-.78.78-.78 2.05 0 2.83L4 21.41c.39.39.9.59 1.41.59.51 0 1.02-.2 1.41-.59l7.78-7.78 2.81-2.81c.8-.78.8-2.07 0-2.86zM5.41 20L4 18.59l7.72-7.72 1.47 1.35L5.41 20z\"/>\n",
              "  </svg>\n",
              "      </button>\n",
              "      \n",
              "  <style>\n",
              "    .colab-df-container {\n",
              "      display:flex;\n",
              "      flex-wrap:wrap;\n",
              "      gap: 12px;\n",
              "    }\n",
              "\n",
              "    .colab-df-convert {\n",
              "      background-color: #E8F0FE;\n",
              "      border: none;\n",
              "      border-radius: 50%;\n",
              "      cursor: pointer;\n",
              "      display: none;\n",
              "      fill: #1967D2;\n",
              "      height: 32px;\n",
              "      padding: 0 0 0 0;\n",
              "      width: 32px;\n",
              "    }\n",
              "\n",
              "    .colab-df-convert:hover {\n",
              "      background-color: #E2EBFA;\n",
              "      box-shadow: 0px 1px 2px rgba(60, 64, 67, 0.3), 0px 1px 3px 1px rgba(60, 64, 67, 0.15);\n",
              "      fill: #174EA6;\n",
              "    }\n",
              "\n",
              "    [theme=dark] .colab-df-convert {\n",
              "      background-color: #3B4455;\n",
              "      fill: #D2E3FC;\n",
              "    }\n",
              "\n",
              "    [theme=dark] .colab-df-convert:hover {\n",
              "      background-color: #434B5C;\n",
              "      box-shadow: 0px 1px 3px 1px rgba(0, 0, 0, 0.15);\n",
              "      filter: drop-shadow(0px 1px 2px rgba(0, 0, 0, 0.3));\n",
              "      fill: #FFFFFF;\n",
              "    }\n",
              "  </style>\n",
              "\n",
              "      <script>\n",
              "        const buttonEl =\n",
              "          document.querySelector('#df-9503e5c8-4409-4411-852f-92218021a14e button.colab-df-convert');\n",
              "        buttonEl.style.display =\n",
              "          google.colab.kernel.accessAllowed ? 'block' : 'none';\n",
              "\n",
              "        async function convertToInteractive(key) {\n",
              "          const element = document.querySelector('#df-9503e5c8-4409-4411-852f-92218021a14e');\n",
              "          const dataTable =\n",
              "            await google.colab.kernel.invokeFunction('convertToInteractive',\n",
              "                                                     [key], {});\n",
              "          if (!dataTable) return;\n",
              "\n",
              "          const docLinkHtml = 'Like what you see? Visit the ' +\n",
              "            '<a target=\"_blank\" href=https://colab.research.google.com/notebooks/data_table.ipynb>data table notebook</a>'\n",
              "            + ' to learn more about interactive tables.';\n",
              "          element.innerHTML = '';\n",
              "          dataTable['output_type'] = 'display_data';\n",
              "          await google.colab.output.renderOutput(dataTable, element);\n",
              "          const docLink = document.createElement('div');\n",
              "          docLink.innerHTML = docLinkHtml;\n",
              "          element.appendChild(docLink);\n",
              "        }\n",
              "      </script>\n",
              "    </div>\n",
              "  </div>\n",
              "  "
            ]
          },
          "metadata": {},
          "execution_count": 72
        }
      ]
    },
    {
      "cell_type": "markdown",
      "source": [
        "- A maioria dos valores tem grade entre 6 e 9 e condições maiores ou iguais a 3."
      ],
      "metadata": {
        "id": "VVTc4ak_5ZLj"
      }
    },
    {
      "cell_type": "markdown",
      "source": [
        "###2.2 - Numéricas\n",
        "\n",
        "Agora é a vez de analisar algumas variáveis numéricas, principalmente que possam estar relacionadas com os preços."
      ],
      "metadata": {
        "id": "5myD3Vbp9ZJj"
      }
    },
    {
      "cell_type": "code",
      "source": [
        "# Selecionando Colunas\n",
        "c_numericas = houses.copy()\n",
        "c_numericas = c_numericas[['bathrooms','bedrooms','sqft_living','sqft_lot','yr_built','yr_renovated','sqft_living15','sqft_lot15']]\n",
        "c_numericas.describe().transpose()"
      ],
      "metadata": {
        "colab": {
          "base_uri": "https://localhost:8080/",
          "height": 300
        },
        "id": "DI0wJovs-HJZ",
        "outputId": "5a240463-c370-452f-9c0d-8da9d046bdb6"
      },
      "execution_count": 73,
      "outputs": [
        {
          "output_type": "execute_result",
          "data": {
            "text/plain": [
              "                 count          mean           std     min      25%      50%  \\\n",
              "bathrooms      21613.0      2.114757      0.770163     0.0     1.75     2.25   \n",
              "bedrooms       21613.0      3.370842      0.930062     0.0     3.00     3.00   \n",
              "sqft_living    21613.0   2079.899736    918.440897   290.0  1427.00  1910.00   \n",
              "sqft_lot       21613.0  15106.967566  41420.511515   520.0  5040.00  7618.00   \n",
              "yr_built       21613.0   1971.005136     29.373411  1900.0  1951.00  1975.00   \n",
              "yr_renovated   21613.0     84.402258    401.679240     0.0     0.00     0.00   \n",
              "sqft_living15  21613.0   1986.552492    685.391304   399.0  1490.00  1840.00   \n",
              "sqft_lot15     21613.0  12768.455652  27304.179631   651.0  5100.00  7620.00   \n",
              "\n",
              "                   75%        max  \n",
              "bathrooms          2.5        8.0  \n",
              "bedrooms           4.0       33.0  \n",
              "sqft_living     2550.0    13540.0  \n",
              "sqft_lot       10688.0  1651359.0  \n",
              "yr_built        1997.0     2015.0  \n",
              "yr_renovated       0.0     2015.0  \n",
              "sqft_living15   2360.0     6210.0  \n",
              "sqft_lot15     10083.0   871200.0  "
            ],
            "text/html": [
              "\n",
              "  <div id=\"df-51436c76-8f02-443e-83d2-139158004939\">\n",
              "    <div class=\"colab-df-container\">\n",
              "      <div>\n",
              "<style scoped>\n",
              "    .dataframe tbody tr th:only-of-type {\n",
              "        vertical-align: middle;\n",
              "    }\n",
              "\n",
              "    .dataframe tbody tr th {\n",
              "        vertical-align: top;\n",
              "    }\n",
              "\n",
              "    .dataframe thead th {\n",
              "        text-align: right;\n",
              "    }\n",
              "</style>\n",
              "<table border=\"1\" class=\"dataframe\">\n",
              "  <thead>\n",
              "    <tr style=\"text-align: right;\">\n",
              "      <th></th>\n",
              "      <th>count</th>\n",
              "      <th>mean</th>\n",
              "      <th>std</th>\n",
              "      <th>min</th>\n",
              "      <th>25%</th>\n",
              "      <th>50%</th>\n",
              "      <th>75%</th>\n",
              "      <th>max</th>\n",
              "    </tr>\n",
              "  </thead>\n",
              "  <tbody>\n",
              "    <tr>\n",
              "      <th>bathrooms</th>\n",
              "      <td>21613.0</td>\n",
              "      <td>2.114757</td>\n",
              "      <td>0.770163</td>\n",
              "      <td>0.0</td>\n",
              "      <td>1.75</td>\n",
              "      <td>2.25</td>\n",
              "      <td>2.5</td>\n",
              "      <td>8.0</td>\n",
              "    </tr>\n",
              "    <tr>\n",
              "      <th>bedrooms</th>\n",
              "      <td>21613.0</td>\n",
              "      <td>3.370842</td>\n",
              "      <td>0.930062</td>\n",
              "      <td>0.0</td>\n",
              "      <td>3.00</td>\n",
              "      <td>3.00</td>\n",
              "      <td>4.0</td>\n",
              "      <td>33.0</td>\n",
              "    </tr>\n",
              "    <tr>\n",
              "      <th>sqft_living</th>\n",
              "      <td>21613.0</td>\n",
              "      <td>2079.899736</td>\n",
              "      <td>918.440897</td>\n",
              "      <td>290.0</td>\n",
              "      <td>1427.00</td>\n",
              "      <td>1910.00</td>\n",
              "      <td>2550.0</td>\n",
              "      <td>13540.0</td>\n",
              "    </tr>\n",
              "    <tr>\n",
              "      <th>sqft_lot</th>\n",
              "      <td>21613.0</td>\n",
              "      <td>15106.967566</td>\n",
              "      <td>41420.511515</td>\n",
              "      <td>520.0</td>\n",
              "      <td>5040.00</td>\n",
              "      <td>7618.00</td>\n",
              "      <td>10688.0</td>\n",
              "      <td>1651359.0</td>\n",
              "    </tr>\n",
              "    <tr>\n",
              "      <th>yr_built</th>\n",
              "      <td>21613.0</td>\n",
              "      <td>1971.005136</td>\n",
              "      <td>29.373411</td>\n",
              "      <td>1900.0</td>\n",
              "      <td>1951.00</td>\n",
              "      <td>1975.00</td>\n",
              "      <td>1997.0</td>\n",
              "      <td>2015.0</td>\n",
              "    </tr>\n",
              "    <tr>\n",
              "      <th>yr_renovated</th>\n",
              "      <td>21613.0</td>\n",
              "      <td>84.402258</td>\n",
              "      <td>401.679240</td>\n",
              "      <td>0.0</td>\n",
              "      <td>0.00</td>\n",
              "      <td>0.00</td>\n",
              "      <td>0.0</td>\n",
              "      <td>2015.0</td>\n",
              "    </tr>\n",
              "    <tr>\n",
              "      <th>sqft_living15</th>\n",
              "      <td>21613.0</td>\n",
              "      <td>1986.552492</td>\n",
              "      <td>685.391304</td>\n",
              "      <td>399.0</td>\n",
              "      <td>1490.00</td>\n",
              "      <td>1840.00</td>\n",
              "      <td>2360.0</td>\n",
              "      <td>6210.0</td>\n",
              "    </tr>\n",
              "    <tr>\n",
              "      <th>sqft_lot15</th>\n",
              "      <td>21613.0</td>\n",
              "      <td>12768.455652</td>\n",
              "      <td>27304.179631</td>\n",
              "      <td>651.0</td>\n",
              "      <td>5100.00</td>\n",
              "      <td>7620.00</td>\n",
              "      <td>10083.0</td>\n",
              "      <td>871200.0</td>\n",
              "    </tr>\n",
              "  </tbody>\n",
              "</table>\n",
              "</div>\n",
              "      <button class=\"colab-df-convert\" onclick=\"convertToInteractive('df-51436c76-8f02-443e-83d2-139158004939')\"\n",
              "              title=\"Convert this dataframe to an interactive table.\"\n",
              "              style=\"display:none;\">\n",
              "        \n",
              "  <svg xmlns=\"http://www.w3.org/2000/svg\" height=\"24px\"viewBox=\"0 0 24 24\"\n",
              "       width=\"24px\">\n",
              "    <path d=\"M0 0h24v24H0V0z\" fill=\"none\"/>\n",
              "    <path d=\"M18.56 5.44l.94 2.06.94-2.06 2.06-.94-2.06-.94-.94-2.06-.94 2.06-2.06.94zm-11 1L8.5 8.5l.94-2.06 2.06-.94-2.06-.94L8.5 2.5l-.94 2.06-2.06.94zm10 10l.94 2.06.94-2.06 2.06-.94-2.06-.94-.94-2.06-.94 2.06-2.06.94z\"/><path d=\"M17.41 7.96l-1.37-1.37c-.4-.4-.92-.59-1.43-.59-.52 0-1.04.2-1.43.59L10.3 9.45l-7.72 7.72c-.78.78-.78 2.05 0 2.83L4 21.41c.39.39.9.59 1.41.59.51 0 1.02-.2 1.41-.59l7.78-7.78 2.81-2.81c.8-.78.8-2.07 0-2.86zM5.41 20L4 18.59l7.72-7.72 1.47 1.35L5.41 20z\"/>\n",
              "  </svg>\n",
              "      </button>\n",
              "      \n",
              "  <style>\n",
              "    .colab-df-container {\n",
              "      display:flex;\n",
              "      flex-wrap:wrap;\n",
              "      gap: 12px;\n",
              "    }\n",
              "\n",
              "    .colab-df-convert {\n",
              "      background-color: #E8F0FE;\n",
              "      border: none;\n",
              "      border-radius: 50%;\n",
              "      cursor: pointer;\n",
              "      display: none;\n",
              "      fill: #1967D2;\n",
              "      height: 32px;\n",
              "      padding: 0 0 0 0;\n",
              "      width: 32px;\n",
              "    }\n",
              "\n",
              "    .colab-df-convert:hover {\n",
              "      background-color: #E2EBFA;\n",
              "      box-shadow: 0px 1px 2px rgba(60, 64, 67, 0.3), 0px 1px 3px 1px rgba(60, 64, 67, 0.15);\n",
              "      fill: #174EA6;\n",
              "    }\n",
              "\n",
              "    [theme=dark] .colab-df-convert {\n",
              "      background-color: #3B4455;\n",
              "      fill: #D2E3FC;\n",
              "    }\n",
              "\n",
              "    [theme=dark] .colab-df-convert:hover {\n",
              "      background-color: #434B5C;\n",
              "      box-shadow: 0px 1px 3px 1px rgba(0, 0, 0, 0.15);\n",
              "      filter: drop-shadow(0px 1px 2px rgba(0, 0, 0, 0.3));\n",
              "      fill: #FFFFFF;\n",
              "    }\n",
              "  </style>\n",
              "\n",
              "      <script>\n",
              "        const buttonEl =\n",
              "          document.querySelector('#df-51436c76-8f02-443e-83d2-139158004939 button.colab-df-convert');\n",
              "        buttonEl.style.display =\n",
              "          google.colab.kernel.accessAllowed ? 'block' : 'none';\n",
              "\n",
              "        async function convertToInteractive(key) {\n",
              "          const element = document.querySelector('#df-51436c76-8f02-443e-83d2-139158004939');\n",
              "          const dataTable =\n",
              "            await google.colab.kernel.invokeFunction('convertToInteractive',\n",
              "                                                     [key], {});\n",
              "          if (!dataTable) return;\n",
              "\n",
              "          const docLinkHtml = 'Like what you see? Visit the ' +\n",
              "            '<a target=\"_blank\" href=https://colab.research.google.com/notebooks/data_table.ipynb>data table notebook</a>'\n",
              "            + ' to learn more about interactive tables.';\n",
              "          element.innerHTML = '';\n",
              "          dataTable['output_type'] = 'display_data';\n",
              "          await google.colab.output.renderOutput(dataTable, element);\n",
              "          const docLink = document.createElement('div');\n",
              "          docLink.innerHTML = docLinkHtml;\n",
              "          element.appendChild(docLink);\n",
              "        }\n",
              "      </script>\n",
              "    </div>\n",
              "  </div>\n",
              "  "
            ]
          },
          "metadata": {},
          "execution_count": 73
        }
      ]
    },
    {
      "cell_type": "markdown",
      "source": [
        "- Bedrooms pode ter um outlier\n",
        "- Os valores medianos em sqft_lot e sqft_lot15 estão muitos distantes dos valores da média, além do alto valor do desvio padrão, isso indica a presença de valores muito altos nessas duas colunas."
      ],
      "metadata": {
        "id": "EsdFClcr_-Bc"
      }
    },
    {
      "cell_type": "markdown",
      "source": [
        "####Price\n",
        "- Mas, antes de observar o comportamento dessas variáveis, vamos observar como os preços estãos distribuidos."
      ],
      "metadata": {
        "id": "Ym0VXgRG63KR"
      }
    },
    {
      "cell_type": "code",
      "source": [
        "plt.figure(figsize=(20,10))\n",
        "plt.style.use('seaborn-white')\n",
        "\n",
        "#################################################################################\n",
        "# Primeiro Gráfico\n",
        "plt.subplot(1,2,1)\n",
        "\n",
        "# Definindo uma pequena legenda primeiro gráfico\n",
        "text = f'média = ${houses[\"price\"].mean():.2f} \\n\\nmáximo = ${max(houses[\"price\"]):.2f} \\n\\nQuantidade total: {houses.shape[0]}'\n",
        "ax = plt.gca()\n",
        "plt.text(0.95, 0.99,  text, horizontalalignment='right', verticalalignment='top', transform=ax.transAxes, fontsize=14)\n",
        "\n",
        "plt.hist(houses['price'], rwidth=0.8, bins=80)\n",
        "plt.xlim(-100, max(houses['price'])+5)\n",
        "plt.title('Dsitribuição de Preços', fontsize=16)\n",
        "plt.xlabel('Preços', fontsize=14)\n",
        "plt.ylabel('Contagens', fontsize=14)\n",
        "plt.grid(True)\n",
        "#################################################################################\n",
        "#################################################################################\n",
        "# Separando valores muito altos.\n",
        "price_high = houses.loc[houses['price']>2000000]\n",
        "\n",
        "# Segundo Gráfico\n",
        "plt.subplot(1,2,2)\n",
        "\n",
        "# Pequena legenda segundo gráfico\n",
        "text = f'Quantidade = {price_high[\"price\"].shape[0]}'\n",
        "ax = plt.gca()\n",
        "plt.text(0.90, 0.90,  text, horizontalalignment='right', verticalalignment='top', transform=ax.transAxes, fontsize=14)\n",
        "\n",
        "plt.hist(price_high['price'], rwidth=0.8, bins=50)\n",
        "plt.title('Casa que custam +2Mi', fontsize=16)\n",
        "plt.xlabel('Preços', fontsize=14)\n",
        "plt.ylabel('Contagens', fontsize=14)\n",
        "plt.grid(True)\n",
        "#################################################################################"
      ],
      "metadata": {
        "colab": {
          "base_uri": "https://localhost:8080/",
          "height": 624
        },
        "id": "_UAvo1is7CC7",
        "outputId": "0e40f0ed-4261-4ce6-f1d5-4443b212530c"
      },
      "execution_count": 74,
      "outputs": [
        {
          "output_type": "display_data",
          "data": {
            "text/plain": [
              "<Figure size 1440x720 with 2 Axes>"
            ],
            "image/png": "[encoded data removed]"
          },
          "metadata": {}
        }
      ]
    },
    {
      "cell_type": "markdown",
      "source": [
        "- Podemos ver que os preços estão muito mal distribuidos e a causa é a existencia de uma quantidade relativamente pequena de valores muito altos."
      ],
      "metadata": {
        "id": "2SGdvewS8tbW"
      }
    },
    {
      "cell_type": "markdown",
      "source": [
        "####Bedrooms"
      ],
      "metadata": {
        "id": "EqmjWL4ptqu5"
      }
    },
    {
      "cell_type": "code",
      "source": [
        "# Lidando com bedrooms demais\n",
        "houses.loc[houses['bedrooms'] == 33] = 3\n",
        "houses.loc[houses['bedrooms'] == 33]"
      ],
      "metadata": {
        "colab": {
          "base_uri": "https://localhost:8080/",
          "height": 113
        },
        "id": "cxrbFkMb_9o1",
        "outputId": "a5e799d5-8b0d-4956-a78f-e2a8750969b2"
      },
      "execution_count": 75,
      "outputs": [
        {
          "output_type": "execute_result",
          "data": {
            "text/plain": [
              "Empty DataFrame\n",
              "Columns: [date, price, bedrooms, bathrooms, sqft_living, sqft_lot, floors, waterfront, view, condition, grade, sqft_above, sqft_basement, yr_built, yr_renovated, lat, long, sqft_living15, sqft_lot15]\n",
              "Index: []"
            ],
            "text/html": [
              "\n",
              "  <div id=\"df-c0bec266-3a29-471e-9bcc-fafc210fedbb\">\n",
              "    <div class=\"colab-df-container\">\n",
              "      <div>\n",
              "<style scoped>\n",
              "    .dataframe tbody tr th:only-of-type {\n",
              "        vertical-align: middle;\n",
              "    }\n",
              "\n",
              "    .dataframe tbody tr th {\n",
              "        vertical-align: top;\n",
              "    }\n",
              "\n",
              "    .dataframe thead th {\n",
              "        text-align: right;\n",
              "    }\n",
              "</style>\n",
              "<table border=\"1\" class=\"dataframe\">\n",
              "  <thead>\n",
              "    <tr style=\"text-align: right;\">\n",
              "      <th></th>\n",
              "      <th>date</th>\n",
              "      <th>price</th>\n",
              "      <th>bedrooms</th>\n",
              "      <th>bathrooms</th>\n",
              "      <th>sqft_living</th>\n",
              "      <th>sqft_lot</th>\n",
              "      <th>floors</th>\n",
              "      <th>waterfront</th>\n",
              "      <th>view</th>\n",
              "      <th>condition</th>\n",
              "      <th>grade</th>\n",
              "      <th>sqft_above</th>\n",
              "      <th>sqft_basement</th>\n",
              "      <th>yr_built</th>\n",
              "      <th>yr_renovated</th>\n",
              "      <th>lat</th>\n",
              "      <th>long</th>\n",
              "      <th>sqft_living15</th>\n",
              "      <th>sqft_lot15</th>\n",
              "    </tr>\n",
              "  </thead>\n",
              "  <tbody>\n",
              "  </tbody>\n",
              "</table>\n",
              "</div>\n",
              "      <button class=\"colab-df-convert\" onclick=\"convertToInteractive('df-c0bec266-3a29-471e-9bcc-fafc210fedbb')\"\n",
              "              title=\"Convert this dataframe to an interactive table.\"\n",
              "              style=\"display:none;\">\n",
              "        \n",
              "  <svg xmlns=\"http://www.w3.org/2000/svg\" height=\"24px\"viewBox=\"0 0 24 24\"\n",
              "       width=\"24px\">\n",
              "    <path d=\"M0 0h24v24H0V0z\" fill=\"none\"/>\n",
              "    <path d=\"M18.56 5.44l.94 2.06.94-2.06 2.06-.94-2.06-.94-.94-2.06-.94 2.06-2.06.94zm-11 1L8.5 8.5l.94-2.06 2.06-.94-2.06-.94L8.5 2.5l-.94 2.06-2.06.94zm10 10l.94 2.06.94-2.06 2.06-.94-2.06-.94-.94-2.06-.94 2.06-2.06.94z\"/><path d=\"M17.41 7.96l-1.37-1.37c-.4-.4-.92-.59-1.43-.59-.52 0-1.04.2-1.43.59L10.3 9.45l-7.72 7.72c-.78.78-.78 2.05 0 2.83L4 21.41c.39.39.9.59 1.41.59.51 0 1.02-.2 1.41-.59l7.78-7.78 2.81-2.81c.8-.78.8-2.07 0-2.86zM5.41 20L4 18.59l7.72-7.72 1.47 1.35L5.41 20z\"/>\n",
              "  </svg>\n",
              "      </button>\n",
              "      \n",
              "  <style>\n",
              "    .colab-df-container {\n",
              "      display:flex;\n",
              "      flex-wrap:wrap;\n",
              "      gap: 12px;\n",
              "    }\n",
              "\n",
              "    .colab-df-convert {\n",
              "      background-color: #E8F0FE;\n",
              "      border: none;\n",
              "      border-radius: 50%;\n",
              "      cursor: pointer;\n",
              "      display: none;\n",
              "      fill: #1967D2;\n",
              "      height: 32px;\n",
              "      padding: 0 0 0 0;\n",
              "      width: 32px;\n",
              "    }\n",
              "\n",
              "    .colab-df-convert:hover {\n",
              "      background-color: #E2EBFA;\n",
              "      box-shadow: 0px 1px 2px rgba(60, 64, 67, 0.3), 0px 1px 3px 1px rgba(60, 64, 67, 0.15);\n",
              "      fill: #174EA6;\n",
              "    }\n",
              "\n",
              "    [theme=dark] .colab-df-convert {\n",
              "      background-color: #3B4455;\n",
              "      fill: #D2E3FC;\n",
              "    }\n",
              "\n",
              "    [theme=dark] .colab-df-convert:hover {\n",
              "      background-color: #434B5C;\n",
              "      box-shadow: 0px 1px 3px 1px rgba(0, 0, 0, 0.15);\n",
              "      filter: drop-shadow(0px 1px 2px rgba(0, 0, 0, 0.3));\n",
              "      fill: #FFFFFF;\n",
              "    }\n",
              "  </style>\n",
              "\n",
              "      <script>\n",
              "        const buttonEl =\n",
              "          document.querySelector('#df-c0bec266-3a29-471e-9bcc-fafc210fedbb button.colab-df-convert');\n",
              "        buttonEl.style.display =\n",
              "          google.colab.kernel.accessAllowed ? 'block' : 'none';\n",
              "\n",
              "        async function convertToInteractive(key) {\n",
              "          const element = document.querySelector('#df-c0bec266-3a29-471e-9bcc-fafc210fedbb');\n",
              "          const dataTable =\n",
              "            await google.colab.kernel.invokeFunction('convertToInteractive',\n",
              "                                                     [key], {});\n",
              "          if (!dataTable) return;\n",
              "\n",
              "          const docLinkHtml = 'Like what you see? Visit the ' +\n",
              "            '<a target=\"_blank\" href=https://colab.research.google.com/notebooks/data_table.ipynb>data table notebook</a>'\n",
              "            + ' to learn more about interactive tables.';\n",
              "          element.innerHTML = '';\n",
              "          dataTable['output_type'] = 'display_data';\n",
              "          await google.colab.output.renderOutput(dataTable, element);\n",
              "          const docLink = document.createElement('div');\n",
              "          docLink.innerHTML = docLinkHtml;\n",
              "          element.appendChild(docLink);\n",
              "        }\n",
              "      </script>\n",
              "    </div>\n",
              "  </div>\n",
              "  "
            ]
          },
          "metadata": {},
          "execution_count": 75
        }
      ]
    },
    {
      "cell_type": "markdown",
      "source": [
        "#### Sqft_Lot e Sqft_Living"
      ],
      "metadata": {
        "id": "x4hyOWIP1pxs"
      }
    },
    {
      "cell_type": "markdown",
      "source": [
        "- Os dados de medida estão em \"pés quadrados\", então para facilitar, vou converter todos os valores para metro quadrado e manter todas as casas decimais para manter a exatidão do valor."
      ],
      "metadata": {
        "id": "kj0_UARafXmh"
      }
    },
    {
      "cell_type": "code",
      "source": [
        "def converter_sqft(sqft):\n",
        "  m2 = sqft / 10.764\n",
        "  return m2\n",
        "\n",
        "# Convertendo de feet² para metro²\n",
        "houses['sqft_living'] = houses['sqft_living'].map(converter_sqft)\n",
        "houses['sqft_living15'] = houses['sqft_living15'].map(converter_sqft)\n",
        "houses['sqft_lot'] = houses['sqft_lot'].map(converter_sqft)\n",
        "houses['sqft_lot15'] = houses['sqft_lot15'].map(converter_sqft)\n",
        "houses['sqft_above'] = houses['sqft_above'].map(converter_sqft)\n",
        "houses['sqft_basement'] = houses['sqft_basement'].map(converter_sqft)"
      ],
      "metadata": {
        "id": "hIpXKHEVJwp4"
      },
      "execution_count": 76,
      "outputs": []
    },
    {
      "cell_type": "code",
      "source": [
        "# Selecionando Colunas\n",
        "c_numericas = houses.copy()\n",
        "c_numericas = c_numericas[['sqft_living','sqft_lot','sqft_above','sqft_basement','sqft_living15','sqft_lot15']]\n",
        "c_numericas.describe().transpose()"
      ],
      "metadata": {
        "colab": {
          "base_uri": "https://localhost:8080/",
          "height": 237
        },
        "id": "A2qq6WbRW88A",
        "outputId": "52c5a4cd-f239-4a7a-b408-00d4e1fc4780"
      },
      "execution_count": 77,
      "outputs": [
        {
          "output_type": "execute_result",
          "data": {
            "text/plain": [
              "                 count         mean          std       min         25%  \\\n",
              "sqft_living    21613.0   193.220450    85.334840  0.278707  132.385730   \n",
              "sqft_lot       21613.0  1403.445754  3848.066946  0.278707  468.227425   \n",
              "sqft_above     21613.0   166.141092    76.938348  0.278707  110.553698   \n",
              "sqft_basement  21613.0    27.079371    41.116225  0.000000    0.000000   \n",
              "sqft_living15  21613.0   184.549526    63.685391  0.278707  138.424378   \n",
              "sqft_lot15     21613.0  1186.198284  2536.627884  0.278707  473.801561   \n",
              "\n",
              "                      50%         75%            max  \n",
              "sqft_living    177.443330  236.900780    1257.896693  \n",
              "sqft_lot       707.729469  992.939428  153414.994426  \n",
              "sqft_above     144.927536  205.314010     874.210331  \n",
              "sqft_basement    0.000000   52.025269     447.788926  \n",
              "sqft_living15  170.940171  219.249350     576.923077  \n",
              "sqft_lot15     707.915273  936.733556   80936.454849  "
            ],
            "text/html": [
              "\n",
              "  <div id=\"df-13f1a191-3a1b-46bb-ab0f-8a48a1e4040b\">\n",
              "    <div class=\"colab-df-container\">\n",
              "      <div>\n",
              "<style scoped>\n",
              "    .dataframe tbody tr th:only-of-type {\n",
              "        vertical-align: middle;\n",
              "    }\n",
              "\n",
              "    .dataframe tbody tr th {\n",
              "        vertical-align: top;\n",
              "    }\n",
              "\n",
              "    .dataframe thead th {\n",
              "        text-align: right;\n",
              "    }\n",
              "</style>\n",
              "<table border=\"1\" class=\"dataframe\">\n",
              "  <thead>\n",
              "    <tr style=\"text-align: right;\">\n",
              "      <th></th>\n",
              "      <th>count</th>\n",
              "      <th>mean</th>\n",
              "      <th>std</th>\n",
              "      <th>min</th>\n",
              "      <th>25%</th>\n",
              "      <th>50%</th>\n",
              "      <th>75%</th>\n",
              "      <th>max</th>\n",
              "    </tr>\n",
              "  </thead>\n",
              "  <tbody>\n",
              "    <tr>\n",
              "      <th>sqft_living</th>\n",
              "      <td>21613.0</td>\n",
              "      <td>193.220450</td>\n",
              "      <td>85.334840</td>\n",
              "      <td>0.278707</td>\n",
              "      <td>132.385730</td>\n",
              "      <td>177.443330</td>\n",
              "      <td>236.900780</td>\n",
              "      <td>1257.896693</td>\n",
              "    </tr>\n",
              "    <tr>\n",
              "      <th>sqft_lot</th>\n",
              "      <td>21613.0</td>\n",
              "      <td>1403.445754</td>\n",
              "      <td>3848.066946</td>\n",
              "      <td>0.278707</td>\n",
              "      <td>468.227425</td>\n",
              "      <td>707.729469</td>\n",
              "      <td>992.939428</td>\n",
              "      <td>153414.994426</td>\n",
              "    </tr>\n",
              "    <tr>\n",
              "      <th>sqft_above</th>\n",
              "      <td>21613.0</td>\n",
              "      <td>166.141092</td>\n",
              "      <td>76.938348</td>\n",
              "      <td>0.278707</td>\n",
              "      <td>110.553698</td>\n",
              "      <td>144.927536</td>\n",
              "      <td>205.314010</td>\n",
              "      <td>874.210331</td>\n",
              "    </tr>\n",
              "    <tr>\n",
              "      <th>sqft_basement</th>\n",
              "      <td>21613.0</td>\n",
              "      <td>27.079371</td>\n",
              "      <td>41.116225</td>\n",
              "      <td>0.000000</td>\n",
              "      <td>0.000000</td>\n",
              "      <td>0.000000</td>\n",
              "      <td>52.025269</td>\n",
              "      <td>447.788926</td>\n",
              "    </tr>\n",
              "    <tr>\n",
              "      <th>sqft_living15</th>\n",
              "      <td>21613.0</td>\n",
              "      <td>184.549526</td>\n",
              "      <td>63.685391</td>\n",
              "      <td>0.278707</td>\n",
              "      <td>138.424378</td>\n",
              "      <td>170.940171</td>\n",
              "      <td>219.249350</td>\n",
              "      <td>576.923077</td>\n",
              "    </tr>\n",
              "    <tr>\n",
              "      <th>sqft_lot15</th>\n",
              "      <td>21613.0</td>\n",
              "      <td>1186.198284</td>\n",
              "      <td>2536.627884</td>\n",
              "      <td>0.278707</td>\n",
              "      <td>473.801561</td>\n",
              "      <td>707.915273</td>\n",
              "      <td>936.733556</td>\n",
              "      <td>80936.454849</td>\n",
              "    </tr>\n",
              "  </tbody>\n",
              "</table>\n",
              "</div>\n",
              "      <button class=\"colab-df-convert\" onclick=\"convertToInteractive('df-13f1a191-3a1b-46bb-ab0f-8a48a1e4040b')\"\n",
              "              title=\"Convert this dataframe to an interactive table.\"\n",
              "              style=\"display:none;\">\n",
              "        \n",
              "  <svg xmlns=\"http://www.w3.org/2000/svg\" height=\"24px\"viewBox=\"0 0 24 24\"\n",
              "       width=\"24px\">\n",
              "    <path d=\"M0 0h24v24H0V0z\" fill=\"none\"/>\n",
              "    <path d=\"M18.56 5.44l.94 2.06.94-2.06 2.06-.94-2.06-.94-.94-2.06-.94 2.06-2.06.94zm-11 1L8.5 8.5l.94-2.06 2.06-.94-2.06-.94L8.5 2.5l-.94 2.06-2.06.94zm10 10l.94 2.06.94-2.06 2.06-.94-2.06-.94-.94-2.06-.94 2.06-2.06.94z\"/><path d=\"M17.41 7.96l-1.37-1.37c-.4-.4-.92-.59-1.43-.59-.52 0-1.04.2-1.43.59L10.3 9.45l-7.72 7.72c-.78.78-.78 2.05 0 2.83L4 21.41c.39.39.9.59 1.41.59.51 0 1.02-.2 1.41-.59l7.78-7.78 2.81-2.81c.8-.78.8-2.07 0-2.86zM5.41 20L4 18.59l7.72-7.72 1.47 1.35L5.41 20z\"/>\n",
              "  </svg>\n",
              "      </button>\n",
              "      \n",
              "  <style>\n",
              "    .colab-df-container {\n",
              "      display:flex;\n",
              "      flex-wrap:wrap;\n",
              "      gap: 12px;\n",
              "    }\n",
              "\n",
              "    .colab-df-convert {\n",
              "      background-color: #E8F0FE;\n",
              "      border: none;\n",
              "      border-radius: 50%;\n",
              "      cursor: pointer;\n",
              "      display: none;\n",
              "      fill: #1967D2;\n",
              "      height: 32px;\n",
              "      padding: 0 0 0 0;\n",
              "      width: 32px;\n",
              "    }\n",
              "\n",
              "    .colab-df-convert:hover {\n",
              "      background-color: #E2EBFA;\n",
              "      box-shadow: 0px 1px 2px rgba(60, 64, 67, 0.3), 0px 1px 3px 1px rgba(60, 64, 67, 0.15);\n",
              "      fill: #174EA6;\n",
              "    }\n",
              "\n",
              "    [theme=dark] .colab-df-convert {\n",
              "      background-color: #3B4455;\n",
              "      fill: #D2E3FC;\n",
              "    }\n",
              "\n",
              "    [theme=dark] .colab-df-convert:hover {\n",
              "      background-color: #434B5C;\n",
              "      box-shadow: 0px 1px 3px 1px rgba(0, 0, 0, 0.15);\n",
              "      filter: drop-shadow(0px 1px 2px rgba(0, 0, 0, 0.3));\n",
              "      fill: #FFFFFF;\n",
              "    }\n",
              "  </style>\n",
              "\n",
              "      <script>\n",
              "        const buttonEl =\n",
              "          document.querySelector('#df-13f1a191-3a1b-46bb-ab0f-8a48a1e4040b button.colab-df-convert');\n",
              "        buttonEl.style.display =\n",
              "          google.colab.kernel.accessAllowed ? 'block' : 'none';\n",
              "\n",
              "        async function convertToInteractive(key) {\n",
              "          const element = document.querySelector('#df-13f1a191-3a1b-46bb-ab0f-8a48a1e4040b');\n",
              "          const dataTable =\n",
              "            await google.colab.kernel.invokeFunction('convertToInteractive',\n",
              "                                                     [key], {});\n",
              "          if (!dataTable) return;\n",
              "\n",
              "          const docLinkHtml = 'Like what you see? Visit the ' +\n",
              "            '<a target=\"_blank\" href=https://colab.research.google.com/notebooks/data_table.ipynb>data table notebook</a>'\n",
              "            + ' to learn more about interactive tables.';\n",
              "          element.innerHTML = '';\n",
              "          dataTable['output_type'] = 'display_data';\n",
              "          await google.colab.output.renderOutput(dataTable, element);\n",
              "          const docLink = document.createElement('div');\n",
              "          docLink.innerHTML = docLinkHtml;\n",
              "          element.appendChild(docLink);\n",
              "        }\n",
              "      </script>\n",
              "    </div>\n",
              "  </div>\n",
              "  "
            ]
          },
          "metadata": {},
          "execution_count": 77
        }
      ]
    },
    {
      "cell_type": "code",
      "source": [
        "plt.style.use('seaborn-white')\n",
        "plt.figure(figsize=(20,10))\n",
        "\n",
        "# Relação do tamanho do terreno com o preço do imóvel\n",
        "plt.subplot(1,2,1)\n",
        "plt.hist(houses['sqft_living'], rwidth=0.8, bins=80)\n",
        "plt.title('Distribuição dos imóveis', fontsize=16)\n",
        "plt.xlabel('m²', fontsize=14)\n",
        "plt.grid(True)\n",
        "\n",
        "# Relação do tamanho do imóvel com o preço\n",
        "\n",
        "plt.subplot(1,2,2)\n",
        "plt.hist(houses['sqft_lot'], rwidth=0.8, bins=80)\n",
        "plt.title('Distribuição dos terrenos', fontsize=16)\n",
        "plt.xlabel('m²', fontsize=14)\n",
        "plt.grid(True)\n",
        "\n",
        "plt.show()"
      ],
      "metadata": {
        "colab": {
          "base_uri": "https://localhost:8080/",
          "height": 624
        },
        "id": "a6-BMOKW1KKs",
        "outputId": "d6032560-cae0-4d56-d22c-8a12c4273106"
      },
      "execution_count": 78,
      "outputs": [
        {
          "output_type": "display_data",
          "data": {
            "text/plain": [
              "<Figure size 1440x720 with 2 Axes>"
            ],
            "image/png": "[encoded data removed]"
          },
          "metadata": {}
        }
      ]
    },
    {
      "cell_type": "markdown",
      "source": [
        "\n",
        "\n",
        "- Além do terreno ter uma distribuição de dados não muito boa, ela tem uma relação estranha com o preço, em comparação com a relação que o tamanho do imóvel tem."
      ],
      "metadata": {
        "id": "oZjsNNRTtuOj"
      }
    },
    {
      "cell_type": "code",
      "source": [
        "plt.style.use('seaborn-white')\n",
        "plt.figure(figsize=(20,10))\n",
        "\n",
        "# Relação do tamanho do imóvel com o preço\n",
        "plt.subplot(1,2,1)\n",
        "plt.scatter(houses['sqft_living'],houses['price'], s=80, color='green')\n",
        "plt.title('Relação entre Preço e o Tamanho da casa', fontsize=16)\n",
        "plt.xlabel('M²', fontsize=14)\n",
        "plt.ylabel('Valores', fontsize=14)\n",
        "plt.legend(['Casas'], loc='upper left')\n",
        "plt.grid(True)\n",
        "\n",
        "# Relação do tamanho do terreno com o preço do imóvel\n",
        "plt.subplot(1,2,2)\n",
        "plt.scatter(houses['sqft_lot'],houses['price'], s=80, color='green')\n",
        "plt.title('Relação entre Preço e o Tamanho do Terreno', fontsize=16)\n",
        "plt.xlabel('M²', fontsize=14)\n",
        "plt.ylabel('Valores', fontsize=14)\n",
        "plt.legend(['Casas'], loc='upper right')\n",
        "plt.grid(True)\n",
        "\n",
        "plt.show()"
      ],
      "metadata": {
        "colab": {
          "base_uri": "https://localhost:8080/",
          "height": 624
        },
        "id": "uarZHVCHkIBZ",
        "outputId": "9f644cd1-7afb-48c6-e47a-7a7fb80e60b9"
      },
      "execution_count": 79,
      "outputs": [
        {
          "output_type": "display_data",
          "data": {
            "text/plain": [
              "<Figure size 1440x720 with 2 Axes>"
            ],
            "image/png": "[encoded data removed]"
          },
          "metadata": {}
        }
      ]
    },
    {
      "cell_type": "markdown",
      "source": [
        "- Enquanto o preço aumenta conforme o tamanho da casa aumenta, quando se trata do terreno, observamos que existem casa com terrenos pequenos mas que custam muito, e casa com terrenos enormes mas que são baratas."
      ],
      "metadata": {
        "id": "6kRpm_C4ub7h"
      }
    },
    {
      "cell_type": "markdown",
      "source": [
        "- Apesar dos altos valores altos, é dificil definir o que seria um valor errado ou não quando se trata de terreno, principalmente por não ser um ou cinco registros especiais, o que faz crer que esses dados também estão representando uma realidade."
      ],
      "metadata": {
        "id": "WbOQlSQfvBen"
      }
    },
    {
      "cell_type": "markdown",
      "source": [
        "####Yr_Built e Yr_Renovated"
      ],
      "metadata": {
        "id": "27Mb_mbb_zY6"
      }
    },
    {
      "cell_type": "code",
      "source": [
        "# Tratando um valor errado em yr_built\n",
        "houses.loc[houses['yr_built'] < 1800]"
      ],
      "metadata": {
        "id": "f8mVzofL-G2-",
        "colab": {
          "base_uri": "https://localhost:8080/",
          "height": 145
        },
        "outputId": "69000bda-1ade-4859-ad49-8d3dd08b4ece"
      },
      "execution_count": 80,
      "outputs": [
        {
          "output_type": "execute_result",
          "data": {
            "text/plain": [
              "      date  price  bedrooms  bathrooms  sqft_living  sqft_lot  floors  \\\n",
              "15870    3    3.0         3        3.0     0.278707  0.278707     3.0   \n",
              "\n",
              "       waterfront  view  condition  grade  sqft_above  sqft_basement  \\\n",
              "15870           3     3          3      3    0.278707       0.278707   \n",
              "\n",
              "       yr_built  yr_renovated  lat  long  sqft_living15  sqft_lot15  \n",
              "15870         3             3  3.0   3.0       0.278707    0.278707  "
            ],
            "text/html": [
              "\n",
              "  <div id=\"df-54e6875c-87c8-4f57-b452-7829d918d040\">\n",
              "    <div class=\"colab-df-container\">\n",
              "      <div>\n",
              "<style scoped>\n",
              "    .dataframe tbody tr th:only-of-type {\n",
              "        vertical-align: middle;\n",
              "    }\n",
              "\n",
              "    .dataframe tbody tr th {\n",
              "        vertical-align: top;\n",
              "    }\n",
              "\n",
              "    .dataframe thead th {\n",
              "        text-align: right;\n",
              "    }\n",
              "</style>\n",
              "<table border=\"1\" class=\"dataframe\">\n",
              "  <thead>\n",
              "    <tr style=\"text-align: right;\">\n",
              "      <th></th>\n",
              "      <th>date</th>\n",
              "      <th>price</th>\n",
              "      <th>bedrooms</th>\n",
              "      <th>bathrooms</th>\n",
              "      <th>sqft_living</th>\n",
              "      <th>sqft_lot</th>\n",
              "      <th>floors</th>\n",
              "      <th>waterfront</th>\n",
              "      <th>view</th>\n",
              "      <th>condition</th>\n",
              "      <th>grade</th>\n",
              "      <th>sqft_above</th>\n",
              "      <th>sqft_basement</th>\n",
              "      <th>yr_built</th>\n",
              "      <th>yr_renovated</th>\n",
              "      <th>lat</th>\n",
              "      <th>long</th>\n",
              "      <th>sqft_living15</th>\n",
              "      <th>sqft_lot15</th>\n",
              "    </tr>\n",
              "  </thead>\n",
              "  <tbody>\n",
              "    <tr>\n",
              "      <th>15870</th>\n",
              "      <td>3</td>\n",
              "      <td>3.0</td>\n",
              "      <td>3</td>\n",
              "      <td>3.0</td>\n",
              "      <td>0.278707</td>\n",
              "      <td>0.278707</td>\n",
              "      <td>3.0</td>\n",
              "      <td>3</td>\n",
              "      <td>3</td>\n",
              "      <td>3</td>\n",
              "      <td>3</td>\n",
              "      <td>0.278707</td>\n",
              "      <td>0.278707</td>\n",
              "      <td>3</td>\n",
              "      <td>3</td>\n",
              "      <td>3.0</td>\n",
              "      <td>3.0</td>\n",
              "      <td>0.278707</td>\n",
              "      <td>0.278707</td>\n",
              "    </tr>\n",
              "  </tbody>\n",
              "</table>\n",
              "</div>\n",
              "      <button class=\"colab-df-convert\" onclick=\"convertToInteractive('df-54e6875c-87c8-4f57-b452-7829d918d040')\"\n",
              "              title=\"Convert this dataframe to an interactive table.\"\n",
              "              style=\"display:none;\">\n",
              "        \n",
              "  <svg xmlns=\"http://www.w3.org/2000/svg\" height=\"24px\"viewBox=\"0 0 24 24\"\n",
              "       width=\"24px\">\n",
              "    <path d=\"M0 0h24v24H0V0z\" fill=\"none\"/>\n",
              "    <path d=\"M18.56 5.44l.94 2.06.94-2.06 2.06-.94-2.06-.94-.94-2.06-.94 2.06-2.06.94zm-11 1L8.5 8.5l.94-2.06 2.06-.94-2.06-.94L8.5 2.5l-.94 2.06-2.06.94zm10 10l.94 2.06.94-2.06 2.06-.94-2.06-.94-.94-2.06-.94 2.06-2.06.94z\"/><path d=\"M17.41 7.96l-1.37-1.37c-.4-.4-.92-.59-1.43-.59-.52 0-1.04.2-1.43.59L10.3 9.45l-7.72 7.72c-.78.78-.78 2.05 0 2.83L4 21.41c.39.39.9.59 1.41.59.51 0 1.02-.2 1.41-.59l7.78-7.78 2.81-2.81c.8-.78.8-2.07 0-2.86zM5.41 20L4 18.59l7.72-7.72 1.47 1.35L5.41 20z\"/>\n",
              "  </svg>\n",
              "      </button>\n",
              "      \n",
              "  <style>\n",
              "    .colab-df-container {\n",
              "      display:flex;\n",
              "      flex-wrap:wrap;\n",
              "      gap: 12px;\n",
              "    }\n",
              "\n",
              "    .colab-df-convert {\n",
              "      background-color: #E8F0FE;\n",
              "      border: none;\n",
              "      border-radius: 50%;\n",
              "      cursor: pointer;\n",
              "      display: none;\n",
              "      fill: #1967D2;\n",
              "      height: 32px;\n",
              "      padding: 0 0 0 0;\n",
              "      width: 32px;\n",
              "    }\n",
              "\n",
              "    .colab-df-convert:hover {\n",
              "      background-color: #E2EBFA;\n",
              "      box-shadow: 0px 1px 2px rgba(60, 64, 67, 0.3), 0px 1px 3px 1px rgba(60, 64, 67, 0.15);\n",
              "      fill: #174EA6;\n",
              "    }\n",
              "\n",
              "    [theme=dark] .colab-df-convert {\n",
              "      background-color: #3B4455;\n",
              "      fill: #D2E3FC;\n",
              "    }\n",
              "\n",
              "    [theme=dark] .colab-df-convert:hover {\n",
              "      background-color: #434B5C;\n",
              "      box-shadow: 0px 1px 3px 1px rgba(0, 0, 0, 0.15);\n",
              "      filter: drop-shadow(0px 1px 2px rgba(0, 0, 0, 0.3));\n",
              "      fill: #FFFFFF;\n",
              "    }\n",
              "  </style>\n",
              "\n",
              "      <script>\n",
              "        const buttonEl =\n",
              "          document.querySelector('#df-54e6875c-87c8-4f57-b452-7829d918d040 button.colab-df-convert');\n",
              "        buttonEl.style.display =\n",
              "          google.colab.kernel.accessAllowed ? 'block' : 'none';\n",
              "\n",
              "        async function convertToInteractive(key) {\n",
              "          const element = document.querySelector('#df-54e6875c-87c8-4f57-b452-7829d918d040');\n",
              "          const dataTable =\n",
              "            await google.colab.kernel.invokeFunction('convertToInteractive',\n",
              "                                                     [key], {});\n",
              "          if (!dataTable) return;\n",
              "\n",
              "          const docLinkHtml = 'Like what you see? Visit the ' +\n",
              "            '<a target=\"_blank\" href=https://colab.research.google.com/notebooks/data_table.ipynb>data table notebook</a>'\n",
              "            + ' to learn more about interactive tables.';\n",
              "          element.innerHTML = '';\n",
              "          dataTable['output_type'] = 'display_data';\n",
              "          await google.colab.output.renderOutput(dataTable, element);\n",
              "          const docLink = document.createElement('div');\n",
              "          docLink.innerHTML = docLinkHtml;\n",
              "          element.appendChild(docLink);\n",
              "        }\n",
              "      </script>\n",
              "    </div>\n",
              "  </div>\n",
              "  "
            ]
          },
          "metadata": {},
          "execution_count": 80
        }
      ]
    },
    {
      "cell_type": "code",
      "source": [
        "houses = houses.drop(houses.loc[houses['yr_built'] < 1800].index)\n",
        "houses.loc[houses['yr_built'] < 1800]"
      ],
      "metadata": {
        "id": "9-xr4rYg-GGH",
        "colab": {
          "base_uri": "https://localhost:8080/",
          "height": 113
        },
        "outputId": "9e6879f6-9434-4f92-9afb-d0947a61d976"
      },
      "execution_count": 81,
      "outputs": [
        {
          "output_type": "execute_result",
          "data": {
            "text/plain": [
              "Empty DataFrame\n",
              "Columns: [date, price, bedrooms, bathrooms, sqft_living, sqft_lot, floors, waterfront, view, condition, grade, sqft_above, sqft_basement, yr_built, yr_renovated, lat, long, sqft_living15, sqft_lot15]\n",
              "Index: []"
            ],
            "text/html": [
              "\n",
              "  <div id=\"df-f7edbc94-67a0-46e1-b0b1-bc6257fc09c2\">\n",
              "    <div class=\"colab-df-container\">\n",
              "      <div>\n",
              "<style scoped>\n",
              "    .dataframe tbody tr th:only-of-type {\n",
              "        vertical-align: middle;\n",
              "    }\n",
              "\n",
              "    .dataframe tbody tr th {\n",
              "        vertical-align: top;\n",
              "    }\n",
              "\n",
              "    .dataframe thead th {\n",
              "        text-align: right;\n",
              "    }\n",
              "</style>\n",
              "<table border=\"1\" class=\"dataframe\">\n",
              "  <thead>\n",
              "    <tr style=\"text-align: right;\">\n",
              "      <th></th>\n",
              "      <th>date</th>\n",
              "      <th>price</th>\n",
              "      <th>bedrooms</th>\n",
              "      <th>bathrooms</th>\n",
              "      <th>sqft_living</th>\n",
              "      <th>sqft_lot</th>\n",
              "      <th>floors</th>\n",
              "      <th>waterfront</th>\n",
              "      <th>view</th>\n",
              "      <th>condition</th>\n",
              "      <th>grade</th>\n",
              "      <th>sqft_above</th>\n",
              "      <th>sqft_basement</th>\n",
              "      <th>yr_built</th>\n",
              "      <th>yr_renovated</th>\n",
              "      <th>lat</th>\n",
              "      <th>long</th>\n",
              "      <th>sqft_living15</th>\n",
              "      <th>sqft_lot15</th>\n",
              "    </tr>\n",
              "  </thead>\n",
              "  <tbody>\n",
              "  </tbody>\n",
              "</table>\n",
              "</div>\n",
              "      <button class=\"colab-df-convert\" onclick=\"convertToInteractive('df-f7edbc94-67a0-46e1-b0b1-bc6257fc09c2')\"\n",
              "              title=\"Convert this dataframe to an interactive table.\"\n",
              "              style=\"display:none;\">\n",
              "        \n",
              "  <svg xmlns=\"http://www.w3.org/2000/svg\" height=\"24px\"viewBox=\"0 0 24 24\"\n",
              "       width=\"24px\">\n",
              "    <path d=\"M0 0h24v24H0V0z\" fill=\"none\"/>\n",
              "    <path d=\"M18.56 5.44l.94 2.06.94-2.06 2.06-.94-2.06-.94-.94-2.06-.94 2.06-2.06.94zm-11 1L8.5 8.5l.94-2.06 2.06-.94-2.06-.94L8.5 2.5l-.94 2.06-2.06.94zm10 10l.94 2.06.94-2.06 2.06-.94-2.06-.94-.94-2.06-.94 2.06-2.06.94z\"/><path d=\"M17.41 7.96l-1.37-1.37c-.4-.4-.92-.59-1.43-.59-.52 0-1.04.2-1.43.59L10.3 9.45l-7.72 7.72c-.78.78-.78 2.05 0 2.83L4 21.41c.39.39.9.59 1.41.59.51 0 1.02-.2 1.41-.59l7.78-7.78 2.81-2.81c.8-.78.8-2.07 0-2.86zM5.41 20L4 18.59l7.72-7.72 1.47 1.35L5.41 20z\"/>\n",
              "  </svg>\n",
              "      </button>\n",
              "      \n",
              "  <style>\n",
              "    .colab-df-container {\n",
              "      display:flex;\n",
              "      flex-wrap:wrap;\n",
              "      gap: 12px;\n",
              "    }\n",
              "\n",
              "    .colab-df-convert {\n",
              "      background-color: #E8F0FE;\n",
              "      border: none;\n",
              "      border-radius: 50%;\n",
              "      cursor: pointer;\n",
              "      display: none;\n",
              "      fill: #1967D2;\n",
              "      height: 32px;\n",
              "      padding: 0 0 0 0;\n",
              "      width: 32px;\n",
              "    }\n",
              "\n",
              "    .colab-df-convert:hover {\n",
              "      background-color: #E2EBFA;\n",
              "      box-shadow: 0px 1px 2px rgba(60, 64, 67, 0.3), 0px 1px 3px 1px rgba(60, 64, 67, 0.15);\n",
              "      fill: #174EA6;\n",
              "    }\n",
              "\n",
              "    [theme=dark] .colab-df-convert {\n",
              "      background-color: #3B4455;\n",
              "      fill: #D2E3FC;\n",
              "    }\n",
              "\n",
              "    [theme=dark] .colab-df-convert:hover {\n",
              "      background-color: #434B5C;\n",
              "      box-shadow: 0px 1px 3px 1px rgba(0, 0, 0, 0.15);\n",
              "      filter: drop-shadow(0px 1px 2px rgba(0, 0, 0, 0.3));\n",
              "      fill: #FFFFFF;\n",
              "    }\n",
              "  </style>\n",
              "\n",
              "      <script>\n",
              "        const buttonEl =\n",
              "          document.querySelector('#df-f7edbc94-67a0-46e1-b0b1-bc6257fc09c2 button.colab-df-convert');\n",
              "        buttonEl.style.display =\n",
              "          google.colab.kernel.accessAllowed ? 'block' : 'none';\n",
              "\n",
              "        async function convertToInteractive(key) {\n",
              "          const element = document.querySelector('#df-f7edbc94-67a0-46e1-b0b1-bc6257fc09c2');\n",
              "          const dataTable =\n",
              "            await google.colab.kernel.invokeFunction('convertToInteractive',\n",
              "                                                     [key], {});\n",
              "          if (!dataTable) return;\n",
              "\n",
              "          const docLinkHtml = 'Like what you see? Visit the ' +\n",
              "            '<a target=\"_blank\" href=https://colab.research.google.com/notebooks/data_table.ipynb>data table notebook</a>'\n",
              "            + ' to learn more about interactive tables.';\n",
              "          element.innerHTML = '';\n",
              "          dataTable['output_type'] = 'display_data';\n",
              "          await google.colab.output.renderOutput(dataTable, element);\n",
              "          const docLink = document.createElement('div');\n",
              "          docLink.innerHTML = docLinkHtml;\n",
              "          element.appendChild(docLink);\n",
              "        }\n",
              "      </script>\n",
              "    </div>\n",
              "  </div>\n",
              "  "
            ]
          },
          "metadata": {},
          "execution_count": 81
        }
      ]
    },
    {
      "cell_type": "markdown",
      "source": [
        "- Aqui, podemos observar um pouco sobre quando os imóveis foram construídos e quando foram renovádos."
      ],
      "metadata": {
        "id": "EYPh16RkFxRc"
      }
    },
    {
      "cell_type": "code",
      "source": [
        "plt.style.use('seaborn-white')\n",
        "plt.figure(figsize=(20,10))\n",
        "\n",
        "# Relação do tamanho do terreno com o preço do imóvel\n",
        "plt.subplot(1,2,1)\n",
        "plt.hist(price_high['yr_built'], rwidth=0.8, bins=50)\n",
        "plt.title('Ano de Construção dos imóveis', fontsize=16)\n",
        "plt.xlabel('Ano', fontsize=14)\n",
        "plt.ylabel('Contagens', fontsize=14)\n",
        "plt.grid(True)\n",
        "\n",
        "# Relação do tamanho do imóvel com o preço\n",
        "renovated = houses.loc[houses['yr_renovated'] != 0]\n",
        "\n",
        "plt.subplot(1,2,2)\n",
        "text = f'Quantidade = {renovated.shape[0]}'\n",
        "ax = plt.gca()\n",
        "plt.text(0.90, 0.95,  text, horizontalalignment='right', verticalalignment='top', transform=ax.transAxes)\n",
        "\n",
        "plt.hist(renovated['yr_renovated'], rwidth=0.8, bins=50)\n",
        "plt.title('Ano de Renovação dos imóveis', fontsize=16)\n",
        "plt.xlabel('Ano', fontsize=14)\n",
        "plt.ylabel('Contagens', fontsize=14)\n",
        "plt.grid(True)\n",
        "\n",
        "plt.show()"
      ],
      "metadata": {
        "colab": {
          "base_uri": "https://localhost:8080/",
          "height": 624
        },
        "id": "c61yc1rtRQ24",
        "outputId": "586ce913-a7b7-4af5-a341-cbf946de443b"
      },
      "execution_count": 82,
      "outputs": [
        {
          "output_type": "display_data",
          "data": {
            "text/plain": [
              "<Figure size 1440x720 with 2 Axes>"
            ],
            "image/png": "[encoded data removed]"
          },
          "metadata": {}
        }
      ]
    },
    {
      "cell_type": "markdown",
      "source": [
        "- Mesmo pequeno, se pode ter noção sobre o espaçamento entre as epocas em que as casas foram construidas.\n",
        "\n",
        "- Uma quantidade bem pequena de casas foram renovadas, mas o gráfico ajuda a observar a epoca em que as renovação mais aconteceram."
      ],
      "metadata": {
        "id": "8KcIkwm2OzMp"
      }
    },
    {
      "cell_type": "markdown",
      "source": [
        "- Por fim, podemos observar se existe alguma relação entre o ano de contrução ou renovação da casa e o preço."
      ],
      "metadata": {
        "id": "Zt3Rvk-SPjCX"
      }
    },
    {
      "cell_type": "code",
      "source": [
        "plt.style.use('seaborn-white')\n",
        "plt.figure(figsize=(20,10))\n",
        "\n",
        "# Relação entre Preço e o Ano de Construção\n",
        "plt.subplot(1,2,1)\n",
        "plt.scatter(houses['yr_built'],houses['price'], s=80)\n",
        "plt.title('Relação entre Preço e o Ano de Construção', fontsize=14)\n",
        "plt.xlabel('Ano', fontsize=14)\n",
        "plt.ylabel('Valores', fontsize=14)\n",
        "plt.legend(['Casas'], loc='upper right')\n",
        "plt.grid(True)\n",
        "\n",
        "# Relação entre Preço e o Ano de Renovação\n",
        "plt.subplot(1,2,2)\n",
        "plt.scatter(renovated['yr_renovated'],renovated['price'], s=80)\n",
        "plt.title('Relação entre Preço e o Ano de Renovação', fontsize=14)\n",
        "plt.xlabel('Ano', fontsize=14)\n",
        "plt.ylabel('Valores', fontsize=14)\n",
        "plt.legend(['Casas'], loc='upper left')\n",
        "plt.grid(True)\n",
        "\n",
        "plt.show()"
      ],
      "metadata": {
        "id": "UodahOIT-F7q",
        "colab": {
          "base_uri": "https://localhost:8080/",
          "height": 623
        },
        "outputId": "33817df0-3118-432b-d2f7-5a4268ca7d7a"
      },
      "execution_count": 83,
      "outputs": [
        {
          "output_type": "display_data",
          "data": {
            "text/plain": [
              "<Figure size 1440x720 with 2 Axes>"
            ],
            "image/png": "[encoded data removed]"
          },
          "metadata": {}
        }
      ]
    },
    {
      "cell_type": "markdown",
      "source": [
        "- Não existe uma tentedência exatamente entre quando a casa foi construída ou renovada com relação ao preço."
      ],
      "metadata": {
        "id": "116RXRI1Pu3l"
      }
    },
    {
      "cell_type": "markdown",
      "source": [
        "##2.3 - Trantando Date.\n",
        "- Essa formatação é so para facilitar o maniseio com as datas os valores das datas."
      ],
      "metadata": {
        "id": "BcpQcp3GWmRv"
      }
    },
    {
      "cell_type": "code",
      "source": [
        "houses['date'] = pd.to_datetime(houses['date'])\n",
        "houses['year'] = houses['date'].dt.year\n",
        "houses['month'] = houses['date'].dt.month\n",
        "houses['day'] = houses['date'].dt.day\n",
        "\n",
        "houses = houses.drop('date', axis=1)"
      ],
      "metadata": {
        "id": "dx1wDVjtW9_P"
      },
      "execution_count": 84,
      "outputs": []
    },
    {
      "cell_type": "markdown",
      "source": [
        "- Desta forma, por exemplo, é possível analisar a em que mês do ano estão foram vendos os imóveis com maiores valores."
      ],
      "metadata": {
        "id": "gj5sRzdSX5S8"
      }
    },
    {
      "cell_type": "code",
      "source": [
        "plt.style.use('seaborn-white')\n",
        "plt.figure(figsize=(15,10))\n",
        "plt.bar(houses['month'],houses['price'], color='gray')\n",
        "plt.title('Valores das casas em cada mês', fontsize=14)\n",
        "plt.xlabel('Meses', fontsize=14)\n",
        "plt.ylabel('Valores', fontsize=14)\n",
        "\n",
        "plt.grid(True)"
      ],
      "metadata": {
        "colab": {
          "base_uri": "https://localhost:8080/",
          "height": 623
        },
        "id": "EDcj94s_W98Z",
        "outputId": "dd507fc9-f52d-4ad7-ebbc-2284f1bbaf9c"
      },
      "execution_count": 85,
      "outputs": [
        {
          "output_type": "display_data",
          "data": {
            "text/plain": [
              "<Figure size 1080x720 with 1 Axes>"
            ],
            "image/png": "[encoded data removed]"
          },
          "metadata": {}
        }
      ]
    },
    {
      "cell_type": "markdown",
      "source": [
        "## Conclusões\n",
        "\n",
        "Os dados não estão muito bem  distribuidos mas em sua maioria, os valores altos demais não são necessáriamente erros, afinal existem imóveis com terrenos enormes, e por não serem valores tão claramente estranhos e fora do padrão, fica difícil decidir o que fica e o que sai."
      ],
      "metadata": {
        "id": "KfZP1OToTGB4"
      }
    },
    {
      "cell_type": "markdown",
      "source": [
        " Acabei optando por fazer duas coisas, duas regressões diferentes, onde uma será feita com os dados do jeito que estão e a outra será feita com os dados tratados, onde não existirão os valores tão exorbitantes."
      ],
      "metadata": {
        "id": "XB43KI1k-F2w"
      }
    },
    {
      "cell_type": "markdown",
      "source": [
        "# 3- Machine Learning"
      ],
      "metadata": {
        "id": "ofpbVubzEwiO"
      }
    },
    {
      "cell_type": "markdown",
      "source": [
        "##3.1 - Sem tratamento"
      ],
      "metadata": {
        "id": "K12X6TT5UWT5"
      }
    },
    {
      "cell_type": "markdown",
      "source": [
        "- Primeiro, importamos as bibliotecas que vamos usar."
      ],
      "metadata": {
        "id": "Is5SlJXzUaNW"
      }
    },
    {
      "cell_type": "code",
      "source": [
        "from sklearn.linear_model import LinearRegression\n",
        "from sklearn.model_selection import train_test_split\n",
        "from sklearn.metrics import r2_score, mean_absolute_error, mean_squared_error"
      ],
      "metadata": {
        "id": "snrRkK9Q_GFW"
      },
      "execution_count": 86,
      "outputs": []
    },
    {
      "cell_type": "markdown",
      "source": [
        "- Então fazemos todas as preparações."
      ],
      "metadata": {
        "id": "dsDPri3GUffq"
      }
    },
    {
      "cell_type": "code",
      "source": [
        "# Definimos a variável alvo e a isolamos.\n",
        "target = houses['price']\n",
        "datas = houses.drop(columns='price')\n",
        "\n",
        "# Definimos as variáveis de treino e teste\n",
        "x_train, x_test, y_train, y_test = train_test_split(datas, target, random_state=42, shuffle=True)\n",
        "\n",
        "# Criamos o modelo e fazemos o treinamento\n",
        "model_LR = LinearRegression()\n",
        "model_LR.fit(x_train, y_train)\n",
        "\n",
        "# Visualizamos os coeficientes gerados.\n",
        "for column, coef in zip(datas.columns, model_LR.coef_):\n",
        "  print(f'{column}: {coef}')"
      ],
      "metadata": {
        "colab": {
          "base_uri": "https://localhost:8080/"
        },
        "id": "6B8r146gJSvc",
        "outputId": "62903008-1aeb-432b-b259-06b1641357d8"
      },
      "execution_count": 87,
      "outputs": [
        {
          "output_type": "stream",
          "name": "stdout",
          "text": [
            "bedrooms: -37835.71082349497\n",
            "bathrooms: 47334.13290916692\n",
            "sqft_living: 1177.6792608466967\n",
            "sqft_lot: 0.8850353043090428\n",
            "floors: -49.23060335702908\n",
            "waterfront: 559507.0185785547\n",
            "view: 49955.816161529285\n",
            "condition: 28995.308558655026\n",
            "grade: 95546.59903646467\n",
            "sqft_above: 776.9048505318503\n",
            "sqft_basement: 400.7744103067371\n",
            "yr_built: -2517.8162067046087\n",
            "yr_renovated: 24.46719934070362\n",
            "lat: 556073.349285874\n",
            "long: -106008.6900900056\n",
            "sqft_living15: 266.8906642738506\n",
            "sqft_lot15: -3.521876692599885\n",
            "year: 36641.6068310928\n",
            "month: 1354.4055776399498\n",
            "day: -296.56254958574226\n"
          ]
        }
      ]
    },
    {
      "cell_type": "markdown",
      "source": [
        "- Encontramos e checamos os coeficientes gerados.\n",
        "\n",
        "- \"Os coeficientes de regressão representam a mudança média na variável resposta para uma unidade de mudança na variável preditora, mantendo as outras preditoras na constante do modelo. Esse controle estatístico que a regressão proporciona é importante porque isola o papel de uma variável de todas as outras no modelo.\""
      ],
      "metadata": {
        "id": "UAp8sf2yoWKA"
      }
    },
    {
      "cell_type": "markdown",
      "source": [
        "- Depois de treinado, partimos para as predições."
      ],
      "metadata": {
        "id": "t33gHt77YXQO"
      }
    },
    {
      "cell_type": "code",
      "source": [
        "# Treino de predição\n",
        "y_pred_train = model_LR.predict(x_train)\n",
        "\n",
        "# Predição\n",
        "y_pred = model_LR.predict(x_test)"
      ],
      "metadata": {
        "id": "laB-ey5WYS4P"
      },
      "execution_count": 88,
      "outputs": []
    },
    {
      "cell_type": "markdown",
      "source": [
        "###Metricas"
      ],
      "metadata": {
        "id": "rz5FApt03jhZ"
      }
    },
    {
      "cell_type": "code",
      "source": [
        "print('MAE:', mean_absolute_error(y_test, y_pred))\n",
        "print('RMSE:', np.sqrt(mean_squared_error(y_test, y_pred)))\n",
        "print('R2 Score:', r2_score(y_test, y_pred))"
      ],
      "metadata": {
        "colab": {
          "base_uri": "https://localhost:8080/"
        },
        "id": "gs0mFUn23hYg",
        "outputId": "11aa0f82-4abf-4fed-cfa1-dcb12649e502"
      },
      "execution_count": 89,
      "outputs": [
        {
          "output_type": "stream",
          "name": "stdout",
          "text": [
            "MAE: 126221.24016341944\n",
            "RMSE: 209945.4465384715\n",
            "R2 Score: 0.699764764797454\n"
          ]
        }
      ]
    },
    {
      "cell_type": "markdown",
      "source": [
        "Vamos plotar alguns dados para fazer um teste de predição do valor da casa.\n",
        "- bedrooms: 3\n",
        "- bathrooms: 2\n",
        "- sqft_living:1800\n",
        "- sqft_lot: 4500\n",
        "- floors : 2\n",
        "- waterfront :0\n",
        "- view: 0\n",
        "- condition :4\n",
        "- grade: 8\n",
        "- sqft_above : 750\n",
        "- sqft_basement: 900\n",
        "- yr_built : 1995\n",
        "- yr_renovated : 0\n",
        "- lat: 47\n",
        "- long: -122\n",
        "- sqft_living15 : 1700\n",
        "- sqft_lot15 : 6000\n",
        "- year : 2015\n",
        "- month : 12\n",
        "- day : 3"
      ],
      "metadata": {
        "id": "Xj1Vk6lcouif"
      }
    },
    {
      "cell_type": "code",
      "source": [
        "print(converter_sqft(1800))\n",
        "print(converter_sqft(4500))\n",
        "print(converter_sqft(750))\n",
        "print(converter_sqft(900))\n",
        "print(converter_sqft(1700))\n",
        "print(converter_sqft(6000))"
      ],
      "metadata": {
        "colab": {
          "base_uri": "https://localhost:8080/"
        },
        "id": "gsceGKEwarXZ",
        "outputId": "8a8b0848-a7dc-4501-c704-fdcb489ebe1c"
      },
      "execution_count": 90,
      "outputs": [
        {
          "output_type": "stream",
          "name": "stdout",
          "text": [
            "167.22408026755855\n",
            "418.06020066889636\n",
            "69.67670011148273\n",
            "83.61204013377927\n",
            "157.9338535860275\n",
            "557.4136008918618\n"
          ]
        }
      ]
    },
    {
      "cell_type": "code",
      "source": [
        "# Teste de Predição\n",
        "model_LR.predict([[3,2,167.22408026755855,418.06020066889636,2,0,0,4,8,69.67670011148273,83.61204013377927,1995,0,47,-122,157.9338535860275,557.4136008918618,2015,12,3]])"
      ],
      "metadata": {
        "colab": {
          "base_uri": "https://localhost:8080/"
        },
        "id": "qK--3ZopogY3",
        "outputId": "26542762-5686-4427-d83d-058140ee171d"
      },
      "execution_count": 91,
      "outputs": [
        {
          "output_type": "stream",
          "name": "stderr",
          "text": [
            "/usr/local/lib/python3.8/dist-packages/sklearn/base.py:450: UserWarning: X does not have valid feature names, but LinearRegression was fitted with feature names\n",
            "  warnings.warn(\n"
          ]
        },
        {
          "output_type": "execute_result",
          "data": {
            "text/plain": [
              "array([132512.8084715])"
            ]
          },
          "metadata": {},
          "execution_count": 91
        }
      ]
    },
    {
      "cell_type": "markdown",
      "source": [
        "##3.2 - Com o tratamento"
      ],
      "metadata": {
        "id": "k4h7DOsVrkNS"
      }
    },
    {
      "cell_type": "markdown",
      "source": [
        "Correções: \n",
        "- Valores altos de preços\n",
        "- Valores altos de lots"
      ],
      "metadata": {
        "id": "zALIwKrPrq34"
      }
    },
    {
      "cell_type": "code",
      "source": [
        "houses.describe().transpose()"
      ],
      "metadata": {
        "colab": {
          "base_uri": "https://localhost:8080/",
          "height": 707
        },
        "id": "TNK5CwJnrmok",
        "outputId": "72668d1e-cdef-420f-c82a-4aeaa3739927"
      },
      "execution_count": 92,
      "outputs": [
        {
          "output_type": "execute_result",
          "data": {
            "text/plain": [
              "                 count           mean            std           min  \\\n",
              "price          21612.0  540083.518786  367135.061269  75000.000000   \n",
              "bedrooms       21612.0       3.369471       0.907982      0.000000   \n",
              "bathrooms      21612.0       2.114774       0.770177      0.000000   \n",
              "sqft_living    21612.0     193.229377      85.326720     26.941657   \n",
              "sqft_lot       21612.0    1403.510679    3848.144138     48.309179   \n",
              "floors         21612.0       1.494332       0.539991      1.000000   \n",
              "waterfront     21612.0       0.007542       0.086519      0.000000   \n",
              "view           21612.0       0.234314       0.766334      0.000000   \n",
              "condition      21612.0       3.409356       0.650668      1.000000   \n",
              "grade          21612.0       7.656904       1.175477      1.000000   \n",
              "sqft_above     21612.0     166.148766      76.931855     26.941657   \n",
              "sqft_basement  21612.0      27.080611      41.116772      0.000000   \n",
              "yr_built       21612.0    1971.006247      29.373636   1900.000000   \n",
              "yr_renovated   21612.0      84.406163     401.688123      0.000000   \n",
              "lat            21612.0      47.560047       0.138564     47.155900   \n",
              "long           21612.0    -122.213891       0.140829   -122.519000   \n",
              "sqft_living15  21612.0     184.558052      63.674527     37.068004   \n",
              "sqft_lot15     21612.0    1186.253157    2536.673744     60.479376   \n",
              "year           21612.0    2014.322969       0.467622   2014.000000   \n",
              "month          21612.0       6.574449       3.115377      1.000000   \n",
              "day            21612.0      15.687766       8.635030      1.000000   \n",
              "\n",
              "                         25%            50%            75%           max  \n",
              "price          321837.500000  450000.000000  645000.000000  7.700000e+06  \n",
              "bedrooms            3.000000       3.000000       4.000000  1.100000e+01  \n",
              "bathrooms           1.750000       2.250000       2.500000  8.000000e+00  \n",
              "sqft_living       132.525084     177.443330     236.900780  1.257897e+03  \n",
              "sqft_lot          468.227425     707.822371     992.962653  1.534150e+05  \n",
              "floors              1.000000       1.500000       2.000000  3.500000e+00  \n",
              "waterfront          0.000000       0.000000       0.000000  1.000000e+00  \n",
              "view                0.000000       0.000000       0.000000  4.000000e+00  \n",
              "condition           3.000000       3.000000       4.000000  5.000000e+00  \n",
              "grade               7.000000       7.000000       8.000000  1.300000e+01  \n",
              "sqft_above        110.553698     144.927536     205.314010  8.742103e+02  \n",
              "sqft_basement       0.000000       0.000000      52.025269  4.477889e+02  \n",
              "yr_built         1951.000000    1975.000000    1997.000000  2.015000e+03  \n",
              "yr_renovated        0.000000       0.000000       0.000000  2.015000e+03  \n",
              "lat                47.470975      47.571800      47.678000  4.777760e+01  \n",
              "long             -122.328000    -122.230000    -122.125000 -1.213150e+02  \n",
              "sqft_living15     138.424378     170.940171     219.249350  5.769231e+02  \n",
              "sqft_lot15        473.801561     707.915273     936.756782  8.093645e+04  \n",
              "year             2014.000000    2014.000000    2015.000000  2.015000e+03  \n",
              "month               4.000000       6.000000       9.000000  1.200000e+01  \n",
              "day                 8.000000      16.000000      23.000000  3.100000e+01  "
            ],
            "text/html": [
              "\n",
              "  <div id=\"df-c545ca80-6873-470a-8f38-a5543fac5a63\">\n",
              "    <div class=\"colab-df-container\">\n",
              "      <div>\n",
              "<style scoped>\n",
              "    .dataframe tbody tr th:only-of-type {\n",
              "        vertical-align: middle;\n",
              "    }\n",
              "\n",
              "    .dataframe tbody tr th {\n",
              "        vertical-align: top;\n",
              "    }\n",
              "\n",
              "    .dataframe thead th {\n",
              "        text-align: right;\n",
              "    }\n",
              "</style>\n",
              "<table border=\"1\" class=\"dataframe\">\n",
              "  <thead>\n",
              "    <tr style=\"text-align: right;\">\n",
              "      <th></th>\n",
              "      <th>count</th>\n",
              "      <th>mean</th>\n",
              "      <th>std</th>\n",
              "      <th>min</th>\n",
              "      <th>25%</th>\n",
              "      <th>50%</th>\n",
              "      <th>75%</th>\n",
              "      <th>max</th>\n",
              "    </tr>\n",
              "  </thead>\n",
              "  <tbody>\n",
              "    <tr>\n",
              "      <th>price</th>\n",
              "      <td>21612.0</td>\n",
              "      <td>540083.518786</td>\n",
              "      <td>367135.061269</td>\n",
              "      <td>75000.000000</td>\n",
              "      <td>321837.500000</td>\n",
              "      <td>450000.000000</td>\n",
              "      <td>645000.000000</td>\n",
              "      <td>7.700000e+06</td>\n",
              "    </tr>\n",
              "    <tr>\n",
              "      <th>bedrooms</th>\n",
              "      <td>21612.0</td>\n",
              "      <td>3.369471</td>\n",
              "      <td>0.907982</td>\n",
              "      <td>0.000000</td>\n",
              "      <td>3.000000</td>\n",
              "      <td>3.000000</td>\n",
              "      <td>4.000000</td>\n",
              "      <td>1.100000e+01</td>\n",
              "    </tr>\n",
              "    <tr>\n",
              "      <th>bathrooms</th>\n",
              "      <td>21612.0</td>\n",
              "      <td>2.114774</td>\n",
              "      <td>0.770177</td>\n",
              "      <td>0.000000</td>\n",
              "      <td>1.750000</td>\n",
              "      <td>2.250000</td>\n",
              "      <td>2.500000</td>\n",
              "      <td>8.000000e+00</td>\n",
              "    </tr>\n",
              "    <tr>\n",
              "      <th>sqft_living</th>\n",
              "      <td>21612.0</td>\n",
              "      <td>193.229377</td>\n",
              "      <td>85.326720</td>\n",
              "      <td>26.941657</td>\n",
              "      <td>132.525084</td>\n",
              "      <td>177.443330</td>\n",
              "      <td>236.900780</td>\n",
              "      <td>1.257897e+03</td>\n",
              "    </tr>\n",
              "    <tr>\n",
              "      <th>sqft_lot</th>\n",
              "      <td>21612.0</td>\n",
              "      <td>1403.510679</td>\n",
              "      <td>3848.144138</td>\n",
              "      <td>48.309179</td>\n",
              "      <td>468.227425</td>\n",
              "      <td>707.822371</td>\n",
              "      <td>992.962653</td>\n",
              "      <td>1.534150e+05</td>\n",
              "    </tr>\n",
              "    <tr>\n",
              "      <th>floors</th>\n",
              "      <td>21612.0</td>\n",
              "      <td>1.494332</td>\n",
              "      <td>0.539991</td>\n",
              "      <td>1.000000</td>\n",
              "      <td>1.000000</td>\n",
              "      <td>1.500000</td>\n",
              "      <td>2.000000</td>\n",
              "      <td>3.500000e+00</td>\n",
              "    </tr>\n",
              "    <tr>\n",
              "      <th>waterfront</th>\n",
              "      <td>21612.0</td>\n",
              "      <td>0.007542</td>\n",
              "      <td>0.086519</td>\n",
              "      <td>0.000000</td>\n",
              "      <td>0.000000</td>\n",
              "      <td>0.000000</td>\n",
              "      <td>0.000000</td>\n",
              "      <td>1.000000e+00</td>\n",
              "    </tr>\n",
              "    <tr>\n",
              "      <th>view</th>\n",
              "      <td>21612.0</td>\n",
              "      <td>0.234314</td>\n",
              "      <td>0.766334</td>\n",
              "      <td>0.000000</td>\n",
              "      <td>0.000000</td>\n",
              "      <td>0.000000</td>\n",
              "      <td>0.000000</td>\n",
              "      <td>4.000000e+00</td>\n",
              "    </tr>\n",
              "    <tr>\n",
              "      <th>condition</th>\n",
              "      <td>21612.0</td>\n",
              "      <td>3.409356</td>\n",
              "      <td>0.650668</td>\n",
              "      <td>1.000000</td>\n",
              "      <td>3.000000</td>\n",
              "      <td>3.000000</td>\n",
              "      <td>4.000000</td>\n",
              "      <td>5.000000e+00</td>\n",
              "    </tr>\n",
              "    <tr>\n",
              "      <th>grade</th>\n",
              "      <td>21612.0</td>\n",
              "      <td>7.656904</td>\n",
              "      <td>1.175477</td>\n",
              "      <td>1.000000</td>\n",
              "      <td>7.000000</td>\n",
              "      <td>7.000000</td>\n",
              "      <td>8.000000</td>\n",
              "      <td>1.300000e+01</td>\n",
              "    </tr>\n",
              "    <tr>\n",
              "      <th>sqft_above</th>\n",
              "      <td>21612.0</td>\n",
              "      <td>166.148766</td>\n",
              "      <td>76.931855</td>\n",
              "      <td>26.941657</td>\n",
              "      <td>110.553698</td>\n",
              "      <td>144.927536</td>\n",
              "      <td>205.314010</td>\n",
              "      <td>8.742103e+02</td>\n",
              "    </tr>\n",
              "    <tr>\n",
              "      <th>sqft_basement</th>\n",
              "      <td>21612.0</td>\n",
              "      <td>27.080611</td>\n",
              "      <td>41.116772</td>\n",
              "      <td>0.000000</td>\n",
              "      <td>0.000000</td>\n",
              "      <td>0.000000</td>\n",
              "      <td>52.025269</td>\n",
              "      <td>4.477889e+02</td>\n",
              "    </tr>\n",
              "    <tr>\n",
              "      <th>yr_built</th>\n",
              "      <td>21612.0</td>\n",
              "      <td>1971.006247</td>\n",
              "      <td>29.373636</td>\n",
              "      <td>1900.000000</td>\n",
              "      <td>1951.000000</td>\n",
              "      <td>1975.000000</td>\n",
              "      <td>1997.000000</td>\n",
              "      <td>2.015000e+03</td>\n",
              "    </tr>\n",
              "    <tr>\n",
              "      <th>yr_renovated</th>\n",
              "      <td>21612.0</td>\n",
              "      <td>84.406163</td>\n",
              "      <td>401.688123</td>\n",
              "      <td>0.000000</td>\n",
              "      <td>0.000000</td>\n",
              "      <td>0.000000</td>\n",
              "      <td>0.000000</td>\n",
              "      <td>2.015000e+03</td>\n",
              "    </tr>\n",
              "    <tr>\n",
              "      <th>lat</th>\n",
              "      <td>21612.0</td>\n",
              "      <td>47.560047</td>\n",
              "      <td>0.138564</td>\n",
              "      <td>47.155900</td>\n",
              "      <td>47.470975</td>\n",
              "      <td>47.571800</td>\n",
              "      <td>47.678000</td>\n",
              "      <td>4.777760e+01</td>\n",
              "    </tr>\n",
              "    <tr>\n",
              "      <th>long</th>\n",
              "      <td>21612.0</td>\n",
              "      <td>-122.213891</td>\n",
              "      <td>0.140829</td>\n",
              "      <td>-122.519000</td>\n",
              "      <td>-122.328000</td>\n",
              "      <td>-122.230000</td>\n",
              "      <td>-122.125000</td>\n",
              "      <td>-1.213150e+02</td>\n",
              "    </tr>\n",
              "    <tr>\n",
              "      <th>sqft_living15</th>\n",
              "      <td>21612.0</td>\n",
              "      <td>184.558052</td>\n",
              "      <td>63.674527</td>\n",
              "      <td>37.068004</td>\n",
              "      <td>138.424378</td>\n",
              "      <td>170.940171</td>\n",
              "      <td>219.249350</td>\n",
              "      <td>5.769231e+02</td>\n",
              "    </tr>\n",
              "    <tr>\n",
              "      <th>sqft_lot15</th>\n",
              "      <td>21612.0</td>\n",
              "      <td>1186.253157</td>\n",
              "      <td>2536.673744</td>\n",
              "      <td>60.479376</td>\n",
              "      <td>473.801561</td>\n",
              "      <td>707.915273</td>\n",
              "      <td>936.756782</td>\n",
              "      <td>8.093645e+04</td>\n",
              "    </tr>\n",
              "    <tr>\n",
              "      <th>year</th>\n",
              "      <td>21612.0</td>\n",
              "      <td>2014.322969</td>\n",
              "      <td>0.467622</td>\n",
              "      <td>2014.000000</td>\n",
              "      <td>2014.000000</td>\n",
              "      <td>2014.000000</td>\n",
              "      <td>2015.000000</td>\n",
              "      <td>2.015000e+03</td>\n",
              "    </tr>\n",
              "    <tr>\n",
              "      <th>month</th>\n",
              "      <td>21612.0</td>\n",
              "      <td>6.574449</td>\n",
              "      <td>3.115377</td>\n",
              "      <td>1.000000</td>\n",
              "      <td>4.000000</td>\n",
              "      <td>6.000000</td>\n",
              "      <td>9.000000</td>\n",
              "      <td>1.200000e+01</td>\n",
              "    </tr>\n",
              "    <tr>\n",
              "      <th>day</th>\n",
              "      <td>21612.0</td>\n",
              "      <td>15.687766</td>\n",
              "      <td>8.635030</td>\n",
              "      <td>1.000000</td>\n",
              "      <td>8.000000</td>\n",
              "      <td>16.000000</td>\n",
              "      <td>23.000000</td>\n",
              "      <td>3.100000e+01</td>\n",
              "    </tr>\n",
              "  </tbody>\n",
              "</table>\n",
              "</div>\n",
              "      <button class=\"colab-df-convert\" onclick=\"convertToInteractive('df-c545ca80-6873-470a-8f38-a5543fac5a63')\"\n",
              "              title=\"Convert this dataframe to an interactive table.\"\n",
              "              style=\"display:none;\">\n",
              "        \n",
              "  <svg xmlns=\"http://www.w3.org/2000/svg\" height=\"24px\"viewBox=\"0 0 24 24\"\n",
              "       width=\"24px\">\n",
              "    <path d=\"M0 0h24v24H0V0z\" fill=\"none\"/>\n",
              "    <path d=\"M18.56 5.44l.94 2.06.94-2.06 2.06-.94-2.06-.94-.94-2.06-.94 2.06-2.06.94zm-11 1L8.5 8.5l.94-2.06 2.06-.94-2.06-.94L8.5 2.5l-.94 2.06-2.06.94zm10 10l.94 2.06.94-2.06 2.06-.94-2.06-.94-.94-2.06-.94 2.06-2.06.94z\"/><path d=\"M17.41 7.96l-1.37-1.37c-.4-.4-.92-.59-1.43-.59-.52 0-1.04.2-1.43.59L10.3 9.45l-7.72 7.72c-.78.78-.78 2.05 0 2.83L4 21.41c.39.39.9.59 1.41.59.51 0 1.02-.2 1.41-.59l7.78-7.78 2.81-2.81c.8-.78.8-2.07 0-2.86zM5.41 20L4 18.59l7.72-7.72 1.47 1.35L5.41 20z\"/>\n",
              "  </svg>\n",
              "      </button>\n",
              "      \n",
              "  <style>\n",
              "    .colab-df-container {\n",
              "      display:flex;\n",
              "      flex-wrap:wrap;\n",
              "      gap: 12px;\n",
              "    }\n",
              "\n",
              "    .colab-df-convert {\n",
              "      background-color: #E8F0FE;\n",
              "      border: none;\n",
              "      border-radius: 50%;\n",
              "      cursor: pointer;\n",
              "      display: none;\n",
              "      fill: #1967D2;\n",
              "      height: 32px;\n",
              "      padding: 0 0 0 0;\n",
              "      width: 32px;\n",
              "    }\n",
              "\n",
              "    .colab-df-convert:hover {\n",
              "      background-color: #E2EBFA;\n",
              "      box-shadow: 0px 1px 2px rgba(60, 64, 67, 0.3), 0px 1px 3px 1px rgba(60, 64, 67, 0.15);\n",
              "      fill: #174EA6;\n",
              "    }\n",
              "\n",
              "    [theme=dark] .colab-df-convert {\n",
              "      background-color: #3B4455;\n",
              "      fill: #D2E3FC;\n",
              "    }\n",
              "\n",
              "    [theme=dark] .colab-df-convert:hover {\n",
              "      background-color: #434B5C;\n",
              "      box-shadow: 0px 1px 3px 1px rgba(0, 0, 0, 0.15);\n",
              "      filter: drop-shadow(0px 1px 2px rgba(0, 0, 0, 0.3));\n",
              "      fill: #FFFFFF;\n",
              "    }\n",
              "  </style>\n",
              "\n",
              "      <script>\n",
              "        const buttonEl =\n",
              "          document.querySelector('#df-c545ca80-6873-470a-8f38-a5543fac5a63 button.colab-df-convert');\n",
              "        buttonEl.style.display =\n",
              "          google.colab.kernel.accessAllowed ? 'block' : 'none';\n",
              "\n",
              "        async function convertToInteractive(key) {\n",
              "          const element = document.querySelector('#df-c545ca80-6873-470a-8f38-a5543fac5a63');\n",
              "          const dataTable =\n",
              "            await google.colab.kernel.invokeFunction('convertToInteractive',\n",
              "                                                     [key], {});\n",
              "          if (!dataTable) return;\n",
              "\n",
              "          const docLinkHtml = 'Like what you see? Visit the ' +\n",
              "            '<a target=\"_blank\" href=https://colab.research.google.com/notebooks/data_table.ipynb>data table notebook</a>'\n",
              "            + ' to learn more about interactive tables.';\n",
              "          element.innerHTML = '';\n",
              "          dataTable['output_type'] = 'display_data';\n",
              "          await google.colab.output.renderOutput(dataTable, element);\n",
              "          const docLink = document.createElement('div');\n",
              "          docLink.innerHTML = docLinkHtml;\n",
              "          element.appendChild(docLink);\n",
              "        }\n",
              "      </script>\n",
              "    </div>\n",
              "  </div>\n",
              "  "
            ]
          },
          "metadata": {},
          "execution_count": 92
        }
      ]
    },
    {
      "cell_type": "code",
      "source": [
        "# Tratando preços altos\n",
        "std_price = houses['price'].std() * 3\n",
        "houses = houses.loc[houses['price'] < std_price]\n",
        "\n",
        "# Tratando tamanhos de terrenos muito grandes\n",
        "houses = houses.loc[houses['sqft_lot'] < 2000]\n",
        "houses = houses.loc[houses['sqft_lot15'] < 3000]\n",
        "houses = houses.loc[houses['sqft_living'] < 500]\n",
        "houses = houses.loc[houses['sqft_living15'] < 600]\n",
        "\n",
        "# Tratando de valores de imóveis maiores que o terreno\n",
        "houses = houses.drop(index=houses.loc[houses['sqft_lot'] < houses['sqft_living']].index.tolist())\n",
        "houses.shape"
      ],
      "metadata": {
        "id": "AgGZff-Yzc5s",
        "colab": {
          "base_uri": "https://localhost:8080/"
        },
        "outputId": "fc7b65f7-0e50-47bc-e13f-1448a3a1f2b2"
      },
      "execution_count": 93,
      "outputs": [
        {
          "output_type": "execute_result",
          "data": {
            "text/plain": [
              "(17684, 21)"
            ]
          },
          "metadata": {},
          "execution_count": 93
        }
      ]
    },
    {
      "cell_type": "code",
      "source": [
        "plt.style.use('seaborn-white')\n",
        "plt.figure(figsize=(20,10))\n",
        "\n",
        "\n",
        "plt.subplot(1,3,1)\n",
        "text = f'média = ${houses[\"price\"].mean():.2f} \\n\\nmáximo = ${max(houses[\"price\"]):.2f} \\n\\nQuantidade total: {houses.shape[0]}'\n",
        "ax = plt.gca()\n",
        "plt.text(0.95, 0.99,  text, horizontalalignment='right', verticalalignment='top', transform=ax.transAxes, fontsize=14)\n",
        "plt.hist(houses['price'], rwidth=0.8, bins=80)\n",
        "plt.title('Nova Distribuição dos valores dos imóveis', fontsize=16)\n",
        "plt.xlabel('Preços', fontsize=14)\n",
        "plt.grid(True)\n",
        "\n",
        "plt.subplot(1,3,2)\n",
        "plt.hist(houses['sqft_lot'], rwidth=0.8, bins=80)\n",
        "plt.title('Nova Distribuição dos terrenos', fontsize=16)\n",
        "plt.xlabel('m²', fontsize=14)\n",
        "plt.grid(True)\n",
        "\n",
        "plt.subplot(1,3,3)\n",
        "plt.hist(houses['sqft_living'], rwidth=0.8, bins=80)\n",
        "plt.title('Nova Distribuição dos imóveis', fontsize=14)\n",
        "plt.xlabel('Tamanhos')\n",
        "plt.grid(True)\n",
        "\n",
        "plt.show()"
      ],
      "metadata": {
        "colab": {
          "base_uri": "https://localhost:8080/",
          "height": 624
        },
        "id": "EYS71un80Sb7",
        "outputId": "46f042c9-4e66-4fda-b4dc-5218ebfb57ae"
      },
      "execution_count": 94,
      "outputs": [
        {
          "output_type": "display_data",
          "data": {
            "text/plain": [
              "<Figure size 1440x720 with 3 Axes>"
            ],
            "image/png": "[encoded data removed]"
          },
          "metadata": {}
        }
      ]
    },
    {
      "cell_type": "code",
      "source": [
        "# Definimos a variável alvo e a isolamos.\n",
        "target = houses['price']\n",
        "datas = houses.drop(columns='price')\n",
        "\n",
        "# Definimos as variáveis de treino e teste\n",
        "x_train, x_test, y_train, y_test = train_test_split(datas, target, random_state=42, shuffle=True)\n",
        "\n",
        "# Criamos o modelo e fazemos o treinamento\n",
        "model_LR = LinearRegression()\n",
        "model_LR.fit(x_train, y_train)\n",
        "\n",
        "# Visualizamos os coeficientes gerados.\n",
        "for column, coef in zip(datas.columns, model_LR.coef_):\n",
        "  print(f'{column}: {coef}')"
      ],
      "metadata": {
        "colab": {
          "base_uri": "https://localhost:8080/"
        },
        "id": "N1j7ofIwzRBn",
        "outputId": "5ed7b6d1-74e2-4d2f-a9cb-dc8e32c5728f"
      },
      "execution_count": 95,
      "outputs": [
        {
          "output_type": "stream",
          "name": "stdout",
          "text": [
            "bedrooms: -8529.337750072673\n",
            "bathrooms: 22913.712886150843\n",
            "sqft_living: 557.708465952941\n",
            "sqft_lot: -20.17490824228074\n",
            "floors: 10589.890537106277\n",
            "waterfront: 174368.63934848973\n",
            "view: 28879.481550158165\n",
            "condition: 31081.19155934355\n",
            "grade: 74743.25988209526\n",
            "sqft_above: 336.2134140192281\n",
            "sqft_basement: 221.49505192868867\n",
            "yr_built: -1834.0612860916444\n",
            "yr_renovated: 15.450021189797218\n",
            "lat: 541644.9863983382\n",
            "long: 23389.348166664055\n",
            "sqft_living15: 616.8889667325367\n",
            "sqft_lot15: -43.157502476786846\n",
            "year: 25592.04211051194\n",
            "month: 552.1485950579184\n",
            "day: -209.79180944538672\n"
          ]
        }
      ]
    },
    {
      "cell_type": "code",
      "source": [
        "# Treino de predição\n",
        "y_pred_train = model_LR.predict(x_train)\n",
        "\n",
        "# Predição\n",
        "y_pred = model_LR.predict(x_test)"
      ],
      "metadata": {
        "id": "6yngO00s22b_"
      },
      "execution_count": 96,
      "outputs": []
    },
    {
      "cell_type": "markdown",
      "source": [
        "###Metricas"
      ],
      "metadata": {
        "id": "cFMPIBXM3sKE"
      }
    },
    {
      "cell_type": "code",
      "source": [
        "print('MAE:', mean_absolute_error(y_test, y_pred))\n",
        "print('RMSE:', np.sqrt(mean_squared_error(y_test, y_pred)))\n",
        "print('R2 Score:', r2_score(y_test, y_pred))"
      ],
      "metadata": {
        "colab": {
          "base_uri": "https://localhost:8080/"
        },
        "id": "EqebWsmi3rn7",
        "outputId": "b1b6edc7-f494-46ed-9d91-74114a1034ef"
      },
      "execution_count": 97,
      "outputs": [
        {
          "output_type": "stream",
          "name": "stdout",
          "text": [
            "MAE: 86439.69957982842\n",
            "RMSE: 114845.86717644584\n",
            "R2 Score: 0.6929798028987209\n"
          ]
        }
      ]
    },
    {
      "cell_type": "code",
      "source": [
        "# Teste de Predição\n",
        "model_LR.predict([[3,2,167.22408026755855,418.06020066889636,2,0,0,4,8,69.67670011148273,83.61204013377927,1995,0,47,-122,157.9338535860275,557.4136008918618,2015,12,3]])"
      ],
      "metadata": {
        "colab": {
          "base_uri": "https://localhost:8080/"
        },
        "id": "lvwYGb2U28a5",
        "outputId": "a66e9a0a-8f85-4f05-86ff-2c1c0bdc644f"
      },
      "execution_count": 98,
      "outputs": [
        {
          "output_type": "stream",
          "name": "stderr",
          "text": [
            "/usr/local/lib/python3.8/dist-packages/sklearn/base.py:450: UserWarning: X does not have valid feature names, but LinearRegression was fitted with feature names\n",
            "  warnings.warn(\n"
          ]
        },
        {
          "output_type": "execute_result",
          "data": {
            "text/plain": [
              "array([184630.90341674])"
            ]
          },
          "metadata": {},
          "execution_count": 98
        }
      ]
    }
  ]
}