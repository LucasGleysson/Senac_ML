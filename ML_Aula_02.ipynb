{
  "nbformat": 4,
  "nbformat_minor": 0,
  "metadata": {
    "colab": {
      "provenance": [],
      "toc_visible": true,
      "authorship_tag": "ABX9TyO9HOL2z0MQkWMIA+b7FeBU",
      "include_colab_link": true
    },
    "kernelspec": {
      "name": "python3",
      "display_name": "Python 3"
    },
    "language_info": {
      "name": "python"
    }
  },
  "cells": [
    {
      "cell_type": "markdown",
      "metadata": {
        "id": "view-in-github",
        "colab_type": "text"
      },
      "source": [
        "<a href=\"https://colab.research.google.com/github/LucasGleysson/Senac_ML/blob/master/ML_Aula_02.ipynb\" target=\"_parent\"><img src=\"https://colab.research.google.com/assets/colab-badge.svg\" alt=\"Open In Colab\"/></a>"
      ]
    },
    {
      "cell_type": "markdown",
      "source": [
        "# **Operações com Variáveis.**"
      ],
      "metadata": {
        "id": "Env7MNdJSnhY"
      }
    },
    {
      "cell_type": "markdown",
      "source": [
        "## Variáveis"
      ],
      "metadata": {
        "id": "5jBf8j1sbtuC"
      }
    },
    {
      "cell_type": "code",
      "execution_count": 40,
      "metadata": {
        "id": "hgJKD5PjRin1"
      },
      "outputs": [],
      "source": [
        "idade1 = 20"
      ]
    },
    {
      "cell_type": "code",
      "source": [
        "idade2 = 35"
      ],
      "metadata": {
        "id": "bKymzEORSMdw"
      },
      "execution_count": 41,
      "outputs": []
    },
    {
      "cell_type": "markdown",
      "source": [
        "## *Adição*"
      ],
      "metadata": {
        "id": "cMr3P60hcHvC"
      }
    },
    {
      "cell_type": "code",
      "source": [
        "idade1 + idade2"
      ],
      "metadata": {
        "colab": {
          "base_uri": "https://localhost:8080/"
        },
        "id": "05SofvTISN5P",
        "outputId": "70b31e60-d5d6-4133-c90d-ab2eea5349a8"
      },
      "execution_count": 42,
      "outputs": [
        {
          "output_type": "execute_result",
          "data": {
            "text/plain": [
              "55"
            ]
          },
          "metadata": {},
          "execution_count": 42
        }
      ]
    },
    {
      "cell_type": "code",
      "source": [
        "idade1 + idade2"
      ],
      "metadata": {
        "colab": {
          "base_uri": "https://localhost:8080/"
        },
        "id": "xftRG1VcSP7-",
        "outputId": "16beedd3-6ec2-4dbb-d5c9-6989447e69d9"
      },
      "execution_count": 43,
      "outputs": [
        {
          "output_type": "execute_result",
          "data": {
            "text/plain": [
              "55"
            ]
          },
          "metadata": {},
          "execution_count": 43
        }
      ]
    },
    {
      "cell_type": "markdown",
      "source": [
        "## Subtração"
      ],
      "metadata": {
        "id": "No4NNgYQcL_K"
      }
    },
    {
      "cell_type": "code",
      "source": [
        "idade1 -  idade2"
      ],
      "metadata": {
        "colab": {
          "base_uri": "https://localhost:8080/"
        },
        "id": "5BttJSAJSwO3",
        "outputId": "880f735d-35c3-431a-8507-95242048b8f6"
      },
      "execution_count": 44,
      "outputs": [
        {
          "output_type": "execute_result",
          "data": {
            "text/plain": [
              "-15"
            ]
          },
          "metadata": {},
          "execution_count": 44
        }
      ]
    },
    {
      "cell_type": "markdown",
      "source": [
        "## Multiplicação"
      ],
      "metadata": {
        "id": "oqp068S2cO56"
      }
    },
    {
      "cell_type": "code",
      "source": [
        "idade1 * idade2"
      ],
      "metadata": {
        "colab": {
          "base_uri": "https://localhost:8080/"
        },
        "id": "nhZgkITmS8zv",
        "outputId": "d6dfb1a1-6106-4c54-a462-2c5cb86015c6"
      },
      "execution_count": 45,
      "outputs": [
        {
          "output_type": "execute_result",
          "data": {
            "text/plain": [
              "700"
            ]
          },
          "metadata": {},
          "execution_count": 45
        }
      ]
    },
    {
      "cell_type": "markdown",
      "source": [
        "## Divisão"
      ],
      "metadata": {
        "id": "xX55w2bacoxq"
      }
    },
    {
      "cell_type": "code",
      "source": [
        "idade1 / idade2"
      ],
      "metadata": {
        "colab": {
          "base_uri": "https://localhost:8080/"
        },
        "id": "uXRTJ3DSTBXf",
        "outputId": "82125035-968f-4df5-a7b5-f4d1114e3ec5"
      },
      "execution_count": 46,
      "outputs": [
        {
          "output_type": "execute_result",
          "data": {
            "text/plain": [
              "0.5714285714285714"
            ]
          },
          "metadata": {},
          "execution_count": 46
        }
      ]
    },
    {
      "cell_type": "markdown",
      "source": [
        "## Operações com números"
      ],
      "metadata": {
        "id": "zHEXBNYacs_q"
      }
    },
    {
      "cell_type": "code",
      "source": [
        "idade1 + 10"
      ],
      "metadata": {
        "colab": {
          "base_uri": "https://localhost:8080/"
        },
        "id": "MgQjXJbtTExX",
        "outputId": "c6fad74e-0310-48c1-adaa-9cb3306e915f"
      },
      "execution_count": 47,
      "outputs": [
        {
          "output_type": "execute_result",
          "data": {
            "text/plain": [
              "30"
            ]
          },
          "metadata": {},
          "execution_count": 47
        }
      ]
    },
    {
      "cell_type": "code",
      "source": [
        "idade1 - 15"
      ],
      "metadata": {
        "colab": {
          "base_uri": "https://localhost:8080/"
        },
        "id": "7BrU3WsWWdxA",
        "outputId": "6a75499b-f2cb-45b4-f55e-c726414d2543"
      },
      "execution_count": 48,
      "outputs": [
        {
          "output_type": "execute_result",
          "data": {
            "text/plain": [
              "5"
            ]
          },
          "metadata": {},
          "execution_count": 48
        }
      ]
    },
    {
      "cell_type": "code",
      "source": [
        "idade1 * 4"
      ],
      "metadata": {
        "colab": {
          "base_uri": "https://localhost:8080/"
        },
        "id": "LFonRHBuWdgw",
        "outputId": "408e723e-9811-4812-de93-e6971b9a3f95"
      },
      "execution_count": 49,
      "outputs": [
        {
          "output_type": "execute_result",
          "data": {
            "text/plain": [
              "80"
            ]
          },
          "metadata": {},
          "execution_count": 49
        }
      ]
    },
    {
      "cell_type": "code",
      "source": [
        "idade1 / 5"
      ],
      "metadata": {
        "colab": {
          "base_uri": "https://localhost:8080/"
        },
        "id": "XZSU0LOmWdTh",
        "outputId": "83ece09d-a470-4777-f228-1825df67512a"
      },
      "execution_count": 50,
      "outputs": [
        {
          "output_type": "execute_result",
          "data": {
            "text/plain": [
              "4.0"
            ]
          },
          "metadata": {},
          "execution_count": 50
        }
      ]
    },
    {
      "cell_type": "markdown",
      "source": [
        "## Expressões"
      ],
      "metadata": {
        "id": "MSNgLW8kdVPq"
      }
    },
    {
      "cell_type": "code",
      "source": [
        "2 * (idade1 + idade2)"
      ],
      "metadata": {
        "colab": {
          "base_uri": "https://localhost:8080/"
        },
        "id": "YabOAmDzTQB3",
        "outputId": "1cecccff-1ce1-4b0c-cf8a-af390e115677"
      },
      "execution_count": 51,
      "outputs": [
        {
          "output_type": "execute_result",
          "data": {
            "text/plain": [
              "110"
            ]
          },
          "metadata": {},
          "execution_count": 51
        }
      ]
    },
    {
      "cell_type": "code",
      "source": [
        "2 * idade1 + 3 * idade2 / 4"
      ],
      "metadata": {
        "colab": {
          "base_uri": "https://localhost:8080/"
        },
        "id": "BKXtFVQVTemv",
        "outputId": "1dec34a7-a99e-480f-b779-bcfd5eb7f0a4"
      },
      "execution_count": 52,
      "outputs": [
        {
          "output_type": "execute_result",
          "data": {
            "text/plain": [
              "66.25"
            ]
          },
          "metadata": {},
          "execution_count": 52
        }
      ]
    },
    {
      "cell_type": "code",
      "source": [
        "(2 * idade1 + 3 * idade2) / 4"
      ],
      "metadata": {
        "colab": {
          "base_uri": "https://localhost:8080/"
        },
        "id": "EmUPaMRATjCH",
        "outputId": "985d88fe-8e64-429e-e459-ed72cdac5e3a"
      },
      "execution_count": 53,
      "outputs": [
        {
          "output_type": "execute_result",
          "data": {
            "text/plain": [
              "36.25"
            ]
          },
          "metadata": {},
          "execution_count": 53
        }
      ]
    },
    {
      "cell_type": "markdown",
      "source": [
        "## Potencia"
      ],
      "metadata": {
        "id": "9AHucacmdX8C"
      }
    },
    {
      "cell_type": "code",
      "source": [
        "idade1 ** 2"
      ],
      "metadata": {
        "colab": {
          "base_uri": "https://localhost:8080/"
        },
        "id": "gPLW64w5TqI4",
        "outputId": "f3094e79-683c-45d0-8cfe-4bef4a4053ca"
      },
      "execution_count": 54,
      "outputs": [
        {
          "output_type": "execute_result",
          "data": {
            "text/plain": [
              "400"
            ]
          },
          "metadata": {},
          "execution_count": 54
        }
      ]
    },
    {
      "cell_type": "code",
      "source": [
        "15 ** 2"
      ],
      "metadata": {
        "colab": {
          "base_uri": "https://localhost:8080/"
        },
        "id": "ZivufbViT1c_",
        "outputId": "844fb9d3-d681-49cf-bf63-738c65a4c590"
      },
      "execution_count": 55,
      "outputs": [
        {
          "output_type": "execute_result",
          "data": {
            "text/plain": [
              "225"
            ]
          },
          "metadata": {},
          "execution_count": 55
        }
      ]
    },
    {
      "cell_type": "markdown",
      "source": [
        "## Divisão inteira"
      ],
      "metadata": {
        "id": "25ARujGEdZyZ"
      }
    },
    {
      "cell_type": "code",
      "source": [
        "idade2 // idade1"
      ],
      "metadata": {
        "colab": {
          "base_uri": "https://localhost:8080/"
        },
        "id": "EkdG1znsT2v3",
        "outputId": "af75a969-f843-4173-c1c1-cd8a4abb4f98"
      },
      "execution_count": 56,
      "outputs": [
        {
          "output_type": "execute_result",
          "data": {
            "text/plain": [
              "1"
            ]
          },
          "metadata": {},
          "execution_count": 56
        }
      ]
    },
    {
      "cell_type": "code",
      "source": [
        "idade2 / idade1"
      ],
      "metadata": {
        "colab": {
          "base_uri": "https://localhost:8080/"
        },
        "id": "YeycqabkUEcQ",
        "outputId": "58e52768-aac7-4ccf-fd1e-31f21d737643"
      },
      "execution_count": 57,
      "outputs": [
        {
          "output_type": "execute_result",
          "data": {
            "text/plain": [
              "1.75"
            ]
          },
          "metadata": {},
          "execution_count": 57
        }
      ]
    },
    {
      "cell_type": "markdown",
      "source": [
        "## Modulo"
      ],
      "metadata": {
        "id": "Nb-cz13cdcuh"
      }
    },
    {
      "cell_type": "code",
      "source": [
        "idade2 % idade1"
      ],
      "metadata": {
        "colab": {
          "base_uri": "https://localhost:8080/"
        },
        "id": "04ZnDK89UWh_",
        "outputId": "4813e5d8-afd9-47e5-e258-8ec63e309bca"
      },
      "execution_count": 58,
      "outputs": [
        {
          "output_type": "execute_result",
          "data": {
            "text/plain": [
              "15"
            ]
          },
          "metadata": {},
          "execution_count": 58
        }
      ]
    },
    {
      "cell_type": "markdown",
      "source": [
        "## Operações com Strings"
      ],
      "metadata": {
        "id": "2Bnqrd1wev5V"
      }
    },
    {
      "cell_type": "code",
      "source": [
        "nome = 'Camila'\n",
        "sobrenome = 'Dantas'"
      ],
      "metadata": {
        "id": "RzH1lvf3Ump3"
      },
      "execution_count": 59,
      "outputs": []
    },
    {
      "cell_type": "code",
      "source": [
        "print(nome + sobrenome)"
      ],
      "metadata": {
        "colab": {
          "base_uri": "https://localhost:8080/"
        },
        "id": "b4PtlBTmUvwH",
        "outputId": "7c478646-af54-467a-d0aa-07c61d0f1081"
      },
      "execution_count": 60,
      "outputs": [
        {
          "output_type": "stream",
          "name": "stdout",
          "text": [
            "CamilaDantas\n"
          ]
        }
      ]
    },
    {
      "cell_type": "code",
      "source": [
        "print(nome + ' ' + sobrenome)"
      ],
      "metadata": {
        "colab": {
          "base_uri": "https://localhost:8080/"
        },
        "id": "0EUH1vauU4fH",
        "outputId": "9eeab36e-fc85-4a34-e12e-d2be2f7f41b5"
      },
      "execution_count": 61,
      "outputs": [
        {
          "output_type": "stream",
          "name": "stdout",
          "text": [
            "Camila Dantas\n"
          ]
        }
      ]
    },
    {
      "cell_type": "code",
      "source": [
        "print('Olá,', nome, '! Você tem', idade1 + 15, 'anos.')"
      ],
      "metadata": {
        "colab": {
          "base_uri": "https://localhost:8080/"
        },
        "id": "M584oXsCVEiA",
        "outputId": "9d98ad39-dbd9-4ec5-bf0a-cc50b534e274"
      },
      "execution_count": 62,
      "outputs": [
        {
          "output_type": "stream",
          "name": "stdout",
          "text": [
            "Olá, Camila ! Você tem 35 anos.\n"
          ]
        }
      ]
    },
    {
      "cell_type": "code",
      "source": [
        "print('Olá,', nome, '\\n', 'você tem', idade1 + 15, 'anos.')"
      ],
      "metadata": {
        "colab": {
          "base_uri": "https://localhost:8080/"
        },
        "id": "qhLfPj8JVQdv",
        "outputId": "efd67a57-a066-4dcd-bcb9-0972c67323e8"
      },
      "execution_count": 67,
      "outputs": [
        {
          "output_type": "stream",
          "name": "stdout",
          "text": [
            "Olá, Camila \n",
            " você tem 35 anos.\n"
          ]
        }
      ]
    },
    {
      "cell_type": "code",
      "source": [
        "input('Digite o seu nome: ')"
      ],
      "metadata": {
        "colab": {
          "base_uri": "https://localhost:8080/",
          "height": 53
        },
        "id": "aV9EMP9CXCc4",
        "outputId": "c0ca8caa-2c9d-4330-bb85-901cefc1c696"
      },
      "execution_count": 68,
      "outputs": [
        {
          "name": "stdout",
          "output_type": "stream",
          "text": [
            "Digite o seu nome:  Luskas\n"
          ]
        },
        {
          "output_type": "execute_result",
          "data": {
            "text/plain": [
              "' Luskas'"
            ],
            "application/vnd.google.colaboratory.intrinsic+json": {
              "type": "string"
            }
          },
          "metadata": {},
          "execution_count": 68
        }
      ]
    },
    {
      "cell_type": "code",
      "source": [
        "nome = input('Digite o seu nome: ')"
      ],
      "metadata": {
        "colab": {
          "base_uri": "https://localhost:8080/"
        },
        "id": "WQRrl5OcXfgo",
        "outputId": "93aa99b3-fcbb-4e31-eccf-931853b64ac6"
      },
      "execution_count": 69,
      "outputs": [
        {
          "name": "stdout",
          "output_type": "stream",
          "text": [
            "Digite o seu nome: Lucas\n"
          ]
        }
      ]
    },
    {
      "cell_type": "markdown",
      "source": [
        "### **Desafio**"
      ],
      "metadata": {
        "id": "jcLIDvDlYf2A"
      }
    },
    {
      "cell_type": "code",
      "source": [
        "idade = int(input('Digite sua idade: '))"
      ],
      "metadata": {
        "colab": {
          "base_uri": "https://localhost:8080/"
        },
        "id": "nb5AA4kiXkwI",
        "outputId": "487d80d4-47a7-4a68-d6bb-0604d9bf6be8"
      },
      "execution_count": 70,
      "outputs": [
        {
          "name": "stdout",
          "output_type": "stream",
          "text": [
            "Digite sua idade: 22\n"
          ]
        }
      ]
    },
    {
      "cell_type": "markdown",
      "source": [
        "## Operadores Lógicos"
      ],
      "metadata": {
        "id": "vN-uezgJdN_K"
      }
    },
    {
      "cell_type": "code",
      "source": [
        "valor1 = input('Digite um numero inteiro: ')\n",
        "valor2 = input('Digite outro número inteiro: ')"
      ],
      "metadata": {
        "colab": {
          "base_uri": "https://localhost:8080/"
        },
        "id": "0f0__1Z6Yn0Y",
        "outputId": "1273d505-37e3-4483-a6cf-8b57b64049c3"
      },
      "execution_count": 71,
      "outputs": [
        {
          "name": "stdout",
          "output_type": "stream",
          "text": [
            "Digite um numero inteiro: 4\n",
            "Digite outro número inteiro: 5\n"
          ]
        }
      ]
    },
    {
      "cell_type": "code",
      "source": [
        "print(valor1 == valor2)\n",
        "print(valor1 > valor2)\n",
        "print(valor1 < valor2)\n",
        "print(valor1 >= valor2)\n",
        "print(valor1 <= valor2)"
      ],
      "metadata": {
        "colab": {
          "base_uri": "https://localhost:8080/"
        },
        "id": "rmgsJNlfdBsq",
        "outputId": "301108e2-3052-469f-b411-8f5a3039ce59"
      },
      "execution_count": 72,
      "outputs": [
        {
          "output_type": "stream",
          "name": "stdout",
          "text": [
            "False\n",
            "False\n",
            "True\n",
            "False\n",
            "True\n"
          ]
        }
      ]
    },
    {
      "cell_type": "code",
      "source": [
        "numero = 10\n",
        "print(numero >0 and numero < 10)"
      ],
      "metadata": {
        "colab": {
          "base_uri": "https://localhost:8080/"
        },
        "id": "0Tf-GaQXdFZS",
        "outputId": "378a13b0-7a48-448c-a560-dac75b074eb0"
      },
      "execution_count": 73,
      "outputs": [
        {
          "output_type": "stream",
          "name": "stdout",
          "text": [
            "False\n"
          ]
        }
      ]
    },
    {
      "cell_type": "code",
      "source": [
        "nuemro = 10\n",
        "print(numero > 0 or numero < 10)"
      ],
      "metadata": {
        "colab": {
          "base_uri": "https://localhost:8080/"
        },
        "id": "qHATBprEdH1K",
        "outputId": "f5fe1983-be5b-4d8e-eab2-b97853550605"
      },
      "execution_count": 74,
      "outputs": [
        {
          "output_type": "stream",
          "name": "stdout",
          "text": [
            "True\n"
          ]
        }
      ]
    },
    {
      "cell_type": "markdown",
      "source": [
        "## Condicional"
      ],
      "metadata": {
        "id": "BMz2mrWqdnkC"
      }
    },
    {
      "cell_type": "code",
      "source": [
        "if ():\n",
        "  print()\n",
        "else:\n",
        "  print()"
      ],
      "metadata": {
        "id": "HRSs55z6dJkq"
      },
      "execution_count": null,
      "outputs": []
    },
    {
      "cell_type": "markdown",
      "source": [
        "### **Desafio**"
      ],
      "metadata": {
        "id": "NtTsw_N5i0si"
      }
    },
    {
      "cell_type": "code",
      "source": [
        "numero = int(input('Digite um número: '))\n",
        "if numero % 2 == 0:\n",
        "  print('O número', numero, 'é PAR')\n",
        "else:\n",
        "  print('O número', numero, 'é IMPAR')"
      ],
      "metadata": {
        "colab": {
          "base_uri": "https://localhost:8080/"
        },
        "id": "5MxjtMGsdv1i",
        "outputId": "e941d602-19dd-4ba1-97b0-77e089c7089a"
      },
      "execution_count": 76,
      "outputs": [
        {
          "output_type": "stream",
          "name": "stdout",
          "text": [
            "Digite um número: 9\n",
            "O número 9 é IMPAR\n"
          ]
        }
      ]
    },
    {
      "cell_type": "markdown",
      "source": [
        "## if"
      ],
      "metadata": {
        "id": "IdWKrr2Zdtda"
      }
    },
    {
      "cell_type": "code",
      "source": [
        "cupom = input('Digite o cupom: ')"
      ],
      "metadata": {
        "colab": {
          "base_uri": "https://localhost:8080/"
        },
        "id": "OiyvNzL0eKPC",
        "outputId": "58b32b8d-c5a0-4283-a651-38479125bc0b"
      },
      "execution_count": 77,
      "outputs": [
        {
          "name": "stdout",
          "output_type": "stream",
          "text": [
            "Digite o cupom: aula1\n"
          ]
        }
      ]
    },
    {
      "cell_type": "code",
      "source": [
        "if (cupom == 'aula1' or cupom == 'aula2'):\n",
        "  print('Você ganhou 10% de desconto')"
      ],
      "metadata": {
        "colab": {
          "base_uri": "https://localhost:8080/"
        },
        "id": "XdYaBkOThVV7",
        "outputId": "63a19e51-f935-479b-898d-339dc82181f9"
      },
      "execution_count": 78,
      "outputs": [
        {
          "output_type": "stream",
          "name": "stdout",
          "text": [
            "Você ganhou 10% de desconto\n"
          ]
        }
      ]
    },
    {
      "cell_type": "markdown",
      "source": [
        "## else"
      ],
      "metadata": {
        "id": "-htLNiLOkic8"
      }
    },
    {
      "cell_type": "code",
      "source": [
        "cupom = input('Digite o cupom: ')\n",
        "\n",
        "if (cupom == 'aula1' or cupom == 'aula2'):\n",
        "  print('Você ganhou 10% de desconto')\n",
        "else:\n",
        "  print('cupom inválido')"
      ],
      "metadata": {
        "colab": {
          "base_uri": "https://localhost:8080/"
        },
        "id": "8HKJqhcwhg6D",
        "outputId": "d7035870-f983-47b4-abed-fa7a67673915"
      },
      "execution_count": 79,
      "outputs": [
        {
          "output_type": "stream",
          "name": "stdout",
          "text": [
            "Você ganhou 10% de desconto\n"
          ]
        }
      ]
    },
    {
      "cell_type": "markdown",
      "source": [
        "###Desafio"
      ],
      "metadata": {
        "id": "lVT3RMjQijQT"
      }
    },
    {
      "cell_type": "code",
      "source": [
        "cupom = input('Digite o cupom: ')\n",
        "\n",
        "if (cupom == 'aula1' or cupom == 'aula2'):\n",
        "  print('Você ganhou 15% de desconto')\n",
        "else:\n",
        "  print('Você ganhou 5% de desconto')"
      ],
      "metadata": {
        "colab": {
          "base_uri": "https://localhost:8080/"
        },
        "id": "7lHoYCrzipsb",
        "outputId": "e35af309-5889-4b60-9ed9-bb568b663fb7"
      },
      "execution_count": 80,
      "outputs": [
        {
          "output_type": "stream",
          "name": "stdout",
          "text": [
            "Digite o cupom: aula 1\n",
            "Você ganhou 5% de desconto\n"
          ]
        }
      ]
    },
    {
      "cell_type": "markdown",
      "source": [
        "## elif"
      ],
      "metadata": {
        "id": "6f1MF90JngVd"
      }
    },
    {
      "cell_type": "code",
      "source": [
        "if():\n",
        "  print()\n",
        "elif():\n",
        "  print()\n",
        "else:\n",
        "  print()\n"
      ],
      "metadata": {
        "id": "NMIgaO2Zmhut"
      },
      "execution_count": null,
      "outputs": []
    },
    {
      "cell_type": "markdown",
      "source": [
        "### Desafio"
      ],
      "metadata": {
        "id": "ObVePFQxnndd"
      }
    },
    {
      "cell_type": "code",
      "source": [
        "cupom = input('Digite o cupom: ')\n",
        "\n",
        "if (cupom == 'aula1'):\n",
        "  print('Você tem 15% de desconto')\n",
        "elif (cupom == 'aula2'):\n",
        "  print('Você tem 10% de desconto')\n",
        "else:\n",
        "  print('Você tem 5% de desconto')"
      ],
      "metadata": {
        "id": "ejTV9MATnE4d"
      },
      "execution_count": null,
      "outputs": []
    },
    {
      "cell_type": "markdown",
      "source": [
        "## Identação"
      ],
      "metadata": {
        "id": "B1mPkUf2oiut"
      }
    },
    {
      "cell_type": "code",
      "source": [
        "if(1==1): # mensagem no primeiro nivel\n",
        "  print('Mensagem no segundo nível') # Segundo nível\n",
        "  if ((1==2) == False):\n",
        "    print('Mensagem no terceiro nível') # Terceiro nível"
      ],
      "metadata": {
        "id": "lfq0DeuJn9T_"
      },
      "execution_count": null,
      "outputs": []
    },
    {
      "cell_type": "markdown",
      "source": [
        "### Desafio"
      ],
      "metadata": {
        "id": "EDTTtbQrsCJI"
      }
    },
    {
      "cell_type": "code",
      "source": [
        "sol = input('Está fazendo sol? ')\n",
        "dinheiro = input('Temos dinheiro? ')\n",
        "\n",
        "if (sol == 'sim' and dinheiro == 'sim'):\n",
        "  print('Vamos a praia')\n",
        "else:\n",
        "  print('Veremos Netflix')"
      ],
      "metadata": {
        "colab": {
          "base_uri": "https://localhost:8080/"
        },
        "id": "vBJyoJ7ko-x9",
        "outputId": "fb074bb8-95aa-4405-985e-ac863569947c"
      },
      "execution_count": 83,
      "outputs": [
        {
          "output_type": "stream",
          "name": "stdout",
          "text": [
            "Está fazendo sol? sim\n",
            "Temos dinheiro? não\n",
            "Veremos Netflix\n"
          ]
        }
      ]
    },
    {
      "cell_type": "code",
      "source": [
        "sol = input('Está fazendo sol? ')\n",
        "dinheiro = input('Temos dinheiro? ')\n",
        "\n",
        "if (sol == 'sim' or dinheiro == 'sim'):\n",
        "  print('Vamos a praia')\n",
        "else:\n",
        "  print('Veremos Netflix')"
      ],
      "metadata": {
        "colab": {
          "base_uri": "https://localhost:8080/"
        },
        "id": "0teVc41Cr34n",
        "outputId": "07bb34e0-e9e7-456d-c03d-38db204e8147"
      },
      "execution_count": 84,
      "outputs": [
        {
          "output_type": "stream",
          "name": "stdout",
          "text": [
            "Está fazendo sol? não\n",
            "Temos dinheiro? sim\n",
            "Vamos a praia\n"
          ]
        }
      ]
    },
    {
      "cell_type": "code",
      "source": [
        "sol = input('Está fazendo sol? ')\n",
        "dinheiro = input('Temos dinheiro? ')\n",
        "\n",
        "if (sol == 'sim'):\n",
        "  if (dinheiro == 'sim'):\n",
        "    print('Vamos a praia')\n",
        "  else:\n",
        "    print('Ligue o ventilador')\n",
        "else:\n",
        "  print('Veremos Netflix')"
      ],
      "metadata": {
        "colab": {
          "base_uri": "https://localhost:8080/"
        },
        "id": "lxjwVjHfy-Sw",
        "outputId": "f56c9159-877a-4733-a973-dede79dbaa4f"
      },
      "execution_count": 90,
      "outputs": [
        {
          "output_type": "stream",
          "name": "stdout",
          "text": [
            "Está fazendo sol? sim\n",
            "Temos dinheiro? não\n",
            "Ligue o ventilador\n"
          ]
        }
      ]
    },
    {
      "cell_type": "code",
      "source": [
        "x = 4\n",
        "0 < x < 5"
      ],
      "metadata": {
        "colab": {
          "base_uri": "https://localhost:8080/"
        },
        "id": "bdLTkYYE0EKy",
        "outputId": "abe13c4b-2514-43f2-b680-b8f93593c1d3"
      },
      "execution_count": 93,
      "outputs": [
        {
          "output_type": "execute_result",
          "data": {
            "text/plain": [
              "True"
            ]
          },
          "metadata": {},
          "execution_count": 93
        }
      ]
    },
    {
      "cell_type": "code",
      "source": [
        "x > 0 and x < 5"
      ],
      "metadata": {
        "colab": {
          "base_uri": "https://localhost:8080/"
        },
        "id": "Rkv6wc_v3UYD",
        "outputId": "21551e33-a06a-4c7b-c41d-224174ed82e6"
      },
      "execution_count": 94,
      "outputs": [
        {
          "output_type": "execute_result",
          "data": {
            "text/plain": [
              "True"
            ]
          },
          "metadata": {},
          "execution_count": 94
        }
      ]
    },
    {
      "cell_type": "code",
      "source": [
        "valor_carro = float(input(\"Digite o valor do carro: $\"))\n",
        "data_fabricado = int(input(\"Digite o ano de fabricação do carro: \"))\n",
        "\n",
        "if (data_fabricado < 1990):\n",
        "  taxa = 1/100\n",
        "else:\n",
        "  taxa = 1.5/100\n",
        "\n",
        "imposto = valor_carro * taxa\n",
        "\n",
        "print('O valor do imposto será: $', imposto)"
      ],
      "metadata": {
        "colab": {
          "base_uri": "https://localhost:8080/"
        },
        "id": "2hHhD-D54BQK",
        "outputId": "170fe713-64f7-4fb8-873e-e016ab5c587a"
      },
      "execution_count": 100,
      "outputs": [
        {
          "output_type": "stream",
          "name": "stdout",
          "text": [
            "Digite o valor do carro: $10000\n",
            "Digite o ano de fabricação do carro: 1994\n",
            "O valor do imposto será: $ 150.0\n"
          ]
        }
      ]
    },
    {
      "cell_type": "code",
      "source": [
        "salario = float(input(\"Digite o valor do salário: $\"))\n",
        "cargo = input('Digite o cargo: ').lower()\n",
        "\n",
        "if (cargo == 'gerente'):\n",
        "  aumento = 10/100\n",
        "elif (cargo == 'engenheiro'):\n",
        "  aumento = 20/100\n",
        "elif (cargo == 'tecnico'):\n",
        "  aumento = 30/100\n",
        "else:\n",
        "  aumento = 40/100\n",
        "\n",
        "novo_salario = salario + (salario*aumento)\n",
        "\n",
        "print()\n",
        "print('Aumento: $', novo_salario - salario)\n",
        "print('Antigo salário: $', salario)\n",
        "print('Novo salário: $', novo_salario)"
      ],
      "metadata": {
        "colab": {
          "base_uri": "https://localhost:8080/"
        },
        "id": "Bc4A86Om7nBW",
        "outputId": "f423bf1d-f00d-415c-8bc5-65c4a7a1ddaa"
      },
      "execution_count": 106,
      "outputs": [
        {
          "output_type": "stream",
          "name": "stdout",
          "text": [
            "Digite o valor do salário: $5000\n",
            "Digite o cargo: engenheiro\n",
            "\n",
            "Aumento: $ 1000.0\n",
            "Antigo salário: $ 5000.0\n",
            "Novo salário: $ 6000.0\n"
          ]
        }
      ]
    },
    {
      "cell_type": "code",
      "source": [],
      "metadata": {
        "id": "upEwrah7A6Tl"
      },
      "execution_count": null,
      "outputs": []
    }
  ]
}