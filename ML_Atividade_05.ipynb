{
  "nbformat": 4,
  "nbformat_minor": 0,
  "metadata": {
    "colab": {
      "provenance": [],
      "authorship_tag": "ABX9TyP4psXSXBeOibRzUfWyVUyb",
      "include_colab_link": true
    },
    "kernelspec": {
      "name": "python3",
      "display_name": "Python 3"
    },
    "language_info": {
      "name": "python"
    }
  },
  "cells": [
    {
      "cell_type": "markdown",
      "metadata": {
        "id": "view-in-github",
        "colab_type": "text"
      },
      "source": [
        "<a href=\"https://colab.research.google.com/github/LucasGleysson/Senac_ML/blob/master/ML_Atividade_05.ipynb\" target=\"_parent\"><img src=\"https://colab.research.google.com/assets/colab-badge.svg\" alt=\"Open In Colab\"/></a>"
      ]
    },
    {
      "cell_type": "markdown",
      "source": [
        "#Exercícios - Aula 05\n",
        "\n",
        "#Estruturas Condicionais"
      ],
      "metadata": {
        "id": "mzMnu0v2x92P"
      }
    },
    {
      "cell_type": "markdown",
      "source": [
        "##Classe de Pessoas."
      ],
      "metadata": {
        "id": "bjFRth1n5kMc"
      }
    },
    {
      "cell_type": "code",
      "execution_count": 5,
      "metadata": {
        "id": "AvL42iYQxoLD"
      },
      "outputs": [],
      "source": [
        "# Definição da classe Pessoa\n",
        "class Pessoa():\n",
        "  def __init__(self, nome, age):\n",
        "    self.nome = nome\n",
        "    self.age = age\n",
        "\n",
        "  def anoNascimento(self):\n",
        "    return 2022 - self.age\n",
        "  "
      ]
    },
    {
      "cell_type": "code",
      "source": [
        "# Armazena pessoas numa lista\n",
        "lista_pessoas = []\n",
        "for i in range(5):\n",
        "  print('='*25)\n",
        "  print('Pessoa %d' %(i+1))\n",
        "  nome = input('Digite o nome: ')\n",
        "  idade = int(input('Digite a idade: '))\n",
        "  print('='*25)\n",
        "\n",
        "  pessoa = Pessoa(nome, idade)\n",
        "  lista_pessoas.append(pessoa)\n",
        "\n",
        "\n",
        "# Mostrando pessoas\n",
        "print('LISTA PESSOAS'.center(25))\n",
        "print('='*25)\n",
        "for pessoa in lista_pessoas:\n",
        "  print('Nome: %s' %(pessoa.nome))\n",
        "  print('Idade: %d' %(pessoa.age))\n",
        "  print('Ano de Nascimento: %d' %(pessoa.anoNascimento()))\n",
        "  print('='*25)\n"
      ],
      "metadata": {
        "colab": {
          "base_uri": "https://localhost:8080/"
        },
        "id": "lkBMHNxg5xZS",
        "outputId": "50582235-01be-4c35-a727-6e4224c83533"
      },
      "execution_count": 8,
      "outputs": [
        {
          "output_type": "stream",
          "name": "stdout",
          "text": [
            "=========================\n",
            "Pessoa 1\n",
            "Digite o nome: Fulano\n",
            "Digite a idade: 12\n",
            "=========================\n",
            "=========================\n",
            "Pessoa 2\n",
            "Digite o nome: Cicrano\n",
            "Digite a idade: 23\n",
            "=========================\n",
            "=========================\n",
            "Pessoa 3\n",
            "Digite o nome: Beltrano\n",
            "Digite a idade: 34\n",
            "=========================\n",
            "=========================\n",
            "Pessoa 4\n",
            "Digite o nome: Erculano\n",
            "Digite a idade: 45\n",
            "=========================\n",
            "=========================\n",
            "Pessoa 5\n",
            "Digite o nome: Fabiano\n",
            "Digite a idade: 56\n",
            "=========================\n",
            "      LISTA PESSOAS      \n",
            "=========================\n",
            "Nome: Fulano\n",
            "Idade: 12\n",
            "Ano de Nascimento: 2010\n",
            "=========================\n",
            "Nome: Cicrano\n",
            "Idade: 23\n",
            "Ano de Nascimento: 1999\n",
            "=========================\n",
            "Nome: Beltrano\n",
            "Idade: 34\n",
            "Ano de Nascimento: 1988\n",
            "=========================\n",
            "Nome: Erculano\n",
            "Idade: 45\n",
            "Ano de Nascimento: 1977\n",
            "=========================\n",
            "Nome: Fabiano\n",
            "Idade: 56\n",
            "Ano de Nascimento: 1966\n",
            "=========================\n"
          ]
        }
      ]
    },
    {
      "cell_type": "markdown",
      "source": [
        "##1."
      ],
      "metadata": {
        "id": "9VDNRc89B2pu"
      }
    },
    {
      "cell_type": "code",
      "source": [
        "class Pessoa():\n",
        "  def __init__(self, nome, idade):\n",
        "    self.nome = nome\n",
        "    self.idade = idade\n",
        "\n",
        "\n",
        "class PessoaFisica():\n",
        "  def __init__(self, nome, idade, cpf):\n",
        "    self.nome = nome\n",
        "    self.idade = idade\n",
        "    self.cpf = cpf\n",
        "\n",
        "\n",
        "class PessoaJuridica():\n",
        "  def __init__(self, nome, idade, cnpj):\n",
        "    self.nome = nome\n",
        "    self.idade = idade\n",
        "    self.cnpj = cnpj"
      ],
      "metadata": {
        "id": "h1Z6Go7_-nwN"
      },
      "execution_count": 12,
      "outputs": []
    },
    {
      "cell_type": "markdown",
      "source": [
        "##2."
      ],
      "metadata": {
        "id": "IG304nL9EAXb"
      }
    },
    {
      "cell_type": "code",
      "source": [
        "class Pessoa():\n",
        "  def __init__(self, nome, idade):\n",
        "    self.__nome = nome\n",
        "    self.__idade = idade\n",
        "\n",
        "  def apresentacao(self):\n",
        "    print('%s! Bem vindo ao SENAC!' %(self.nome))\n",
        "\n",
        "\n",
        "class PessoaFisica():\n",
        "  def __init__(self, nome, idade, cpf):\n",
        "    self.nome = nome\n",
        "    self.idade = idade\n",
        "    self.cpf = cpf\n",
        "\n",
        "  def apresentacao(self):\n",
        "    print('%s! Bem vindo ao SENAC!' %(self.nome))\n",
        "\n",
        "\n",
        "class PessoaJuridica():\n",
        "  def __init__(self, nome, idade, cnpj):\n",
        "    self.nome = nome\n",
        "    self.idade = idade\n",
        "    self.cnpj = cnpj\n",
        "\n",
        "  def apresentacao(self):\n",
        "    print('%s! Bem vindo ao SENAC!' %(self.nome))"
      ],
      "metadata": {
        "id": "yc_5Cq3_DO7T"
      },
      "execution_count": 13,
      "outputs": []
    },
    {
      "cell_type": "markdown",
      "source": [
        "##3."
      ],
      "metadata": {
        "id": "L7fjFkyrEhl7"
      }
    },
    {
      "cell_type": "code",
      "source": [
        "class PessoaFisica():\n",
        "  def __init__(self, nome, idade, cpf):\n",
        "    self.nome = nome\n",
        "    self.idade = idade\n",
        "    self.cpf = cpf\n",
        "\n",
        "  def apresentacao(self):\n",
        "    print('%s! Bem vindo ao SENAC!' %(self.nome))\n",
        "\n",
        "  def calculaImpostoDeRenda(self, salario):\n",
        "    taxa = 0.15\n",
        "    ir = salario*taxa\n",
        "    print('O valor do imposto de renda é R$%.2f' %(ir))\n",
        "    return ir\n",
        "\n",
        "\n",
        "class PessoaJuridica():\n",
        "  def __init__(self, nome, idade, cnpj):\n",
        "    self.nome = nome\n",
        "    self.idade = idade\n",
        "    self.cnpj = cnpj\n",
        "\n",
        "  def apresentacao(self):\n",
        "    print('%s! Bem vindo ao SENAC!' %(self.nome))\n",
        "\n",
        "  def calculaImpostoDeRenda(self, salario):\n",
        "    taxa = 0.10\n",
        "    ir = salario*taxa\n",
        "    print('O valor do imposto de renda é R$%.2f' %(ir))\n",
        "    return ir"
      ],
      "metadata": {
        "id": "ZBaKiOxwEepj"
      },
      "execution_count": 14,
      "outputs": []
    },
    {
      "cell_type": "markdown",
      "source": [
        "##4."
      ],
      "metadata": {
        "id": "ReXnPKLbFsFT"
      }
    },
    {
      "cell_type": "code",
      "source": [
        "class PessoaFisica():\n",
        "  def __init__(self, nome, idade, cpf):\n",
        "    self.nome = nome\n",
        "    self.idade = idade\n",
        "    self.cpf = cpf\n",
        "\n",
        "  def apresentacao(self):\n",
        "    print('%s! Bem vindo ao SENAC!' %(self.nome))\n",
        "\n",
        "  def calculaImpostoDeRenda(self, *salario):\n",
        "    salario = sum(salario)\n",
        "    taxa = 0.15\n",
        "    ir = salario*taxa\n",
        "    print('O valor do imposto de renda é R$%.2f' %(ir))\n",
        "    return ir\n",
        "\n",
        "\n",
        "class PessoaJuridica():\n",
        "  def __init__(self, nome, idade, cnpj):\n",
        "    self.nome = nome\n",
        "    self.idade = idade\n",
        "    self.cnpj = cnpj\n",
        "\n",
        "  def apresentacao(self):\n",
        "    print('%s! Bem vindo ao SENAC!' %(self.nome))\n",
        "\n",
        "  def calculaImpostoDeRenda(self, *salario):\n",
        "    salario = sum(salario)\n",
        "    taxa = 0.10\n",
        "    ir = salario*taxa\n",
        "    print('O valor do imposto de renda é R$%.2f' %(ir))\n",
        "    return ir"
      ],
      "metadata": {
        "id": "u-mgpBNzFqvZ"
      },
      "execution_count": 15,
      "outputs": []
    },
    {
      "cell_type": "markdown",
      "source": [
        "##5."
      ],
      "metadata": {
        "id": "z1KlNczBG4hg"
      }
    },
    {
      "cell_type": "code",
      "source": [
        "class PessoaFisica(Pessoa):\n",
        "  def __init__(self, nome, idade, cpf):\n",
        "    super().__init__(nome, idade)\n",
        "    self.cpf = cpf\n",
        "\n",
        "  def calculaImpostoDeRenda(self, *salario):\n",
        "    salario = sum(salario)\n",
        "    taxa = 0.15\n",
        "    ir = salario*taxa\n",
        "    print('O valor do imposto de renda é R$%.2f' %(ir))\n",
        "    return ir\n",
        "    \n",
        "\n",
        "class PessoaJuridica(Pessoa):\n",
        "  def __init__(self, nome, idade, cnpj):\n",
        "    super().__init__(nome, idade)\n",
        "    self.cnpj = cnpj\n",
        "\n",
        "  def calculaImpostoDeRenda(self, *salario):\n",
        "    salario = sum(salario)\n",
        "    taxa = 0.10\n",
        "    ir = salario*taxa\n",
        "    print('O valor do imposto de renda é R$%.2f' %(ir))\n",
        "    return ir\n"
      ],
      "metadata": {
        "id": "z3Yh3CRkGS2p"
      },
      "execution_count": 16,
      "outputs": []
    },
    {
      "cell_type": "markdown",
      "source": [
        "##6."
      ],
      "metadata": {
        "id": "aE-hJszkPr_4"
      }
    },
    {
      "cell_type": "code",
      "source": [
        "class PessoaJuridica(Pessoa):\n",
        "  def __init__(self, nome, idade, cnpj):\n",
        "    super().__init__(nome, idade)\n",
        "    self.cnpj = cnpj\n",
        "\n",
        "  def calculaImpostoDeRenda(self, *salario, porteDaEmpresa):\n",
        "    salario = sum(salario)\n",
        "    if porteDaEmpresa == 'pequena': taxa = 0.10 \n",
        "    if porteDaEmpresa == 'media': taxa = 0.15\n",
        "    if porteDaEmpresa == 'grande': taxa = 0.20\n",
        "    ir = salario*taxa\n",
        "    print('O valor do imposto de renda é R$%.2f' %(ir))\n",
        "    return ir"
      ],
      "metadata": {
        "id": "xtXzL-UlLtWq"
      },
      "execution_count": 17,
      "outputs": []
    },
    {
      "cell_type": "markdown",
      "source": [
        "##7."
      ],
      "metadata": {
        "id": "at_06Tl3SUB3"
      }
    },
    {
      "cell_type": "code",
      "source": [
        "nome = input('Digite seu nome: ')\n",
        "idade = int(input('Digite sua idade: '))\n",
        "opcao = int(input('1 - Pessoa Física \\n2 - Pessoa Juridica \\n'))\n",
        "\n",
        "if opcao == 1:\n",
        "  cpf = int(input('Digite o CPF: '))\n",
        "  pessoaF = PessoaFisica(nome, idade, cpf)\n",
        "\n",
        "  salario = input('informe o(s) salário(s): ').split(',')\n",
        "  for i, valor in enumerate(salario):\n",
        "    valor = valor.strip()\n",
        "    valor = int(valor)\n",
        "    salario[i] = valor\n",
        "  pessoaF.calculaImpostoDeRenda(salario)\n",
        "\n",
        "\n",
        "elif opcao == 2: \n",
        "  cnpj = int(input('Digite o CNPJ'))\n",
        "  pessoaJ = PessoaJuridica(nome, idade, cnpj)\n",
        "\n",
        "  receita = input('Infome o(s) valor(es) de receita(s): ').split(',')\n",
        "  porte_empresa = input('Qual é o porte da empresa? ')\n",
        "  for i, valor in enumerate(receita):\n",
        "    valor = valor.strip()\n",
        "    valor = int(valor)\n",
        "    receita[i] = valor\n",
        "  pessoaJ.calculaImpostoDeRenda(receita, porte_empresa)\n"
      ],
      "metadata": {
        "colab": {
          "base_uri": "https://localhost:8080/",
          "height": 480
        },
        "id": "zWMv8OcXR8IK",
        "outputId": "97af53ce-2628-48bc-9b96-a4bffe76ec7e"
      },
      "execution_count": 49,
      "outputs": [
        {
          "name": "stdout",
          "output_type": "stream",
          "text": [
            "Digite seu nome: lucas\n",
            "Digite sua idade: 23\n",
            "1 - Pessoa Física \n",
            "2 - Pessoa Juridica \n",
            "1\n",
            "Digite o CPF: 2345\n",
            "informe o(s) salário(s): 400\n"
          ]
        },
        {
          "output_type": "error",
          "ename": "TypeError",
          "evalue": "ignored",
          "traceback": [
            "\u001b[0;31m---------------------------------------------------------------------------\u001b[0m",
            "\u001b[0;31mTypeError\u001b[0m                                 Traceback (most recent call last)",
            "\u001b[0;32m<ipython-input-49-dd24c3c93cfd>\u001b[0m in \u001b[0;36m<module>\u001b[0;34m\u001b[0m\n\u001b[1;32m      4\u001b[0m \u001b[0;34m\u001b[0m\u001b[0m\n\u001b[1;32m      5\u001b[0m \u001b[0;32mif\u001b[0m \u001b[0mopcao\u001b[0m \u001b[0;34m==\u001b[0m \u001b[0;36m1\u001b[0m\u001b[0;34m:\u001b[0m\u001b[0;34m\u001b[0m\u001b[0;34m\u001b[0m\u001b[0m\n\u001b[0;32m----> 6\u001b[0;31m   \u001b[0mcpf\u001b[0m \u001b[0;34m=\u001b[0m \u001b[0mint\u001b[0m\u001b[0;34m(\u001b[0m\u001b[0minput\u001b[0m\u001b[0;34m(\u001b[0m\u001b[0;34m'Digite o CPF: '\u001b[0m\u001b[0;34m)\u001b[0m\u001b[0;34m)\u001b[0m\u001b[0;34m\u001b[0m\u001b[0;34m\u001b[0m\u001b[0m\n\u001b[0m\u001b[1;32m      7\u001b[0m   \u001b[0mpessoaF\u001b[0m \u001b[0;34m=\u001b[0m \u001b[0mPessoaFisica\u001b[0m\u001b[0;34m(\u001b[0m\u001b[0mnome\u001b[0m\u001b[0;34m,\u001b[0m \u001b[0midade\u001b[0m\u001b[0;34m,\u001b[0m \u001b[0mcpf\u001b[0m\u001b[0;34m)\u001b[0m\u001b[0;34m\u001b[0m\u001b[0;34m\u001b[0m\u001b[0m\n\u001b[1;32m      8\u001b[0m \u001b[0;34m\u001b[0m\u001b[0m\n",
            "\u001b[0;32m<ipython-input-16-79463f84f9c7>\u001b[0m in \u001b[0;36mcalculaImpostoDeRenda\u001b[0;34m(self, *salario)\u001b[0m\n\u001b[1;32m      5\u001b[0m \u001b[0;34m\u001b[0m\u001b[0m\n\u001b[1;32m      6\u001b[0m   \u001b[0;32mdef\u001b[0m \u001b[0mcalculaImpostoDeRenda\u001b[0m\u001b[0;34m(\u001b[0m\u001b[0mself\u001b[0m\u001b[0;34m,\u001b[0m \u001b[0;34m*\u001b[0m\u001b[0msalario\u001b[0m\u001b[0;34m)\u001b[0m\u001b[0;34m:\u001b[0m\u001b[0;34m\u001b[0m\u001b[0;34m\u001b[0m\u001b[0m\n\u001b[0;32m----> 7\u001b[0;31m     \u001b[0msalario\u001b[0m \u001b[0;34m=\u001b[0m \u001b[0msum\u001b[0m\u001b[0;34m(\u001b[0m\u001b[0msalario\u001b[0m\u001b[0;34m)\u001b[0m\u001b[0;34m\u001b[0m\u001b[0;34m\u001b[0m\u001b[0m\n\u001b[0m\u001b[1;32m      8\u001b[0m     \u001b[0mtaxa\u001b[0m \u001b[0;34m=\u001b[0m \u001b[0;36m0.15\u001b[0m\u001b[0;34m\u001b[0m\u001b[0;34m\u001b[0m\u001b[0m\n\u001b[1;32m      9\u001b[0m     \u001b[0mir\u001b[0m \u001b[0;34m=\u001b[0m \u001b[0msalario\u001b[0m\u001b[0;34m*\u001b[0m\u001b[0mtaxa\u001b[0m\u001b[0;34m\u001b[0m\u001b[0;34m\u001b[0m\u001b[0m\n",
            "\u001b[0;31mTypeError\u001b[0m: unsupported operand type(s) for +: 'int' and 'list'"
          ]
        }
      ]
    },
    {
      "cell_type": "code",
      "source": [],
      "metadata": {
        "id": "ikClnms-yeUi"
      },
      "execution_count": null,
      "outputs": []
    }
  ]
}