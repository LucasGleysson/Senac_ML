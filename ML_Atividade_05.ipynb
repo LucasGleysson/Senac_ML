{
  "nbformat": 4,
  "nbformat_minor": 0,
  "metadata": {
    "colab": {
      "provenance": [],
      "authorship_tag": "ABX9TyMFuMm2SubHm5Ey7hfzx5dI",
      "include_colab_link": true
    },
    "kernelspec": {
      "name": "python3",
      "display_name": "Python 3"
    },
    "language_info": {
      "name": "python"
    }
  },
  "cells": [
    {
      "cell_type": "markdown",
      "metadata": {
        "id": "view-in-github",
        "colab_type": "text"
      },
      "source": [
        "<a href=\"https://colab.research.google.com/github/LucasGleysson/Senac_ML/blob/master/ML_Atividade_05.ipynb\" target=\"_parent\"><img src=\"https://colab.research.google.com/assets/colab-badge.svg\" alt=\"Open In Colab\"/></a>"
      ]
    },
    {
      "cell_type": "markdown",
      "source": [
        "#Exercícios - Aula 05\n",
        "\n",
        "#Estruturas Condicionais"
      ],
      "metadata": {
        "id": "mzMnu0v2x92P"
      }
    },
    {
      "cell_type": "markdown",
      "source": [
        "##Classe de Pessoas."
      ],
      "metadata": {
        "id": "bjFRth1n5kMc"
      }
    },
    {
      "cell_type": "code",
      "execution_count": 55,
      "metadata": {
        "id": "AvL42iYQxoLD"
      },
      "outputs": [],
      "source": [
        "# Definição da classe Pessoa\n",
        "class Pessoa():\n",
        "  def __init__(self, nome, age):\n",
        "    self.nome = nome\n",
        "    self.age = age\n",
        "\n",
        "  def anoNascimento(self):\n",
        "    return 2022 - self.age\n",
        "  "
      ]
    },
    {
      "cell_type": "code",
      "source": [
        "# Armazena pessoas numa lista\n",
        "lista_pessoas = []\n",
        "for i in range(5):\n",
        "  print('='*25)\n",
        "  print('Pessoa %d' %(i+1))\n",
        "  nome = input('Digite o nome: ')\n",
        "  idade = int(input('Digite a idade: '))\n",
        "  print('='*25)\n",
        "\n",
        "  pessoa = Pessoa(nome, idade)\n",
        "  lista_pessoas.append(pessoa)"
      ],
      "metadata": {
        "colab": {
          "base_uri": "https://localhost:8080/"
        },
        "id": "lkBMHNxg5xZS",
        "outputId": "b649cac5-125f-49bd-ceae-72e83698b400"
      },
      "execution_count": 56,
      "outputs": [
        {
          "output_type": "stream",
          "name": "stdout",
          "text": [
            "=========================\n",
            "Pessoa 1\n",
            "Digite o nome: Ribamar\n",
            "Digite a idade: 34\n",
            "=========================\n",
            "=========================\n",
            "Pessoa 2\n",
            "Digite o nome: Jessica\n",
            "Digite a idade: 12\n",
            "=========================\n",
            "=========================\n",
            "Pessoa 3\n",
            "Digite o nome: Igor\n",
            "Digite a idade: 45\n",
            "=========================\n",
            "=========================\n",
            "Pessoa 4\n",
            "Digite o nome: Juares\n",
            "Digite a idade: 7\n",
            "=========================\n",
            "=========================\n",
            "Pessoa 5\n",
            "Digite o nome: Judas\n",
            "Digite a idade: 30\n",
            "=========================\n"
          ]
        }
      ]
    },
    {
      "cell_type": "code",
      "source": [
        "# Mostrando pessoas\n",
        "print('='*25)\n",
        "for pessoa in lista_pessoas:\n",
        "  print('Nome: %s' %(pessoa.nome))\n",
        "  print('Idade: %d' %(pessoa.age))\n",
        "  print('Ano de Nascimento: %d' %(pessoa.anoNascimento()))\n",
        "  print('='*25)\n"
      ],
      "metadata": {
        "colab": {
          "base_uri": "https://localhost:8080/"
        },
        "id": "w5P81Mjc70Mu",
        "outputId": "3dc6a56a-882f-49a8-80d4-720ff06d5fc1"
      },
      "execution_count": 57,
      "outputs": [
        {
          "output_type": "stream",
          "name": "stdout",
          "text": [
            "=========================\n",
            "Nome: Ribamar\n",
            "Idade: 34\n",
            "Ano de Nascimento: 1988\n",
            "=========================\n",
            "Nome: Jessica\n",
            "Idade: 12\n",
            "Ano de Nascimento: 2010\n",
            "=========================\n",
            "Nome: Igor\n",
            "Idade: 45\n",
            "Ano de Nascimento: 1977\n",
            "=========================\n",
            "Nome: Juares\n",
            "Idade: 7\n",
            "Ano de Nascimento: 2015\n",
            "=========================\n",
            "Nome: Judas\n",
            "Idade: 30\n",
            "Ano de Nascimento: 1992\n",
            "=========================\n"
          ]
        }
      ]
    },
    {
      "cell_type": "markdown",
      "source": [
        "##1."
      ],
      "metadata": {
        "id": "9VDNRc89B2pu"
      }
    },
    {
      "cell_type": "code",
      "source": [
        "class Pessoa():\n",
        "  def __init__(self, nome, idade):\n",
        "    self.nome = nome\n",
        "    self.idade = idade\n",
        "\n",
        "\n",
        "class PessoaFisica():\n",
        "  def __init__(self, nome, idade, cpf):\n",
        "    self.nome = nome\n",
        "    self.idade = idade\n",
        "    self.cpf = cpf\n",
        "\n",
        "\n",
        "class PessoaJuridica():\n",
        "  def __init__(self, nome, idade, cnpj):\n",
        "    self.nome = nome\n",
        "    self.idade = idade\n",
        "    self.cnpj = cnpj"
      ],
      "metadata": {
        "id": "h1Z6Go7_-nwN"
      },
      "execution_count": 58,
      "outputs": []
    },
    {
      "cell_type": "markdown",
      "source": [
        "##2."
      ],
      "metadata": {
        "id": "IG304nL9EAXb"
      }
    },
    {
      "cell_type": "code",
      "source": [
        "class Pessoa():\n",
        "  def __init__(self, nome, idade):\n",
        "    self.__nome = nome\n",
        "    self.__idade = idade\n",
        "\n",
        "  def apresentacao(self):\n",
        "    print('%s! Bem vindo ao SENAC!' %(self.nome))\n",
        "\n",
        "\n",
        "class PessoaFisica():\n",
        "  def __init__(self, nome, idade, cpf):\n",
        "    self.nome = nome\n",
        "    self.idade = idade\n",
        "    self.cpf = cpf\n",
        "\n",
        "  def apresentacao(self):\n",
        "    print('%s! Bem vindo ao SENAC!' %(self.nome))\n",
        "\n",
        "\n",
        "class PessoaJuridica():\n",
        "  def __init__(self, nome, idade, cnpj):\n",
        "    self.nome = nome\n",
        "    self.idade = idade\n",
        "    self.cnpj = cnpj\n",
        "\n",
        "  def apresentacao(self):\n",
        "    print('%s! Bem vindo ao SENAC!' %(self.nome))"
      ],
      "metadata": {
        "id": "yc_5Cq3_DO7T"
      },
      "execution_count": 59,
      "outputs": []
    },
    {
      "cell_type": "markdown",
      "source": [
        "##3."
      ],
      "metadata": {
        "id": "L7fjFkyrEhl7"
      }
    },
    {
      "cell_type": "code",
      "source": [
        "class PessoaFisica():\n",
        "  def __init__(self, nome, idade, cpf):\n",
        "    self.nome = nome\n",
        "    self.idade = idade\n",
        "    self.cpf = cpf\n",
        "\n",
        "  def apresentacao(self):\n",
        "    print('%s! Bem vindo ao SENAC!' %(self.nome))\n",
        "\n",
        "  def calculaImpostoDeRenda(self, salario):\n",
        "    taxa = 0.15\n",
        "    ir = salario*taxa\n",
        "    print('O valor do imposto de renda é R$%.2f' %(ir))\n",
        "    return ir\n",
        "\n",
        "\n",
        "class PessoaJuridica():\n",
        "  def __init__(self, nome, idade, cnpj):\n",
        "    self.nome = nome\n",
        "    self.idade = idade\n",
        "    self.cnpj = cnpj\n",
        "\n",
        "  def apresentacao(self):\n",
        "    print('%s! Bem vindo ao SENAC!' %(self.nome))\n",
        "\n",
        "  def calculaImpostoDeRenda(self, salario):\n",
        "    taxa = 0.10\n",
        "    ir = salario*taxa\n",
        "    print('O valor do imposto de renda é R$%.2f' %(ir))\n",
        "    return ir"
      ],
      "metadata": {
        "id": "ZBaKiOxwEepj"
      },
      "execution_count": 68,
      "outputs": []
    },
    {
      "cell_type": "markdown",
      "source": [
        "##4."
      ],
      "metadata": {
        "id": "ReXnPKLbFsFT"
      }
    },
    {
      "cell_type": "code",
      "source": [
        "class PessoaFisica():\n",
        "  def __init__(self, nome, idade, cpf):\n",
        "    self.nome = nome\n",
        "    self.idade = idade\n",
        "    self.cpf = cpf\n",
        "\n",
        "  def apresentacao(self):\n",
        "    print('%s! Bem vindo ao SENAC!' %(self.nome))\n",
        "\n",
        "  def calculaImpostoDeRenda(self, *salario):\n",
        "    salario = sum(salario)\n",
        "    taxa = 0.15\n",
        "    ir = salario*taxa\n",
        "    print('O valor do imposto de renda é R$%.2f' %(ir))\n",
        "    return ir\n",
        "\n",
        "\n",
        "class PessoaJuridica():\n",
        "  def __init__(self, nome, idade, cnpj):\n",
        "    self.nome = nome\n",
        "    self.idade = idade\n",
        "    self.cnpj = cnpj\n",
        "\n",
        "  def apresentacao(self):\n",
        "    print('%s! Bem vindo ao SENAC!' %(self.nome))\n",
        "\n",
        "  def calculaImpostoDeRenda(self, *salario):\n",
        "    salario = sum(salario)\n",
        "    taxa = 0.10\n",
        "    ir = salario*taxa\n",
        "    print('O valor do imposto de renda é R$%.2f' %(ir))\n",
        "    return ir"
      ],
      "metadata": {
        "id": "u-mgpBNzFqvZ"
      },
      "execution_count": 69,
      "outputs": []
    },
    {
      "cell_type": "markdown",
      "source": [
        "##5."
      ],
      "metadata": {
        "id": "z1KlNczBG4hg"
      }
    },
    {
      "cell_type": "code",
      "source": [
        "class PessoaFisica(Pessoa):\n",
        "  def __init__(self, nome, idade, cpf):\n",
        "    super().__init__(nome, idade)\n",
        "    self.cpf = cpf\n",
        "\n",
        "  def calculaImpostoDeRenda(self, *salario):\n",
        "    salario = sum(salario)\n",
        "    taxa = 0.15\n",
        "    ir = salario*taxa\n",
        "    print('O valor do imposto de renda é R$%.2f' %(ir))\n",
        "    return ir\n",
        "    \n",
        "\n",
        "class PessoaJuridica(Pessoa):\n",
        "  def __init__(self, nome, idade, cnpj):\n",
        "    super().__init__(nome, idade)\n",
        "    self.cnpj = cnpj\n",
        "\n",
        "  def calculaImpostoDeRenda(self, *salario):\n",
        "    salario = sum(salario)\n",
        "    taxa = 0.10\n",
        "    ir = salario*taxa\n",
        "    print('O valor do imposto de renda é R$%.2f' %(ir))\n",
        "    return ir\n"
      ],
      "metadata": {
        "id": "z3Yh3CRkGS2p"
      },
      "execution_count": 70,
      "outputs": []
    },
    {
      "cell_type": "markdown",
      "source": [
        "##6."
      ],
      "metadata": {
        "id": "aE-hJszkPr_4"
      }
    },
    {
      "cell_type": "code",
      "source": [
        "class PessoaJuridica(Pessoa):\n",
        "  def __init__(self, nome, idade, cnpj):\n",
        "    super().__init__(nome, idade)\n",
        "    self.cnpj = cnpj\n",
        "\n",
        "  def calculaImpostoDeRenda(self, *salario, porteDaEmpresa):\n",
        "    salario = sum(salario)\n",
        "    if porteDaEmpresa == 'pequena': taxa = 0.10 \n",
        "    if porteDaEmpresa == 'media': taxa = 0.15\n",
        "    if porteDaEmpresa == 'grande': taxa = 0.20\n",
        "    ir = salario*taxa\n",
        "    print('O valor do imposto de renda é R$%.2f' %(ir))\n",
        "    return ir"
      ],
      "metadata": {
        "id": "xtXzL-UlLtWq"
      },
      "execution_count": 71,
      "outputs": []
    },
    {
      "cell_type": "markdown",
      "source": [
        "##7."
      ],
      "metadata": {
        "id": "at_06Tl3SUB3"
      }
    },
    {
      "cell_type": "code",
      "source": [
        "nome = input('Digite seu nome: ')\n",
        "idade = int(input('Digite sua idade: '))\n",
        "\n",
        "opcao = int(input('0 - Pessoa Física \\n1 - Pessoa Juridica'))\n",
        "\n",
        "if opcao == 0:\n",
        "  cpf = int(input('Digite o CPF: '))\n",
        "  pessoaF = PessoaFisica(nome, idade, cpf)\n",
        "\n",
        "  salario = float(input('informe o(s) salário(s): '))\n",
        "  pessoaF.calculaImpostoDeRenda(salario)"
      ],
      "metadata": {
        "colab": {
          "base_uri": "https://localhost:8080/"
        },
        "id": "zWMv8OcXR8IK",
        "outputId": "858ad19c-5642-4ba5-d89d-8fdde61bc9d7"
      },
      "execution_count": 72,
      "outputs": [
        {
          "output_type": "stream",
          "name": "stdout",
          "text": [
            "Digite seu nome: lucas\n",
            "Digite sua idade: 22\n",
            "0 - Pessoa Física \n",
            "1 - Pessoa Juridica0\n",
            "Digite o CPF: 2352345\n",
            "informe o(s) salário(s): 3000\n",
            "O valor do imposto de renda é R$450.00\n"
          ]
        }
      ]
    },
    {
      "cell_type": "code",
      "source": [
        "2"
      ],
      "metadata": {
        "id": "SVvkD07lVj2j"
      },
      "execution_count": null,
      "outputs": []
    }
  ]
}